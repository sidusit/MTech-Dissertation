{
  "nbformat": 4,
  "nbformat_minor": 0,
  "metadata": {
    "colab": {
      "name": "2_Model_DL_v2_DecPred.ipynb",
      "provenance": [],
      "collapsed_sections": [],
      "include_colab_link": true
    },
    "kernelspec": {
      "display_name": "Python 3",
      "name": "python3"
    }
  },
  "cells": [
    {
      "cell_type": "markdown",
      "metadata": {
        "id": "view-in-github",
        "colab_type": "text"
      },
      "source": [
        "<a href=\"https://colab.research.google.com/github/sidusit/MTech-Dissertation/blob/main/2_Model_DL_v2_DecPred.ipynb\" target=\"_parent\"><img src=\"https://colab.research.google.com/assets/colab-badge.svg\" alt=\"Open In Colab\"/></a>"
      ]
    },
    {
      "cell_type": "code",
      "metadata": {
        "colab": {
          "base_uri": "https://localhost:8080/"
        },
        "id": "6hZDB86d5PQn",
        "outputId": "1e01df3b-eb06-4c83-fa03-30c23df76002"
      },
      "source": [
        "from google.colab import drive\n",
        "drive.mount('/content/drive')"
      ],
      "execution_count": null,
      "outputs": [
        {
          "output_type": "stream",
          "name": "stdout",
          "text": [
            "Mounted at /content/drive\n"
          ]
        }
      ]
    },
    {
      "cell_type": "code",
      "metadata": {
        "id": "a92nHELU1gxI"
      },
      "source": [
        "import math\n",
        "import numpy as np\n",
        "import pandas as pd\n",
        "import matplotlib.pyplot as plt\n",
        "import tensorflow as tf\n",
        "from sklearn.metrics import mean_squared_error, mean_absolute_error\n",
        "import pickle as p\n",
        "import warnings\n",
        "warnings.filterwarnings('ignore')"
      ],
      "execution_count": null,
      "outputs": []
    },
    {
      "cell_type": "code",
      "metadata": {
        "id": "cniPewwH16-t"
      },
      "source": [
        "TCS = pd.read_csv(\"/content/drive/MyDrive/Colab Notebooks/Datasets/Indian/StockPrice/TCS_stock_v2_PreProcessed.csv\")\n",
        "HDFC = pd.read_csv(\"/content/drive/MyDrive/Colab Notebooks/Datasets/Indian/StockPrice/HDFC_stock_v2_PreProcessed.csv\")\n",
        "HUL = pd.read_csv(\"/content/drive/MyDrive/Colab Notebooks/Datasets/Indian/StockPrice/HUL_stock_v2_PreProcessed.csv\")\n",
        "MARUTI = pd.read_csv(\"/content/drive/MyDrive/Colab Notebooks/Datasets/Indian/StockPrice/MARUTI_stock_v2_PreProcessed.csv\")"
      ],
      "execution_count": null,
      "outputs": []
    },
    {
      "cell_type": "code",
      "source": [
        "TCS_SMA_sub = pd.read_csv('/content/drive/MyDrive/Colab Notebooks/Datasets/Indian/TechIndicators/TCS_SMA_PreProcessed.csv')\n",
        "HDFC_SMA_sub = pd.read_csv('/content/drive/MyDrive/Colab Notebooks/Datasets/Indian/TechIndicators/HDFC_SMA_PreProcessed.csv')\n",
        "HUL_SMA_sub = pd.read_csv('/content/drive/MyDrive/Colab Notebooks/Datasets/Indian/TechIndicators/HUL_SMA_PreProcessed.csv')\n",
        "MARUTI_SMA_sub = pd.read_csv('/content/drive/MyDrive/Colab Notebooks/Datasets/Indian/TechIndicators/MARUTI_SMA_PreProcessed.csv')\n",
        "\n",
        "TCS_EMA_sub =  pd.read_csv('/content/drive/MyDrive/Colab Notebooks/Datasets/Indian/TechIndicators/TCS_EMA_PreProcessed.csv')\n",
        "HDFC_EMA_sub = pd.read_csv('/content/drive/MyDrive/Colab Notebooks/Datasets/Indian/TechIndicators//HDFC_EMA_PreProcessed.csv')\n",
        "HUL_EMA_sub = pd.read_csv('/content/drive/MyDrive/Colab Notebooks/Datasets/Indian/TechIndicators/HUL_EMA_PreProcessed.csv')\n",
        "MARUTI_EMA_sub = pd.read_csv('/content/drive/MyDrive/Colab Notebooks/Datasets/Indian/TechIndicators/MARUTI_EMA_PreProcessed.csv')"
      ],
      "metadata": {
        "id": "W5fEDI_z76oq"
      },
      "execution_count": null,
      "outputs": []
    },
    {
      "cell_type": "markdown",
      "metadata": {
        "id": "vDdZr0DH0sor"
      },
      "source": [
        "### Data Proprocessing"
      ]
    },
    {
      "cell_type": "code",
      "metadata": {
        "id": "kkZs6LC9QPMp"
      },
      "source": [
        "def Dataset(Data, column, datecol,date):\n",
        "\n",
        "  Train_Data = Data[column][Data[datecol] < date].to_numpy()\n",
        "  Data_Train = []\n",
        "  Data_Train_X = []\n",
        "  Data_Train_Y = []\n",
        "  for i in range(0, len(Train_Data), 5):\n",
        "    try:\n",
        "      Data_Train.append(Train_Data[i : i + 5])\n",
        "    except:\n",
        "      pass\n",
        "\n",
        "  if len(Data_Train[-1]) < 5:\n",
        "    Data_Train.pop(-1)\n",
        "  \n",
        "  Data_Train_X = Data_Train[0 : -1]\n",
        "  Data_Train_X = np.array(Data_Train_X)\n",
        "  Data_Train_X = Data_Train_X.reshape((-1, 5, 1))\n",
        "  Data_Train_Y = Data_Train[1 : len(Data_Train)]\n",
        "  Data_Train_Y = np.array(Data_Train_Y)\n",
        "  Data_Train_Y = Data_Train_Y.reshape((-1, 5, 1))\n",
        "\n",
        "\n",
        "  Test_Data = Data[column][Data[datecol] >= date].to_numpy()\n",
        "  Data_Test = []\n",
        "  Data_Test_X = []\n",
        "  Data_Test_Y = []\n",
        "  for i in range(0, len(Test_Data), 5):\n",
        "    try:\n",
        "      Data_Test.append(Test_Data[i : i + 5])\n",
        "    except:\n",
        "      pass\n",
        "\n",
        "  if len(Data_Test[-1]) < 5:\n",
        "    Data_Test.pop(-1)\n",
        "  \n",
        "  Data_Test_X = Data_Test[0 : -1]\n",
        "  Data_Test_X = np.array(Data_Test_X)\n",
        "  Data_Test_X = Data_Test_X.reshape((-1, 5, 1))\n",
        "  Data_Test_Y = Data_Test[1 : len(Data_Test)]\n",
        "  Data_Test_Y = np.array(Data_Test_Y)\n",
        "  Data_Test_Y = Data_Test_Y.reshape((-1, 5, 1))\n",
        "\n",
        "  return Data_Train_X, Data_Train_Y, Data_Test_X, Data_Test_Y"
      ],
      "execution_count": null,
      "outputs": []
    },
    {
      "cell_type": "markdown",
      "metadata": {
        "id": "fFmGO6j50wbO"
      },
      "source": [
        "### Model"
      ]
    },
    {
      "cell_type": "code",
      "source": [
        "# Seed value\n",
        "# Apparently you may use different seed values at each stage\n",
        "seed_value= 11\n",
        "\n",
        "# 1. Set the `PYTHONHASHSEED` environment variable at a fixed value\n",
        "import os\n",
        "os.environ['PYTHONHASHSEED']=str(seed_value)\n",
        "\n",
        "# 2. Set the `python` built-in pseudo-random generator at a fixed value\n",
        "import random\n",
        "random.seed(seed_value)\n",
        "\n",
        "# 3. Set the `numpy` pseudo-random generator at a fixed value\n",
        "import numpy as np\n",
        "np.random.seed(seed_value)\n",
        "\n",
        "# 4. Set the `tensorflow` pseudo-random generator at a fixed value\n",
        "import tensorflow as tf\n",
        "tf.random.set_seed(seed_value)\n",
        "# for later versions: \n",
        "# tf.compat.v1.set_random_seed(seed_value)\n",
        "\n",
        "# 5. Configure a new global `tensorflow` session\n",
        "from keras import backend as K\n",
        "session_conf = tf.compat.v1.ConfigProto(intra_op_parallelism_threads=1, inter_op_parallelism_threads=1)\n",
        "sess = tf.compat.v1.Session(graph=tf.compat.v1.get_default_graph(), config=session_conf)\n",
        "K.set_session(sess)"
      ],
      "metadata": {
        "id": "XLXbdHwUMYof"
      },
      "execution_count": null,
      "outputs": []
    },
    {
      "cell_type": "code",
      "metadata": {
        "id": "DPWMIKGv_7b1"
      },
      "source": [
        "def Model():\n",
        "  model = tf.keras.models.Sequential([\n",
        "                                      tf.keras.layers.LSTM(200, input_shape = (5, 3), activation = tf.nn.leaky_relu, return_sequences = True),\n",
        "                                      tf.keras.layers.LSTM(200, activation = tf.nn.leaky_relu),\n",
        "                                      tf.keras.layers.Dense(200, activation = tf.nn.leaky_relu),\n",
        "                                      tf.keras.layers.Dense(100, activation = tf.nn.leaky_relu),\n",
        "                                      tf.keras.layers.Dense(50, activation = tf.nn.leaky_relu),\n",
        "                                      tf.keras.layers.Dense(5, activation = tf.nn.leaky_relu)\n",
        "                                      ])\n",
        "  return model"
      ],
      "execution_count": null,
      "outputs": []
    },
    {
      "cell_type": "code",
      "metadata": {
        "id": "k-zXwjAyrGm7"
      },
      "source": [
        "model = Model()"
      ],
      "execution_count": null,
      "outputs": []
    },
    {
      "cell_type": "code",
      "metadata": {
        "colab": {
          "base_uri": "https://localhost:8080/",
          "height": 754
        },
        "id": "RAS71VonrLzU",
        "outputId": "f0d8f812-c65f-47a3-8139-33039611ffc0"
      },
      "source": [
        "tf.keras.utils.plot_model(model, show_shapes=True)"
      ],
      "execution_count": null,
      "outputs": [
        {
          "output_type": "execute_result",
          "data": {
            "image/png": "[encoded data removed]",
            "text/plain": [
              "<IPython.core.display.Image object>"
            ]
          },
          "metadata": {},
          "execution_count": 9
        }
      ]
    },
    {
      "cell_type": "code",
      "metadata": {
        "colab": {
          "base_uri": "https://localhost:8080/"
        },
        "id": "neXmHN79rO0k",
        "outputId": "81b017bf-04ee-4dc1-ec3d-5ad9d81cca77"
      },
      "source": [
        "model.summary()"
      ],
      "execution_count": null,
      "outputs": [
        {
          "output_type": "stream",
          "name": "stdout",
          "text": [
            "Model: \"sequential\"\n",
            "_________________________________________________________________\n",
            " Layer (type)                Output Shape              Param #   \n",
            "=================================================================\n",
            " lstm (LSTM)                 (None, 5, 200)            163200    \n",
            "                                                                 \n",
            " lstm_1 (LSTM)               (None, 200)               320800    \n",
            "                                                                 \n",
            " dense (Dense)               (None, 200)               40200     \n",
            "                                                                 \n",
            " dense_1 (Dense)             (None, 100)               20100     \n",
            "                                                                 \n",
            " dense_2 (Dense)             (None, 50)                5050      \n",
            "                                                                 \n",
            " dense_3 (Dense)             (None, 5)                 255       \n",
            "                                                                 \n",
            "=================================================================\n",
            "Total params: 549,605\n",
            "Trainable params: 549,605\n",
            "Non-trainable params: 0\n",
            "_________________________________________________________________\n"
          ]
        }
      ]
    },
    {
      "cell_type": "markdown",
      "metadata": {
        "id": "vJDxyTC40zmg"
      },
      "source": [
        "### Custom Learning Rate"
      ]
    },
    {
      "cell_type": "code",
      "metadata": {
        "id": "vLjevQLkiIoP"
      },
      "source": [
        "lr_schedule = tf.keras.optimizers.schedules.ExponentialDecay(\n",
        "    initial_learning_rate=1e-2,\n",
        "    decay_steps=10000,\n",
        "    decay_rate=0.9)"
      ],
      "execution_count": null,
      "outputs": []
    },
    {
      "cell_type": "code",
      "metadata": {
        "id": "R0NG_mhJiQH_"
      },
      "source": [
        "callback = tf.keras.callbacks.EarlyStopping(\n",
        "    monitor=\"val_loss\",\n",
        "    min_delta=0,\n",
        "    patience=10,\n",
        "    verbose=0,\n",
        "    mode=\"auto\",\n",
        "    baseline=None,\n",
        "    restore_best_weights=True,\n",
        ")"
      ],
      "execution_count": null,
      "outputs": []
    },
    {
      "cell_type": "markdown",
      "metadata": {
        "id": "P9l6y-jBQL-G"
      },
      "source": [
        "#TCS"
      ]
    },
    {
      "cell_type": "code",
      "metadata": {
        "colab": {
          "base_uri": "https://localhost:8080/",
          "height": 206
        },
        "id": "thrQ_-6x7_7m",
        "outputId": "a6b087ed-220b-402b-a44b-d23de2f241c4"
      },
      "source": [
        "TCS.tail()"
      ],
      "execution_count": null,
      "outputs": [
        {
          "output_type": "execute_result",
          "data": {
            "text/html": [
              "\n",
              "  <div id=\"df-2e74a66b-e3a8-4e7f-9c86-eafd469ef639\">\n",
              "    <div class=\"colab-df-container\">\n",
              "      <div>\n",
              "<style scoped>\n",
              "    .dataframe tbody tr th:only-of-type {\n",
              "        vertical-align: middle;\n",
              "    }\n",
              "\n",
              "    .dataframe tbody tr th {\n",
              "        vertical-align: top;\n",
              "    }\n",
              "\n",
              "    .dataframe thead th {\n",
              "        text-align: right;\n",
              "    }\n",
              "</style>\n",
              "<table border=\"1\" class=\"dataframe\">\n",
              "  <thead>\n",
              "    <tr style=\"text-align: right;\">\n",
              "      <th></th>\n",
              "      <th>ticker</th>\n",
              "      <th>date</th>\n",
              "      <th>open</th>\n",
              "      <th>high</th>\n",
              "      <th>low</th>\n",
              "      <th>close</th>\n",
              "      <th>adj close</th>\n",
              "      <th>volume</th>\n",
              "      <th>Moving Average for 10 days</th>\n",
              "      <th>Moving Average for 20 days</th>\n",
              "      <th>Moving Average for 50 days</th>\n",
              "      <th>Daily Return</th>\n",
              "    </tr>\n",
              "  </thead>\n",
              "  <tbody>\n",
              "    <tr>\n",
              "      <th>692</th>\n",
              "      <td>TCS.NS</td>\n",
              "      <td>2021-10-25</td>\n",
              "      <td>3503.00</td>\n",
              "      <td>3514.55</td>\n",
              "      <td>3450.0</td>\n",
              "      <td>3492.95</td>\n",
              "      <td>3492.95</td>\n",
              "      <td>2594211.0</td>\n",
              "      <td>3599.849</td>\n",
              "      <td>3704.2600</td>\n",
              "      <td>3719.0880</td>\n",
              "      <td>-0.001686</td>\n",
              "    </tr>\n",
              "    <tr>\n",
              "      <th>693</th>\n",
              "      <td>TCS.NS</td>\n",
              "      <td>2021-10-26</td>\n",
              "      <td>3494.50</td>\n",
              "      <td>3529.00</td>\n",
              "      <td>3475.0</td>\n",
              "      <td>3482.60</td>\n",
              "      <td>3482.60</td>\n",
              "      <td>3877980.0</td>\n",
              "      <td>3580.255</td>\n",
              "      <td>3686.9100</td>\n",
              "      <td>3721.8334</td>\n",
              "      <td>-0.002963</td>\n",
              "    </tr>\n",
              "    <tr>\n",
              "      <th>694</th>\n",
              "      <td>TCS.NS</td>\n",
              "      <td>2021-10-27</td>\n",
              "      <td>3483.00</td>\n",
              "      <td>3511.25</td>\n",
              "      <td>3483.0</td>\n",
              "      <td>3489.75</td>\n",
              "      <td>3489.75</td>\n",
              "      <td>2509919.0</td>\n",
              "      <td>3564.645</td>\n",
              "      <td>3672.8020</td>\n",
              "      <td>3722.4930</td>\n",
              "      <td>0.002053</td>\n",
              "    </tr>\n",
              "    <tr>\n",
              "      <th>695</th>\n",
              "      <td>TCS.NS</td>\n",
              "      <td>2021-10-28</td>\n",
              "      <td>3518.00</td>\n",
              "      <td>3518.00</td>\n",
              "      <td>3415.0</td>\n",
              "      <td>3421.65</td>\n",
              "      <td>3421.65</td>\n",
              "      <td>2423261.0</td>\n",
              "      <td>3541.990</td>\n",
              "      <td>3654.6525</td>\n",
              "      <td>3721.6000</td>\n",
              "      <td>-0.019514</td>\n",
              "    </tr>\n",
              "    <tr>\n",
              "      <th>696</th>\n",
              "      <td>TCS.NS</td>\n",
              "      <td>2021-10-29</td>\n",
              "      <td>3400.05</td>\n",
              "      <td>3453.75</td>\n",
              "      <td>3395.5</td>\n",
              "      <td>3434.40</td>\n",
              "      <td>3434.40</td>\n",
              "      <td>1390025.0</td>\n",
              "      <td>3524.285</td>\n",
              "      <td>3637.9565</td>\n",
              "      <td>3719.3630</td>\n",
              "      <td>0.003726</td>\n",
              "    </tr>\n",
              "  </tbody>\n",
              "</table>\n",
              "</div>\n",
              "      <button class=\"colab-df-convert\" onclick=\"convertToInteractive('df-2e74a66b-e3a8-4e7f-9c86-eafd469ef639')\"\n",
              "              title=\"Convert this dataframe to an interactive table.\"\n",
              "              style=\"display:none;\">\n",
              "        \n",
              "  <svg xmlns=\"http://www.w3.org/2000/svg\" height=\"24px\"viewBox=\"0 0 24 24\"\n",
              "       width=\"24px\">\n",
              "    <path d=\"M0 0h24v24H0V0z\" fill=\"none\"/>\n",
              "    <path d=\"M18.56 5.44l.94 2.06.94-2.06 2.06-.94-2.06-.94-.94-2.06-.94 2.06-2.06.94zm-11 1L8.5 8.5l.94-2.06 2.06-.94-2.06-.94L8.5 2.5l-.94 2.06-2.06.94zm10 10l.94 2.06.94-2.06 2.06-.94-2.06-.94-.94-2.06-.94 2.06-2.06.94z\"/><path d=\"M17.41 7.96l-1.37-1.37c-.4-.4-.92-.59-1.43-.59-.52 0-1.04.2-1.43.59L10.3 9.45l-7.72 7.72c-.78.78-.78 2.05 0 2.83L4 21.41c.39.39.9.59 1.41.59.51 0 1.02-.2 1.41-.59l7.78-7.78 2.81-2.81c.8-.78.8-2.07 0-2.86zM5.41 20L4 18.59l7.72-7.72 1.47 1.35L5.41 20z\"/>\n",
              "  </svg>\n",
              "      </button>\n",
              "      \n",
              "  <style>\n",
              "    .colab-df-container {\n",
              "      display:flex;\n",
              "      flex-wrap:wrap;\n",
              "      gap: 12px;\n",
              "    }\n",
              "\n",
              "    .colab-df-convert {\n",
              "      background-color: #E8F0FE;\n",
              "      border: none;\n",
              "      border-radius: 50%;\n",
              "      cursor: pointer;\n",
              "      display: none;\n",
              "      fill: #1967D2;\n",
              "      height: 32px;\n",
              "      padding: 0 0 0 0;\n",
              "      width: 32px;\n",
              "    }\n",
              "\n",
              "    .colab-df-convert:hover {\n",
              "      background-color: #E2EBFA;\n",
              "      box-shadow: 0px 1px 2px rgba(60, 64, 67, 0.3), 0px 1px 3px 1px rgba(60, 64, 67, 0.15);\n",
              "      fill: #174EA6;\n",
              "    }\n",
              "\n",
              "    [theme=dark] .colab-df-convert {\n",
              "      background-color: #3B4455;\n",
              "      fill: #D2E3FC;\n",
              "    }\n",
              "\n",
              "    [theme=dark] .colab-df-convert:hover {\n",
              "      background-color: #434B5C;\n",
              "      box-shadow: 0px 1px 3px 1px rgba(0, 0, 0, 0.15);\n",
              "      filter: drop-shadow(0px 1px 2px rgba(0, 0, 0, 0.3));\n",
              "      fill: #FFFFFF;\n",
              "    }\n",
              "  </style>\n",
              "\n",
              "      <script>\n",
              "        const buttonEl =\n",
              "          document.querySelector('#df-2e74a66b-e3a8-4e7f-9c86-eafd469ef639 button.colab-df-convert');\n",
              "        buttonEl.style.display =\n",
              "          google.colab.kernel.accessAllowed ? 'block' : 'none';\n",
              "\n",
              "        async function convertToInteractive(key) {\n",
              "          const element = document.querySelector('#df-2e74a66b-e3a8-4e7f-9c86-eafd469ef639');\n",
              "          const dataTable =\n",
              "            await google.colab.kernel.invokeFunction('convertToInteractive',\n",
              "                                                     [key], {});\n",
              "          if (!dataTable) return;\n",
              "\n",
              "          const docLinkHtml = 'Like what you see? Visit the ' +\n",
              "            '<a target=\"_blank\" href=https://colab.research.google.com/notebooks/data_table.ipynb>data table notebook</a>'\n",
              "            + ' to learn more about interactive tables.';\n",
              "          element.innerHTML = '';\n",
              "          dataTable['output_type'] = 'display_data';\n",
              "          await google.colab.output.renderOutput(dataTable, element);\n",
              "          const docLink = document.createElement('div');\n",
              "          docLink.innerHTML = docLinkHtml;\n",
              "          element.appendChild(docLink);\n",
              "        }\n",
              "      </script>\n",
              "    </div>\n",
              "  </div>\n",
              "  "
            ],
            "text/plain": [
              "     ticker        date  ...  Moving Average for 50 days  Daily Return\n",
              "692  TCS.NS  2021-10-25  ...                   3719.0880     -0.001686\n",
              "693  TCS.NS  2021-10-26  ...                   3721.8334     -0.002963\n",
              "694  TCS.NS  2021-10-27  ...                   3722.4930      0.002053\n",
              "695  TCS.NS  2021-10-28  ...                   3721.6000     -0.019514\n",
              "696  TCS.NS  2021-10-29  ...                   3719.3630      0.003726\n",
              "\n",
              "[5 rows x 12 columns]"
            ]
          },
          "metadata": {},
          "execution_count": 13
        }
      ]
    },
    {
      "cell_type": "code",
      "metadata": {
        "colab": {
          "base_uri": "https://localhost:8080/"
        },
        "id": "IA_pY7CN8B0x",
        "outputId": "ffe0652e-dd88-4555-a9f0-fbee943935f0"
      },
      "source": [
        "TCS.info()"
      ],
      "execution_count": null,
      "outputs": [
        {
          "output_type": "stream",
          "name": "stdout",
          "text": [
            "<class 'pandas.core.frame.DataFrame'>\n",
            "RangeIndex: 697 entries, 0 to 696\n",
            "Data columns (total 12 columns):\n",
            " #   Column                      Non-Null Count  Dtype  \n",
            "---  ------                      --------------  -----  \n",
            " 0   ticker                      697 non-null    object \n",
            " 1   date                        697 non-null    object \n",
            " 2   open                        697 non-null    float64\n",
            " 3   high                        697 non-null    float64\n",
            " 4   low                         697 non-null    float64\n",
            " 5   close                       697 non-null    float64\n",
            " 6   adj close                   697 non-null    float64\n",
            " 7   volume                      697 non-null    float64\n",
            " 8   Moving Average for 10 days  688 non-null    float64\n",
            " 9   Moving Average for 20 days  678 non-null    float64\n",
            " 10  Moving Average for 50 days  648 non-null    float64\n",
            " 11  Daily Return                696 non-null    float64\n",
            "dtypes: float64(10), object(2)\n",
            "memory usage: 65.5+ KB\n"
          ]
        }
      ]
    },
    {
      "cell_type": "code",
      "metadata": {
        "id": "elqcyE_H3h2S"
      },
      "source": [
        "# Change Dtype of date column\n",
        "TCS[\"date\"] = pd.to_datetime(TCS[\"date\"])\n",
        "TCS_SMA_sub['time'] = pd.to_datetime(TCS_SMA_sub['time'])\n",
        "TCS_EMA_sub['time'] = pd.to_datetime(TCS_EMA_sub['time'])"
      ],
      "execution_count": null,
      "outputs": []
    },
    {
      "cell_type": "markdown",
      "metadata": {
        "id": "FPawFX7U5VVz"
      },
      "source": [
        "###Split the Data into Training and Test set\n",
        "    Training Period: 2019-01-01 - 2021-08-01\n",
        "\n",
        "    Testing Period:  2021-08-01 - 2021-10-29"
      ]
    },
    {
      "cell_type": "code",
      "metadata": {
        "id": "Cdu0-_N238N2"
      },
      "source": [
        "TCS_date = '2021-08-01'\n",
        "TCS_Train_X, TCS_Train_Y, TCS_Test_X, TCS_Test_Y = Dataset(TCS,'adj close', 'date', TCS_date)\n",
        "TCS_Train_SMA_X, TCS_Train_SMA_Y, TCS_Test_SMA_X, TCS_Test_SMA_Y = Dataset(TCS_SMA_sub,'SMA', 'time', TCS_date)\n",
        "TCS_Train_EMA_X, TCS_Train_EMA_Y, TCS_Test_EMA_X, TCS_Test_EMA_Y = Dataset(TCS_EMA_sub,'EMA', 'time', TCS_date)"
      ],
      "execution_count": null,
      "outputs": []
    },
    {
      "cell_type": "code",
      "metadata": {
        "colab": {
          "base_uri": "https://localhost:8080/"
        },
        "id": "fhtEMMefMIHx",
        "outputId": "24afb5e3-1345-47fe-f2b4-8fabc199d70c"
      },
      "source": [
        "TCS_Train_X.shape, TCS_Train_Y.shape, TCS_Test_X.shape, TCS_Test_Y.shape"
      ],
      "execution_count": null,
      "outputs": [
        {
          "output_type": "execute_result",
          "data": {
            "text/plain": [
              "((126, 5, 1), (126, 5, 1), (11, 5, 1), (11, 5, 1))"
            ]
          },
          "metadata": {},
          "execution_count": 17
        }
      ]
    },
    {
      "cell_type": "code",
      "source": [
        "TCS['adj close'].head(20)"
      ],
      "metadata": {
        "colab": {
          "base_uri": "https://localhost:8080/"
        },
        "id": "_NM9vz2JFP4h",
        "outputId": "e53210d1-b225-4d58-8610-975dd7f3d4b7"
      },
      "execution_count": null,
      "outputs": [
        {
          "output_type": "execute_result",
          "data": {
            "text/plain": [
              "0     1788.18\n",
              "1     1807.44\n",
              "2     1785.50\n",
              "3     1763.79\n",
              "4     1783.57\n",
              "5     1779.48\n",
              "6     1773.28\n",
              "7     1774.78\n",
              "8     1731.56\n",
              "9     1704.02\n",
              "10    1755.28\n",
              "11    1757.49\n",
              "12    1784.00\n",
              "13    1789.98\n",
              "14    1797.57\n",
              "15    1791.16\n",
              "16    1766.39\n",
              "17    1790.83\n",
              "18    1808.96\n",
              "19    1841.17\n",
              "Name: adj close, dtype: float64"
            ]
          },
          "metadata": {},
          "execution_count": 18
        }
      ]
    },
    {
      "cell_type": "code",
      "source": [
        "TCS_Train_X[0], TCS_Train_Y[0]"
      ],
      "metadata": {
        "colab": {
          "base_uri": "https://localhost:8080/"
        },
        "id": "U5G104YdFK5b",
        "outputId": "743e350b-5855-4bc2-b556-dbce842facef"
      },
      "execution_count": null,
      "outputs": [
        {
          "output_type": "execute_result",
          "data": {
            "text/plain": [
              "(array([[1788.18],\n",
              "        [1807.44],\n",
              "        [1785.5 ],\n",
              "        [1763.79],\n",
              "        [1783.57]]), array([[1779.48],\n",
              "        [1773.28],\n",
              "        [1774.78],\n",
              "        [1731.56],\n",
              "        [1704.02]]))"
            ]
          },
          "metadata": {},
          "execution_count": 19
        }
      ]
    },
    {
      "cell_type": "code",
      "source": [
        "TCS_Train_X[1], TCS_Train_Y[1]"
      ],
      "metadata": {
        "colab": {
          "base_uri": "https://localhost:8080/"
        },
        "id": "BSu7CvIWFdP8",
        "outputId": "13af513c-2c1f-430d-929c-2dee1e65a5a0"
      },
      "execution_count": null,
      "outputs": [
        {
          "output_type": "execute_result",
          "data": {
            "text/plain": [
              "(array([[1779.48],\n",
              "        [1773.28],\n",
              "        [1774.78],\n",
              "        [1731.56],\n",
              "        [1704.02]]), array([[1755.28],\n",
              "        [1757.49],\n",
              "        [1784.  ],\n",
              "        [1789.98],\n",
              "        [1797.57]]))"
            ]
          },
          "metadata": {},
          "execution_count": 20
        }
      ]
    },
    {
      "cell_type": "code",
      "source": [
        "TCS['adj close'].tail(20)"
      ],
      "metadata": {
        "colab": {
          "base_uri": "https://localhost:8080/"
        },
        "id": "DSQr6C4YNmGF",
        "outputId": "95ac44db-27c8-4761-b2a3-7e52bf7a7926"
      },
      "execution_count": null,
      "outputs": [
        {
          "output_type": "execute_result",
          "data": {
            "text/plain": [
              "677    3723.06\n",
              "678    3766.07\n",
              "679    3825.96\n",
              "680    3803.60\n",
              "681    3885.44\n",
              "682    3928.11\n",
              "683    3678.54\n",
              "684    3645.85\n",
              "685    3648.20\n",
              "686    3611.45\n",
              "687    3647.15\n",
              "688    3634.15\n",
              "689    3608.85\n",
              "690    3532.50\n",
              "691    3498.85\n",
              "692    3492.95\n",
              "693    3482.60\n",
              "694    3489.75\n",
              "695    3421.65\n",
              "696    3434.40\n",
              "Name: adj close, dtype: float64"
            ]
          },
          "metadata": {},
          "execution_count": 27
        }
      ]
    },
    {
      "cell_type": "code",
      "source": [
        "TCS_Train_SMA_X.shape, TCS_Train_SMA_Y.shape, TCS_Test_SMA_X.shape, TCS_Test_SMA_X.shape"
      ],
      "metadata": {
        "colab": {
          "base_uri": "https://localhost:8080/"
        },
        "id": "AyxSh5tPB15A",
        "outputId": "0c137276-d884-4fee-c00e-0117e6bfe3af"
      },
      "execution_count": null,
      "outputs": [
        {
          "output_type": "execute_result",
          "data": {
            "text/plain": [
              "((126, 5, 1), (126, 5, 1), (11, 5, 1), (11, 5, 1))"
            ]
          },
          "metadata": {},
          "execution_count": 21
        }
      ]
    },
    {
      "cell_type": "code",
      "source": [
        "TCS_Train_EMA_X.shape, TCS_Train_EMA_Y.shape, TCS_Test_EMA_X.shape, TCS_Test_EMA_X.shape"
      ],
      "metadata": {
        "colab": {
          "base_uri": "https://localhost:8080/"
        },
        "id": "gvo3Y8TMDsou",
        "outputId": "c733d6e7-49a6-4572-8e5c-47b3abf13deb"
      },
      "execution_count": null,
      "outputs": [
        {
          "output_type": "execute_result",
          "data": {
            "text/plain": [
              "((126, 5, 1), (126, 5, 1), (11, 5, 1), (11, 5, 1))"
            ]
          },
          "metadata": {},
          "execution_count": 22
        }
      ]
    },
    {
      "cell_type": "code",
      "source": [
        "TCS_Train_X[0], TCS_Train_SMA_X[0]"
      ],
      "metadata": {
        "colab": {
          "base_uri": "https://localhost:8080/"
        },
        "id": "EcFoQ0LMDZxI",
        "outputId": "f225d7cf-2f72-40b1-b019-2636ab2f3e3e"
      },
      "execution_count": null,
      "outputs": [
        {
          "output_type": "execute_result",
          "data": {
            "text/plain": [
              "(array([[1788.18],\n",
              "        [1807.44],\n",
              "        [1785.5 ],\n",
              "        [1763.79],\n",
              "        [1783.57]]), array([[1837.1739],\n",
              "        [1831.0021],\n",
              "        [1824.2374],\n",
              "        [1816.3589],\n",
              "        [1816.3016]]))"
            ]
          },
          "metadata": {},
          "execution_count": 23
        }
      ]
    },
    {
      "cell_type": "code",
      "source": [
        "TCS_Final_Train_X = np.concatenate((TCS_Train_X, TCS_Train_SMA_X, TCS_Train_EMA_X), axis=2)\n",
        "TCS_Final_Test_X = np.concatenate((TCS_Test_X, TCS_Test_SMA_X, TCS_Test_EMA_X), axis=2)"
      ],
      "metadata": {
        "id": "_bW4elrIDL0m"
      },
      "execution_count": null,
      "outputs": []
    },
    {
      "cell_type": "code",
      "source": [
        "TCS_Final_Train_X.shape, TCS_Train_Y.shape, TCS_Final_Test_X.shape, TCS_Test_Y.shape"
      ],
      "metadata": {
        "colab": {
          "base_uri": "https://localhost:8080/"
        },
        "id": "zqLa9kGvEB6V",
        "outputId": "02bfeb79-e72d-4e9f-ad14-5b2adbfbf7d7"
      },
      "execution_count": null,
      "outputs": [
        {
          "output_type": "execute_result",
          "data": {
            "text/plain": [
              "((126, 5, 3), (126, 5, 1), (11, 5, 3), (11, 5, 1))"
            ]
          },
          "metadata": {},
          "execution_count": 25
        }
      ]
    },
    {
      "cell_type": "markdown",
      "metadata": {
        "id": "WhsAWnFP1-_t"
      },
      "source": [
        "### Model Fitting"
      ]
    },
    {
      "cell_type": "code",
      "metadata": {
        "id": "yMBW7DTXAOo6"
      },
      "source": [
        "TCS_Model = Model()"
      ],
      "execution_count": null,
      "outputs": []
    },
    {
      "cell_type": "code",
      "metadata": {
        "id": "YIN5tmbx9Pz5"
      },
      "source": [
        "TCS_Model.compile(optimizer = tf.keras.optimizers.Adam(learning_rate=lr_schedule), loss = 'mse', metrics = tf.keras.metrics.RootMeanSquaredError())"
      ],
      "execution_count": null,
      "outputs": []
    },
    {
      "cell_type": "code",
      "metadata": {
        "id": "BNxXmS48BxEb",
        "colab": {
          "base_uri": "https://localhost:8080/"
        },
        "outputId": "b6f9f367-267b-4d18-e2c2-131fb1e9a081"
      },
      "source": [
        "TCS_hist = TCS_Model.fit(TCS_Final_Train_X, TCS_Train_Y, epochs = 10000, validation_data = (TCS_Final_Test_X, TCS_Test_Y), callbacks=[callback])"
      ],
      "execution_count": null,
      "outputs": [
        {
          "output_type": "stream",
          "name": "stdout",
          "text": [
            "Epoch 1/10000\n",
            "4/4 [==============================] - 3s 166ms/step - loss: 4876033.0000 - root_mean_squared_error: 2208.1741 - val_loss: 7129329.5000 - val_root_mean_squared_error: 2670.0803\n",
            "Epoch 2/10000\n",
            "4/4 [==============================] - 0s 34ms/step - loss: 1675776.8750 - root_mean_squared_error: 1294.5181 - val_loss: 1629062.5000 - val_root_mean_squared_error: 1276.3473\n",
            "Epoch 3/10000\n",
            "4/4 [==============================] - 0s 36ms/step - loss: 394082.7812 - root_mean_squared_error: 627.7601 - val_loss: 365870.7188 - val_root_mean_squared_error: 604.8724\n",
            "Epoch 4/10000\n",
            "4/4 [==============================] - 0s 34ms/step - loss: 463885.7500 - root_mean_squared_error: 681.0916 - val_loss: 5992657.0000 - val_root_mean_squared_error: 2447.9905\n",
            "Epoch 5/10000\n",
            "4/4 [==============================] - 0s 36ms/step - loss: 1403749.8750 - root_mean_squared_error: 1184.7994 - val_loss: 1796409.2500 - val_root_mean_squared_error: 1340.3019\n",
            "Epoch 6/10000\n",
            "4/4 [==============================] - 0s 74ms/step - loss: 466630.3438 - root_mean_squared_error: 683.1035 - val_loss: 79628.4297 - val_root_mean_squared_error: 282.1851\n",
            "Epoch 7/10000\n",
            "4/4 [==============================] - 0s 102ms/step - loss: 144118.3594 - root_mean_squared_error: 379.6293 - val_loss: 144123.9375 - val_root_mean_squared_error: 379.6366\n",
            "Epoch 8/10000\n",
            "4/4 [==============================] - 0s 53ms/step - loss: 84614.9922 - root_mean_squared_error: 290.8866 - val_loss: 128346.8438 - val_root_mean_squared_error: 358.2552\n",
            "Epoch 9/10000\n",
            "4/4 [==============================] - 0s 36ms/step - loss: 37607.3789 - root_mean_squared_error: 193.9262 - val_loss: 102450.0469 - val_root_mean_squared_error: 320.0782\n",
            "Epoch 10/10000\n",
            "4/4 [==============================] - 0s 35ms/step - loss: 27551.5020 - root_mean_squared_error: 165.9865 - val_loss: 36246.5703 - val_root_mean_squared_error: 190.3853\n",
            "Epoch 11/10000\n",
            "4/4 [==============================] - 0s 62ms/step - loss: 18271.9883 - root_mean_squared_error: 135.1739 - val_loss: 48539.5781 - val_root_mean_squared_error: 220.3170\n",
            "Epoch 12/10000\n",
            "4/4 [==============================] - 0s 107ms/step - loss: 14046.9990 - root_mean_squared_error: 118.5200 - val_loss: 33883.4531 - val_root_mean_squared_error: 184.0746\n",
            "Epoch 13/10000\n",
            "4/4 [==============================] - 0s 61ms/step - loss: 14203.0000 - root_mean_squared_error: 119.1763 - val_loss: 47807.0469 - val_root_mean_squared_error: 218.6482\n",
            "Epoch 14/10000\n",
            "4/4 [==============================] - 0s 38ms/step - loss: 11788.0859 - root_mean_squared_error: 108.5730 - val_loss: 37906.6406 - val_root_mean_squared_error: 194.6963\n",
            "Epoch 15/10000\n",
            "4/4 [==============================] - 0s 33ms/step - loss: 15527.0527 - root_mean_squared_error: 124.6076 - val_loss: 36254.7734 - val_root_mean_squared_error: 190.4069\n",
            "Epoch 16/10000\n",
            "4/4 [==============================] - 0s 36ms/step - loss: 12352.5674 - root_mean_squared_error: 111.1421 - val_loss: 32551.7012 - val_root_mean_squared_error: 180.4209\n",
            "Epoch 17/10000\n",
            "4/4 [==============================] - 0s 118ms/step - loss: 11042.7627 - root_mean_squared_error: 105.0846 - val_loss: 30387.8633 - val_root_mean_squared_error: 174.3211\n",
            "Epoch 18/10000\n",
            "4/4 [==============================] - 0s 77ms/step - loss: 10498.1904 - root_mean_squared_error: 102.4607 - val_loss: 36800.8516 - val_root_mean_squared_error: 191.8355\n",
            "Epoch 19/10000\n",
            "4/4 [==============================] - 0s 34ms/step - loss: 12481.0674 - root_mean_squared_error: 111.7187 - val_loss: 36197.1055 - val_root_mean_squared_error: 190.2554\n",
            "Epoch 20/10000\n",
            "4/4 [==============================] - 0s 39ms/step - loss: 11141.0400 - root_mean_squared_error: 105.5511 - val_loss: 27708.3926 - val_root_mean_squared_error: 166.4584\n",
            "Epoch 21/10000\n",
            "4/4 [==============================] - 0s 38ms/step - loss: 9097.0723 - root_mean_squared_error: 95.3786 - val_loss: 27601.4062 - val_root_mean_squared_error: 166.1367\n",
            "Epoch 22/10000\n",
            "4/4 [==============================] - 0s 33ms/step - loss: 9430.8730 - root_mean_squared_error: 97.1127 - val_loss: 36354.9727 - val_root_mean_squared_error: 190.6698\n",
            "Epoch 23/10000\n",
            "4/4 [==============================] - 0s 33ms/step - loss: 9269.4668 - root_mean_squared_error: 96.2781 - val_loss: 26959.0117 - val_root_mean_squared_error: 164.1920\n",
            "Epoch 24/10000\n",
            "4/4 [==============================] - 0s 33ms/step - loss: 8762.9434 - root_mean_squared_error: 93.6106 - val_loss: 32136.6426 - val_root_mean_squared_error: 179.2670\n",
            "Epoch 25/10000\n",
            "4/4 [==============================] - 0s 35ms/step - loss: 8874.2021 - root_mean_squared_error: 94.2030 - val_loss: 26804.0703 - val_root_mean_squared_error: 163.7195\n",
            "Epoch 26/10000\n",
            "4/4 [==============================] - 0s 34ms/step - loss: 8717.3057 - root_mean_squared_error: 93.3665 - val_loss: 36173.5508 - val_root_mean_squared_error: 190.1935\n",
            "Epoch 27/10000\n",
            "4/4 [==============================] - 0s 36ms/step - loss: 9294.6182 - root_mean_squared_error: 96.4086 - val_loss: 27593.6309 - val_root_mean_squared_error: 166.1133\n",
            "Epoch 28/10000\n",
            "4/4 [==============================] - 0s 34ms/step - loss: 9810.8115 - root_mean_squared_error: 99.0495 - val_loss: 27135.2500 - val_root_mean_squared_error: 164.7278\n",
            "Epoch 29/10000\n",
            "4/4 [==============================] - 0s 35ms/step - loss: 10552.8301 - root_mean_squared_error: 102.7270 - val_loss: 26867.6133 - val_root_mean_squared_error: 163.9134\n",
            "Epoch 30/10000\n",
            "4/4 [==============================] - 0s 34ms/step - loss: 9459.7744 - root_mean_squared_error: 97.2614 - val_loss: 28516.7832 - val_root_mean_squared_error: 168.8691\n",
            "Epoch 31/10000\n",
            "4/4 [==============================] - 0s 34ms/step - loss: 9916.1650 - root_mean_squared_error: 99.5799 - val_loss: 33558.4727 - val_root_mean_squared_error: 183.1897\n",
            "Epoch 32/10000\n",
            "4/4 [==============================] - 0s 36ms/step - loss: 9564.7842 - root_mean_squared_error: 97.7997 - val_loss: 29948.2324 - val_root_mean_squared_error: 173.0556\n",
            "Epoch 33/10000\n",
            "4/4 [==============================] - 0s 37ms/step - loss: 10218.6338 - root_mean_squared_error: 101.0873 - val_loss: 28362.8125 - val_root_mean_squared_error: 168.4126\n",
            "Epoch 34/10000\n",
            "4/4 [==============================] - 0s 36ms/step - loss: 9871.4043 - root_mean_squared_error: 99.3549 - val_loss: 26925.9297 - val_root_mean_squared_error: 164.0912\n",
            "Epoch 35/10000\n",
            "4/4 [==============================] - 0s 40ms/step - loss: 9481.7266 - root_mean_squared_error: 97.3742 - val_loss: 27686.3867 - val_root_mean_squared_error: 166.3923\n"
          ]
        }
      ]
    },
    {
      "cell_type": "code",
      "metadata": {
        "id": "GI_rlBQ4HBim"
      },
      "source": [
        "history_dict = TCS_hist.history\n",
        "\n",
        "loss = history_dict[\"loss\"]\n",
        "root_mean_squared_error = history_dict[\"root_mean_squared_error\"]\n",
        "val_loss = history_dict[\"val_loss\"]\n",
        "val_root_mean_squared_error = history_dict[\"val_root_mean_squared_error\"]\n",
        "\n",
        "epochs = range(1, len(loss) + 1)"
      ],
      "execution_count": null,
      "outputs": []
    },
    {
      "cell_type": "code",
      "metadata": {
        "colab": {
          "base_uri": "https://localhost:8080/",
          "height": 345
        },
        "id": "ExABS58lFHrS",
        "outputId": "00b127cd-11cb-48d5-a092-519d0c3ef17c"
      },
      "source": [
        "fig, (ax1, ax2) = plt.subplots(1, 2)\n",
        "\n",
        "fig.set_figheight(5)\n",
        "fig.set_figwidth(15)\n",
        "\n",
        "ax1.plot(epochs, loss, label = 'Training Loss')\n",
        "ax1.plot(epochs, val_loss, label = 'Validation Loss')\n",
        "ax1.set(xlabel = \"Epochs\", ylabel = \"Loss\")\n",
        "ax1.legend()\n",
        "\n",
        "ax2.plot(epochs, root_mean_squared_error, label = \"Training Root Mean Squared Error\")\n",
        "ax2.plot(epochs, val_root_mean_squared_error, label = \"Validation Root Mean Squared Error\")\n",
        "ax2.set(xlabel = \"Epochs\", ylabel = \"Loss\")\n",
        "ax2.legend()\n",
        "\n",
        "plt.show()"
      ],
      "execution_count": null,
      "outputs": [
        {
          "output_type": "display_data",
          "data": {
            "image/png": "[encoded data removed]",
            "text/plain": [
              "<Figure size 1080x360 with 2 Axes>"
            ]
          },
          "metadata": {
            "needs_background": "light"
          }
        }
      ]
    },
    {
      "cell_type": "markdown",
      "metadata": {
        "id": "zrM4MV_A1Y26"
      },
      "source": [
        "### Predicting the closing stock price of TCS"
      ]
    },
    {
      "cell_type": "code",
      "metadata": {
        "id": "BlBhKm6dEye7"
      },
      "source": [
        "TCS_prediction = TCS_Model.predict(TCS_Final_Test_X)"
      ],
      "execution_count": null,
      "outputs": []
    },
    {
      "cell_type": "code",
      "metadata": {
        "colab": {
          "base_uri": "https://localhost:8080/",
          "height": 352
        },
        "id": "zKt-0GuXEFbL",
        "outputId": "300081c3-57da-4fbf-e43d-d846d687e3eb"
      },
      "source": [
        "plt.figure(figsize=(20, 5))\n",
        "plt.plot(TCS['date'][TCS['date'] < '2021-08-01'], TCS['adj close'][TCS['date'] < '2021-08-01'], label = 'Training')\n",
        "plt.plot(TCS['date'][TCS['date'] >= '2021-08-01'], TCS['adj close'][TCS['date'] >= '2021-08-01'], label = 'Testing')\n",
        "plt.plot(TCS['date'][TCS['date'] >= '2021-08-01'][:-7], TCS_prediction.reshape(-1), label = 'Predictions')\n",
        "plt.xlabel('Time')\n",
        "plt.ylabel('Closing Price')\n",
        "plt.legend(loc = 'best')"
      ],
      "execution_count": null,
      "outputs": [
        {
          "output_type": "execute_result",
          "data": {
            "text/plain": [
              "<matplotlib.legend.Legend at 0x7f5564dc7a10>"
            ]
          },
          "metadata": {},
          "execution_count": 41
        },
        {
          "output_type": "display_data",
          "data": {
            "image/png": "[encoded data removed]",
            "text/plain": [
              "<Figure size 1440x360 with 1 Axes>"
            ]
          },
          "metadata": {
            "needs_background": "light"
          }
        }
      ]
    },
    {
      "cell_type": "code",
      "metadata": {
        "colab": {
          "base_uri": "https://localhost:8080/"
        },
        "id": "Rk9tSItpFveZ",
        "outputId": "e6e7256b-e282-492a-8b6b-a14da035da29"
      },
      "source": [
        "rmse = math.sqrt(mean_squared_error(TCS_Test_Y.reshape(-1, 5), TCS_prediction))\n",
        "mape = np.mean(np.abs(TCS_prediction - TCS_Test_Y.reshape(-1, 5))/np.abs(TCS_Test_Y.reshape(-1, 5)))\n",
        "print(f'RMSE: {rmse}')\n",
        "print(f'MAPE: {mape}')"
      ],
      "execution_count": null,
      "outputs": [
        {
          "output_type": "stream",
          "name": "stdout",
          "text": [
            "RMSE: 163.71949139283862\n",
            "MAPE: 0.0389272374955765\n"
          ]
        }
      ]
    },
    {
      "cell_type": "code",
      "source": [
        "TCS_Model.save('/content/drive/MyDrive/Colab Notebooks/Datasets/Models/TCS_LSTM_Midsem')"
      ],
      "metadata": {
        "colab": {
          "base_uri": "https://localhost:8080/"
        },
        "id": "-lmx8Zg-IHRp",
        "outputId": "a53d2372-1393-4f69-fb37-4400ef031eed"
      },
      "execution_count": null,
      "outputs": [
        {
          "output_type": "stream",
          "name": "stdout",
          "text": [
            "INFO:tensorflow:Assets written to: /content/drive/MyDrive/Colab Notebooks/Datasets/Models/TCS_LSTM_Midsem/assets\n"
          ]
        },
        {
          "output_type": "stream",
          "name": "stderr",
          "text": [
            "WARNING:absl:<keras.layers.recurrent.LSTMCell object at 0x7f5564cbf710> has the same name 'LSTMCell' as a built-in Keras object. Consider renaming <class 'keras.layers.recurrent.LSTMCell'> to avoid naming conflicts when loading with `tf.keras.models.load_model`. If renaming is not possible, pass the object in the `custom_objects` parameter of the load function.\n",
            "WARNING:absl:<keras.layers.recurrent.LSTMCell object at 0x7f5564cb9290> has the same name 'LSTMCell' as a built-in Keras object. Consider renaming <class 'keras.layers.recurrent.LSTMCell'> to avoid naming conflicts when loading with `tf.keras.models.load_model`. If renaming is not possible, pass the object in the `custom_objects` parameter of the load function.\n"
          ]
        }
      ]
    },
    {
      "cell_type": "markdown",
      "metadata": {
        "id": "uaLQ4LjCUggQ"
      },
      "source": [
        "#HDFC"
      ]
    },
    {
      "cell_type": "code",
      "metadata": {
        "colab": {
          "base_uri": "https://localhost:8080/",
          "height": 206
        },
        "id": "KziWOZCLUggS",
        "outputId": "abec3e54-c929-47fe-8469-0d574b5427a1"
      },
      "source": [
        "HDFC.tail()"
      ],
      "execution_count": null,
      "outputs": [
        {
          "output_type": "execute_result",
          "data": {
            "text/html": [
              "\n",
              "  <div id=\"df-32803bd2-2d22-42c7-ae5c-03f993662d9b\">\n",
              "    <div class=\"colab-df-container\">\n",
              "      <div>\n",
              "<style scoped>\n",
              "    .dataframe tbody tr th:only-of-type {\n",
              "        vertical-align: middle;\n",
              "    }\n",
              "\n",
              "    .dataframe tbody tr th {\n",
              "        vertical-align: top;\n",
              "    }\n",
              "\n",
              "    .dataframe thead th {\n",
              "        text-align: right;\n",
              "    }\n",
              "</style>\n",
              "<table border=\"1\" class=\"dataframe\">\n",
              "  <thead>\n",
              "    <tr style=\"text-align: right;\">\n",
              "      <th></th>\n",
              "      <th>ticker</th>\n",
              "      <th>date</th>\n",
              "      <th>open</th>\n",
              "      <th>high</th>\n",
              "      <th>low</th>\n",
              "      <th>close</th>\n",
              "      <th>adj close</th>\n",
              "      <th>volume</th>\n",
              "      <th>Moving Average for 10 days</th>\n",
              "      <th>Moving Average for 20 days</th>\n",
              "      <th>Moving Average for 50 days</th>\n",
              "      <th>Daily Return</th>\n",
              "    </tr>\n",
              "  </thead>\n",
              "  <tbody>\n",
              "    <tr>\n",
              "      <th>692</th>\n",
              "      <td>HDFC.NS</td>\n",
              "      <td>2021-10-25</td>\n",
              "      <td>2905.00</td>\n",
              "      <td>2919.0</td>\n",
              "      <td>2856.25</td>\n",
              "      <td>2896.15</td>\n",
              "      <td>2896.15</td>\n",
              "      <td>3463033.0</td>\n",
              "      <td>2815.240</td>\n",
              "      <td>2783.7400</td>\n",
              "      <td>2772.205</td>\n",
              "      <td>-0.002686</td>\n",
              "    </tr>\n",
              "    <tr>\n",
              "      <th>693</th>\n",
              "      <td>HDFC.NS</td>\n",
              "      <td>2021-10-26</td>\n",
              "      <td>2908.00</td>\n",
              "      <td>2934.0</td>\n",
              "      <td>2896.00</td>\n",
              "      <td>2911.65</td>\n",
              "      <td>2911.65</td>\n",
              "      <td>2429951.0</td>\n",
              "      <td>2831.480</td>\n",
              "      <td>2787.3325</td>\n",
              "      <td>2777.063</td>\n",
              "      <td>0.005352</td>\n",
              "    </tr>\n",
              "    <tr>\n",
              "      <th>694</th>\n",
              "      <td>HDFC.NS</td>\n",
              "      <td>2021-10-27</td>\n",
              "      <td>2920.05</td>\n",
              "      <td>2948.0</td>\n",
              "      <td>2901.40</td>\n",
              "      <td>2915.00</td>\n",
              "      <td>2915.00</td>\n",
              "      <td>3136162.0</td>\n",
              "      <td>2847.470</td>\n",
              "      <td>2792.8350</td>\n",
              "      <td>2781.280</td>\n",
              "      <td>0.001151</td>\n",
              "    </tr>\n",
              "    <tr>\n",
              "      <th>695</th>\n",
              "      <td>HDFC.NS</td>\n",
              "      <td>2021-10-28</td>\n",
              "      <td>2891.00</td>\n",
              "      <td>2924.3</td>\n",
              "      <td>2863.15</td>\n",
              "      <td>2900.80</td>\n",
              "      <td>2900.80</td>\n",
              "      <td>3302501.0</td>\n",
              "      <td>2860.990</td>\n",
              "      <td>2800.5525</td>\n",
              "      <td>2784.673</td>\n",
              "      <td>-0.004871</td>\n",
              "    </tr>\n",
              "    <tr>\n",
              "      <th>696</th>\n",
              "      <td>HDFC.NS</td>\n",
              "      <td>2021-10-29</td>\n",
              "      <td>2891.00</td>\n",
              "      <td>2893.0</td>\n",
              "      <td>2791.20</td>\n",
              "      <td>2844.70</td>\n",
              "      <td>2844.70</td>\n",
              "      <td>3829786.0</td>\n",
              "      <td>2864.585</td>\n",
              "      <td>2805.0725</td>\n",
              "      <td>2786.799</td>\n",
              "      <td>-0.019339</td>\n",
              "    </tr>\n",
              "  </tbody>\n",
              "</table>\n",
              "</div>\n",
              "      <button class=\"colab-df-convert\" onclick=\"convertToInteractive('df-32803bd2-2d22-42c7-ae5c-03f993662d9b')\"\n",
              "              title=\"Convert this dataframe to an interactive table.\"\n",
              "              style=\"display:none;\">\n",
              "        \n",
              "  <svg xmlns=\"http://www.w3.org/2000/svg\" height=\"24px\"viewBox=\"0 0 24 24\"\n",
              "       width=\"24px\">\n",
              "    <path d=\"M0 0h24v24H0V0z\" fill=\"none\"/>\n",
              "    <path d=\"M18.56 5.44l.94 2.06.94-2.06 2.06-.94-2.06-.94-.94-2.06-.94 2.06-2.06.94zm-11 1L8.5 8.5l.94-2.06 2.06-.94-2.06-.94L8.5 2.5l-.94 2.06-2.06.94zm10 10l.94 2.06.94-2.06 2.06-.94-2.06-.94-.94-2.06-.94 2.06-2.06.94z\"/><path d=\"M17.41 7.96l-1.37-1.37c-.4-.4-.92-.59-1.43-.59-.52 0-1.04.2-1.43.59L10.3 9.45l-7.72 7.72c-.78.78-.78 2.05 0 2.83L4 21.41c.39.39.9.59 1.41.59.51 0 1.02-.2 1.41-.59l7.78-7.78 2.81-2.81c.8-.78.8-2.07 0-2.86zM5.41 20L4 18.59l7.72-7.72 1.47 1.35L5.41 20z\"/>\n",
              "  </svg>\n",
              "      </button>\n",
              "      \n",
              "  <style>\n",
              "    .colab-df-container {\n",
              "      display:flex;\n",
              "      flex-wrap:wrap;\n",
              "      gap: 12px;\n",
              "    }\n",
              "\n",
              "    .colab-df-convert {\n",
              "      background-color: #E8F0FE;\n",
              "      border: none;\n",
              "      border-radius: 50%;\n",
              "      cursor: pointer;\n",
              "      display: none;\n",
              "      fill: #1967D2;\n",
              "      height: 32px;\n",
              "      padding: 0 0 0 0;\n",
              "      width: 32px;\n",
              "    }\n",
              "\n",
              "    .colab-df-convert:hover {\n",
              "      background-color: #E2EBFA;\n",
              "      box-shadow: 0px 1px 2px rgba(60, 64, 67, 0.3), 0px 1px 3px 1px rgba(60, 64, 67, 0.15);\n",
              "      fill: #174EA6;\n",
              "    }\n",
              "\n",
              "    [theme=dark] .colab-df-convert {\n",
              "      background-color: #3B4455;\n",
              "      fill: #D2E3FC;\n",
              "    }\n",
              "\n",
              "    [theme=dark] .colab-df-convert:hover {\n",
              "      background-color: #434B5C;\n",
              "      box-shadow: 0px 1px 3px 1px rgba(0, 0, 0, 0.15);\n",
              "      filter: drop-shadow(0px 1px 2px rgba(0, 0, 0, 0.3));\n",
              "      fill: #FFFFFF;\n",
              "    }\n",
              "  </style>\n",
              "\n",
              "      <script>\n",
              "        const buttonEl =\n",
              "          document.querySelector('#df-32803bd2-2d22-42c7-ae5c-03f993662d9b button.colab-df-convert');\n",
              "        buttonEl.style.display =\n",
              "          google.colab.kernel.accessAllowed ? 'block' : 'none';\n",
              "\n",
              "        async function convertToInteractive(key) {\n",
              "          const element = document.querySelector('#df-32803bd2-2d22-42c7-ae5c-03f993662d9b');\n",
              "          const dataTable =\n",
              "            await google.colab.kernel.invokeFunction('convertToInteractive',\n",
              "                                                     [key], {});\n",
              "          if (!dataTable) return;\n",
              "\n",
              "          const docLinkHtml = 'Like what you see? Visit the ' +\n",
              "            '<a target=\"_blank\" href=https://colab.research.google.com/notebooks/data_table.ipynb>data table notebook</a>'\n",
              "            + ' to learn more about interactive tables.';\n",
              "          element.innerHTML = '';\n",
              "          dataTable['output_type'] = 'display_data';\n",
              "          await google.colab.output.renderOutput(dataTable, element);\n",
              "          const docLink = document.createElement('div');\n",
              "          docLink.innerHTML = docLinkHtml;\n",
              "          element.appendChild(docLink);\n",
              "        }\n",
              "      </script>\n",
              "    </div>\n",
              "  </div>\n",
              "  "
            ],
            "text/plain": [
              "      ticker        date  ...  Moving Average for 50 days  Daily Return\n",
              "692  HDFC.NS  2021-10-25  ...                    2772.205     -0.002686\n",
              "693  HDFC.NS  2021-10-26  ...                    2777.063      0.005352\n",
              "694  HDFC.NS  2021-10-27  ...                    2781.280      0.001151\n",
              "695  HDFC.NS  2021-10-28  ...                    2784.673     -0.004871\n",
              "696  HDFC.NS  2021-10-29  ...                    2786.799     -0.019339\n",
              "\n",
              "[5 rows x 12 columns]"
            ]
          },
          "metadata": {},
          "execution_count": 153
        }
      ]
    },
    {
      "cell_type": "code",
      "metadata": {
        "colab": {
          "base_uri": "https://localhost:8080/"
        },
        "id": "tX-a0omoUggT",
        "outputId": "9d902fcf-b60d-4371-a794-711d6bfb87c0"
      },
      "source": [
        "HDFC.info()"
      ],
      "execution_count": null,
      "outputs": [
        {
          "output_type": "stream",
          "name": "stdout",
          "text": [
            "<class 'pandas.core.frame.DataFrame'>\n",
            "RangeIndex: 697 entries, 0 to 696\n",
            "Data columns (total 12 columns):\n",
            " #   Column                      Non-Null Count  Dtype  \n",
            "---  ------                      --------------  -----  \n",
            " 0   ticker                      697 non-null    object \n",
            " 1   date                        697 non-null    object \n",
            " 2   open                        697 non-null    float64\n",
            " 3   high                        697 non-null    float64\n",
            " 4   low                         697 non-null    float64\n",
            " 5   close                       697 non-null    float64\n",
            " 6   adj close                   697 non-null    float64\n",
            " 7   volume                      697 non-null    float64\n",
            " 8   Moving Average for 10 days  688 non-null    float64\n",
            " 9   Moving Average for 20 days  678 non-null    float64\n",
            " 10  Moving Average for 50 days  648 non-null    float64\n",
            " 11  Daily Return                696 non-null    float64\n",
            "dtypes: float64(10), object(2)\n",
            "memory usage: 65.5+ KB\n"
          ]
        }
      ]
    },
    {
      "cell_type": "code",
      "metadata": {
        "id": "98QURM3kUggU"
      },
      "source": [
        "# Change Dtype of date column\n",
        "HDFC[\"date\"] = pd.to_datetime(HDFC[\"date\"])"
      ],
      "execution_count": null,
      "outputs": []
    },
    {
      "cell_type": "markdown",
      "metadata": {
        "id": "Gt3z7HMZUggU"
      },
      "source": [
        "###Split the Data into Training and Test set\n",
        "    Training Period: 2019-01-01 - 2021-08-01\n",
        "\n",
        "    Testing Period:  2021-08-01 - 2021-10-29"
      ]
    },
    {
      "cell_type": "code",
      "metadata": {
        "id": "mPYTOsbGQpPx"
      },
      "source": [
        "HDFC_date = '2021-08-01'\n",
        "HDFC_Train_X, HDFC_Train_Y, HDFC_Test_X, HDFC_Test_Y = Dataset(HDFC,'adj close', 'date', HDFC_date)\n",
        "HDFC_Train_SMA_X, HDFC_Train_SMA_Y, HDFC_Test_SMA_X, HDFC_Test_SMA_Y = Dataset(HDFC_SMA_sub,'SMA', 'time', HDFC_date)\n",
        "HDFC_Train_EMA_X, HDFC_Train_EMA_Y, HDFC_Test_EMA_X, HDFC_Test_EMA_Y = Dataset(HDFC_EMA_sub,'EMA', 'time', HDFC_date)"
      ],
      "execution_count": null,
      "outputs": []
    },
    {
      "cell_type": "code",
      "metadata": {
        "colab": {
          "base_uri": "https://localhost:8080/"
        },
        "outputId": "595b359d-8786-4e5d-dbf5-21345c95c93a",
        "id": "D3E5eRRiQpPz"
      },
      "source": [
        "HDFC_Train_X.shape, HDFC_Train_Y.shape, HDFC_Test_X.shape, HDFC_Test_Y.shape"
      ],
      "execution_count": null,
      "outputs": [
        {
          "output_type": "execute_result",
          "data": {
            "text/plain": [
              "((126, 5, 1), (126, 5, 1), (11, 5, 1), (11, 5, 1))"
            ]
          },
          "metadata": {},
          "execution_count": 157
        }
      ]
    },
    {
      "cell_type": "code",
      "source": [
        "HDFC['adj close'].head(20)"
      ],
      "metadata": {
        "colab": {
          "base_uri": "https://localhost:8080/"
        },
        "outputId": "8d14969b-608b-481d-a2c3-4f100876d92a",
        "id": "BR4RsKKZQpP0"
      },
      "execution_count": null,
      "outputs": [
        {
          "output_type": "execute_result",
          "data": {
            "text/plain": [
              "0     1914.72\n",
              "1     1887.70\n",
              "2     1845.95\n",
              "3     1880.02\n",
              "4     1880.31\n",
              "5     1867.01\n",
              "6     1901.32\n",
              "7     1887.17\n",
              "8     1897.94\n",
              "9     1876.78\n",
              "10    1898.66\n",
              "11    1882.31\n",
              "12    1910.47\n",
              "13    1912.67\n",
              "14    1910.38\n",
              "15    1886.50\n",
              "16    1866.35\n",
              "17    1878.59\n",
              "18    1884.98\n",
              "19    1855.53\n",
              "Name: adj close, dtype: float64"
            ]
          },
          "metadata": {},
          "execution_count": 158
        }
      ]
    },
    {
      "cell_type": "code",
      "source": [
        "HDFC_Train_X[0], HDFC_Train_Y[0]"
      ],
      "metadata": {
        "colab": {
          "base_uri": "https://localhost:8080/"
        },
        "outputId": "853b1550-f8d8-4ab8-ef54-c18d9d6276b4",
        "id": "pf4pkcBVQpP0"
      },
      "execution_count": null,
      "outputs": [
        {
          "output_type": "execute_result",
          "data": {
            "text/plain": [
              "(array([[1914.72],\n",
              "        [1887.7 ],\n",
              "        [1845.95],\n",
              "        [1880.02],\n",
              "        [1880.31]]), array([[1867.01],\n",
              "        [1901.32],\n",
              "        [1887.17],\n",
              "        [1897.94],\n",
              "        [1876.78]]))"
            ]
          },
          "metadata": {},
          "execution_count": 159
        }
      ]
    },
    {
      "cell_type": "code",
      "source": [
        "HDFC_Train_X[1], HDFC_Train_Y[1]"
      ],
      "metadata": {
        "colab": {
          "base_uri": "https://localhost:8080/"
        },
        "outputId": "99b35ce6-7170-4c44-eec0-7aeac214d3e8",
        "id": "Djm-G8cnQpP1"
      },
      "execution_count": null,
      "outputs": [
        {
          "output_type": "execute_result",
          "data": {
            "text/plain": [
              "(array([[1867.01],\n",
              "        [1901.32],\n",
              "        [1887.17],\n",
              "        [1897.94],\n",
              "        [1876.78]]), array([[1898.66],\n",
              "        [1882.31],\n",
              "        [1910.47],\n",
              "        [1912.67],\n",
              "        [1910.38]]))"
            ]
          },
          "metadata": {},
          "execution_count": 160
        }
      ]
    },
    {
      "cell_type": "code",
      "source": [
        "HDFC_Train_SMA_X.shape, HDFC_Train_SMA_Y.shape, HDFC_Test_SMA_X.shape, HDFC_Test_SMA_X.shape"
      ],
      "metadata": {
        "colab": {
          "base_uri": "https://localhost:8080/"
        },
        "outputId": "f9fcb2ad-37db-4466-bfe4-a4b9ccb78559",
        "id": "nTrMGTmOQpP1"
      },
      "execution_count": null,
      "outputs": [
        {
          "output_type": "execute_result",
          "data": {
            "text/plain": [
              "((126, 5, 1), (126, 5, 1), (11, 5, 1), (11, 5, 1))"
            ]
          },
          "metadata": {},
          "execution_count": 161
        }
      ]
    },
    {
      "cell_type": "code",
      "source": [
        "HDFC_Train_EMA_X.shape, HDFC_Train_EMA_Y.shape, HDFC_Test_EMA_X.shape, HDFC_Test_EMA_X.shape"
      ],
      "metadata": {
        "colab": {
          "base_uri": "https://localhost:8080/"
        },
        "outputId": "dec5778e-2dc5-4158-925f-eafbcb3e39ca",
        "id": "C7Zwqcr6QpP1"
      },
      "execution_count": null,
      "outputs": [
        {
          "output_type": "execute_result",
          "data": {
            "text/plain": [
              "((126, 5, 1), (126, 5, 1), (11, 5, 1), (11, 5, 1))"
            ]
          },
          "metadata": {},
          "execution_count": 162
        }
      ]
    },
    {
      "cell_type": "code",
      "source": [
        "HDFC_Train_X[0], HDFC_Train_SMA_X[0]"
      ],
      "metadata": {
        "colab": {
          "base_uri": "https://localhost:8080/"
        },
        "outputId": "c483a981-4f2d-439f-ebc9-f74bc6098b33",
        "id": "iGQpOYCjQpP1"
      },
      "execution_count": null,
      "outputs": [
        {
          "output_type": "execute_result",
          "data": {
            "text/plain": [
              "(array([[1914.72],\n",
              "        [1887.7 ],\n",
              "        [1845.95],\n",
              "        [1880.02],\n",
              "        [1880.31]]), array([[1902.8489],\n",
              "        [1905.3586],\n",
              "        [1901.2421],\n",
              "        [1900.747 ],\n",
              "        [1902.8392]]))"
            ]
          },
          "metadata": {},
          "execution_count": 163
        }
      ]
    },
    {
      "cell_type": "code",
      "source": [
        "HDFC_Final_Train_X = np.concatenate((HDFC_Train_X, HDFC_Train_SMA_X, HDFC_Train_EMA_X), axis=2)\n",
        "HDFC_Final_Test_X = np.concatenate((HDFC_Test_X, HDFC_Test_SMA_X, HDFC_Test_EMA_X), axis=2)"
      ],
      "metadata": {
        "id": "_tou0RXuQpP1"
      },
      "execution_count": null,
      "outputs": []
    },
    {
      "cell_type": "code",
      "source": [
        "HDFC_Final_Train_X.shape, HDFC_Train_Y.shape, HDFC_Final_Test_X.shape, HDFC_Test_Y.shape"
      ],
      "metadata": {
        "colab": {
          "base_uri": "https://localhost:8080/"
        },
        "outputId": "b4e6eecb-39e2-4dea-f387-8415792af521",
        "id": "dsRvQwRFQpP2"
      },
      "execution_count": null,
      "outputs": [
        {
          "output_type": "execute_result",
          "data": {
            "text/plain": [
              "((126, 5, 3), (126, 5, 1), (11, 5, 3), (11, 5, 1))"
            ]
          },
          "metadata": {},
          "execution_count": 165
        }
      ]
    },
    {
      "cell_type": "code",
      "metadata": {
        "colab": {
          "base_uri": "https://localhost:8080/"
        },
        "id": "mkdMVNE9UggV",
        "outputId": "d05d3c2b-79e3-4b40-c27c-9c1b167992f7"
      },
      "source": [
        "HDFC_Train_X.shape, HDFC_Train_Y.shape, HDFC_Test_X.shape, HDFC_Test_Y.shape"
      ],
      "execution_count": null,
      "outputs": [
        {
          "output_type": "execute_result",
          "data": {
            "text/plain": [
              "((126, 5, 1), (126, 5, 1), (11, 5, 1), (11, 5, 1))"
            ]
          },
          "metadata": {},
          "execution_count": 166
        }
      ]
    },
    {
      "cell_type": "markdown",
      "metadata": {
        "id": "gXpIgfvARHzG"
      },
      "source": [
        "### Model Fitting"
      ]
    },
    {
      "cell_type": "code",
      "metadata": {
        "id": "GAZHrmKBRHzW"
      },
      "source": [
        "HDFC_Model = Model()"
      ],
      "execution_count": null,
      "outputs": []
    },
    {
      "cell_type": "code",
      "metadata": {
        "id": "NMO3hRw-RHzX"
      },
      "source": [
        "HDFC_Model.compile(optimizer = tf.keras.optimizers.Adam(learning_rate=lr_schedule), loss = 'mse', metrics = tf.keras.metrics.RootMeanSquaredError())"
      ],
      "execution_count": null,
      "outputs": []
    },
    {
      "cell_type": "code",
      "metadata": {
        "colab": {
          "base_uri": "https://localhost:8080/"
        },
        "outputId": "9c9ce417-9cf1-40cd-9818-c74fff5ad622",
        "id": "OIjFsGs6RHzX"
      },
      "source": [
        "HDFC_hist = HDFC_Model.fit(HDFC_Final_Train_X, HDFC_Train_Y, epochs = 10000, validation_data = (HDFC_Final_Test_X, HDFC_Test_Y), callbacks=[callback])"
      ],
      "execution_count": null,
      "outputs": [
        {
          "output_type": "stream",
          "name": "stdout",
          "text": [
            "Epoch 1/10000\n",
            "4/4 [==============================] - 3s 166ms/step - loss: 4694528.5000 - root_mean_squared_error: 2166.6860 - val_loss: 1922814.5000 - val_root_mean_squared_error: 1386.6559\n",
            "Epoch 2/10000\n",
            "4/4 [==============================] - 0s 44ms/step - loss: 1320728.3750 - root_mean_squared_error: 1149.2294 - val_loss: 1061844.1250 - val_root_mean_squared_error: 1030.4583\n",
            "Epoch 3/10000\n",
            "4/4 [==============================] - 0s 42ms/step - loss: 421455.3125 - root_mean_squared_error: 649.1959 - val_loss: 221039.2344 - val_root_mean_squared_error: 470.1481\n",
            "Epoch 4/10000\n",
            "4/4 [==============================] - 0s 42ms/step - loss: 172795.5469 - root_mean_squared_error: 415.6868 - val_loss: 209913.6875 - val_root_mean_squared_error: 458.1634\n",
            "Epoch 5/10000\n",
            "4/4 [==============================] - 0s 45ms/step - loss: 128626.1953 - root_mean_squared_error: 358.6450 - val_loss: 450393.5000 - val_root_mean_squared_error: 671.1136\n",
            "Epoch 6/10000\n",
            "4/4 [==============================] - 0s 43ms/step - loss: 161864.9688 - root_mean_squared_error: 402.3244 - val_loss: 113826.6562 - val_root_mean_squared_error: 337.3821\n",
            "Epoch 7/10000\n",
            "4/4 [==============================] - 0s 43ms/step - loss: 79568.2812 - root_mean_squared_error: 282.0785 - val_loss: 95950.4297 - val_root_mean_squared_error: 309.7586\n",
            "Epoch 8/10000\n",
            "4/4 [==============================] - 0s 46ms/step - loss: 40730.2695 - root_mean_squared_error: 201.8174 - val_loss: 42485.0352 - val_root_mean_squared_error: 206.1190\n",
            "Epoch 9/10000\n",
            "4/4 [==============================] - 0s 43ms/step - loss: 28705.4004 - root_mean_squared_error: 169.4267 - val_loss: 25057.0645 - val_root_mean_squared_error: 158.2942\n",
            "Epoch 10/10000\n",
            "4/4 [==============================] - 0s 43ms/step - loss: 25192.4531 - root_mean_squared_error: 158.7213 - val_loss: 8527.0195 - val_root_mean_squared_error: 92.3419\n",
            "Epoch 11/10000\n",
            "4/4 [==============================] - 0s 40ms/step - loss: 20510.3418 - root_mean_squared_error: 143.2143 - val_loss: 39157.0273 - val_root_mean_squared_error: 197.8813\n",
            "Epoch 12/10000\n",
            "4/4 [==============================] - 0s 45ms/step - loss: 20140.7188 - root_mean_squared_error: 141.9180 - val_loss: 19659.3066 - val_root_mean_squared_error: 140.2117\n",
            "Epoch 13/10000\n",
            "4/4 [==============================] - 0s 42ms/step - loss: 17781.1230 - root_mean_squared_error: 133.3459 - val_loss: 7755.3657 - val_root_mean_squared_error: 88.0646\n",
            "Epoch 14/10000\n",
            "4/4 [==============================] - 0s 46ms/step - loss: 13135.2266 - root_mean_squared_error: 114.6090 - val_loss: 12683.8662 - val_root_mean_squared_error: 112.6227\n",
            "Epoch 15/10000\n",
            "4/4 [==============================] - 0s 42ms/step - loss: 13010.1035 - root_mean_squared_error: 114.0618 - val_loss: 10159.8486 - val_root_mean_squared_error: 100.7961\n",
            "Epoch 16/10000\n",
            "4/4 [==============================] - 0s 44ms/step - loss: 12837.3594 - root_mean_squared_error: 113.3021 - val_loss: 9067.5967 - val_root_mean_squared_error: 95.2239\n",
            "Epoch 17/10000\n",
            "4/4 [==============================] - 0s 42ms/step - loss: 11975.4961 - root_mean_squared_error: 109.4326 - val_loss: 33596.6719 - val_root_mean_squared_error: 183.2939\n",
            "Epoch 18/10000\n",
            "4/4 [==============================] - 0s 43ms/step - loss: 16258.5596 - root_mean_squared_error: 127.5091 - val_loss: 30125.2793 - val_root_mean_squared_error: 173.5664\n",
            "Epoch 19/10000\n",
            "4/4 [==============================] - 0s 46ms/step - loss: 17680.4199 - root_mean_squared_error: 132.9677 - val_loss: 9596.0996 - val_root_mean_squared_error: 97.9597\n",
            "Epoch 20/10000\n",
            "4/4 [==============================] - 0s 48ms/step - loss: 16843.7402 - root_mean_squared_error: 129.7834 - val_loss: 5573.2124 - val_root_mean_squared_error: 74.6539\n",
            "Epoch 21/10000\n",
            "4/4 [==============================] - 0s 42ms/step - loss: 21493.3203 - root_mean_squared_error: 146.6060 - val_loss: 14065.2432 - val_root_mean_squared_error: 118.5970\n",
            "Epoch 22/10000\n",
            "4/4 [==============================] - 0s 43ms/step - loss: 20489.6289 - root_mean_squared_error: 143.1420 - val_loss: 28474.4570 - val_root_mean_squared_error: 168.7438\n",
            "Epoch 23/10000\n",
            "4/4 [==============================] - 0s 43ms/step - loss: 19682.2734 - root_mean_squared_error: 140.2935 - val_loss: 40785.1602 - val_root_mean_squared_error: 201.9534\n",
            "Epoch 24/10000\n",
            "4/4 [==============================] - 0s 47ms/step - loss: 20399.7305 - root_mean_squared_error: 142.8276 - val_loss: 62203.0664 - val_root_mean_squared_error: 249.4054\n",
            "Epoch 25/10000\n",
            "4/4 [==============================] - 0s 44ms/step - loss: 23812.1133 - root_mean_squared_error: 154.3118 - val_loss: 45596.3750 - val_root_mean_squared_error: 213.5331\n",
            "Epoch 26/10000\n",
            "4/4 [==============================] - 0s 47ms/step - loss: 19756.5840 - root_mean_squared_error: 140.5581 - val_loss: 35236.4336 - val_root_mean_squared_error: 187.7137\n",
            "Epoch 27/10000\n",
            "4/4 [==============================] - 0s 43ms/step - loss: 17033.4629 - root_mean_squared_error: 130.5123 - val_loss: 10566.1436 - val_root_mean_squared_error: 102.7917\n",
            "Epoch 28/10000\n",
            "4/4 [==============================] - 0s 49ms/step - loss: 15531.3350 - root_mean_squared_error: 124.6248 - val_loss: 7125.4844 - val_root_mean_squared_error: 84.4126\n",
            "Epoch 29/10000\n",
            "4/4 [==============================] - 0s 45ms/step - loss: 15709.7793 - root_mean_squared_error: 125.3387 - val_loss: 8710.4375 - val_root_mean_squared_error: 93.3297\n",
            "Epoch 30/10000\n",
            "4/4 [==============================] - 0s 44ms/step - loss: 13954.9639 - root_mean_squared_error: 118.1311 - val_loss: 7820.2427 - val_root_mean_squared_error: 88.4321\n"
          ]
        }
      ]
    },
    {
      "cell_type": "code",
      "metadata": {
        "id": "4Cq5f1MYRHzY"
      },
      "source": [
        "history_dict = HDFC_hist.history\n",
        "\n",
        "loss = history_dict[\"loss\"]\n",
        "root_mean_squared_error = history_dict[\"root_mean_squared_error\"]\n",
        "val_loss = history_dict[\"val_loss\"]\n",
        "val_root_mean_squared_error = history_dict[\"val_root_mean_squared_error\"]\n",
        "\n",
        "epochs = range(1, len(loss) + 1)"
      ],
      "execution_count": null,
      "outputs": []
    },
    {
      "cell_type": "code",
      "metadata": {
        "colab": {
          "base_uri": "https://localhost:8080/",
          "height": 345
        },
        "outputId": "de2fba6d-fc8c-4f47-e000-4a8e21c8964c",
        "id": "yH2jvwgvRHzY"
      },
      "source": [
        "fig, (ax1, ax2) = plt.subplots(1, 2)\n",
        "\n",
        "fig.set_figheight(5)\n",
        "fig.set_figwidth(15)\n",
        "\n",
        "ax1.plot(epochs, loss, label = 'Training Loss')\n",
        "ax1.plot(epochs, val_loss, label = 'Validation Loss')\n",
        "ax1.set(xlabel = \"Epochs\", ylabel = \"Loss\")\n",
        "ax1.legend()\n",
        "\n",
        "ax2.plot(epochs, root_mean_squared_error, label = \"Training Root Mean Squared Error\")\n",
        "ax2.plot(epochs, val_root_mean_squared_error, label = \"Validation Root Mean Squared Error\")\n",
        "ax2.set(xlabel = \"Epochs\", ylabel = \"Loss\")\n",
        "ax2.legend()\n",
        "\n",
        "plt.show()"
      ],
      "execution_count": null,
      "outputs": [
        {
          "output_type": "display_data",
          "data": {
            "image/png": "[encoded data removed]",
            "text/plain": [
              "<Figure size 1080x360 with 2 Axes>"
            ]
          },
          "metadata": {
            "needs_background": "light"
          }
        }
      ]
    },
    {
      "cell_type": "markdown",
      "metadata": {
        "id": "2MDxWPXCRHzZ"
      },
      "source": [
        "### Predicting the closing stock price of HDFC"
      ]
    },
    {
      "cell_type": "code",
      "metadata": {
        "id": "YIW_F1mWRHzZ"
      },
      "source": [
        "HDFC_prediction = HDFC_Model.predict(HDFC_Final_Test_X)"
      ],
      "execution_count": null,
      "outputs": []
    },
    {
      "cell_type": "code",
      "metadata": {
        "colab": {
          "base_uri": "https://localhost:8080/",
          "height": 352
        },
        "outputId": "5a42f862-4a2f-49c0-a95f-d1c5f71db11d",
        "id": "h6GREvsCRHzZ"
      },
      "source": [
        "plt.figure(figsize=(20, 5))\n",
        "plt.plot(HDFC['date'][HDFC['date'] < '2021-08-01'], HDFC['adj close'][HDFC['date'] < '2021-08-01'], label = 'Training')\n",
        "plt.plot(HDFC['date'][HDFC['date'] >= '2021-08-01'], HDFC['adj close'][HDFC['date'] >= '2021-08-01'], label = 'Testing')\n",
        "plt.plot(HDFC['date'][HDFC['date'] >= '2021-08-01'][:-7], HDFC_prediction.reshape(-1), label = 'Predictions')\n",
        "plt.xlabel('Time')\n",
        "plt.ylabel('Closing Price')\n",
        "plt.legend(loc = 'best')"
      ],
      "execution_count": null,
      "outputs": [
        {
          "output_type": "execute_result",
          "data": {
            "text/plain": [
              "<matplotlib.legend.Legend at 0x7f91652c0f10>"
            ]
          },
          "metadata": {},
          "execution_count": 173
        },
        {
          "output_type": "display_data",
          "data": {
            "image/png": "[encoded data removed]",
            "text/plain": [
              "<Figure size 1440x360 with 1 Axes>"
            ]
          },
          "metadata": {
            "needs_background": "light"
          }
        }
      ]
    },
    {
      "cell_type": "code",
      "metadata": {
        "colab": {
          "base_uri": "https://localhost:8080/"
        },
        "outputId": "d1c3605b-4bf5-47cd-869d-2b97102b4fcc",
        "id": "8fGq3f-bRHza"
      },
      "source": [
        "rmse = math.sqrt(mean_squared_error(HDFC_Test_Y.reshape(-1, 5), HDFC_prediction))\n",
        "mape = np.mean(np.abs(HDFC_prediction - HDFC_Test_Y.reshape(-1, 5))/np.abs(HDFC_Test_Y.reshape(-1, 5)))\n",
        "print(f'RMSE: {rmse}')\n",
        "print(f'MAPE: {mape}')"
      ],
      "execution_count": null,
      "outputs": [
        {
          "output_type": "stream",
          "name": "stdout",
          "text": [
            "RMSE: 74.65395774785729\n",
            "MAPE: 0.022677676517898853\n"
          ]
        }
      ]
    },
    {
      "cell_type": "code",
      "source": [
        "HDFC_Model.save('/content/drive/MyDrive/Colab Notebooks/Datasets/Models/HDFC_LSTM_Midsem')"
      ],
      "metadata": {
        "colab": {
          "base_uri": "https://localhost:8080/"
        },
        "id": "tNJJmqORUOTA",
        "outputId": "23829e3a-29c6-4fe9-d4fa-a835bb4a3496"
      },
      "execution_count": null,
      "outputs": [
        {
          "output_type": "stream",
          "name": "stdout",
          "text": [
            "INFO:tensorflow:Assets written to: /content/drive/MyDrive/Colab Notebooks/Datasets/Models/HDFC_LSTM_Midsem/assets\n"
          ]
        },
        {
          "output_type": "stream",
          "name": "stderr",
          "text": [
            "INFO:tensorflow:Assets written to: /content/drive/MyDrive/Colab Notebooks/Datasets/Models/HDFC_LSTM_Midsem/assets\n",
            "WARNING:absl:<keras.layers.recurrent.LSTMCell object at 0x7f91666ed8d0> has the same name 'LSTMCell' as a built-in Keras object. Consider renaming <class 'keras.layers.recurrent.LSTMCell'> to avoid naming conflicts when loading with `tf.keras.models.load_model`. If renaming is not possible, pass the object in the `custom_objects` parameter of the load function.\n",
            "WARNING:absl:<keras.layers.recurrent.LSTMCell object at 0x7f9164b4f510> has the same name 'LSTMCell' as a built-in Keras object. Consider renaming <class 'keras.layers.recurrent.LSTMCell'> to avoid naming conflicts when loading with `tf.keras.models.load_model`. If renaming is not possible, pass the object in the `custom_objects` parameter of the load function.\n"
          ]
        }
      ]
    },
    {
      "cell_type": "markdown",
      "metadata": {
        "id": "shXnh-KgU02-"
      },
      "source": [
        "#HUL"
      ]
    },
    {
      "cell_type": "code",
      "metadata": {
        "colab": {
          "base_uri": "https://localhost:8080/",
          "height": 250
        },
        "id": "VWwlCmgMU02-",
        "outputId": "e0eebc5e-0fff-471a-f3c3-747d17e125d3"
      },
      "source": [
        "HUL.tail()"
      ],
      "execution_count": null,
      "outputs": [
        {
          "output_type": "execute_result",
          "data": {
            "text/html": [
              "\n",
              "  <div id=\"df-37273dfa-3fd3-4906-a44c-3b2400bf0ed8\">\n",
              "    <div class=\"colab-df-container\">\n",
              "      <div>\n",
              "<style scoped>\n",
              "    .dataframe tbody tr th:only-of-type {\n",
              "        vertical-align: middle;\n",
              "    }\n",
              "\n",
              "    .dataframe tbody tr th {\n",
              "        vertical-align: top;\n",
              "    }\n",
              "\n",
              "    .dataframe thead th {\n",
              "        text-align: right;\n",
              "    }\n",
              "</style>\n",
              "<table border=\"1\" class=\"dataframe\">\n",
              "  <thead>\n",
              "    <tr style=\"text-align: right;\">\n",
              "      <th></th>\n",
              "      <th>ticker</th>\n",
              "      <th>date</th>\n",
              "      <th>open</th>\n",
              "      <th>high</th>\n",
              "      <th>low</th>\n",
              "      <th>close</th>\n",
              "      <th>adj close</th>\n",
              "      <th>volume</th>\n",
              "      <th>Moving Average for 10 days</th>\n",
              "      <th>Moving Average for 20 days</th>\n",
              "      <th>Moving Average for 50 days</th>\n",
              "      <th>Daily Return</th>\n",
              "    </tr>\n",
              "  </thead>\n",
              "  <tbody>\n",
              "    <tr>\n",
              "      <th>692</th>\n",
              "      <td>HINDUNILVR.NS</td>\n",
              "      <td>2021-10-25</td>\n",
              "      <td>2454.1</td>\n",
              "      <td>2463.55</td>\n",
              "      <td>2410.00</td>\n",
              "      <td>2455.85</td>\n",
              "      <td>2455.85</td>\n",
              "      <td>1560090.0</td>\n",
              "      <td>2565.270</td>\n",
              "      <td>2628.3775</td>\n",
              "      <td>2665.198</td>\n",
              "      <td>0.000713</td>\n",
              "    </tr>\n",
              "    <tr>\n",
              "      <th>693</th>\n",
              "      <td>HINDUNILVR.NS</td>\n",
              "      <td>2021-10-26</td>\n",
              "      <td>2468.9</td>\n",
              "      <td>2468.90</td>\n",
              "      <td>2417.05</td>\n",
              "      <td>2436.85</td>\n",
              "      <td>2436.85</td>\n",
              "      <td>1594662.0</td>\n",
              "      <td>2544.445</td>\n",
              "      <td>2614.7450</td>\n",
              "      <td>2666.089</td>\n",
              "      <td>-0.007737</td>\n",
              "    </tr>\n",
              "    <tr>\n",
              "      <th>694</th>\n",
              "      <td>HINDUNILVR.NS</td>\n",
              "      <td>2021-10-27</td>\n",
              "      <td>2455.0</td>\n",
              "      <td>2455.20</td>\n",
              "      <td>2391.15</td>\n",
              "      <td>2396.60</td>\n",
              "      <td>2396.60</td>\n",
              "      <td>3082296.0</td>\n",
              "      <td>2516.490</td>\n",
              "      <td>2598.3825</td>\n",
              "      <td>2665.931</td>\n",
              "      <td>-0.016517</td>\n",
              "    </tr>\n",
              "    <tr>\n",
              "      <th>695</th>\n",
              "      <td>HINDUNILVR.NS</td>\n",
              "      <td>2021-10-28</td>\n",
              "      <td>2400.0</td>\n",
              "      <td>2416.00</td>\n",
              "      <td>2368.00</td>\n",
              "      <td>2389.65</td>\n",
              "      <td>2389.65</td>\n",
              "      <td>2014755.0</td>\n",
              "      <td>2490.780</td>\n",
              "      <td>2583.6000</td>\n",
              "      <td>2665.196</td>\n",
              "      <td>-0.002900</td>\n",
              "    </tr>\n",
              "    <tr>\n",
              "      <th>696</th>\n",
              "      <td>HINDUNILVR.NS</td>\n",
              "      <td>2021-10-29</td>\n",
              "      <td>2400.0</td>\n",
              "      <td>2400.00</td>\n",
              "      <td>2376.00</td>\n",
              "      <td>2383.60</td>\n",
              "      <td>2383.60</td>\n",
              "      <td>847292.0</td>\n",
              "      <td>2464.185</td>\n",
              "      <td>2567.6900</td>\n",
              "      <td>2663.192</td>\n",
              "      <td>-0.002532</td>\n",
              "    </tr>\n",
              "  </tbody>\n",
              "</table>\n",
              "</div>\n",
              "      <button class=\"colab-df-convert\" onclick=\"convertToInteractive('df-37273dfa-3fd3-4906-a44c-3b2400bf0ed8')\"\n",
              "              title=\"Convert this dataframe to an interactive table.\"\n",
              "              style=\"display:none;\">\n",
              "        \n",
              "  <svg xmlns=\"http://www.w3.org/2000/svg\" height=\"24px\"viewBox=\"0 0 24 24\"\n",
              "       width=\"24px\">\n",
              "    <path d=\"M0 0h24v24H0V0z\" fill=\"none\"/>\n",
              "    <path d=\"M18.56 5.44l.94 2.06.94-2.06 2.06-.94-2.06-.94-.94-2.06-.94 2.06-2.06.94zm-11 1L8.5 8.5l.94-2.06 2.06-.94-2.06-.94L8.5 2.5l-.94 2.06-2.06.94zm10 10l.94 2.06.94-2.06 2.06-.94-2.06-.94-.94-2.06-.94 2.06-2.06.94z\"/><path d=\"M17.41 7.96l-1.37-1.37c-.4-.4-.92-.59-1.43-.59-.52 0-1.04.2-1.43.59L10.3 9.45l-7.72 7.72c-.78.78-.78 2.05 0 2.83L4 21.41c.39.39.9.59 1.41.59.51 0 1.02-.2 1.41-.59l7.78-7.78 2.81-2.81c.8-.78.8-2.07 0-2.86zM5.41 20L4 18.59l7.72-7.72 1.47 1.35L5.41 20z\"/>\n",
              "  </svg>\n",
              "      </button>\n",
              "      \n",
              "  <style>\n",
              "    .colab-df-container {\n",
              "      display:flex;\n",
              "      flex-wrap:wrap;\n",
              "      gap: 12px;\n",
              "    }\n",
              "\n",
              "    .colab-df-convert {\n",
              "      background-color: #E8F0FE;\n",
              "      border: none;\n",
              "      border-radius: 50%;\n",
              "      cursor: pointer;\n",
              "      display: none;\n",
              "      fill: #1967D2;\n",
              "      height: 32px;\n",
              "      padding: 0 0 0 0;\n",
              "      width: 32px;\n",
              "    }\n",
              "\n",
              "    .colab-df-convert:hover {\n",
              "      background-color: #E2EBFA;\n",
              "      box-shadow: 0px 1px 2px rgba(60, 64, 67, 0.3), 0px 1px 3px 1px rgba(60, 64, 67, 0.15);\n",
              "      fill: #174EA6;\n",
              "    }\n",
              "\n",
              "    [theme=dark] .colab-df-convert {\n",
              "      background-color: #3B4455;\n",
              "      fill: #D2E3FC;\n",
              "    }\n",
              "\n",
              "    [theme=dark] .colab-df-convert:hover {\n",
              "      background-color: #434B5C;\n",
              "      box-shadow: 0px 1px 3px 1px rgba(0, 0, 0, 0.15);\n",
              "      filter: drop-shadow(0px 1px 2px rgba(0, 0, 0, 0.3));\n",
              "      fill: #FFFFFF;\n",
              "    }\n",
              "  </style>\n",
              "\n",
              "      <script>\n",
              "        const buttonEl =\n",
              "          document.querySelector('#df-37273dfa-3fd3-4906-a44c-3b2400bf0ed8 button.colab-df-convert');\n",
              "        buttonEl.style.display =\n",
              "          google.colab.kernel.accessAllowed ? 'block' : 'none';\n",
              "\n",
              "        async function convertToInteractive(key) {\n",
              "          const element = document.querySelector('#df-37273dfa-3fd3-4906-a44c-3b2400bf0ed8');\n",
              "          const dataTable =\n",
              "            await google.colab.kernel.invokeFunction('convertToInteractive',\n",
              "                                                     [key], {});\n",
              "          if (!dataTable) return;\n",
              "\n",
              "          const docLinkHtml = 'Like what you see? Visit the ' +\n",
              "            '<a target=\"_blank\" href=https://colab.research.google.com/notebooks/data_table.ipynb>data table notebook</a>'\n",
              "            + ' to learn more about interactive tables.';\n",
              "          element.innerHTML = '';\n",
              "          dataTable['output_type'] = 'display_data';\n",
              "          await google.colab.output.renderOutput(dataTable, element);\n",
              "          const docLink = document.createElement('div');\n",
              "          docLink.innerHTML = docLinkHtml;\n",
              "          element.appendChild(docLink);\n",
              "        }\n",
              "      </script>\n",
              "    </div>\n",
              "  </div>\n",
              "  "
            ],
            "text/plain": [
              "            ticker        date  ...  Moving Average for 50 days  Daily Return\n",
              "692  HINDUNILVR.NS  2021-10-25  ...                    2665.198      0.000713\n",
              "693  HINDUNILVR.NS  2021-10-26  ...                    2666.089     -0.007737\n",
              "694  HINDUNILVR.NS  2021-10-27  ...                    2665.931     -0.016517\n",
              "695  HINDUNILVR.NS  2021-10-28  ...                    2665.196     -0.002900\n",
              "696  HINDUNILVR.NS  2021-10-29  ...                    2663.192     -0.002532\n",
              "\n",
              "[5 rows x 12 columns]"
            ]
          },
          "metadata": {},
          "execution_count": 176
        }
      ]
    },
    {
      "cell_type": "code",
      "metadata": {
        "colab": {
          "base_uri": "https://localhost:8080/"
        },
        "id": "GQsJJxMCU02_",
        "outputId": "9420c041-10d1-4202-9637-1e97d2d38ed1"
      },
      "source": [
        "HUL.info()"
      ],
      "execution_count": null,
      "outputs": [
        {
          "output_type": "stream",
          "name": "stdout",
          "text": [
            "<class 'pandas.core.frame.DataFrame'>\n",
            "RangeIndex: 697 entries, 0 to 696\n",
            "Data columns (total 12 columns):\n",
            " #   Column                      Non-Null Count  Dtype  \n",
            "---  ------                      --------------  -----  \n",
            " 0   ticker                      697 non-null    object \n",
            " 1   date                        697 non-null    object \n",
            " 2   open                        697 non-null    float64\n",
            " 3   high                        697 non-null    float64\n",
            " 4   low                         697 non-null    float64\n",
            " 5   close                       697 non-null    float64\n",
            " 6   adj close                   697 non-null    float64\n",
            " 7   volume                      697 non-null    float64\n",
            " 8   Moving Average for 10 days  688 non-null    float64\n",
            " 9   Moving Average for 20 days  678 non-null    float64\n",
            " 10  Moving Average for 50 days  648 non-null    float64\n",
            " 11  Daily Return                696 non-null    float64\n",
            "dtypes: float64(10), object(2)\n",
            "memory usage: 65.5+ KB\n"
          ]
        }
      ]
    },
    {
      "cell_type": "code",
      "metadata": {
        "id": "Twbu9zr3U02_"
      },
      "source": [
        "# Change Dtype of date column\n",
        "HUL[\"date\"] = pd.to_datetime(HUL[\"date\"])"
      ],
      "execution_count": null,
      "outputs": []
    },
    {
      "cell_type": "markdown",
      "metadata": {
        "id": "2jFoA966U02_"
      },
      "source": [
        "###Split the Data into Training and Test set\n",
        "    Training Period: 2019-01-01 - 2021-08-01\n",
        "\n",
        "    Testing Period:  2021-08-01 - 2021-10-29"
      ]
    },
    {
      "cell_type": "code",
      "metadata": {
        "id": "gC65c66wSNJj"
      },
      "source": [
        "HUL_date = '2021-08-01'\n",
        "HUL_Train_X, HUL_Train_Y, HUL_Test_X, HUL_Test_Y = Dataset(HUL,'adj close', 'date', HUL_date)\n",
        "HUL_Train_SMA_X, HUL_Train_SMA_Y, HUL_Test_SMA_X, HUL_Test_SMA_Y = Dataset(HUL_SMA_sub,'SMA', 'time', HUL_date)\n",
        "HUL_Train_EMA_X, HUL_Train_EMA_Y, HUL_Test_EMA_X, HUL_Test_EMA_Y = Dataset(HUL_EMA_sub,'EMA', 'time', HUL_date)"
      ],
      "execution_count": null,
      "outputs": []
    },
    {
      "cell_type": "code",
      "metadata": {
        "colab": {
          "base_uri": "https://localhost:8080/"
        },
        "outputId": "36e099e7-de7a-49ef-8aa7-0e2ee56857c0",
        "id": "6hBjUBwISNJ8"
      },
      "source": [
        "HUL_Train_X.shape, HUL_Train_Y.shape, HUL_Test_X.shape, HUL_Test_Y.shape"
      ],
      "execution_count": null,
      "outputs": [
        {
          "output_type": "execute_result",
          "data": {
            "text/plain": [
              "((126, 5, 1), (126, 5, 1), (11, 5, 1), (11, 5, 1))"
            ]
          },
          "metadata": {},
          "execution_count": 180
        }
      ]
    },
    {
      "cell_type": "code",
      "source": [
        "HUL['adj close'].head(20)"
      ],
      "metadata": {
        "colab": {
          "base_uri": "https://localhost:8080/"
        },
        "outputId": "3a7aa851-7844-43d4-9c97-333374898c64",
        "id": "xzpENNznSNJ8"
      },
      "execution_count": null,
      "outputs": [
        {
          "output_type": "execute_result",
          "data": {
            "text/plain": [
              "0     1735.48\n",
              "1     1719.58\n",
              "2     1723.24\n",
              "3     1716.78\n",
              "4     1719.91\n",
              "5     1706.33\n",
              "6     1719.96\n",
              "7     1721.12\n",
              "8     1704.93\n",
              "9     1699.63\n",
              "10    1724.64\n",
              "11    1707.97\n",
              "12    1687.68\n",
              "13    1680.55\n",
              "14    1683.25\n",
              "15    1686.43\n",
              "16    1702.81\n",
              "17    1695.39\n",
              "18    1692.79\n",
              "19    1679.49\n",
              "Name: adj close, dtype: float64"
            ]
          },
          "metadata": {},
          "execution_count": 181
        }
      ]
    },
    {
      "cell_type": "code",
      "source": [
        "HUL_Train_X[0], HUL_Train_Y[0]"
      ],
      "metadata": {
        "colab": {
          "base_uri": "https://localhost:8080/"
        },
        "outputId": "bd91caef-0ee0-425e-c290-5d92e9a87372",
        "id": "Q_HH67VASNJ9"
      },
      "execution_count": null,
      "outputs": [
        {
          "output_type": "execute_result",
          "data": {
            "text/plain": [
              "(array([[1735.48],\n",
              "        [1719.58],\n",
              "        [1723.24],\n",
              "        [1716.78],\n",
              "        [1719.91]]), array([[1706.33],\n",
              "        [1719.96],\n",
              "        [1721.12],\n",
              "        [1704.93],\n",
              "        [1699.63]]))"
            ]
          },
          "metadata": {},
          "execution_count": 182
        }
      ]
    },
    {
      "cell_type": "code",
      "source": [
        "HUL_Train_X[1], HUL_Train_Y[1]"
      ],
      "metadata": {
        "colab": {
          "base_uri": "https://localhost:8080/"
        },
        "outputId": "7652d52c-8bed-4d81-9265-ad092d71b292",
        "id": "VnymesqHSNJ-"
      },
      "execution_count": null,
      "outputs": [
        {
          "output_type": "execute_result",
          "data": {
            "text/plain": [
              "(array([[1706.33],\n",
              "        [1719.96],\n",
              "        [1721.12],\n",
              "        [1704.93],\n",
              "        [1699.63]]), array([[1724.64],\n",
              "        [1707.97],\n",
              "        [1687.68],\n",
              "        [1680.55],\n",
              "        [1683.25]]))"
            ]
          },
          "metadata": {},
          "execution_count": 183
        }
      ]
    },
    {
      "cell_type": "code",
      "source": [
        "HUL_Train_SMA_X.shape, HUL_Train_SMA_Y.shape, HUL_Test_SMA_X.shape, HUL_Test_SMA_X.shape"
      ],
      "metadata": {
        "colab": {
          "base_uri": "https://localhost:8080/"
        },
        "outputId": "7ec56dbf-edfc-4e9e-a4b4-cc09c3b855fe",
        "id": "q2kWhulfSNJ-"
      },
      "execution_count": null,
      "outputs": [
        {
          "output_type": "execute_result",
          "data": {
            "text/plain": [
              "((126, 5, 1), (126, 5, 1), (11, 5, 1), (11, 5, 1))"
            ]
          },
          "metadata": {},
          "execution_count": 184
        }
      ]
    },
    {
      "cell_type": "code",
      "source": [
        "HUL_Train_EMA_X.shape, HUL_Train_EMA_Y.shape, HUL_Test_EMA_X.shape, HUL_Test_EMA_X.shape"
      ],
      "metadata": {
        "colab": {
          "base_uri": "https://localhost:8080/"
        },
        "outputId": "5dc27da5-4932-48b5-db84-83566278329d",
        "id": "ODwOdV89SNJ-"
      },
      "execution_count": null,
      "outputs": [
        {
          "output_type": "execute_result",
          "data": {
            "text/plain": [
              "((126, 5, 1), (126, 5, 1), (11, 5, 1), (11, 5, 1))"
            ]
          },
          "metadata": {},
          "execution_count": 185
        }
      ]
    },
    {
      "cell_type": "code",
      "source": [
        "HUL_Train_X[0], HUL_Train_SMA_X[0]"
      ],
      "metadata": {
        "colab": {
          "base_uri": "https://localhost:8080/"
        },
        "outputId": "580f433c-5a86-476a-8574-0b2ecda8c5c8",
        "id": "DyMgukNISNJ_"
      },
      "execution_count": null,
      "outputs": [
        {
          "output_type": "execute_result",
          "data": {
            "text/plain": [
              "(array([[1735.48],\n",
              "        [1719.58],\n",
              "        [1723.24],\n",
              "        [1716.78],\n",
              "        [1719.91]]), array([[1738.1701],\n",
              "        [1732.7018],\n",
              "        [1727.2765],\n",
              "        [1722.1386],\n",
              "        [1720.3285]]))"
            ]
          },
          "metadata": {},
          "execution_count": 186
        }
      ]
    },
    {
      "cell_type": "code",
      "source": [
        "HUL_Final_Train_X = np.concatenate((HUL_Train_X, HUL_Train_SMA_X, HUL_Train_EMA_X), axis=2)\n",
        "HUL_Final_Test_X = np.concatenate((HUL_Test_X, HUL_Test_SMA_X, HUL_Test_EMA_X), axis=2)"
      ],
      "metadata": {
        "id": "8xBVrKIISNJ_"
      },
      "execution_count": null,
      "outputs": []
    },
    {
      "cell_type": "code",
      "source": [
        "HUL_Final_Train_X.shape, HUL_Train_Y.shape, HUL_Final_Test_X.shape, HUL_Test_Y.shape"
      ],
      "metadata": {
        "colab": {
          "base_uri": "https://localhost:8080/"
        },
        "outputId": "93f58d97-b108-4877-bd5b-c468324d6a81",
        "id": "XtXhMb-vSNJ_"
      },
      "execution_count": null,
      "outputs": [
        {
          "output_type": "execute_result",
          "data": {
            "text/plain": [
              "((126, 5, 3), (126, 5, 1), (11, 5, 3), (11, 5, 1))"
            ]
          },
          "metadata": {},
          "execution_count": 188
        }
      ]
    },
    {
      "cell_type": "markdown",
      "metadata": {
        "id": "avtIW8iPSNKA"
      },
      "source": [
        "### Model Fitting"
      ]
    },
    {
      "cell_type": "code",
      "metadata": {
        "id": "AR7zWGQoSNKA"
      },
      "source": [
        "HUL_Model = Model()"
      ],
      "execution_count": null,
      "outputs": []
    },
    {
      "cell_type": "code",
      "metadata": {
        "id": "N23urR5XSNKA"
      },
      "source": [
        "HUL_Model.compile(optimizer = tf.keras.optimizers.Adam(learning_rate=lr_schedule), loss = 'mse', metrics = tf.keras.metrics.RootMeanSquaredError())"
      ],
      "execution_count": null,
      "outputs": []
    },
    {
      "cell_type": "code",
      "metadata": {
        "colab": {
          "base_uri": "https://localhost:8080/"
        },
        "outputId": "b760264a-6902-4b16-9f9b-a1d1630334bf",
        "id": "-ONUA2aOSNKB"
      },
      "source": [
        "HUL_hist = HUL_Model.fit(HUL_Final_Train_X, HUL_Train_Y, epochs = 10000, validation_data = (HUL_Final_Test_X, HUL_Test_Y), callbacks=[callback])"
      ],
      "execution_count": null,
      "outputs": [
        {
          "output_type": "stream",
          "name": "stdout",
          "text": [
            "Epoch 1/10000\n",
            "4/4 [==============================] - 3s 165ms/step - loss: 3397972.0000 - root_mean_squared_error: 1843.3590 - val_loss: 5151304.0000 - val_root_mean_squared_error: 2269.6484\n",
            "Epoch 2/10000\n",
            "4/4 [==============================] - 0s 45ms/step - loss: 2579889.7500 - root_mean_squared_error: 1606.2035 - val_loss: 2507693.7500 - val_root_mean_squared_error: 1583.5699\n",
            "Epoch 3/10000\n",
            "4/4 [==============================] - 0s 47ms/step - loss: 737558.6875 - root_mean_squared_error: 858.8124 - val_loss: 592413.5625 - val_root_mean_squared_error: 769.6841\n",
            "Epoch 4/10000\n",
            "4/4 [==============================] - 0s 42ms/step - loss: 220298.3906 - root_mean_squared_error: 469.3596 - val_loss: 195828.3594 - val_root_mean_squared_error: 442.5250\n",
            "Epoch 5/10000\n",
            "4/4 [==============================] - 0s 44ms/step - loss: 122001.1953 - root_mean_squared_error: 349.2867 - val_loss: 89931.5469 - val_root_mean_squared_error: 299.8859\n",
            "Epoch 6/10000\n",
            "4/4 [==============================] - 0s 41ms/step - loss: 29605.8750 - root_mean_squared_error: 172.0636 - val_loss: 50810.7461 - val_root_mean_squared_error: 225.4124\n",
            "Epoch 7/10000\n",
            "4/4 [==============================] - 0s 44ms/step - loss: 31510.4082 - root_mean_squared_error: 177.5117 - val_loss: 53056.8125 - val_root_mean_squared_error: 230.3406\n",
            "Epoch 8/10000\n",
            "4/4 [==============================] - 0s 43ms/step - loss: 23812.2090 - root_mean_squared_error: 154.3121 - val_loss: 36354.3828 - val_root_mean_squared_error: 190.6683\n",
            "Epoch 9/10000\n",
            "4/4 [==============================] - 0s 45ms/step - loss: 17728.0234 - root_mean_squared_error: 133.1466 - val_loss: 24482.9199 - val_root_mean_squared_error: 156.4702\n",
            "Epoch 10/10000\n",
            "4/4 [==============================] - 0s 45ms/step - loss: 11535.0176 - root_mean_squared_error: 107.4012 - val_loss: 33200.6602 - val_root_mean_squared_error: 182.2105\n",
            "Epoch 11/10000\n",
            "4/4 [==============================] - 0s 44ms/step - loss: 13853.8447 - root_mean_squared_error: 117.7023 - val_loss: 21308.0703 - val_root_mean_squared_error: 145.9729\n",
            "Epoch 12/10000\n",
            "4/4 [==============================] - 0s 45ms/step - loss: 9958.7461 - root_mean_squared_error: 99.7935 - val_loss: 15894.7354 - val_root_mean_squared_error: 126.0743\n",
            "Epoch 13/10000\n",
            "4/4 [==============================] - 0s 41ms/step - loss: 7868.1050 - root_mean_squared_error: 88.7023 - val_loss: 16228.6436 - val_root_mean_squared_error: 127.3917\n",
            "Epoch 14/10000\n",
            "4/4 [==============================] - 0s 46ms/step - loss: 8397.2402 - root_mean_squared_error: 91.6365 - val_loss: 24287.9043 - val_root_mean_squared_error: 155.8458\n",
            "Epoch 15/10000\n",
            "4/4 [==============================] - 0s 47ms/step - loss: 8511.2031 - root_mean_squared_error: 92.2562 - val_loss: 18072.4629 - val_root_mean_squared_error: 134.4339\n",
            "Epoch 16/10000\n",
            "4/4 [==============================] - 0s 41ms/step - loss: 8956.3379 - root_mean_squared_error: 94.6379 - val_loss: 17410.8105 - val_root_mean_squared_error: 131.9500\n",
            "Epoch 17/10000\n",
            "4/4 [==============================] - 0s 47ms/step - loss: 8107.4155 - root_mean_squared_error: 90.0412 - val_loss: 16862.3457 - val_root_mean_squared_error: 129.8551\n",
            "Epoch 18/10000\n",
            "4/4 [==============================] - 0s 42ms/step - loss: 6536.0825 - root_mean_squared_error: 80.8460 - val_loss: 15301.3555 - val_root_mean_squared_error: 123.6986\n",
            "Epoch 19/10000\n",
            "4/4 [==============================] - 0s 41ms/step - loss: 5987.7715 - root_mean_squared_error: 77.3807 - val_loss: 14716.3525 - val_root_mean_squared_error: 121.3110\n",
            "Epoch 20/10000\n",
            "4/4 [==============================] - 0s 45ms/step - loss: 6085.5962 - root_mean_squared_error: 78.0102 - val_loss: 16427.1230 - val_root_mean_squared_error: 128.1683\n",
            "Epoch 21/10000\n",
            "4/4 [==============================] - 0s 45ms/step - loss: 6412.9590 - root_mean_squared_error: 80.0809 - val_loss: 14416.6631 - val_root_mean_squared_error: 120.0694\n",
            "Epoch 22/10000\n",
            "4/4 [==============================] - 0s 44ms/step - loss: 5739.9902 - root_mean_squared_error: 75.7627 - val_loss: 17407.7012 - val_root_mean_squared_error: 131.9382\n",
            "Epoch 23/10000\n",
            "4/4 [==============================] - 0s 43ms/step - loss: 7148.8823 - root_mean_squared_error: 84.5511 - val_loss: 15479.2275 - val_root_mean_squared_error: 124.4156\n",
            "Epoch 24/10000\n",
            "4/4 [==============================] - 0s 44ms/step - loss: 6051.1260 - root_mean_squared_error: 77.7890 - val_loss: 15523.7100 - val_root_mean_squared_error: 124.5942\n",
            "Epoch 25/10000\n",
            "4/4 [==============================] - 0s 43ms/step - loss: 6906.4980 - root_mean_squared_error: 83.1053 - val_loss: 27084.3809 - val_root_mean_squared_error: 164.5733\n",
            "Epoch 26/10000\n",
            "4/4 [==============================] - 0s 48ms/step - loss: 8592.6660 - root_mean_squared_error: 92.6966 - val_loss: 19093.7773 - val_root_mean_squared_error: 138.1802\n",
            "Epoch 27/10000\n",
            "4/4 [==============================] - 0s 45ms/step - loss: 7860.1299 - root_mean_squared_error: 88.6574 - val_loss: 21168.7754 - val_root_mean_squared_error: 145.4949\n",
            "Epoch 28/10000\n",
            "4/4 [==============================] - 0s 42ms/step - loss: 11605.9033 - root_mean_squared_error: 107.7307 - val_loss: 32420.9824 - val_root_mean_squared_error: 180.0583\n",
            "Epoch 29/10000\n",
            "4/4 [==============================] - 0s 46ms/step - loss: 12748.5830 - root_mean_squared_error: 112.9096 - val_loss: 32837.1875 - val_root_mean_squared_error: 181.2104\n",
            "Epoch 30/10000\n",
            "4/4 [==============================] - 0s 42ms/step - loss: 13281.9824 - root_mean_squared_error: 115.2475 - val_loss: 32137.3301 - val_root_mean_squared_error: 179.2689\n",
            "Epoch 31/10000\n",
            "4/4 [==============================] - 0s 42ms/step - loss: 11184.1641 - root_mean_squared_error: 105.7552 - val_loss: 18130.8379 - val_root_mean_squared_error: 134.6508\n"
          ]
        }
      ]
    },
    {
      "cell_type": "code",
      "metadata": {
        "id": "1oNQHpAPSNKB"
      },
      "source": [
        "history_dict = HUL_hist.history\n",
        "\n",
        "loss = history_dict[\"loss\"]\n",
        "root_mean_squared_error = history_dict[\"root_mean_squared_error\"]\n",
        "val_loss = history_dict[\"val_loss\"]\n",
        "val_root_mean_squared_error = history_dict[\"val_root_mean_squared_error\"]\n",
        "\n",
        "epochs = range(1, len(loss) + 1)"
      ],
      "execution_count": null,
      "outputs": []
    },
    {
      "cell_type": "code",
      "metadata": {
        "colab": {
          "base_uri": "https://localhost:8080/",
          "height": 345
        },
        "outputId": "103b1624-a3b7-4c96-e40a-0971d8713a52",
        "id": "FLAFwpdoSNKB"
      },
      "source": [
        "fig, (ax1, ax2) = plt.subplots(1, 2)\n",
        "\n",
        "fig.set_figheight(5)\n",
        "fig.set_figwidth(15)\n",
        "\n",
        "ax1.plot(epochs, loss, label = 'Training Loss')\n",
        "ax1.plot(epochs, val_loss, label = 'Validation Loss')\n",
        "ax1.set(xlabel = \"Epochs\", ylabel = \"Loss\")\n",
        "ax1.legend()\n",
        "\n",
        "ax2.plot(epochs, root_mean_squared_error, label = \"Training Root Mean Squared Error\")\n",
        "ax2.plot(epochs, val_root_mean_squared_error, label = \"Validation Root Mean Squared Error\")\n",
        "ax2.set(xlabel = \"Epochs\", ylabel = \"Loss\")\n",
        "ax2.legend()\n",
        "\n",
        "plt.show()"
      ],
      "execution_count": null,
      "outputs": [
        {
          "output_type": "display_data",
          "data": {
            "image/png": "[encoded data removed]",
            "text/plain": [
              "<Figure size 1080x360 with 2 Axes>"
            ]
          },
          "metadata": {
            "needs_background": "light"
          }
        }
      ]
    },
    {
      "cell_type": "markdown",
      "metadata": {
        "id": "6nKt7DnkSNKC"
      },
      "source": [
        "### Predicting the closing stock price of HUL"
      ]
    },
    {
      "cell_type": "code",
      "metadata": {
        "id": "bJE3eQipSNKC"
      },
      "source": [
        "HUL_prediction = HUL_Model.predict(HUL_Final_Test_X)"
      ],
      "execution_count": null,
      "outputs": []
    },
    {
      "cell_type": "code",
      "metadata": {
        "colab": {
          "base_uri": "https://localhost:8080/",
          "height": 352
        },
        "outputId": "557ed4b3-e1b2-4dfa-b4e1-2c2cf3467767",
        "id": "lSKzZR4VSNKC"
      },
      "source": [
        "plt.figure(figsize=(20, 5))\n",
        "plt.plot(HUL['date'][HUL['date'] < '2021-08-01'], HUL['adj close'][HUL['date'] < '2021-08-01'], label = 'Training')\n",
        "plt.plot(HUL['date'][HUL['date'] >= '2021-08-01'], HUL['adj close'][HUL['date'] >= '2021-08-01'], label = 'Testing')\n",
        "plt.plot(HUL['date'][HUL['date'] >= '2021-08-01'][:-7], HUL_prediction.reshape(-1), label = 'Predictions')\n",
        "plt.xlabel('Time')\n",
        "plt.ylabel('Closing Price')\n",
        "plt.legend(loc = 'best')"
      ],
      "execution_count": null,
      "outputs": [
        {
          "output_type": "execute_result",
          "data": {
            "text/plain": [
              "<matplotlib.legend.Legend at 0x7f916638c550>"
            ]
          },
          "metadata": {},
          "execution_count": 195
        },
        {
          "output_type": "display_data",
          "data": {
            "image/png": "[encoded data removed]",
            "text/plain": [
              "<Figure size 1440x360 with 1 Axes>"
            ]
          },
          "metadata": {
            "needs_background": "light"
          }
        }
      ]
    },
    {
      "cell_type": "code",
      "metadata": {
        "colab": {
          "base_uri": "https://localhost:8080/"
        },
        "outputId": "c6a5d30e-db85-4aeb-8708-e28d65d6fb2e",
        "id": "sATuczHaSNKD"
      },
      "source": [
        "rmse = math.sqrt(mean_squared_error(HUL_Test_Y.reshape(-1, 5), HUL_prediction))\n",
        "mape = np.mean(np.abs(HUL_prediction - HUL_Test_Y.reshape(-1, 5))/np.abs(HUL_Test_Y.reshape(-1, 5)))\n",
        "print(f'RMSE: {rmse}')\n",
        "print(f'MAPE: {mape}')"
      ],
      "execution_count": null,
      "outputs": [
        {
          "output_type": "stream",
          "name": "stdout",
          "text": [
            "RMSE: 120.06943167957516\n",
            "MAPE: 0.03679192721436593\n"
          ]
        }
      ]
    },
    {
      "cell_type": "code",
      "source": [
        "HUL_Model.save('/content/drive/MyDrive/Colab Notebooks/Datasets/Models/HUL_LSTM_Midsem')"
      ],
      "metadata": {
        "colab": {
          "base_uri": "https://localhost:8080/"
        },
        "id": "aoiGfWIlUeuB",
        "outputId": "a3a21342-6692-40ed-b5cd-70cf6c09ef28"
      },
      "execution_count": null,
      "outputs": [
        {
          "output_type": "stream",
          "name": "stdout",
          "text": [
            "INFO:tensorflow:Assets written to: /content/drive/MyDrive/Colab Notebooks/Datasets/Models/HUL_LSTM_Midsem/assets\n"
          ]
        },
        {
          "output_type": "stream",
          "name": "stderr",
          "text": [
            "INFO:tensorflow:Assets written to: /content/drive/MyDrive/Colab Notebooks/Datasets/Models/HUL_LSTM_Midsem/assets\n",
            "WARNING:absl:<keras.layers.recurrent.LSTMCell object at 0x7f9166811610> has the same name 'LSTMCell' as a built-in Keras object. Consider renaming <class 'keras.layers.recurrent.LSTMCell'> to avoid naming conflicts when loading with `tf.keras.models.load_model`. If renaming is not possible, pass the object in the `custom_objects` parameter of the load function.\n",
            "WARNING:absl:<keras.layers.recurrent.LSTMCell object at 0x7f916680abd0> has the same name 'LSTMCell' as a built-in Keras object. Consider renaming <class 'keras.layers.recurrent.LSTMCell'> to avoid naming conflicts when loading with `tf.keras.models.load_model`. If renaming is not possible, pass the object in the `custom_objects` parameter of the load function.\n"
          ]
        }
      ]
    },
    {
      "cell_type": "markdown",
      "metadata": {
        "id": "JkRXtDaGVGCG"
      },
      "source": [
        "#MARUTI"
      ]
    },
    {
      "cell_type": "code",
      "metadata": {
        "colab": {
          "base_uri": "https://localhost:8080/",
          "height": 250
        },
        "id": "n_sycv9sVGCG",
        "outputId": "0096c6ad-326e-441f-d52e-2a5093906131"
      },
      "source": [
        "MARUTI.tail()"
      ],
      "execution_count": null,
      "outputs": [
        {
          "output_type": "execute_result",
          "data": {
            "text/html": [
              "\n",
              "  <div id=\"df-d9c1815d-bd68-4c5f-8401-97ff43c2158b\">\n",
              "    <div class=\"colab-df-container\">\n",
              "      <div>\n",
              "<style scoped>\n",
              "    .dataframe tbody tr th:only-of-type {\n",
              "        vertical-align: middle;\n",
              "    }\n",
              "\n",
              "    .dataframe tbody tr th {\n",
              "        vertical-align: top;\n",
              "    }\n",
              "\n",
              "    .dataframe thead th {\n",
              "        text-align: right;\n",
              "    }\n",
              "</style>\n",
              "<table border=\"1\" class=\"dataframe\">\n",
              "  <thead>\n",
              "    <tr style=\"text-align: right;\">\n",
              "      <th></th>\n",
              "      <th>ticker</th>\n",
              "      <th>date</th>\n",
              "      <th>open</th>\n",
              "      <th>high</th>\n",
              "      <th>low</th>\n",
              "      <th>close</th>\n",
              "      <th>adj close</th>\n",
              "      <th>volume</th>\n",
              "      <th>Moving Average for 10 days</th>\n",
              "      <th>Moving Average for 20 days</th>\n",
              "      <th>Moving Average for 50 days</th>\n",
              "      <th>Daily Return</th>\n",
              "    </tr>\n",
              "  </thead>\n",
              "  <tbody>\n",
              "    <tr>\n",
              "      <th>692</th>\n",
              "      <td>MARUTI.NS</td>\n",
              "      <td>2021-10-25</td>\n",
              "      <td>7355.0</td>\n",
              "      <td>7396.05</td>\n",
              "      <td>7219.65</td>\n",
              "      <td>7260.60</td>\n",
              "      <td>7260.60</td>\n",
              "      <td>247986.0</td>\n",
              "      <td>7552.180</td>\n",
              "      <td>7439.1900</td>\n",
              "      <td>7082.932</td>\n",
              "      <td>-0.020016</td>\n",
              "    </tr>\n",
              "    <tr>\n",
              "      <th>693</th>\n",
              "      <td>MARUTI.NS</td>\n",
              "      <td>2021-10-26</td>\n",
              "      <td>7265.0</td>\n",
              "      <td>7337.95</td>\n",
              "      <td>7210.20</td>\n",
              "      <td>7297.35</td>\n",
              "      <td>7297.35</td>\n",
              "      <td>292052.0</td>\n",
              "      <td>7511.835</td>\n",
              "      <td>7433.8850</td>\n",
              "      <td>7088.639</td>\n",
              "      <td>0.005062</td>\n",
              "    </tr>\n",
              "    <tr>\n",
              "      <th>694</th>\n",
              "      <td>MARUTI.NS</td>\n",
              "      <td>2021-10-27</td>\n",
              "      <td>7285.0</td>\n",
              "      <td>7461.25</td>\n",
              "      <td>7244.00</td>\n",
              "      <td>7356.25</td>\n",
              "      <td>7356.25</td>\n",
              "      <td>1217557.0</td>\n",
              "      <td>7478.080</td>\n",
              "      <td>7430.5050</td>\n",
              "      <td>7095.720</td>\n",
              "      <td>0.008071</td>\n",
              "    </tr>\n",
              "    <tr>\n",
              "      <th>695</th>\n",
              "      <td>MARUTI.NS</td>\n",
              "      <td>2021-10-28</td>\n",
              "      <td>7250.0</td>\n",
              "      <td>7529.70</td>\n",
              "      <td>7235.05</td>\n",
              "      <td>7369.70</td>\n",
              "      <td>7369.70</td>\n",
              "      <td>961188.0</td>\n",
              "      <td>7466.835</td>\n",
              "      <td>7429.7875</td>\n",
              "      <td>7106.577</td>\n",
              "      <td>0.001828</td>\n",
              "    </tr>\n",
              "    <tr>\n",
              "      <th>696</th>\n",
              "      <td>MARUTI.NS</td>\n",
              "      <td>2021-10-29</td>\n",
              "      <td>7350.0</td>\n",
              "      <td>7478.15</td>\n",
              "      <td>7294.85</td>\n",
              "      <td>7466.30</td>\n",
              "      <td>7466.30</td>\n",
              "      <td>179815.0</td>\n",
              "      <td>7463.775</td>\n",
              "      <td>7436.2000</td>\n",
              "      <td>7118.195</td>\n",
              "      <td>0.013108</td>\n",
              "    </tr>\n",
              "  </tbody>\n",
              "</table>\n",
              "</div>\n",
              "      <button class=\"colab-df-convert\" onclick=\"convertToInteractive('df-d9c1815d-bd68-4c5f-8401-97ff43c2158b')\"\n",
              "              title=\"Convert this dataframe to an interactive table.\"\n",
              "              style=\"display:none;\">\n",
              "        \n",
              "  <svg xmlns=\"http://www.w3.org/2000/svg\" height=\"24px\"viewBox=\"0 0 24 24\"\n",
              "       width=\"24px\">\n",
              "    <path d=\"M0 0h24v24H0V0z\" fill=\"none\"/>\n",
              "    <path d=\"M18.56 5.44l.94 2.06.94-2.06 2.06-.94-2.06-.94-.94-2.06-.94 2.06-2.06.94zm-11 1L8.5 8.5l.94-2.06 2.06-.94-2.06-.94L8.5 2.5l-.94 2.06-2.06.94zm10 10l.94 2.06.94-2.06 2.06-.94-2.06-.94-.94-2.06-.94 2.06-2.06.94z\"/><path d=\"M17.41 7.96l-1.37-1.37c-.4-.4-.92-.59-1.43-.59-.52 0-1.04.2-1.43.59L10.3 9.45l-7.72 7.72c-.78.78-.78 2.05 0 2.83L4 21.41c.39.39.9.59 1.41.59.51 0 1.02-.2 1.41-.59l7.78-7.78 2.81-2.81c.8-.78.8-2.07 0-2.86zM5.41 20L4 18.59l7.72-7.72 1.47 1.35L5.41 20z\"/>\n",
              "  </svg>\n",
              "      </button>\n",
              "      \n",
              "  <style>\n",
              "    .colab-df-container {\n",
              "      display:flex;\n",
              "      flex-wrap:wrap;\n",
              "      gap: 12px;\n",
              "    }\n",
              "\n",
              "    .colab-df-convert {\n",
              "      background-color: #E8F0FE;\n",
              "      border: none;\n",
              "      border-radius: 50%;\n",
              "      cursor: pointer;\n",
              "      display: none;\n",
              "      fill: #1967D2;\n",
              "      height: 32px;\n",
              "      padding: 0 0 0 0;\n",
              "      width: 32px;\n",
              "    }\n",
              "\n",
              "    .colab-df-convert:hover {\n",
              "      background-color: #E2EBFA;\n",
              "      box-shadow: 0px 1px 2px rgba(60, 64, 67, 0.3), 0px 1px 3px 1px rgba(60, 64, 67, 0.15);\n",
              "      fill: #174EA6;\n",
              "    }\n",
              "\n",
              "    [theme=dark] .colab-df-convert {\n",
              "      background-color: #3B4455;\n",
              "      fill: #D2E3FC;\n",
              "    }\n",
              "\n",
              "    [theme=dark] .colab-df-convert:hover {\n",
              "      background-color: #434B5C;\n",
              "      box-shadow: 0px 1px 3px 1px rgba(0, 0, 0, 0.15);\n",
              "      filter: drop-shadow(0px 1px 2px rgba(0, 0, 0, 0.3));\n",
              "      fill: #FFFFFF;\n",
              "    }\n",
              "  </style>\n",
              "\n",
              "      <script>\n",
              "        const buttonEl =\n",
              "          document.querySelector('#df-d9c1815d-bd68-4c5f-8401-97ff43c2158b button.colab-df-convert');\n",
              "        buttonEl.style.display =\n",
              "          google.colab.kernel.accessAllowed ? 'block' : 'none';\n",
              "\n",
              "        async function convertToInteractive(key) {\n",
              "          const element = document.querySelector('#df-d9c1815d-bd68-4c5f-8401-97ff43c2158b');\n",
              "          const dataTable =\n",
              "            await google.colab.kernel.invokeFunction('convertToInteractive',\n",
              "                                                     [key], {});\n",
              "          if (!dataTable) return;\n",
              "\n",
              "          const docLinkHtml = 'Like what you see? Visit the ' +\n",
              "            '<a target=\"_blank\" href=https://colab.research.google.com/notebooks/data_table.ipynb>data table notebook</a>'\n",
              "            + ' to learn more about interactive tables.';\n",
              "          element.innerHTML = '';\n",
              "          dataTable['output_type'] = 'display_data';\n",
              "          await google.colab.output.renderOutput(dataTable, element);\n",
              "          const docLink = document.createElement('div');\n",
              "          docLink.innerHTML = docLinkHtml;\n",
              "          element.appendChild(docLink);\n",
              "        }\n",
              "      </script>\n",
              "    </div>\n",
              "  </div>\n",
              "  "
            ],
            "text/plain": [
              "        ticker        date  ...  Moving Average for 50 days  Daily Return\n",
              "692  MARUTI.NS  2021-10-25  ...                    7082.932     -0.020016\n",
              "693  MARUTI.NS  2021-10-26  ...                    7088.639      0.005062\n",
              "694  MARUTI.NS  2021-10-27  ...                    7095.720      0.008071\n",
              "695  MARUTI.NS  2021-10-28  ...                    7106.577      0.001828\n",
              "696  MARUTI.NS  2021-10-29  ...                    7118.195      0.013108\n",
              "\n",
              "[5 rows x 12 columns]"
            ]
          },
          "metadata": {},
          "execution_count": 198
        }
      ]
    },
    {
      "cell_type": "code",
      "metadata": {
        "colab": {
          "base_uri": "https://localhost:8080/"
        },
        "id": "PVNivKk9VGCH",
        "outputId": "3c06f593-8a65-434d-d42b-a68cba9c53a5"
      },
      "source": [
        "MARUTI.info()"
      ],
      "execution_count": null,
      "outputs": [
        {
          "output_type": "stream",
          "name": "stdout",
          "text": [
            "<class 'pandas.core.frame.DataFrame'>\n",
            "RangeIndex: 697 entries, 0 to 696\n",
            "Data columns (total 12 columns):\n",
            " #   Column                      Non-Null Count  Dtype  \n",
            "---  ------                      --------------  -----  \n",
            " 0   ticker                      697 non-null    object \n",
            " 1   date                        697 non-null    object \n",
            " 2   open                        697 non-null    float64\n",
            " 3   high                        697 non-null    float64\n",
            " 4   low                         697 non-null    float64\n",
            " 5   close                       697 non-null    float64\n",
            " 6   adj close                   697 non-null    float64\n",
            " 7   volume                      697 non-null    float64\n",
            " 8   Moving Average for 10 days  688 non-null    float64\n",
            " 9   Moving Average for 20 days  678 non-null    float64\n",
            " 10  Moving Average for 50 days  648 non-null    float64\n",
            " 11  Daily Return                696 non-null    float64\n",
            "dtypes: float64(10), object(2)\n",
            "memory usage: 65.5+ KB\n"
          ]
        }
      ]
    },
    {
      "cell_type": "code",
      "metadata": {
        "id": "dUTvYBXVVGCI"
      },
      "source": [
        "# Change Dtype of date column\n",
        "MARUTI[\"date\"] = pd.to_datetime(MARUTI[\"date\"])"
      ],
      "execution_count": null,
      "outputs": []
    },
    {
      "cell_type": "markdown",
      "metadata": {
        "id": "AXoqJbGtVGCJ"
      },
      "source": [
        "###Split the Data into Training and Test set\n",
        "    Training Period: 2019-01-01 - 2021-08-01\n",
        "\n",
        "    Testing Period:  2021-08-01 - 2021-10-29"
      ]
    },
    {
      "cell_type": "code",
      "source": [
        "MARUTI_EMA_sub.head()"
      ],
      "metadata": {
        "colab": {
          "base_uri": "https://localhost:8080/",
          "height": 206
        },
        "id": "RO_NqjHBU0qQ",
        "outputId": "be89f382-776f-45a8-ec9f-2a77869e6757"
      },
      "execution_count": null,
      "outputs": [
        {
          "output_type": "execute_result",
          "data": {
            "text/html": [
              "\n",
              "  <div id=\"df-4c6288e5-a312-4b30-9b8e-0f83d37269ae\">\n",
              "    <div class=\"colab-df-container\">\n",
              "      <div>\n",
              "<style scoped>\n",
              "    .dataframe tbody tr th:only-of-type {\n",
              "        vertical-align: middle;\n",
              "    }\n",
              "\n",
              "    .dataframe tbody tr th {\n",
              "        vertical-align: top;\n",
              "    }\n",
              "\n",
              "    .dataframe thead th {\n",
              "        text-align: right;\n",
              "    }\n",
              "</style>\n",
              "<table border=\"1\" class=\"dataframe\">\n",
              "  <thead>\n",
              "    <tr style=\"text-align: right;\">\n",
              "      <th></th>\n",
              "      <th>time</th>\n",
              "      <th>EMA</th>\n",
              "    </tr>\n",
              "  </thead>\n",
              "  <tbody>\n",
              "    <tr>\n",
              "      <th>0</th>\n",
              "      <td>2019-01-01</td>\n",
              "      <td>7278.8306</td>\n",
              "    </tr>\n",
              "    <tr>\n",
              "      <th>1</th>\n",
              "      <td>2019-01-02</td>\n",
              "      <td>7227.5540</td>\n",
              "    </tr>\n",
              "    <tr>\n",
              "      <th>2</th>\n",
              "      <td>2019-01-03</td>\n",
              "      <td>7191.5162</td>\n",
              "    </tr>\n",
              "    <tr>\n",
              "      <th>3</th>\n",
              "      <td>2019-01-04</td>\n",
              "      <td>7181.7383</td>\n",
              "    </tr>\n",
              "    <tr>\n",
              "      <th>4</th>\n",
              "      <td>2019-01-07</td>\n",
              "      <td>7186.5146</td>\n",
              "    </tr>\n",
              "  </tbody>\n",
              "</table>\n",
              "</div>\n",
              "      <button class=\"colab-df-convert\" onclick=\"convertToInteractive('df-4c6288e5-a312-4b30-9b8e-0f83d37269ae')\"\n",
              "              title=\"Convert this dataframe to an interactive table.\"\n",
              "              style=\"display:none;\">\n",
              "        \n",
              "  <svg xmlns=\"http://www.w3.org/2000/svg\" height=\"24px\"viewBox=\"0 0 24 24\"\n",
              "       width=\"24px\">\n",
              "    <path d=\"M0 0h24v24H0V0z\" fill=\"none\"/>\n",
              "    <path d=\"M18.56 5.44l.94 2.06.94-2.06 2.06-.94-2.06-.94-.94-2.06-.94 2.06-2.06.94zm-11 1L8.5 8.5l.94-2.06 2.06-.94-2.06-.94L8.5 2.5l-.94 2.06-2.06.94zm10 10l.94 2.06.94-2.06 2.06-.94-2.06-.94-.94-2.06-.94 2.06-2.06.94z\"/><path d=\"M17.41 7.96l-1.37-1.37c-.4-.4-.92-.59-1.43-.59-.52 0-1.04.2-1.43.59L10.3 9.45l-7.72 7.72c-.78.78-.78 2.05 0 2.83L4 21.41c.39.39.9.59 1.41.59.51 0 1.02-.2 1.41-.59l7.78-7.78 2.81-2.81c.8-.78.8-2.07 0-2.86zM5.41 20L4 18.59l7.72-7.72 1.47 1.35L5.41 20z\"/>\n",
              "  </svg>\n",
              "      </button>\n",
              "      \n",
              "  <style>\n",
              "    .colab-df-container {\n",
              "      display:flex;\n",
              "      flex-wrap:wrap;\n",
              "      gap: 12px;\n",
              "    }\n",
              "\n",
              "    .colab-df-convert {\n",
              "      background-color: #E8F0FE;\n",
              "      border: none;\n",
              "      border-radius: 50%;\n",
              "      cursor: pointer;\n",
              "      display: none;\n",
              "      fill: #1967D2;\n",
              "      height: 32px;\n",
              "      padding: 0 0 0 0;\n",
              "      width: 32px;\n",
              "    }\n",
              "\n",
              "    .colab-df-convert:hover {\n",
              "      background-color: #E2EBFA;\n",
              "      box-shadow: 0px 1px 2px rgba(60, 64, 67, 0.3), 0px 1px 3px 1px rgba(60, 64, 67, 0.15);\n",
              "      fill: #174EA6;\n",
              "    }\n",
              "\n",
              "    [theme=dark] .colab-df-convert {\n",
              "      background-color: #3B4455;\n",
              "      fill: #D2E3FC;\n",
              "    }\n",
              "\n",
              "    [theme=dark] .colab-df-convert:hover {\n",
              "      background-color: #434B5C;\n",
              "      box-shadow: 0px 1px 3px 1px rgba(0, 0, 0, 0.15);\n",
              "      filter: drop-shadow(0px 1px 2px rgba(0, 0, 0, 0.3));\n",
              "      fill: #FFFFFF;\n",
              "    }\n",
              "  </style>\n",
              "\n",
              "      <script>\n",
              "        const buttonEl =\n",
              "          document.querySelector('#df-4c6288e5-a312-4b30-9b8e-0f83d37269ae button.colab-df-convert');\n",
              "        buttonEl.style.display =\n",
              "          google.colab.kernel.accessAllowed ? 'block' : 'none';\n",
              "\n",
              "        async function convertToInteractive(key) {\n",
              "          const element = document.querySelector('#df-4c6288e5-a312-4b30-9b8e-0f83d37269ae');\n",
              "          const dataTable =\n",
              "            await google.colab.kernel.invokeFunction('convertToInteractive',\n",
              "                                                     [key], {});\n",
              "          if (!dataTable) return;\n",
              "\n",
              "          const docLinkHtml = 'Like what you see? Visit the ' +\n",
              "            '<a target=\"_blank\" href=https://colab.research.google.com/notebooks/data_table.ipynb>data table notebook</a>'\n",
              "            + ' to learn more about interactive tables.';\n",
              "          element.innerHTML = '';\n",
              "          dataTable['output_type'] = 'display_data';\n",
              "          await google.colab.output.renderOutput(dataTable, element);\n",
              "          const docLink = document.createElement('div');\n",
              "          docLink.innerHTML = docLinkHtml;\n",
              "          element.appendChild(docLink);\n",
              "        }\n",
              "      </script>\n",
              "    </div>\n",
              "  </div>\n",
              "  "
            ],
            "text/plain": [
              "         time        EMA\n",
              "0  2019-01-01  7278.8306\n",
              "1  2019-01-02  7227.5540\n",
              "2  2019-01-03  7191.5162\n",
              "3  2019-01-04  7181.7383\n",
              "4  2019-01-07  7186.5146"
            ]
          },
          "metadata": {},
          "execution_count": 201
        }
      ]
    },
    {
      "cell_type": "code",
      "metadata": {
        "id": "w7guDT4cTl2U"
      },
      "source": [
        "MARUTI_date = '2021-08-01'\n",
        "MARUTI_Train_X, MARUTI_Train_Y, MARUTI_Test_X, MARUTI_Test_Y = Dataset(MARUTI,'adj close', 'date', MARUTI_date)\n",
        "MARUTI_Train_SMA_X, MARUTI_Train_SMA_Y, MARUTI_Test_SMA_X, MARUTI_Test_SMA_Y = Dataset(MARUTI_SMA_sub,'SMA', 'time', MARUTI_date)\n",
        "MARUTI_Train_EMA_X, MARUTI_Train_EMA_Y, MARUTI_Test_EMA_X, MARUTI_Test_EMA_Y = Dataset(MARUTI_EMA_sub,'EMA', 'time', MARUTI_date)"
      ],
      "execution_count": null,
      "outputs": []
    },
    {
      "cell_type": "code",
      "metadata": {
        "colab": {
          "base_uri": "https://localhost:8080/"
        },
        "outputId": "217b2b72-a711-4443-d77b-72a48f123384",
        "id": "Wa3e0-1OTl2l"
      },
      "source": [
        "MARUTI_Train_X.shape, MARUTI_Train_Y.shape, MARUTI_Test_X.shape, MARUTI_Test_Y.shape"
      ],
      "execution_count": null,
      "outputs": [
        {
          "output_type": "execute_result",
          "data": {
            "text/plain": [
              "((126, 5, 1), (126, 5, 1), (11, 5, 1), (11, 5, 1))"
            ]
          },
          "metadata": {},
          "execution_count": 203
        }
      ]
    },
    {
      "cell_type": "code",
      "source": [
        "MARUTI['adj close'].head(20)"
      ],
      "metadata": {
        "colab": {
          "base_uri": "https://localhost:8080/"
        },
        "outputId": "43da8413-a464-4b19-f52a-c6eff1e2b19f",
        "id": "bKrFdOywTl2m"
      },
      "execution_count": null,
      "outputs": [
        {
          "output_type": "execute_result",
          "data": {
            "text/plain": [
              "0     7261.91\n",
              "1     7058.96\n",
              "2     6996.90\n",
              "3     7026.57\n",
              "4     7150.46\n",
              "5     7225.68\n",
              "6     7277.54\n",
              "7     7179.16\n",
              "8     7110.10\n",
              "9     7195.76\n",
              "10    7143.75\n",
              "11    7100.14\n",
              "12    7125.40\n",
              "13    7146.47\n",
              "14    7001.22\n",
              "15    6865.68\n",
              "16    6842.91\n",
              "17    6838.24\n",
              "18    6326.20\n",
              "19    6323.91\n",
              "Name: adj close, dtype: float64"
            ]
          },
          "metadata": {},
          "execution_count": 204
        }
      ]
    },
    {
      "cell_type": "code",
      "source": [
        "MARUTI_Train_X[0], MARUTI_Train_Y[0]"
      ],
      "metadata": {
        "colab": {
          "base_uri": "https://localhost:8080/"
        },
        "outputId": "29da8db4-65c5-459e-e13a-36db8d5d5944",
        "id": "R8oFyHzOTl2o"
      },
      "execution_count": null,
      "outputs": [
        {
          "output_type": "execute_result",
          "data": {
            "text/plain": [
              "(array([[7261.91],\n",
              "        [7058.96],\n",
              "        [6996.9 ],\n",
              "        [7026.57],\n",
              "        [7150.46]]), array([[7225.68],\n",
              "        [7277.54],\n",
              "        [7179.16],\n",
              "        [7110.1 ],\n",
              "        [7195.76]]))"
            ]
          },
          "metadata": {},
          "execution_count": 205
        }
      ]
    },
    {
      "cell_type": "code",
      "source": [
        "MARUTI_Train_X[1], MARUTI_Train_Y[1]"
      ],
      "metadata": {
        "colab": {
          "base_uri": "https://localhost:8080/"
        },
        "outputId": "6a3d1d51-1c81-4fb6-bc51-124fdaece0e9",
        "id": "KxfuA4wjTl2o"
      },
      "execution_count": null,
      "outputs": [
        {
          "output_type": "execute_result",
          "data": {
            "text/plain": [
              "(array([[7225.68],\n",
              "        [7277.54],\n",
              "        [7179.16],\n",
              "        [7110.1 ],\n",
              "        [7195.76]]), array([[7143.75],\n",
              "        [7100.14],\n",
              "        [7125.4 ],\n",
              "        [7146.47],\n",
              "        [7001.22]]))"
            ]
          },
          "metadata": {},
          "execution_count": 206
        }
      ]
    },
    {
      "cell_type": "code",
      "source": [
        "MARUTI_Train_SMA_X.shape, MARUTI_Train_SMA_Y.shape, MARUTI_Test_SMA_X.shape, MARUTI_Test_SMA_X.shape"
      ],
      "metadata": {
        "colab": {
          "base_uri": "https://localhost:8080/"
        },
        "outputId": "fe3a7676-f651-463a-aa7d-e988562288e6",
        "id": "Mu6c11BGTl2o"
      },
      "execution_count": null,
      "outputs": [
        {
          "output_type": "execute_result",
          "data": {
            "text/plain": [
              "((126, 5, 1), (126, 5, 1), (11, 5, 1), (11, 5, 1))"
            ]
          },
          "metadata": {},
          "execution_count": 207
        }
      ]
    },
    {
      "cell_type": "code",
      "source": [
        "MARUTI_Train_EMA_X.shape, MARUTI_Train_EMA_Y.shape, MARUTI_Test_EMA_X.shape, MARUTI_Test_EMA_X.shape"
      ],
      "metadata": {
        "colab": {
          "base_uri": "https://localhost:8080/"
        },
        "outputId": "ea7fa0a8-b57c-4b66-86ca-9b55041c731f",
        "id": "kjzeRK3nTl2p"
      },
      "execution_count": null,
      "outputs": [
        {
          "output_type": "execute_result",
          "data": {
            "text/plain": [
              "((126, 5, 1), (126, 5, 1), (11, 5, 1), (11, 5, 1))"
            ]
          },
          "metadata": {},
          "execution_count": 208
        }
      ]
    },
    {
      "cell_type": "code",
      "source": [
        "MARUTI_Train_X[0], MARUTI_Train_SMA_X[0]"
      ],
      "metadata": {
        "colab": {
          "base_uri": "https://localhost:8080/"
        },
        "outputId": "ff7faad7-a644-420d-a98a-98213d4c5d50",
        "id": "E5tlYRVvTl2p"
      },
      "execution_count": null,
      "outputs": [
        {
          "output_type": "execute_result",
          "data": {
            "text/plain": [
              "(array([[7261.91],\n",
              "        [7058.96],\n",
              "        [6996.9 ],\n",
              "        [7026.57],\n",
              "        [7150.46]]), array([[7387.3402],\n",
              "        [7340.2101],\n",
              "        [7271.0326],\n",
              "        [7215.5207],\n",
              "        [7197.2854]]))"
            ]
          },
          "metadata": {},
          "execution_count": 209
        }
      ]
    },
    {
      "cell_type": "code",
      "source": [
        "MARUTI_Final_Train_X = np.concatenate((MARUTI_Train_X, MARUTI_Train_SMA_X, MARUTI_Train_EMA_X), axis=2)\n",
        "MARUTI_Final_Test_X = np.concatenate((MARUTI_Test_X, MARUTI_Test_SMA_X, MARUTI_Test_EMA_X), axis=2)"
      ],
      "metadata": {
        "id": "H_GL9l7dTl2p"
      },
      "execution_count": null,
      "outputs": []
    },
    {
      "cell_type": "code",
      "source": [
        "MARUTI_Final_Train_X.shape, MARUTI_Train_Y.shape, MARUTI_Final_Test_X.shape, MARUTI_Test_Y.shape"
      ],
      "metadata": {
        "colab": {
          "base_uri": "https://localhost:8080/"
        },
        "outputId": "a1a22513-4187-4500-ab4d-126b83fcb95b",
        "id": "RQqd5MWbTl2q"
      },
      "execution_count": null,
      "outputs": [
        {
          "output_type": "execute_result",
          "data": {
            "text/plain": [
              "((126, 5, 3), (126, 5, 1), (11, 5, 3), (11, 5, 1))"
            ]
          },
          "metadata": {},
          "execution_count": 211
        }
      ]
    },
    {
      "cell_type": "markdown",
      "metadata": {
        "id": "pVjqpM6CTl2q"
      },
      "source": [
        "### Model Fitting"
      ]
    },
    {
      "cell_type": "code",
      "metadata": {
        "id": "quA6gg9DVlW_"
      },
      "source": [
        "def Model():\n",
        "  model = tf.keras.models.Sequential([\n",
        "                                      tf.keras.layers.LSTM(200, input_shape = (5, 3), activation = tf.nn.leaky_relu, return_sequences = True),\n",
        "                                      tf.keras.layers.LSTM(200, activation = tf.nn.leaky_relu),\n",
        "                                      tf.keras.layers.Dense(200, activation = tf.nn.leaky_relu),\n",
        "                                      tf.keras.layers.Dense(100, activation = tf.nn.leaky_relu),\n",
        "                                      tf.keras.layers.Dense(50, activation = tf.nn.leaky_relu),\n",
        "                                      tf.keras.layers.Dense(5, activation = tf.nn.leaky_relu)\n",
        "                                      ])\n",
        "  return model"
      ],
      "execution_count": null,
      "outputs": []
    },
    {
      "cell_type": "code",
      "metadata": {
        "id": "t3qK4woAVlXB"
      },
      "source": [
        "model = Model()"
      ],
      "execution_count": null,
      "outputs": []
    },
    {
      "cell_type": "code",
      "metadata": {
        "colab": {
          "base_uri": "https://localhost:8080/",
          "height": 754
        },
        "outputId": "e5b88977-dd7e-4ba3-abe3-bb1d7534c7f6",
        "id": "s_sX4HgMVlXB"
      },
      "source": [
        "tf.keras.utils.plot_model(model, show_shapes=True)"
      ],
      "execution_count": null,
      "outputs": [
        {
          "output_type": "execute_result",
          "data": {
            "image/png": "[encoded data removed]",
            "text/plain": [
              "<IPython.core.display.Image object>"
            ]
          },
          "metadata": {},
          "execution_count": 274
        }
      ]
    },
    {
      "cell_type": "code",
      "metadata": {
        "colab": {
          "base_uri": "https://localhost:8080/"
        },
        "outputId": "4f510974-0758-4725-d927-e0a8a5ef4366",
        "id": "AJ_PWSf7VlXC"
      },
      "source": [
        "model.summary()"
      ],
      "execution_count": null,
      "outputs": [
        {
          "output_type": "stream",
          "name": "stdout",
          "text": [
            "Model: \"sequential_26\"\n",
            "_________________________________________________________________\n",
            " Layer (type)                Output Shape              Param #   \n",
            "=================================================================\n",
            " lstm_52 (LSTM)              (None, 5, 200)            163200    \n",
            "                                                                 \n",
            " lstm_53 (LSTM)              (None, 200)               320800    \n",
            "                                                                 \n",
            " dense_104 (Dense)           (None, 200)               40200     \n",
            "                                                                 \n",
            " dense_105 (Dense)           (None, 100)               20100     \n",
            "                                                                 \n",
            " dense_106 (Dense)           (None, 50)                5050      \n",
            "                                                                 \n",
            " dense_107 (Dense)           (None, 5)                 255       \n",
            "                                                                 \n",
            "=================================================================\n",
            "Total params: 549,605\n",
            "Trainable params: 549,605\n",
            "Non-trainable params: 0\n",
            "_________________________________________________________________\n"
          ]
        }
      ]
    },
    {
      "cell_type": "code",
      "source": [
        "# Seed value\n",
        "# Apparently you may use different seed values at each stage\n",
        "seed_value= 11\n",
        "\n",
        "# 1. Set the `PYTHONHASHSEED` environment variable at a fixed value\n",
        "import os\n",
        "os.environ['PYTHONHASHSEED']=str(seed_value)\n",
        "\n",
        "# 2. Set the `python` built-in pseudo-random generator at a fixed value\n",
        "import random\n",
        "random.seed(seed_value)\n",
        "\n",
        "# 3. Set the `numpy` pseudo-random generator at a fixed value\n",
        "import numpy as np\n",
        "np.random.seed(seed_value)\n",
        "\n",
        "# 4. Set the `tensorflow` pseudo-random generator at a fixed value\n",
        "import tensorflow as tf\n",
        "tf.random.set_seed(seed_value)\n",
        "# for later versions: \n",
        "# tf.compat.v1.set_random_seed(seed_value)\n",
        "\n",
        "# 5. Configure a new global `tensorflow` session\n",
        "from keras import backend as K\n",
        "session_conf = tf.compat.v1.ConfigProto(intra_op_parallelism_threads=1, inter_op_parallelism_threads=1)\n",
        "sess = tf.compat.v1.Session(graph=tf.compat.v1.get_default_graph(), config=session_conf)\n",
        "K.set_session(sess)"
      ],
      "metadata": {
        "id": "N667Xp6OVKYW"
      },
      "execution_count": null,
      "outputs": []
    },
    {
      "cell_type": "code",
      "metadata": {
        "id": "njFNclh0Tl2q"
      },
      "source": [
        "MARUTI_Model = Model()"
      ],
      "execution_count": null,
      "outputs": []
    },
    {
      "cell_type": "code",
      "metadata": {
        "id": "LsPN7UA-Tl2r"
      },
      "source": [
        "MARUTI_Model.compile(optimizer = tf.keras.optimizers.Adam(learning_rate=lr_schedule), loss = 'mse', metrics = tf.keras.metrics.RootMeanSquaredError())"
      ],
      "execution_count": null,
      "outputs": []
    },
    {
      "cell_type": "code",
      "metadata": {
        "colab": {
          "base_uri": "https://localhost:8080/"
        },
        "outputId": "2206712e-9a39-4be6-91e2-4a161996bb83",
        "id": "s6Zi7CNETl2r"
      },
      "source": [
        "MARUTI_hist = MARUTI_Model.fit(MARUTI_Final_Train_X, MARUTI_Train_Y, epochs = 10000, validation_data = (MARUTI_Final_Test_X, MARUTI_Test_Y), callbacks=[callback])"
      ],
      "execution_count": null,
      "outputs": [
        {
          "output_type": "stream",
          "name": "stdout",
          "text": [
            "Epoch 1/10000\n",
            "4/4 [==============================] - 4s 204ms/step - loss: 27817966.0000 - root_mean_squared_error: 5274.2739 - val_loss: 31608152.0000 - val_root_mean_squared_error: 5622.1128\n",
            "Epoch 2/10000\n",
            "4/4 [==============================] - 0s 48ms/step - loss: 11116940.0000 - root_mean_squared_error: 3334.2075 - val_loss: 9362743.0000 - val_root_mean_squared_error: 3059.8599\n",
            "Epoch 3/10000\n",
            "4/4 [==============================] - 0s 50ms/step - loss: 3933980.2500 - root_mean_squared_error: 1983.4263 - val_loss: 4002560.7500 - val_root_mean_squared_error: 2000.6400\n",
            "Epoch 4/10000\n",
            "4/4 [==============================] - 0s 59ms/step - loss: 1992916.6250 - root_mean_squared_error: 1411.7069 - val_loss: 255081.5469 - val_root_mean_squared_error: 505.0560\n",
            "Epoch 5/10000\n",
            "4/4 [==============================] - 0s 47ms/step - loss: 1013139.6875 - root_mean_squared_error: 1006.5484 - val_loss: 982779.4375 - val_root_mean_squared_error: 991.3524\n",
            "Epoch 6/10000\n",
            "4/4 [==============================] - 0s 49ms/step - loss: 547187.0000 - root_mean_squared_error: 739.7209 - val_loss: 842042.0000 - val_root_mean_squared_error: 917.6285\n",
            "Epoch 7/10000\n",
            "4/4 [==============================] - 0s 46ms/step - loss: 447649.7812 - root_mean_squared_error: 669.0663 - val_loss: 119006.4219 - val_root_mean_squared_error: 344.9731\n",
            "Epoch 8/10000\n",
            "4/4 [==============================] - 0s 46ms/step - loss: 337799.7188 - root_mean_squared_error: 581.2053 - val_loss: 373234.1250 - val_root_mean_squared_error: 610.9289\n",
            "Epoch 9/10000\n",
            "4/4 [==============================] - 0s 50ms/step - loss: 323596.0625 - root_mean_squared_error: 568.8550 - val_loss: 164971.6250 - val_root_mean_squared_error: 406.1670\n",
            "Epoch 10/10000\n",
            "4/4 [==============================] - 0s 51ms/step - loss: 276916.4375 - root_mean_squared_error: 526.2285 - val_loss: 322070.1875 - val_root_mean_squared_error: 567.5123\n",
            "Epoch 11/10000\n",
            "4/4 [==============================] - 0s 46ms/step - loss: 241507.3281 - root_mean_squared_error: 491.4340 - val_loss: 270284.9062 - val_root_mean_squared_error: 519.8893\n",
            "Epoch 12/10000\n",
            "4/4 [==============================] - 0s 47ms/step - loss: 227480.8594 - root_mean_squared_error: 476.9495 - val_loss: 67238.6484 - val_root_mean_squared_error: 259.3042\n",
            "Epoch 13/10000\n",
            "4/4 [==============================] - 0s 47ms/step - loss: 143034.0938 - root_mean_squared_error: 378.1985 - val_loss: 109144.4688 - val_root_mean_squared_error: 330.3702\n",
            "Epoch 14/10000\n",
            "4/4 [==============================] - 0s 45ms/step - loss: 148955.1719 - root_mean_squared_error: 385.9471 - val_loss: 71939.2422 - val_root_mean_squared_error: 268.2149\n",
            "Epoch 15/10000\n",
            "4/4 [==============================] - 0s 54ms/step - loss: 135715.1406 - root_mean_squared_error: 368.3954 - val_loss: 119579.6172 - val_root_mean_squared_error: 345.8029\n",
            "Epoch 16/10000\n",
            "4/4 [==============================] - 0s 48ms/step - loss: 148894.9688 - root_mean_squared_error: 385.8691 - val_loss: 181409.6719 - val_root_mean_squared_error: 425.9221\n",
            "Epoch 17/10000\n",
            "4/4 [==============================] - 0s 46ms/step - loss: 162112.0156 - root_mean_squared_error: 402.6313 - val_loss: 119518.8438 - val_root_mean_squared_error: 345.7150\n",
            "Epoch 18/10000\n",
            "4/4 [==============================] - 0s 48ms/step - loss: 159967.9062 - root_mean_squared_error: 399.9599 - val_loss: 59332.9766 - val_root_mean_squared_error: 243.5836\n",
            "Epoch 19/10000\n",
            "4/4 [==============================] - 0s 47ms/step - loss: 123190.4062 - root_mean_squared_error: 350.9849 - val_loss: 52017.5586 - val_root_mean_squared_error: 228.0736\n",
            "Epoch 20/10000\n",
            "4/4 [==============================] - 0s 50ms/step - loss: 153832.9219 - root_mean_squared_error: 392.2154 - val_loss: 147707.7656 - val_root_mean_squared_error: 384.3277\n",
            "Epoch 21/10000\n",
            "4/4 [==============================] - 0s 50ms/step - loss: 186763.3750 - root_mean_squared_error: 432.1613 - val_loss: 229067.0469 - val_root_mean_squared_error: 478.6095\n",
            "Epoch 22/10000\n",
            "4/4 [==============================] - 0s 46ms/step - loss: 188467.5312 - root_mean_squared_error: 434.1285 - val_loss: 225005.9531 - val_root_mean_squared_error: 474.3480\n",
            "Epoch 23/10000\n",
            "4/4 [==============================] - 0s 44ms/step - loss: 186091.0625 - root_mean_squared_error: 431.3828 - val_loss: 115501.0938 - val_root_mean_squared_error: 339.8545\n",
            "Epoch 24/10000\n",
            "4/4 [==============================] - 0s 46ms/step - loss: 131674.2344 - root_mean_squared_error: 362.8695 - val_loss: 75416.8594 - val_root_mean_squared_error: 274.6213\n",
            "Epoch 25/10000\n",
            "4/4 [==============================] - 0s 45ms/step - loss: 111901.1641 - root_mean_squared_error: 334.5163 - val_loss: 47206.1758 - val_root_mean_squared_error: 217.2698\n",
            "Epoch 26/10000\n",
            "4/4 [==============================] - 0s 46ms/step - loss: 134706.9531 - root_mean_squared_error: 367.0244 - val_loss: 62710.1836 - val_root_mean_squared_error: 250.4200\n",
            "Epoch 27/10000\n",
            "4/4 [==============================] - 0s 45ms/step - loss: 133935.2656 - root_mean_squared_error: 365.9717 - val_loss: 148247.9844 - val_root_mean_squared_error: 385.0298\n",
            "Epoch 28/10000\n",
            "4/4 [==============================] - 0s 46ms/step - loss: 123836.5000 - root_mean_squared_error: 351.9041 - val_loss: 57379.6875 - val_root_mean_squared_error: 239.5406\n",
            "Epoch 29/10000\n",
            "4/4 [==============================] - 0s 49ms/step - loss: 130298.8750 - root_mean_squared_error: 360.9694 - val_loss: 65306.3789 - val_root_mean_squared_error: 255.5511\n",
            "Epoch 30/10000\n",
            "4/4 [==============================] - 0s 45ms/step - loss: 141388.8281 - root_mean_squared_error: 376.0171 - val_loss: 70577.4219 - val_root_mean_squared_error: 265.6641\n",
            "Epoch 31/10000\n",
            "4/4 [==============================] - 0s 53ms/step - loss: 137198.4844 - root_mean_squared_error: 370.4031 - val_loss: 51386.0586 - val_root_mean_squared_error: 226.6849\n",
            "Epoch 32/10000\n",
            "4/4 [==============================] - 0s 45ms/step - loss: 113523.6641 - root_mean_squared_error: 336.9327 - val_loss: 65489.1602 - val_root_mean_squared_error: 255.9085\n",
            "Epoch 33/10000\n",
            "4/4 [==============================] - 0s 45ms/step - loss: 139317.1875 - root_mean_squared_error: 373.2522 - val_loss: 84573.2188 - val_root_mean_squared_error: 290.8148\n",
            "Epoch 34/10000\n",
            "4/4 [==============================] - 0s 49ms/step - loss: 131494.4062 - root_mean_squared_error: 362.6216 - val_loss: 78554.3438 - val_root_mean_squared_error: 280.2755\n",
            "Epoch 35/10000\n",
            "4/4 [==============================] - 0s 46ms/step - loss: 128877.7812 - root_mean_squared_error: 358.9955 - val_loss: 52166.3125 - val_root_mean_squared_error: 228.3995\n"
          ]
        }
      ]
    },
    {
      "cell_type": "code",
      "metadata": {
        "id": "DoodMnKaTl2r"
      },
      "source": [
        "history_dict = MARUTI_hist.history\n",
        "\n",
        "loss = history_dict[\"loss\"]\n",
        "root_mean_squared_error = history_dict[\"root_mean_squared_error\"]\n",
        "val_loss = history_dict[\"val_loss\"]\n",
        "val_root_mean_squared_error = history_dict[\"val_root_mean_squared_error\"]\n",
        "\n",
        "epochs = range(1, len(loss) + 1)"
      ],
      "execution_count": null,
      "outputs": []
    },
    {
      "cell_type": "code",
      "metadata": {
        "colab": {
          "base_uri": "https://localhost:8080/",
          "height": 345
        },
        "outputId": "5308787a-7e75-4c25-abaa-7189466a1c1e",
        "id": "aW0W07izTl2s"
      },
      "source": [
        "fig, (ax1, ax2) = plt.subplots(1, 2)\n",
        "\n",
        "fig.set_figheight(5)\n",
        "fig.set_figwidth(15)\n",
        "\n",
        "ax1.plot(epochs, loss, label = 'Training Loss')\n",
        "ax1.plot(epochs, val_loss, label = 'Validation Loss')\n",
        "ax1.set(xlabel = \"Epochs\", ylabel = \"Loss\")\n",
        "ax1.legend()\n",
        "\n",
        "ax2.plot(epochs, root_mean_squared_error, label = \"Training Root Mean Squared Error\")\n",
        "ax2.plot(epochs, val_root_mean_squared_error, label = \"Validation Root Mean Squared Error\")\n",
        "ax2.set(xlabel = \"Epochs\", ylabel = \"Loss\")\n",
        "ax2.legend()\n",
        "\n",
        "plt.show()"
      ],
      "execution_count": null,
      "outputs": [
        {
          "output_type": "display_data",
          "data": {
            "image/png": "[encoded data removed]",
            "text/plain": [
              "<Figure size 1080x360 with 2 Axes>"
            ]
          },
          "metadata": {
            "needs_background": "light"
          }
        }
      ]
    },
    {
      "cell_type": "markdown",
      "metadata": {
        "id": "EhylHhSqTl2s"
      },
      "source": [
        "### Predicting the closing stock price of MARUTI"
      ]
    },
    {
      "cell_type": "code",
      "source": [
        "MARUTI_Model = tf.keras.models.load_model('/content/drive/MyDrive/Colab Notebooks/Datasets/Models/MARUTI_LSTM_Midsem')"
      ],
      "metadata": {
        "id": "rGvusQO2YDd_"
      },
      "execution_count": null,
      "outputs": []
    },
    {
      "cell_type": "code",
      "metadata": {
        "id": "m1hwiih-Tl2s"
      },
      "source": [
        "MARUTI_prediction = MARUTI_Model.predict(MARUTI_Final_Test_X)"
      ],
      "execution_count": null,
      "outputs": []
    },
    {
      "cell_type": "code",
      "metadata": {
        "colab": {
          "base_uri": "https://localhost:8080/",
          "height": 352
        },
        "outputId": "d9b91bf1-ab5d-42e6-9638-d401122ca1d0",
        "id": "0eRTdmFVTl2t"
      },
      "source": [
        "plt.figure(figsize=(20, 5))\n",
        "plt.plot(MARUTI['date'][MARUTI['date'] < '2021-08-01'], MARUTI['adj close'][MARUTI['date'] < '2021-08-01'], label = 'Training')\n",
        "plt.plot(MARUTI['date'][MARUTI['date'] >= '2021-08-01'], MARUTI['adj close'][MARUTI['date'] >= '2021-08-01'], label = 'Testing')\n",
        "plt.plot(MARUTI['date'][MARUTI['date'] >= '2021-08-01'][:-7], MARUTI_prediction.reshape(-1), label = 'Predictions')\n",
        "plt.xlabel('Time')\n",
        "plt.ylabel('Closing Price')\n",
        "plt.legend(loc = 'best')"
      ],
      "execution_count": null,
      "outputs": [
        {
          "output_type": "execute_result",
          "data": {
            "text/plain": [
              "<matplotlib.legend.Legend at 0x7f91594d76d0>"
            ]
          },
          "metadata": {},
          "execution_count": 300
        },
        {
          "output_type": "display_data",
          "data": {
            "image/png": "[encoded data removed]",
            "text/plain": [
              "<Figure size 1440x360 with 1 Axes>"
            ]
          },
          "metadata": {
            "needs_background": "light"
          }
        }
      ]
    },
    {
      "cell_type": "code",
      "metadata": {
        "colab": {
          "base_uri": "https://localhost:8080/"
        },
        "outputId": "d354f478-b179-4e1d-a62e-e062b7391ee4",
        "id": "SX44WuLWTl2t"
      },
      "source": [
        "rmse = math.sqrt(mean_squared_error(MARUTI_Test_Y.reshape(-1, 5), MARUTI_prediction))\n",
        "mape = np.mean(np.abs(MARUTI_prediction - MARUTI_Test_Y.reshape(-1, 5))/np.abs(MARUTI_Test_Y.reshape(-1, 5)))\n",
        "print(f'RMSE: {rmse}')\n",
        "print(f'MAPE: {mape}')"
      ],
      "execution_count": null,
      "outputs": [
        {
          "output_type": "stream",
          "name": "stdout",
          "text": [
            "RMSE: 217.26985721451652\n",
            "MAPE: 0.024153888989365106\n"
          ]
        }
      ]
    },
    {
      "cell_type": "code",
      "source": [
        "MARUTI_Model.save('/content/drive/MyDrive/Colab Notebooks/Datasets/Models/MARUTI_LSTM_Midsem')"
      ],
      "metadata": {
        "colab": {
          "base_uri": "https://localhost:8080/"
        },
        "id": "CMktgWagUn4-",
        "outputId": "f0430e29-bb5e-4a10-a51e-af2ae4809cea"
      },
      "execution_count": null,
      "outputs": [
        {
          "output_type": "stream",
          "name": "stdout",
          "text": [
            "INFO:tensorflow:Assets written to: /content/drive/MyDrive/Colab Notebooks/Datasets/Models/MARUTI_LSTM_Midsem/assets\n"
          ]
        },
        {
          "output_type": "stream",
          "name": "stderr",
          "text": [
            "INFO:tensorflow:Assets written to: /content/drive/MyDrive/Colab Notebooks/Datasets/Models/MARUTI_LSTM_Midsem/assets\n",
            "WARNING:absl:<keras.layers.recurrent.LSTMCell object at 0x7f915965e110> has the same name 'LSTMCell' as a built-in Keras object. Consider renaming <class 'keras.layers.recurrent.LSTMCell'> to avoid naming conflicts when loading with `tf.keras.models.load_model`. If renaming is not possible, pass the object in the `custom_objects` parameter of the load function.\n",
            "WARNING:absl:<keras.layers.recurrent.LSTMCell object at 0x7f915965ed10> has the same name 'LSTMCell' as a built-in Keras object. Consider renaming <class 'keras.layers.recurrent.LSTMCell'> to avoid naming conflicts when loading with `tf.keras.models.load_model`. If renaming is not possible, pass the object in the `custom_objects` parameter of the load function.\n"
          ]
        }
      ]
    }
  ]
}