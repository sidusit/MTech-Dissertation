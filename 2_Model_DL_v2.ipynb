{
  "nbformat": 4,
  "nbformat_minor": 0,
  "metadata": {
    "colab": {
      "name": "2_Model_DL_v2.ipynb",
      "provenance": [],
      "collapsed_sections": [],
      "include_colab_link": true
    },
    "kernelspec": {
      "display_name": "Python 3",
      "name": "python3"
    }
  },
  "cells": [
    {
      "cell_type": "markdown",
      "metadata": {
        "id": "view-in-github",
        "colab_type": "text"
      }
    },
    {
      "cell_type": "code",
      "metadata": {
        "colab": {
          "base_uri": "https://localhost:8080/"
        },
        "id": "6hZDB86d5PQn",
        "outputId": "9a433887-28e3-43b7-dca1-0b6774adfa75"
      },
      "source": [
        "from google.colab import drive\n",
        "drive.mount('/content/drive')"
      ],
      "execution_count": 2,
      "outputs": [
        {
          "output_type": "stream",
          "name": "stdout",
          "text": [
            "Drive already mounted at /content/drive; to attempt to forcibly remount, call drive.mount(\"/content/drive\", force_remount=True).\n"
          ]
        }
      ]
    },
    {
      "cell_type": "code",
      "metadata": {
        "id": "a92nHELU1gxI"
      },
      "source": [
        "import math\n",
        "import numpy as np\n",
        "import pandas as pd\n",
        "import matplotlib.pyplot as plt\n",
        "import tensorflow as tf\n",
        "from sklearn.metrics import mean_squared_error, mean_absolute_error\n",
        "\n",
        "import warnings\n",
        "warnings.filterwarnings('ignore')"
      ],
      "execution_count": 3,
      "outputs": []
    },
    {
      "cell_type": "code",
      "metadata": {
        "id": "cniPewwH16-t"
      },
      "source": [
        "TCS = pd.read_csv(\"/content/drive/MyDrive/Colab Notebooks/Datasets/Indian/StockPrice/TCS_stock_v2_PreProcessed.csv\")\n",
        "HDFC = pd.read_csv(\"/content/drive/MyDrive/Colab Notebooks/Datasets/Indian/StockPrice/HDFC_stock_v2_PreProcessed.csv\")\n",
        "HUL = pd.read_csv(\"/content/drive/MyDrive/Colab Notebooks/Datasets/Indian/StockPrice/HUL_stock_v2_PreProcessed.csv\")\n",
        "MARUTI = pd.read_csv(\"/content/drive/MyDrive/Colab Notebooks/Datasets/Indian/StockPrice/MARUTI_stock_v2_PreProcessed.csv\")"
      ],
      "execution_count": 4,
      "outputs": []
    },
    {
      "cell_type": "code",
      "source": [
        "TCS_SMA_sub = pd.read_csv('/content/drive/MyDrive/Colab Notebooks/Datasets/Indian/TechIndicators/TCS_SMA_PreProcessed.csv')\n",
        "HDFC_SMA_sub = pd.read_csv('/content/drive/MyDrive/Colab Notebooks/Datasets/Indian/TechIndicators/HDFC_SMA_PreProcessed.csv')\n",
        "HUL_SMA_sub = pd.read_csv('/content/drive/MyDrive/Colab Notebooks/Datasets/Indian/TechIndicators/HUL_SMA_PreProcessed.csv')\n",
        "MARUTI_SMA_sub = pd.read_csv('/content/drive/MyDrive/Colab Notebooks/Datasets/Indian/TechIndicators/MARUTI_SMA_PreProcessed.csv')\n",
        "\n",
        "TCS_EMA_sub =  pd.read_csv('/content/drive/MyDrive/Colab Notebooks/Datasets/Indian/TechIndicators/TCS_EMA_PreProcessed.csv')\n",
        "HDFC_EMA_sub = pd.read_csv('/content/drive/MyDrive/Colab Notebooks/Datasets/Indian/TechIndicators//HDFC_EMA_PreProcessed.csv')\n",
        "HUL_EMA_sub = pd.read_csv('/content/drive/MyDrive/Colab Notebooks/Datasets/Indian/TechIndicators/HUL_EMA_PreProcessed.csv')\n",
        "MARUTI_EMA_sub = pd.read_csv('/content/drive/MyDrive/Colab Notebooks/Datasets/Indian/TechIndicators/MARUTI_EMA_PreProcessed.csv')"
      ],
      "metadata": {
        "id": "W5fEDI_z76oq"
      },
      "execution_count": 101,
      "outputs": []
    },
    {
      "cell_type": "markdown",
      "metadata": {
        "id": "vDdZr0DH0sor"
      },
      "source": [
        "### Data Proprocessing"
      ]
    },
    {
      "cell_type": "code",
      "metadata": {
        "id": "kkZs6LC9QPMp"
      },
      "source": [
        "def Dataset(Data, column, datecol,date):\n",
        "\n",
        "  Train_Data = Data[column][Data[datecol] < date].to_numpy()\n",
        "  Data_Train = []\n",
        "  Data_Train_X = []\n",
        "  Data_Train_Y = []\n",
        "  for i in range(0, len(Train_Data), 5):\n",
        "    try:\n",
        "      Data_Train.append(Train_Data[i : i + 5])\n",
        "    except:\n",
        "      pass\n",
        "\n",
        "  if len(Data_Train[-1]) < 5:\n",
        "    Data_Train.pop(-1)\n",
        "  \n",
        "  Data_Train_X = Data_Train[0 : -1]\n",
        "  Data_Train_X = np.array(Data_Train_X)\n",
        "  Data_Train_X = Data_Train_X.reshape((-1, 5, 1))\n",
        "  Data_Train_Y = Data_Train[1 : len(Data_Train)]\n",
        "  Data_Train_Y = np.array(Data_Train_Y)\n",
        "  Data_Train_Y = Data_Train_Y.reshape((-1, 5, 1))\n",
        "\n",
        "\n",
        "  Test_Data = Data[column][Data[datecol] >= date].to_numpy()\n",
        "  Data_Test = []\n",
        "  Data_Test_X = []\n",
        "  Data_Test_Y = []\n",
        "  for i in range(0, len(Test_Data), 5):\n",
        "    try:\n",
        "      Data_Test.append(Test_Data[i : i + 5])\n",
        "    except:\n",
        "      pass\n",
        "\n",
        "  if len(Data_Test[-1]) < 5:\n",
        "    Data_Test.pop(-1)\n",
        "  \n",
        "  Data_Test_X = Data_Test[0 : -1]\n",
        "  Data_Test_X = np.array(Data_Test_X)\n",
        "  Data_Test_X = Data_Test_X.reshape((-1, 5, 1))\n",
        "  Data_Test_Y = Data_Test[1 : len(Data_Test)]\n",
        "  Data_Test_Y = np.array(Data_Test_Y)\n",
        "  Data_Test_Y = Data_Test_Y.reshape((-1, 5, 1))\n",
        "\n",
        "  return Data_Train_X, Data_Train_Y, Data_Test_X, Data_Test_Y"
      ],
      "execution_count": 6,
      "outputs": []
    },
    {
      "cell_type": "markdown",
      "metadata": {
        "id": "fFmGO6j50wbO"
      },
      "source": [
        "### Model"
      ]
    },
    {
      "cell_type": "code",
      "metadata": {
        "id": "DPWMIKGv_7b1"
      },
      "source": [
        "def Model():\n",
        "  model = tf.keras.models.Sequential([\n",
        "                                      tf.keras.layers.LSTM(200, input_shape = (5, 3), activation = tf.nn.leaky_relu, return_sequences = True),\n",
        "                                      tf.keras.layers.LSTM(200, activation = tf.nn.leaky_relu),\n",
        "                                      tf.keras.layers.Dense(200, activation = tf.nn.leaky_relu),\n",
        "                                      tf.keras.layers.Dense(100, activation = tf.nn.leaky_relu),\n",
        "                                      tf.keras.layers.Dense(50, activation = tf.nn.leaky_relu),\n",
        "                                      tf.keras.layers.Dense(5, activation = tf.nn.leaky_relu)\n",
        "                                      ])\n",
        "  return model"
      ],
      "execution_count": 7,
      "outputs": []
    },
    {
      "cell_type": "code",
      "metadata": {
        "id": "k-zXwjAyrGm7"
      },
      "source": [
        "model = Model()"
      ],
      "execution_count": 8,
      "outputs": []
    },
    {
      "cell_type": "code",
      "metadata": {
        "colab": {
          "base_uri": "https://localhost:8080/",
          "height": 754
        },
        "id": "RAS71VonrLzU",
        "outputId": "d745e57f-422a-4c9a-9d36-6bca44924651"
      },
      "source": [
        "tf.keras.utils.plot_model(model, show_shapes=True)"
      ],
      "execution_count": 9,
      "outputs": [
        {
          "output_type": "execute_result",
          "data": {
            "image/png": "[encoded data removed]",
            "text/plain": [
              "<IPython.core.display.Image object>"
            ]
          },
          "metadata": {},
          "execution_count": 9
        }
      ]
    },
    {
      "cell_type": "code",
      "metadata": {
        "colab": {
          "base_uri": "https://localhost:8080/"
        },
        "id": "neXmHN79rO0k",
        "outputId": "45a720c1-ce6e-4e8c-955e-d2a49cae864c"
      },
      "source": [
        "model.summary()"
      ],
      "execution_count": 10,
      "outputs": [
        {
          "output_type": "stream",
          "name": "stdout",
          "text": [
            "Model: \"sequential\"\n",
            "_________________________________________________________________\n",
            " Layer (type)                Output Shape              Param #   \n",
            "=================================================================\n",
            " lstm (LSTM)                 (None, 5, 200)            163200    \n",
            "                                                                 \n",
            " lstm_1 (LSTM)               (None, 200)               320800    \n",
            "                                                                 \n",
            " dense (Dense)               (None, 200)               40200     \n",
            "                                                                 \n",
            " dense_1 (Dense)             (None, 100)               20100     \n",
            "                                                                 \n",
            " dense_2 (Dense)             (None, 50)                5050      \n",
            "                                                                 \n",
            " dense_3 (Dense)             (None, 5)                 255       \n",
            "                                                                 \n",
            "=================================================================\n",
            "Total params: 549,605\n",
            "Trainable params: 549,605\n",
            "Non-trainable params: 0\n",
            "_________________________________________________________________\n"
          ]
        }
      ]
    },
    {
      "cell_type": "markdown",
      "metadata": {
        "id": "vJDxyTC40zmg"
      },
      "source": [
        "### Custom Learning Rate"
      ]
    },
    {
      "cell_type": "code",
      "metadata": {
        "id": "vLjevQLkiIoP"
      },
      "source": [
        "lr_schedule = tf.keras.optimizers.schedules.ExponentialDecay(\n",
        "    initial_learning_rate=1e-2,\n",
        "    decay_steps=10000,\n",
        "    decay_rate=0.9)"
      ],
      "execution_count": 13,
      "outputs": []
    },
    {
      "cell_type": "code",
      "metadata": {
        "id": "R0NG_mhJiQH_"
      },
      "source": [
        "callback = tf.keras.callbacks.EarlyStopping(\n",
        "    monitor=\"val_loss\",\n",
        "    min_delta=0,\n",
        "    patience=10,\n",
        "    verbose=0,\n",
        "    mode=\"auto\",\n",
        "    baseline=None,\n",
        "    restore_best_weights=True,\n",
        ")"
      ],
      "execution_count": 14,
      "outputs": []
    },
    {
      "cell_type": "markdown",
      "metadata": {
        "id": "P9l6y-jBQL-G"
      },
      "source": [
        "#TCS"
      ]
    },
    {
      "cell_type": "code",
      "metadata": {
        "colab": {
          "base_uri": "https://localhost:8080/",
          "height": 206
        },
        "id": "thrQ_-6x7_7m",
        "outputId": "19fa6df6-a0fb-4214-b52f-d1aa134eec6e"
      },
      "source": [
        "TCS.tail()"
      ],
      "execution_count": 15,
      "outputs": [
        {
          "output_type": "execute_result",
          "data": {
            "text/html": [
              "<div>\n",
              "<style scoped>\n",
              "    .dataframe tbody tr th:only-of-type {\n",
              "        vertical-align: middle;\n",
              "    }\n",
              "\n",
              "    .dataframe tbody tr th {\n",
              "        vertical-align: top;\n",
              "    }\n",
              "\n",
              "    .dataframe thead th {\n",
              "        text-align: right;\n",
              "    }\n",
              "</style>\n",
              "<table border=\"1\" class=\"dataframe\">\n",
              "  <thead>\n",
              "    <tr style=\"text-align: right;\">\n",
              "      <th></th>\n",
              "      <th>ticker</th>\n",
              "      <th>date</th>\n",
              "      <th>open</th>\n",
              "      <th>high</th>\n",
              "      <th>low</th>\n",
              "      <th>close</th>\n",
              "      <th>adj close</th>\n",
              "      <th>volume</th>\n",
              "      <th>Moving Average for 10 days</th>\n",
              "      <th>Moving Average for 20 days</th>\n",
              "      <th>Moving Average for 50 days</th>\n",
              "      <th>Daily Return</th>\n",
              "    </tr>\n",
              "  </thead>\n",
              "  <tbody>\n",
              "    <tr>\n",
              "      <th>692</th>\n",
              "      <td>MARUTI.NS</td>\n",
              "      <td>2021-10-25</td>\n",
              "      <td>7355.0</td>\n",
              "      <td>7396.05</td>\n",
              "      <td>7219.65</td>\n",
              "      <td>7260.60</td>\n",
              "      <td>7260.60</td>\n",
              "      <td>247986.0</td>\n",
              "      <td>7552.180</td>\n",
              "      <td>7439.1900</td>\n",
              "      <td>7082.932</td>\n",
              "      <td>-0.020016</td>\n",
              "    </tr>\n",
              "    <tr>\n",
              "      <th>693</th>\n",
              "      <td>MARUTI.NS</td>\n",
              "      <td>2021-10-26</td>\n",
              "      <td>7265.0</td>\n",
              "      <td>7337.95</td>\n",
              "      <td>7210.20</td>\n",
              "      <td>7297.35</td>\n",
              "      <td>7297.35</td>\n",
              "      <td>292052.0</td>\n",
              "      <td>7511.835</td>\n",
              "      <td>7433.8850</td>\n",
              "      <td>7088.639</td>\n",
              "      <td>0.005062</td>\n",
              "    </tr>\n",
              "    <tr>\n",
              "      <th>694</th>\n",
              "      <td>MARUTI.NS</td>\n",
              "      <td>2021-10-27</td>\n",
              "      <td>7285.0</td>\n",
              "      <td>7461.25</td>\n",
              "      <td>7244.00</td>\n",
              "      <td>7356.25</td>\n",
              "      <td>7356.25</td>\n",
              "      <td>1217557.0</td>\n",
              "      <td>7478.080</td>\n",
              "      <td>7430.5050</td>\n",
              "      <td>7095.720</td>\n",
              "      <td>0.008071</td>\n",
              "    </tr>\n",
              "    <tr>\n",
              "      <th>695</th>\n",
              "      <td>MARUTI.NS</td>\n",
              "      <td>2021-10-28</td>\n",
              "      <td>7250.0</td>\n",
              "      <td>7529.70</td>\n",
              "      <td>7235.05</td>\n",
              "      <td>7369.70</td>\n",
              "      <td>7369.70</td>\n",
              "      <td>961188.0</td>\n",
              "      <td>7466.835</td>\n",
              "      <td>7429.7875</td>\n",
              "      <td>7106.577</td>\n",
              "      <td>0.001828</td>\n",
              "    </tr>\n",
              "    <tr>\n",
              "      <th>696</th>\n",
              "      <td>MARUTI.NS</td>\n",
              "      <td>2021-10-29</td>\n",
              "      <td>7350.0</td>\n",
              "      <td>7478.15</td>\n",
              "      <td>7294.85</td>\n",
              "      <td>7466.30</td>\n",
              "      <td>7466.30</td>\n",
              "      <td>179815.0</td>\n",
              "      <td>7463.775</td>\n",
              "      <td>7436.2000</td>\n",
              "      <td>7118.195</td>\n",
              "      <td>0.013108</td>\n",
              "    </tr>\n",
              "  </tbody>\n",
              "</table>\n",
              "</div>"
            ],
            "text/plain": [
              "        ticker        date  ...  Moving Average for 50 days  Daily Return\n",
              "692  MARUTI.NS  2021-10-25  ...                    7082.932     -0.020016\n",
              "693  MARUTI.NS  2021-10-26  ...                    7088.639      0.005062\n",
              "694  MARUTI.NS  2021-10-27  ...                    7095.720      0.008071\n",
              "695  MARUTI.NS  2021-10-28  ...                    7106.577      0.001828\n",
              "696  MARUTI.NS  2021-10-29  ...                    7118.195      0.013108\n",
              "\n",
              "[5 rows x 12 columns]"
            ]
          },
          "metadata": {},
          "execution_count": 15
        }
      ]
    },
    {
      "cell_type": "code",
      "metadata": {
        "colab": {
          "base_uri": "https://localhost:8080/"
        },
        "id": "IA_pY7CN8B0x",
        "outputId": "e7c7741f-f8c9-4483-a429-567d0e98717a"
      },
      "source": [
        "TCS.info()"
      ],
      "execution_count": 16,
      "outputs": [
        {
          "output_type": "stream",
          "name": "stdout",
          "text": [
            "<class 'pandas.core.frame.DataFrame'>\n",
            "RangeIndex: 697 entries, 0 to 696\n",
            "Data columns (total 12 columns):\n",
            " #   Column                      Non-Null Count  Dtype  \n",
            "---  ------                      --------------  -----  \n",
            " 0   ticker                      697 non-null    object \n",
            " 1   date                        697 non-null    object \n",
            " 2   open                        697 non-null    float64\n",
            " 3   high                        697 non-null    float64\n",
            " 4   low                         697 non-null    float64\n",
            " 5   close                       697 non-null    float64\n",
            " 6   adj close                   697 non-null    float64\n",
            " 7   volume                      697 non-null    float64\n",
            " 8   Moving Average for 10 days  688 non-null    float64\n",
            " 9   Moving Average for 20 days  678 non-null    float64\n",
            " 10  Moving Average for 50 days  648 non-null    float64\n",
            " 11  Daily Return                696 non-null    float64\n",
            "dtypes: float64(10), object(2)\n",
            "memory usage: 65.5+ KB\n"
          ]
        }
      ]
    },
    {
      "cell_type": "code",
      "metadata": {
        "id": "elqcyE_H3h2S"
      },
      "source": [
        "# Change Dtype of date column\n",
        "TCS[\"date\"] = pd.to_datetime(TCS[\"date\"])\n",
        "TCS_SMA_sub['time'] = pd.to_datetime(TCS_SMA_sub['time'])\n",
        "TCS_EMA_sub['time'] = pd.to_datetime(TCS_EMA_sub['time'])"
      ],
      "execution_count": 17,
      "outputs": []
    },
    {
      "cell_type": "markdown",
      "metadata": {
        "id": "FPawFX7U5VVz"
      },
      "source": [
        "###Split the Data into Training and Test set\n",
        "    Training Period: 2019-01-01 - 2021-08-01\n",
        "\n",
        "    Testing Period:  2021-08-01 - 2021-10-29"
      ]
    },
    {
      "cell_type": "code",
      "metadata": {
        "id": "Cdu0-_N238N2"
      },
      "source": [
        "TCS_date = '2021-08-01'\n",
        "TCS_Train_X, TCS_Train_Y, TCS_Test_X, TCS_Test_Y = Dataset(TCS,'adj close', 'date', TCS_date)\n",
        "TCS_Train_SMA_X, TCS_Train_SMA_Y, TCS_Test_SMA_X, TCS_Test_SMA_Y = Dataset(TCS_SMA_sub,'SMA', 'time', TCS_date)\n",
        "TCS_Train_EMA_X, TCS_Train_EMA_Y, TCS_Test_EMA_X, TCS_Test_EMA_Y = Dataset(TCS_EMA_sub,'EMA', 'time', TCS_date)"
      ],
      "execution_count": null,
      "outputs": []
    },
    {
      "cell_type": "code",
      "metadata": {
        "colab": {
          "base_uri": "https://localhost:8080/"
        },
        "id": "fhtEMMefMIHx",
        "outputId": "98452326-396b-4c51-d313-8306130f968f"
      },
      "source": [
        "TCS_Train_X.shape, TCS_Train_Y.shape, TCS_Test_X.shape, TCS_Test_Y.shape"
      ],
      "execution_count": null,
      "outputs": [
        {
          "output_type": "execute_result",
          "data": {
            "text/plain": [
              "((126, 5, 1), (126, 5, 1), (11, 5, 1), (11, 5, 1))"
            ]
          },
          "metadata": {},
          "execution_count": 19
        }
      ]
    },
    {
      "cell_type": "code",
      "source": [
        "TCS['adj close'].head(20)"
      ],
      "metadata": {
        "colab": {
          "base_uri": "https://localhost:8080/"
        },
        "id": "_NM9vz2JFP4h",
        "outputId": "cf481299-9723-4c70-802c-9e6cfe462aec"
      },
      "execution_count": null,
      "outputs": [
        {
          "output_type": "execute_result",
          "data": {
            "text/plain": [
              "0     7261.91\n",
              "1     7058.96\n",
              "2     6996.90\n",
              "3     7026.57\n",
              "4     7150.46\n",
              "5     7225.68\n",
              "6     7277.54\n",
              "7     7179.16\n",
              "8     7110.10\n",
              "9     7195.76\n",
              "10    7143.75\n",
              "11    7100.14\n",
              "12    7125.40\n",
              "13    7146.47\n",
              "14    7001.22\n",
              "15    6865.68\n",
              "16    6842.91\n",
              "17    6838.24\n",
              "18    6326.20\n",
              "19    6323.91\n",
              "Name: adj close, dtype: float64"
            ]
          },
          "metadata": {},
          "execution_count": 20
        }
      ]
    },
    {
      "cell_type": "code",
      "source": [
        "TCS_Train_X[0], TCS_Train_Y[0]"
      ],
      "metadata": {
        "colab": {
          "base_uri": "https://localhost:8080/"
        },
        "id": "U5G104YdFK5b",
        "outputId": "7fd0f2eb-1ff8-437c-91a8-695cb6a0d421"
      },
      "execution_count": null,
      "outputs": [
        {
          "output_type": "execute_result",
          "data": {
            "text/plain": [
              "(array([[7261.91],\n",
              "        [7058.96],\n",
              "        [6996.9 ],\n",
              "        [7026.57],\n",
              "        [7150.46]]), array([[7225.68],\n",
              "        [7277.54],\n",
              "        [7179.16],\n",
              "        [7110.1 ],\n",
              "        [7195.76]]))"
            ]
          },
          "metadata": {},
          "execution_count": 21
        }
      ]
    },
    {
      "cell_type": "code",
      "source": [
        "TCS_Train_X[1], TCS_Train_Y[1]"
      ],
      "metadata": {
        "colab": {
          "base_uri": "https://localhost:8080/"
        },
        "id": "BSu7CvIWFdP8",
        "outputId": "b8394e44-3b5a-4c93-c245-ea0427f154f5"
      },
      "execution_count": null,
      "outputs": [
        {
          "output_type": "execute_result",
          "data": {
            "text/plain": [
              "(array([[7225.68],\n",
              "        [7277.54],\n",
              "        [7179.16],\n",
              "        [7110.1 ],\n",
              "        [7195.76]]), array([[7143.75],\n",
              "        [7100.14],\n",
              "        [7125.4 ],\n",
              "        [7146.47],\n",
              "        [7001.22]]))"
            ]
          },
          "metadata": {},
          "execution_count": 22
        }
      ]
    },
    {
      "cell_type": "code",
      "source": [
        "TCS_Train_SMA_X.shape, TCS_Train_SMA_Y.shape, TCS_Test_SMA_X.shape, TCS_Test_SMA_X.shape"
      ],
      "metadata": {
        "colab": {
          "base_uri": "https://localhost:8080/"
        },
        "id": "AyxSh5tPB15A",
        "outputId": "86057f96-fc6b-4083-af32-9bef443ce42b"
      },
      "execution_count": null,
      "outputs": [
        {
          "output_type": "execute_result",
          "data": {
            "text/plain": [
              "((126, 5, 1), (126, 5, 1), (11, 5, 1), (11, 5, 1))"
            ]
          },
          "metadata": {},
          "execution_count": 23
        }
      ]
    },
    {
      "cell_type": "code",
      "source": [
        "TCS_Train_EMA_X.shape, TCS_Train_EMA_Y.shape, TCS_Test_EMA_X.shape, TCS_Test_EMA_X.shape"
      ],
      "metadata": {
        "colab": {
          "base_uri": "https://localhost:8080/"
        },
        "id": "gvo3Y8TMDsou",
        "outputId": "16d7ef3c-846d-4c74-da74-cf9eec2b639d"
      },
      "execution_count": null,
      "outputs": [
        {
          "output_type": "execute_result",
          "data": {
            "text/plain": [
              "((126, 5, 1), (126, 5, 1), (11, 5, 1), (11, 5, 1))"
            ]
          },
          "metadata": {},
          "execution_count": 24
        }
      ]
    },
    {
      "cell_type": "code",
      "source": [
        "TCS_Train_X[0], TCS_Train_SMA_X[0]"
      ],
      "metadata": {
        "colab": {
          "base_uri": "https://localhost:8080/"
        },
        "id": "EcFoQ0LMDZxI",
        "outputId": "3b8a3b9f-123a-4578-bd56-10f2fff13de4"
      },
      "execution_count": null,
      "outputs": [
        {
          "output_type": "execute_result",
          "data": {
            "text/plain": [
              "(array([[7261.91],\n",
              "        [7058.96],\n",
              "        [6996.9 ],\n",
              "        [7026.57],\n",
              "        [7150.46]]), array([[1837.1739],\n",
              "        [1831.0021],\n",
              "        [1824.2374],\n",
              "        [1816.3589],\n",
              "        [1816.3016]]))"
            ]
          },
          "metadata": {},
          "execution_count": 25
        }
      ]
    },
    {
      "cell_type": "code",
      "source": [
        "TCS_Final_Train_X = np.concatenate((TCS_Train_X, TCS_Train_SMA_X, TCS_Train_EMA_X), axis=2)\n",
        "TCS_Final_Test_X = np.concatenate((TCS_Test_X, TCS_Test_SMA_X, TCS_Test_EMA_X), axis=2)"
      ],
      "metadata": {
        "id": "_bW4elrIDL0m"
      },
      "execution_count": null,
      "outputs": []
    },
    {
      "cell_type": "code",
      "source": [
        "TCS_Final_Train_X.shape, TCS_Train_Y.shape, TCS_Final_Test_X.shape, TCS_Test_Y.shape"
      ],
      "metadata": {
        "colab": {
          "base_uri": "https://localhost:8080/"
        },
        "id": "zqLa9kGvEB6V",
        "outputId": "7d97601c-d014-434d-96d7-c19593168cfa"
      },
      "execution_count": null,
      "outputs": [
        {
          "output_type": "execute_result",
          "data": {
            "text/plain": [
              "((126, 5, 3), (126, 5, 1), (11, 5, 3), (11, 5, 1))"
            ]
          },
          "metadata": {},
          "execution_count": 27
        }
      ]
    },
    {
      "cell_type": "markdown",
      "metadata": {
        "id": "WhsAWnFP1-_t"
      },
      "source": [
        "### Model Fitting"
      ]
    },
    {
      "cell_type": "code",
      "metadata": {
        "id": "yMBW7DTXAOo6"
      },
      "source": [
        "TCS_Model = Model()"
      ],
      "execution_count": 28,
      "outputs": []
    },
    {
      "cell_type": "code",
      "metadata": {
        "id": "YIN5tmbx9Pz5"
      },
      "source": [
        "TCS_Model.compile(optimizer = tf.keras.optimizers.Adam(learning_rate=lr_schedule), loss = 'mse', metrics = tf.keras.metrics.RootMeanSquaredError())"
      ],
      "execution_count": 31,
      "outputs": []
    },
    {
      "cell_type": "code",
      "metadata": {
        "id": "BNxXmS48BxEb",
        "colab": {
          "base_uri": "https://localhost:8080/"
        },
        "outputId": "a05208fb-f312-48fe-ef59-5ee35191f566"
      },
      "source": [
        "TCS_hist = TCS_Model.fit(TCS_Final_Train_X, TCS_Train_Y, epochs = 10000, validation_data = (TCS_Final_Test_X, TCS_Test_Y), callbacks=[callback])"
      ],
      "execution_count": 32,
      "outputs": [
        {
          "output_type": "stream",
          "name": "stdout",
          "text": [
            "Epoch 1/10000\n",
            "4/4 [==============================] - 3s 180ms/step - loss: 28598930.0000 - root_mean_squared_error: 5347.7969 - val_loss: 9440228.0000 - val_root_mean_squared_error: 3072.4954\n",
            "Epoch 2/10000\n",
            "4/4 [==============================] - 0s 39ms/step - loss: 17788692.0000 - root_mean_squared_error: 4217.6646 - val_loss: 23532586.0000 - val_root_mean_squared_error: 4851.0400\n",
            "Epoch 3/10000\n",
            "4/4 [==============================] - 0s 44ms/step - loss: 12986796.0000 - root_mean_squared_error: 3603.7197 - val_loss: 2211034.0000 - val_root_mean_squared_error: 1486.9546\n",
            "Epoch 4/10000\n",
            "4/4 [==============================] - 0s 38ms/step - loss: 4390088.0000 - root_mean_squared_error: 2095.2539 - val_loss: 3515449.7500 - val_root_mean_squared_error: 1874.9532\n",
            "Epoch 5/10000\n",
            "4/4 [==============================] - 0s 43ms/step - loss: 2665764.0000 - root_mean_squared_error: 1632.7168 - val_loss: 1020593.8125 - val_root_mean_squared_error: 1010.2444\n",
            "Epoch 6/10000\n",
            "4/4 [==============================] - 0s 39ms/step - loss: 914626.6875 - root_mean_squared_error: 956.3611 - val_loss: 1578549.5000 - val_root_mean_squared_error: 1256.4034\n",
            "Epoch 7/10000\n",
            "4/4 [==============================] - 0s 40ms/step - loss: 656879.9375 - root_mean_squared_error: 810.4813 - val_loss: 183783.2812 - val_root_mean_squared_error: 428.6996\n",
            "Epoch 8/10000\n",
            "4/4 [==============================] - 0s 40ms/step - loss: 372161.8750 - root_mean_squared_error: 610.0507 - val_loss: 63709.2656 - val_root_mean_squared_error: 252.4069\n",
            "Epoch 9/10000\n",
            "4/4 [==============================] - 0s 41ms/step - loss: 207843.4219 - root_mean_squared_error: 455.8985 - val_loss: 411532.0312 - val_root_mean_squared_error: 641.5077\n",
            "Epoch 10/10000\n",
            "4/4 [==============================] - 0s 39ms/step - loss: 206924.6562 - root_mean_squared_error: 454.8897 - val_loss: 49827.7031 - val_root_mean_squared_error: 223.2212\n",
            "Epoch 11/10000\n",
            "4/4 [==============================] - 0s 41ms/step - loss: 168052.1406 - root_mean_squared_error: 409.9416 - val_loss: 338713.1250 - val_root_mean_squared_error: 581.9907\n",
            "Epoch 12/10000\n",
            "4/4 [==============================] - 0s 39ms/step - loss: 127091.6328 - root_mean_squared_error: 356.4991 - val_loss: 51309.3633 - val_root_mean_squared_error: 226.5157\n",
            "Epoch 13/10000\n",
            "4/4 [==============================] - 0s 45ms/step - loss: 113302.0781 - root_mean_squared_error: 336.6038 - val_loss: 173503.7812 - val_root_mean_squared_error: 416.5378\n",
            "Epoch 14/10000\n",
            "4/4 [==============================] - 0s 39ms/step - loss: 108433.8906 - root_mean_squared_error: 329.2930 - val_loss: 61435.6484 - val_root_mean_squared_error: 247.8621\n",
            "Epoch 15/10000\n",
            "4/4 [==============================] - 0s 38ms/step - loss: 109951.3516 - root_mean_squared_error: 331.5891 - val_loss: 44471.9727 - val_root_mean_squared_error: 210.8838\n",
            "Epoch 16/10000\n",
            "4/4 [==============================] - 0s 38ms/step - loss: 109092.5078 - root_mean_squared_error: 330.2915 - val_loss: 151089.3906 - val_root_mean_squared_error: 388.7022\n",
            "Epoch 17/10000\n",
            "4/4 [==============================] - 0s 40ms/step - loss: 110001.6016 - root_mean_squared_error: 331.6649 - val_loss: 30430.3301 - val_root_mean_squared_error: 174.4429\n",
            "Epoch 18/10000\n",
            "4/4 [==============================] - 0s 38ms/step - loss: 106464.5078 - root_mean_squared_error: 326.2890 - val_loss: 69165.5703 - val_root_mean_squared_error: 262.9935\n",
            "Epoch 19/10000\n",
            "4/4 [==============================] - 0s 39ms/step - loss: 94282.3516 - root_mean_squared_error: 307.0543 - val_loss: 44015.5195 - val_root_mean_squared_error: 209.7988\n",
            "Epoch 20/10000\n",
            "4/4 [==============================] - 0s 41ms/step - loss: 95531.4297 - root_mean_squared_error: 309.0816 - val_loss: 57287.9023 - val_root_mean_squared_error: 239.3489\n",
            "Epoch 21/10000\n",
            "4/4 [==============================] - 0s 38ms/step - loss: 96396.0938 - root_mean_squared_error: 310.4772 - val_loss: 52016.6641 - val_root_mean_squared_error: 228.0716\n",
            "Epoch 22/10000\n",
            "4/4 [==============================] - 0s 37ms/step - loss: 96031.3828 - root_mean_squared_error: 309.8893 - val_loss: 48731.2227 - val_root_mean_squared_error: 220.7515\n",
            "Epoch 23/10000\n",
            "4/4 [==============================] - 0s 41ms/step - loss: 98306.9844 - root_mean_squared_error: 313.5395 - val_loss: 40594.9766 - val_root_mean_squared_error: 201.4819\n",
            "Epoch 24/10000\n",
            "4/4 [==============================] - 0s 38ms/step - loss: 95902.7266 - root_mean_squared_error: 309.6817 - val_loss: 28589.4492 - val_root_mean_squared_error: 169.0842\n",
            "Epoch 25/10000\n",
            "4/4 [==============================] - 0s 38ms/step - loss: 120775.8750 - root_mean_squared_error: 347.5282 - val_loss: 58462.0000 - val_root_mean_squared_error: 241.7892\n",
            "Epoch 26/10000\n",
            "4/4 [==============================] - 0s 42ms/step - loss: 118734.6328 - root_mean_squared_error: 344.5789 - val_loss: 132270.9062 - val_root_mean_squared_error: 363.6907\n",
            "Epoch 27/10000\n",
            "4/4 [==============================] - 0s 39ms/step - loss: 113619.6172 - root_mean_squared_error: 337.0751 - val_loss: 30369.1055 - val_root_mean_squared_error: 174.2673\n",
            "Epoch 28/10000\n",
            "4/4 [==============================] - 0s 37ms/step - loss: 111778.9844 - root_mean_squared_error: 334.3336 - val_loss: 31474.4746 - val_root_mean_squared_error: 177.4105\n",
            "Epoch 29/10000\n",
            "4/4 [==============================] - 0s 38ms/step - loss: 125551.4375 - root_mean_squared_error: 354.3324 - val_loss: 125740.5469 - val_root_mean_squared_error: 354.5991\n",
            "Epoch 30/10000\n",
            "4/4 [==============================] - 0s 38ms/step - loss: 113333.8281 - root_mean_squared_error: 336.6509 - val_loss: 54095.8711 - val_root_mean_squared_error: 232.5852\n",
            "Epoch 31/10000\n",
            "4/4 [==============================] - 0s 40ms/step - loss: 98613.8438 - root_mean_squared_error: 314.0284 - val_loss: 33142.0352 - val_root_mean_squared_error: 182.0495\n",
            "Epoch 32/10000\n",
            "4/4 [==============================] - 0s 37ms/step - loss: 105629.7188 - root_mean_squared_error: 325.0073 - val_loss: 89756.5781 - val_root_mean_squared_error: 299.5940\n",
            "Epoch 33/10000\n",
            "4/4 [==============================] - 0s 42ms/step - loss: 100421.3047 - root_mean_squared_error: 316.8932 - val_loss: 32671.1621 - val_root_mean_squared_error: 180.7517\n",
            "Epoch 34/10000\n",
            "4/4 [==============================] - 0s 41ms/step - loss: 98458.3672 - root_mean_squared_error: 313.7808 - val_loss: 29999.7949 - val_root_mean_squared_error: 173.2045\n"
          ]
        }
      ]
    },
    {
      "cell_type": "code",
      "metadata": {
        "id": "GI_rlBQ4HBim"
      },
      "source": [
        "history_dict = TCS_hist.history\n",
        "\n",
        "loss = history_dict[\"loss\"]\n",
        "root_mean_squared_error = history_dict[\"root_mean_squared_error\"]\n",
        "val_loss = history_dict[\"val_loss\"]\n",
        "val_root_mean_squared_error = history_dict[\"val_root_mean_squared_error\"]\n",
        "\n",
        "epochs = range(1, len(loss) + 1)"
      ],
      "execution_count": 33,
      "outputs": []
    },
    {
      "cell_type": "code",
      "metadata": {
        "colab": {
          "base_uri": "https://localhost:8080/",
          "height": 345
        },
        "id": "ExABS58lFHrS",
        "outputId": "b88a3a26-aa93-41b4-c678-6004898f3ed6"
      },
      "source": [
        "fig, (ax1, ax2) = plt.subplots(1, 2)\n",
        "\n",
        "fig.set_figheight(5)\n",
        "fig.set_figwidth(15)\n",
        "\n",
        "ax1.plot(epochs, loss, label = 'Training Loss')\n",
        "ax1.plot(epochs, val_loss, label = 'Validation Loss')\n",
        "ax1.set(xlabel = \"Epochs\", ylabel = \"Loss\")\n",
        "ax1.legend()\n",
        "\n",
        "ax2.plot(epochs, root_mean_squared_error, label = \"Training Root Mean Squared Error\")\n",
        "ax2.plot(epochs, val_root_mean_squared_error, label = \"Validation Root Mean Squared Error\")\n",
        "ax2.set(xlabel = \"Epochs\", ylabel = \"Loss\")\n",
        "ax2.legend()\n",
        "\n",
        "plt.show()"
      ],
      "execution_count": 34,
      "outputs": [
        {
          "output_type": "display_data",
          "data": {
            "image/png": "[encoded data removed]",
            "text/plain": [
              "<Figure size 1080x360 with 2 Axes>"
            ]
          },
          "metadata": {
            "needs_background": "light"
          }
        }
      ]
    },
    {
      "cell_type": "markdown",
      "metadata": {
        "id": "zrM4MV_A1Y26"
      },
      "source": [
        "### Predicting the closing stock price of TCS"
      ]
    },
    {
      "cell_type": "code",
      "metadata": {
        "id": "BlBhKm6dEye7"
      },
      "source": [
        "TCS_prediction = TCS_Model.predict(TCS_Final_Test_X)"
      ],
      "execution_count": 35,
      "outputs": []
    },
    {
      "cell_type": "code",
      "metadata": {
        "colab": {
          "base_uri": "https://localhost:8080/",
          "height": 352
        },
        "id": "zKt-0GuXEFbL",
        "outputId": "b939f799-a51d-4b97-d0d2-0b7f079fb9d2"
      },
      "source": [
        "plt.figure(figsize=(20, 5))\n",
        "plt.plot(TCS['date'][TCS['date'] < '2021-08-01'], TCS['adj close'][TCS['date'] < '2021-08-01'], label = 'Training')\n",
        "plt.plot(TCS['date'][TCS['date'] >= '2021-08-01'], TCS['adj close'][TCS['date'] >= '2021-08-01'], label = 'Testing')\n",
        "plt.plot(TCS['date'][TCS['date'] >= '2021-08-01'][:-7], TCS_prediction.reshape(-1), label = 'Predictions')\n",
        "plt.xlabel('Time')\n",
        "plt.ylabel('Closing Price')\n",
        "plt.legend(loc = 'best')"
      ],
      "execution_count": 36,
      "outputs": [
        {
          "output_type": "execute_result",
          "data": {
            "text/plain": [
              "<matplotlib.legend.Legend at 0x7fd8107e6a10>"
            ]
          },
          "metadata": {},
          "execution_count": 36
        },
        {
          "output_type": "display_data",
          "data": {
            "image/png": "[encoded data removed]",
            "text/plain": [
              "<Figure size 1440x360 with 1 Axes>"
            ]
          },
          "metadata": {
            "needs_background": "light"
          }
        }
      ]
    },
    {
      "cell_type": "code",
      "metadata": {
        "colab": {
          "base_uri": "https://localhost:8080/"
        },
        "id": "Rk9tSItpFveZ",
        "outputId": "feb36cff-547e-443c-9b0a-3811a07ea85d"
      },
      "source": [
        "rmse = math.sqrt(mean_squared_error(TCS_Test_Y.reshape(-1, 5), TCS_prediction))\n",
        "mape = np.mean(np.abs(TCS_prediction - TCS_Test_Y.reshape(-1, 5))/np.abs(TCS_Test_Y.reshape(-1, 5)))\n",
        "print(f'RMSE: {rmse}')\n",
        "print(f'MAPE: {mape}')"
      ],
      "execution_count": 37,
      "outputs": [
        {
          "output_type": "stream",
          "name": "stdout",
          "text": [
            "RMSE: 169.08418343515388\n",
            "MAPE: 0.018315252193243817\n"
          ]
        }
      ]
    },
    {
      "cell_type": "markdown",
      "metadata": {
        "id": "uaLQ4LjCUggQ"
      },
      "source": [
        "#HDFC"
      ]
    },
    {
      "cell_type": "code",
      "metadata": {
        "colab": {
          "base_uri": "https://localhost:8080/",
          "height": 206
        },
        "id": "KziWOZCLUggS",
        "outputId": "f83fe481-e821-4bac-a342-2f83e64f0f4f"
      },
      "source": [
        "HDFC.tail()"
      ],
      "execution_count": 38,
      "outputs": [
        {
          "output_type": "execute_result",
          "data": {
            "text/html": [
              "<div>\n",
              "<style scoped>\n",
              "    .dataframe tbody tr th:only-of-type {\n",
              "        vertical-align: middle;\n",
              "    }\n",
              "\n",
              "    .dataframe tbody tr th {\n",
              "        vertical-align: top;\n",
              "    }\n",
              "\n",
              "    .dataframe thead th {\n",
              "        text-align: right;\n",
              "    }\n",
              "</style>\n",
              "<table border=\"1\" class=\"dataframe\">\n",
              "  <thead>\n",
              "    <tr style=\"text-align: right;\">\n",
              "      <th></th>\n",
              "      <th>ticker</th>\n",
              "      <th>date</th>\n",
              "      <th>open</th>\n",
              "      <th>high</th>\n",
              "      <th>low</th>\n",
              "      <th>close</th>\n",
              "      <th>adj close</th>\n",
              "      <th>volume</th>\n",
              "      <th>Moving Average for 10 days</th>\n",
              "      <th>Moving Average for 20 days</th>\n",
              "      <th>Moving Average for 50 days</th>\n",
              "      <th>Daily Return</th>\n",
              "    </tr>\n",
              "  </thead>\n",
              "  <tbody>\n",
              "    <tr>\n",
              "      <th>692</th>\n",
              "      <td>HDFC.NS</td>\n",
              "      <td>2021-10-25</td>\n",
              "      <td>2905.00</td>\n",
              "      <td>2919.0</td>\n",
              "      <td>2856.25</td>\n",
              "      <td>2896.15</td>\n",
              "      <td>2896.15</td>\n",
              "      <td>3463033.0</td>\n",
              "      <td>2815.240</td>\n",
              "      <td>2783.7400</td>\n",
              "      <td>2772.205</td>\n",
              "      <td>-0.002686</td>\n",
              "    </tr>\n",
              "    <tr>\n",
              "      <th>693</th>\n",
              "      <td>HDFC.NS</td>\n",
              "      <td>2021-10-26</td>\n",
              "      <td>2908.00</td>\n",
              "      <td>2934.0</td>\n",
              "      <td>2896.00</td>\n",
              "      <td>2911.65</td>\n",
              "      <td>2911.65</td>\n",
              "      <td>2429951.0</td>\n",
              "      <td>2831.480</td>\n",
              "      <td>2787.3325</td>\n",
              "      <td>2777.063</td>\n",
              "      <td>0.005352</td>\n",
              "    </tr>\n",
              "    <tr>\n",
              "      <th>694</th>\n",
              "      <td>HDFC.NS</td>\n",
              "      <td>2021-10-27</td>\n",
              "      <td>2920.05</td>\n",
              "      <td>2948.0</td>\n",
              "      <td>2901.40</td>\n",
              "      <td>2915.00</td>\n",
              "      <td>2915.00</td>\n",
              "      <td>3136162.0</td>\n",
              "      <td>2847.470</td>\n",
              "      <td>2792.8350</td>\n",
              "      <td>2781.280</td>\n",
              "      <td>0.001151</td>\n",
              "    </tr>\n",
              "    <tr>\n",
              "      <th>695</th>\n",
              "      <td>HDFC.NS</td>\n",
              "      <td>2021-10-28</td>\n",
              "      <td>2891.00</td>\n",
              "      <td>2924.3</td>\n",
              "      <td>2863.15</td>\n",
              "      <td>2900.80</td>\n",
              "      <td>2900.80</td>\n",
              "      <td>3302501.0</td>\n",
              "      <td>2860.990</td>\n",
              "      <td>2800.5525</td>\n",
              "      <td>2784.673</td>\n",
              "      <td>-0.004871</td>\n",
              "    </tr>\n",
              "    <tr>\n",
              "      <th>696</th>\n",
              "      <td>HDFC.NS</td>\n",
              "      <td>2021-10-29</td>\n",
              "      <td>2891.00</td>\n",
              "      <td>2893.0</td>\n",
              "      <td>2791.20</td>\n",
              "      <td>2844.70</td>\n",
              "      <td>2844.70</td>\n",
              "      <td>3829786.0</td>\n",
              "      <td>2864.585</td>\n",
              "      <td>2805.0725</td>\n",
              "      <td>2786.799</td>\n",
              "      <td>-0.019339</td>\n",
              "    </tr>\n",
              "  </tbody>\n",
              "</table>\n",
              "</div>"
            ],
            "text/plain": [
              "      ticker        date  ...  Moving Average for 50 days  Daily Return\n",
              "692  HDFC.NS  2021-10-25  ...                    2772.205     -0.002686\n",
              "693  HDFC.NS  2021-10-26  ...                    2777.063      0.005352\n",
              "694  HDFC.NS  2021-10-27  ...                    2781.280      0.001151\n",
              "695  HDFC.NS  2021-10-28  ...                    2784.673     -0.004871\n",
              "696  HDFC.NS  2021-10-29  ...                    2786.799     -0.019339\n",
              "\n",
              "[5 rows x 12 columns]"
            ]
          },
          "metadata": {},
          "execution_count": 38
        }
      ]
    },
    {
      "cell_type": "code",
      "metadata": {
        "colab": {
          "base_uri": "https://localhost:8080/"
        },
        "id": "tX-a0omoUggT",
        "outputId": "a12cd536-8ca8-47c9-c0b9-1fb2e085f59c"
      },
      "source": [
        "HDFC.info()"
      ],
      "execution_count": 39,
      "outputs": [
        {
          "output_type": "stream",
          "name": "stdout",
          "text": [
            "<class 'pandas.core.frame.DataFrame'>\n",
            "RangeIndex: 697 entries, 0 to 696\n",
            "Data columns (total 12 columns):\n",
            " #   Column                      Non-Null Count  Dtype  \n",
            "---  ------                      --------------  -----  \n",
            " 0   ticker                      697 non-null    object \n",
            " 1   date                        697 non-null    object \n",
            " 2   open                        697 non-null    float64\n",
            " 3   high                        697 non-null    float64\n",
            " 4   low                         697 non-null    float64\n",
            " 5   close                       697 non-null    float64\n",
            " 6   adj close                   697 non-null    float64\n",
            " 7   volume                      697 non-null    float64\n",
            " 8   Moving Average for 10 days  688 non-null    float64\n",
            " 9   Moving Average for 20 days  678 non-null    float64\n",
            " 10  Moving Average for 50 days  648 non-null    float64\n",
            " 11  Daily Return                696 non-null    float64\n",
            "dtypes: float64(10), object(2)\n",
            "memory usage: 65.5+ KB\n"
          ]
        }
      ]
    },
    {
      "cell_type": "code",
      "metadata": {
        "id": "98QURM3kUggU"
      },
      "source": [
        "# Change Dtype of date column\n",
        "HDFC[\"date\"] = pd.to_datetime(HDFC[\"date\"])"
      ],
      "execution_count": 40,
      "outputs": []
    },
    {
      "cell_type": "markdown",
      "metadata": {
        "id": "Gt3z7HMZUggU"
      },
      "source": [
        "###Split the Data into Training and Test set\n",
        "    Training Period: 2019-01-01 - 2021-08-01\n",
        "\n",
        "    Testing Period:  2021-08-01 - 2021-10-29"
      ]
    },
    {
      "cell_type": "code",
      "metadata": {
        "id": "mPYTOsbGQpPx"
      },
      "source": [
        "HDFC_date = '2021-08-01'\n",
        "HDFC_Train_X, HDFC_Train_Y, HDFC_Test_X, HDFC_Test_Y = Dataset(HDFC,'adj close', 'date', HDFC_date)\n",
        "HDFC_Train_SMA_X, HDFC_Train_SMA_Y, HDFC_Test_SMA_X, HDFC_Test_SMA_Y = Dataset(HDFC_SMA_sub,'SMA', 'time', HDFC_date)\n",
        "HDFC_Train_EMA_X, HDFC_Train_EMA_Y, HDFC_Test_EMA_X, HDFC_Test_EMA_Y = Dataset(HDFC_EMA_sub,'EMA', 'time', HDFC_date)"
      ],
      "execution_count": 41,
      "outputs": []
    },
    {
      "cell_type": "code",
      "metadata": {
        "colab": {
          "base_uri": "https://localhost:8080/"
        },
        "outputId": "6d801bf4-e17c-4219-97d2-29f0af89c855",
        "id": "D3E5eRRiQpPz"
      },
      "source": [
        "HDFC_Train_X.shape, HDFC_Train_Y.shape, HDFC_Test_X.shape, HDFC_Test_Y.shape"
      ],
      "execution_count": 42,
      "outputs": [
        {
          "output_type": "execute_result",
          "data": {
            "text/plain": [
              "((126, 5, 1), (126, 5, 1), (11, 5, 1), (11, 5, 1))"
            ]
          },
          "metadata": {},
          "execution_count": 42
        }
      ]
    },
    {
      "cell_type": "code",
      "source": [
        "HDFC['adj close'].head(20)"
      ],
      "metadata": {
        "colab": {
          "base_uri": "https://localhost:8080/"
        },
        "outputId": "43d97125-910a-4b5f-da62-f595c117e72e",
        "id": "BR4RsKKZQpP0"
      },
      "execution_count": 43,
      "outputs": [
        {
          "output_type": "execute_result",
          "data": {
            "text/plain": [
              "0     1914.72\n",
              "1     1887.70\n",
              "2     1845.95\n",
              "3     1880.02\n",
              "4     1880.31\n",
              "5     1867.01\n",
              "6     1901.32\n",
              "7     1887.17\n",
              "8     1897.94\n",
              "9     1876.78\n",
              "10    1898.66\n",
              "11    1882.31\n",
              "12    1910.47\n",
              "13    1912.67\n",
              "14    1910.38\n",
              "15    1886.50\n",
              "16    1866.35\n",
              "17    1878.59\n",
              "18    1884.98\n",
              "19    1855.53\n",
              "Name: adj close, dtype: float64"
            ]
          },
          "metadata": {},
          "execution_count": 43
        }
      ]
    },
    {
      "cell_type": "code",
      "source": [
        "HDFC_Train_X[0], HDFC_Train_Y[0]"
      ],
      "metadata": {
        "colab": {
          "base_uri": "https://localhost:8080/"
        },
        "outputId": "ce6fc7b6-6dcc-465b-8dac-de1393ed06f7",
        "id": "pf4pkcBVQpP0"
      },
      "execution_count": 44,
      "outputs": [
        {
          "output_type": "execute_result",
          "data": {
            "text/plain": [
              "(array([[1914.72],\n",
              "        [1887.7 ],\n",
              "        [1845.95],\n",
              "        [1880.02],\n",
              "        [1880.31]]), array([[1867.01],\n",
              "        [1901.32],\n",
              "        [1887.17],\n",
              "        [1897.94],\n",
              "        [1876.78]]))"
            ]
          },
          "metadata": {},
          "execution_count": 44
        }
      ]
    },
    {
      "cell_type": "code",
      "source": [
        "HDFC_Train_X[1], HDFC_Train_Y[1]"
      ],
      "metadata": {
        "colab": {
          "base_uri": "https://localhost:8080/"
        },
        "outputId": "40c024f8-8d1b-4c63-f7ee-7b2b6ecf6112",
        "id": "Djm-G8cnQpP1"
      },
      "execution_count": 45,
      "outputs": [
        {
          "output_type": "execute_result",
          "data": {
            "text/plain": [
              "(array([[1867.01],\n",
              "        [1901.32],\n",
              "        [1887.17],\n",
              "        [1897.94],\n",
              "        [1876.78]]), array([[1898.66],\n",
              "        [1882.31],\n",
              "        [1910.47],\n",
              "        [1912.67],\n",
              "        [1910.38]]))"
            ]
          },
          "metadata": {},
          "execution_count": 45
        }
      ]
    },
    {
      "cell_type": "code",
      "source": [
        "HDFC_Train_SMA_X.shape, HDFC_Train_SMA_Y.shape, HDFC_Test_SMA_X.shape, HDFC_Test_SMA_X.shape"
      ],
      "metadata": {
        "colab": {
          "base_uri": "https://localhost:8080/"
        },
        "outputId": "a639193b-5b52-42f4-9e56-3ab2d253db3e",
        "id": "nTrMGTmOQpP1"
      },
      "execution_count": 46,
      "outputs": [
        {
          "output_type": "execute_result",
          "data": {
            "text/plain": [
              "((126, 5, 1), (126, 5, 1), (11, 5, 1), (11, 5, 1))"
            ]
          },
          "metadata": {},
          "execution_count": 46
        }
      ]
    },
    {
      "cell_type": "code",
      "source": [
        "HDFC_Train_EMA_X.shape, HDFC_Train_EMA_Y.shape, HDFC_Test_EMA_X.shape, HDFC_Test_EMA_X.shape"
      ],
      "metadata": {
        "colab": {
          "base_uri": "https://localhost:8080/"
        },
        "outputId": "c7e84d45-d0c2-471b-9c11-803edeca0950",
        "id": "C7Zwqcr6QpP1"
      },
      "execution_count": 47,
      "outputs": [
        {
          "output_type": "execute_result",
          "data": {
            "text/plain": [
              "((126, 5, 1), (126, 5, 1), (11, 5, 1), (11, 5, 1))"
            ]
          },
          "metadata": {},
          "execution_count": 47
        }
      ]
    },
    {
      "cell_type": "code",
      "source": [
        "HDFC_Train_X[0], HDFC_Train_SMA_X[0]"
      ],
      "metadata": {
        "colab": {
          "base_uri": "https://localhost:8080/"
        },
        "outputId": "5ae7f8fe-ac16-4aed-f6eb-9e36d55022b2",
        "id": "iGQpOYCjQpP1"
      },
      "execution_count": 48,
      "outputs": [
        {
          "output_type": "execute_result",
          "data": {
            "text/plain": [
              "(array([[1914.72],\n",
              "        [1887.7 ],\n",
              "        [1845.95],\n",
              "        [1880.02],\n",
              "        [1880.31]]), array([[1902.8489],\n",
              "        [1905.3586],\n",
              "        [1901.2421],\n",
              "        [1900.747 ],\n",
              "        [1902.8392]]))"
            ]
          },
          "metadata": {},
          "execution_count": 48
        }
      ]
    },
    {
      "cell_type": "code",
      "source": [
        "HDFC_Final_Train_X = np.concatenate((HDFC_Train_X, HDFC_Train_SMA_X, HDFC_Train_EMA_X), axis=2)\n",
        "HDFC_Final_Test_X = np.concatenate((HDFC_Test_X, HDFC_Test_SMA_X, HDFC_Test_EMA_X), axis=2)"
      ],
      "metadata": {
        "id": "_tou0RXuQpP1"
      },
      "execution_count": 49,
      "outputs": []
    },
    {
      "cell_type": "code",
      "source": [
        "HDFC_Final_Train_X.shape, HDFC_Train_Y.shape, HDFC_Final_Test_X.shape, HDFC_Test_Y.shape"
      ],
      "metadata": {
        "colab": {
          "base_uri": "https://localhost:8080/"
        },
        "outputId": "f2b2d77f-feea-4a7b-c570-18ea6a4c0a5f",
        "id": "dsRvQwRFQpP2"
      },
      "execution_count": 50,
      "outputs": [
        {
          "output_type": "execute_result",
          "data": {
            "text/plain": [
              "((126, 5, 3), (126, 5, 1), (11, 5, 3), (11, 5, 1))"
            ]
          },
          "metadata": {},
          "execution_count": 50
        }
      ]
    },
    {
      "cell_type": "code",
      "metadata": {
        "colab": {
          "base_uri": "https://localhost:8080/"
        },
        "id": "mkdMVNE9UggV",
        "outputId": "ea8970c6-ca45-486a-ccdf-0ccd9cf1ea9a"
      },
      "source": [
        "HDFC_Train_X.shape, HDFC_Train_Y.shape, HDFC_Test_X.shape, HDFC_Test_Y.shape"
      ],
      "execution_count": 52,
      "outputs": [
        {
          "output_type": "execute_result",
          "data": {
            "text/plain": [
              "((126, 5, 1), (126, 5, 1), (11, 5, 1), (11, 5, 1))"
            ]
          },
          "metadata": {},
          "execution_count": 52
        }
      ]
    },
    {
      "cell_type": "markdown",
      "metadata": {
        "id": "gXpIgfvARHzG"
      },
      "source": [
        "### Model Fitting"
      ]
    },
    {
      "cell_type": "code",
      "metadata": {
        "id": "GAZHrmKBRHzW"
      },
      "source": [
        "HDFC_Model = Model()"
      ],
      "execution_count": 53,
      "outputs": []
    },
    {
      "cell_type": "code",
      "metadata": {
        "id": "NMO3hRw-RHzX"
      },
      "source": [
        "HDFC_Model.compile(optimizer = tf.keras.optimizers.Adam(learning_rate=lr_schedule), loss = 'mse', metrics = tf.keras.metrics.RootMeanSquaredError())"
      ],
      "execution_count": 54,
      "outputs": []
    },
    {
      "cell_type": "code",
      "metadata": {
        "colab": {
          "base_uri": "https://localhost:8080/"
        },
        "outputId": "37d0b4af-17c6-4a76-cafd-714d25ef68dd",
        "id": "OIjFsGs6RHzX"
      },
      "source": [
        "HDFC_hist = HDFC_Model.fit(HDFC_Final_Train_X, HDFC_Train_Y, epochs = 10000, validation_data = (HDFC_Final_Test_X, HDFC_Test_Y), callbacks=[callback])"
      ],
      "execution_count": 55,
      "outputs": [
        {
          "output_type": "stream",
          "name": "stdout",
          "text": [
            "Epoch 1/10000\n",
            "4/4 [==============================] - 3s 166ms/step - loss: 8852295.0000 - root_mean_squared_error: 2975.2808 - val_loss: 761526.0625 - val_root_mean_squared_error: 872.6547\n",
            "Epoch 2/10000\n",
            "4/4 [==============================] - 0s 38ms/step - loss: 2459019.5000 - root_mean_squared_error: 1568.1261 - val_loss: 3515015.0000 - val_root_mean_squared_error: 1874.8373\n",
            "Epoch 3/10000\n",
            "4/4 [==============================] - 0s 38ms/step - loss: 1248284.5000 - root_mean_squared_error: 1117.2665 - val_loss: 1380410.3750 - val_root_mean_squared_error: 1174.9087\n",
            "Epoch 4/10000\n",
            "4/4 [==============================] - 0s 38ms/step - loss: 517747.2188 - root_mean_squared_error: 719.5465 - val_loss: 374039.2812 - val_root_mean_squared_error: 611.5875\n",
            "Epoch 5/10000\n",
            "4/4 [==============================] - 0s 39ms/step - loss: 98734.9766 - root_mean_squared_error: 314.2212 - val_loss: 130287.0547 - val_root_mean_squared_error: 360.9530\n",
            "Epoch 6/10000\n",
            "4/4 [==============================] - 0s 38ms/step - loss: 129287.4922 - root_mean_squared_error: 359.5657 - val_loss: 101218.1562 - val_root_mean_squared_error: 318.1480\n",
            "Epoch 7/10000\n",
            "4/4 [==============================] - 0s 40ms/step - loss: 88558.0312 - root_mean_squared_error: 297.5870 - val_loss: 9412.7744 - val_root_mean_squared_error: 97.0195\n",
            "Epoch 8/10000\n",
            "4/4 [==============================] - 0s 39ms/step - loss: 49248.9219 - root_mean_squared_error: 221.9210 - val_loss: 30890.1426 - val_root_mean_squared_error: 175.7559\n",
            "Epoch 9/10000\n",
            "4/4 [==============================] - 0s 42ms/step - loss: 24234.4824 - root_mean_squared_error: 155.6743 - val_loss: 10489.6807 - val_root_mean_squared_error: 102.4191\n",
            "Epoch 10/10000\n",
            "4/4 [==============================] - 0s 37ms/step - loss: 13206.2422 - root_mean_squared_error: 114.9184 - val_loss: 24600.9746 - val_root_mean_squared_error: 156.8470\n",
            "Epoch 11/10000\n",
            "4/4 [==============================] - 0s 37ms/step - loss: 13261.5225 - root_mean_squared_error: 115.1587 - val_loss: 11578.2373 - val_root_mean_squared_error: 107.6022\n",
            "Epoch 12/10000\n",
            "4/4 [==============================] - 0s 38ms/step - loss: 13041.5420 - root_mean_squared_error: 114.1996 - val_loss: 31435.1855 - val_root_mean_squared_error: 177.2997\n",
            "Epoch 13/10000\n",
            "4/4 [==============================] - 0s 38ms/step - loss: 29933.4668 - root_mean_squared_error: 173.0129 - val_loss: 39471.0625 - val_root_mean_squared_error: 198.6732\n",
            "Epoch 14/10000\n",
            "4/4 [==============================] - 0s 41ms/step - loss: 27820.5820 - root_mean_squared_error: 166.7950 - val_loss: 13653.5752 - val_root_mean_squared_error: 116.8485\n",
            "Epoch 15/10000\n",
            "4/4 [==============================] - 0s 38ms/step - loss: 19212.5469 - root_mean_squared_error: 138.6093 - val_loss: 43953.9023 - val_root_mean_squared_error: 209.6519\n",
            "Epoch 16/10000\n",
            "4/4 [==============================] - 0s 41ms/step - loss: 21891.9941 - root_mean_squared_error: 147.9594 - val_loss: 78371.1797 - val_root_mean_squared_error: 279.9485\n",
            "Epoch 17/10000\n",
            "4/4 [==============================] - 0s 39ms/step - loss: 32262.6113 - root_mean_squared_error: 179.6180 - val_loss: 9690.3037 - val_root_mean_squared_error: 98.4393\n"
          ]
        }
      ]
    },
    {
      "cell_type": "code",
      "metadata": {
        "id": "4Cq5f1MYRHzY"
      },
      "source": [
        "history_dict = HDFC_hist.history\n",
        "\n",
        "loss = history_dict[\"loss\"]\n",
        "root_mean_squared_error = history_dict[\"root_mean_squared_error\"]\n",
        "val_loss = history_dict[\"val_loss\"]\n",
        "val_root_mean_squared_error = history_dict[\"val_root_mean_squared_error\"]\n",
        "\n",
        "epochs = range(1, len(loss) + 1)"
      ],
      "execution_count": 56,
      "outputs": []
    },
    {
      "cell_type": "code",
      "metadata": {
        "colab": {
          "base_uri": "https://localhost:8080/",
          "height": 345
        },
        "outputId": "6555098d-215b-4689-deac-94289a92776e",
        "id": "yH2jvwgvRHzY"
      },
      "source": [
        "fig, (ax1, ax2) = plt.subplots(1, 2)\n",
        "\n",
        "fig.set_figheight(5)\n",
        "fig.set_figwidth(15)\n",
        "\n",
        "ax1.plot(epochs, loss, label = 'Training Loss')\n",
        "ax1.plot(epochs, val_loss, label = 'Validation Loss')\n",
        "ax1.set(xlabel = \"Epochs\", ylabel = \"Loss\")\n",
        "ax1.legend()\n",
        "\n",
        "ax2.plot(epochs, root_mean_squared_error, label = \"Training Root Mean Squared Error\")\n",
        "ax2.plot(epochs, val_root_mean_squared_error, label = \"Validation Root Mean Squared Error\")\n",
        "ax2.set(xlabel = \"Epochs\", ylabel = \"Loss\")\n",
        "ax2.legend()\n",
        "\n",
        "plt.show()"
      ],
      "execution_count": 57,
      "outputs": [
        {
          "output_type": "display_data",
          "data": {
            "image/png": "[encoded data removed]",
            "text/plain": [
              "<Figure size 1080x360 with 2 Axes>"
            ]
          },
          "metadata": {
            "needs_background": "light"
          }
        }
      ]
    },
    {
      "cell_type": "markdown",
      "metadata": {
        "id": "2MDxWPXCRHzZ"
      },
      "source": [
        "### Predicting the closing stock price of HDFC"
      ]
    },
    {
      "cell_type": "code",
      "metadata": {
        "id": "YIW_F1mWRHzZ"
      },
      "source": [
        "HDFC_prediction = HDFC_Model.predict(HDFC_Final_Test_X)"
      ],
      "execution_count": 58,
      "outputs": []
    },
    {
      "cell_type": "code",
      "metadata": {
        "colab": {
          "base_uri": "https://localhost:8080/",
          "height": 352
        },
        "outputId": "d5302b2e-f55f-4dc4-9023-b2a3955c2865",
        "id": "h6GREvsCRHzZ"
      },
      "source": [
        "plt.figure(figsize=(20, 5))\n",
        "plt.plot(HDFC['date'][HDFC['date'] < '2021-08-01'], HDFC['adj close'][HDFC['date'] < '2021-08-01'], label = 'Training')\n",
        "plt.plot(HDFC['date'][HDFC['date'] >= '2021-08-01'], HDFC['adj close'][HDFC['date'] >= '2021-08-01'], label = 'Testing')\n",
        "plt.plot(HDFC['date'][HDFC['date'] >= '2021-08-01'][:-7], HDFC_prediction.reshape(-1), label = 'Predictions')\n",
        "plt.xlabel('Time')\n",
        "plt.ylabel('Closing Price')\n",
        "plt.legend(loc = 'best')"
      ],
      "execution_count": 59,
      "outputs": [
        {
          "output_type": "execute_result",
          "data": {
            "text/plain": [
              "<matplotlib.legend.Legend at 0x7fd80c9f23d0>"
            ]
          },
          "metadata": {},
          "execution_count": 59
        },
        {
          "output_type": "display_data",
          "data": {
            "image/png": "[encoded data removed]",
            "text/plain": [
              "<Figure size 1440x360 with 1 Axes>"
            ]
          },
          "metadata": {
            "needs_background": "light"
          }
        }
      ]
    },
    {
      "cell_type": "code",
      "metadata": {
        "colab": {
          "base_uri": "https://localhost:8080/"
        },
        "outputId": "882bb06f-8a94-46bf-be03-bb257e3fd034",
        "id": "8fGq3f-bRHza"
      },
      "source": [
        "rmse = math.sqrt(mean_squared_error(HDFC_Test_Y.reshape(-1, 5), HDFC_prediction))\n",
        "mape = np.mean(np.abs(HDFC_prediction - HDFC_Test_Y.reshape(-1, 5))/np.abs(HDFC_Test_Y.reshape(-1, 5)))\n",
        "print(f'RMSE: {rmse}')\n",
        "print(f'MAPE: {mape}')"
      ],
      "execution_count": 60,
      "outputs": [
        {
          "output_type": "stream",
          "name": "stdout",
          "text": [
            "RMSE: 97.0194573739215\n",
            "MAPE: 0.02780011097631451\n"
          ]
        }
      ]
    },
    {
      "cell_type": "markdown",
      "metadata": {
        "id": "shXnh-KgU02-"
      },
      "source": [
        "#HUL"
      ]
    },
    {
      "cell_type": "code",
      "metadata": {
        "colab": {
          "base_uri": "https://localhost:8080/",
          "height": 206
        },
        "id": "VWwlCmgMU02-",
        "outputId": "4906a9f8-d896-4473-c0c0-5f9682b9b1c2"
      },
      "source": [
        "HUL.tail()"
      ],
      "execution_count": 61,
      "outputs": [
        {
          "output_type": "execute_result",
          "data": {
            "text/html": [
              "<div>\n",
              "<style scoped>\n",
              "    .dataframe tbody tr th:only-of-type {\n",
              "        vertical-align: middle;\n",
              "    }\n",
              "\n",
              "    .dataframe tbody tr th {\n",
              "        vertical-align: top;\n",
              "    }\n",
              "\n",
              "    .dataframe thead th {\n",
              "        text-align: right;\n",
              "    }\n",
              "</style>\n",
              "<table border=\"1\" class=\"dataframe\">\n",
              "  <thead>\n",
              "    <tr style=\"text-align: right;\">\n",
              "      <th></th>\n",
              "      <th>ticker</th>\n",
              "      <th>date</th>\n",
              "      <th>open</th>\n",
              "      <th>high</th>\n",
              "      <th>low</th>\n",
              "      <th>close</th>\n",
              "      <th>adj close</th>\n",
              "      <th>volume</th>\n",
              "      <th>Moving Average for 10 days</th>\n",
              "      <th>Moving Average for 20 days</th>\n",
              "      <th>Moving Average for 50 days</th>\n",
              "      <th>Daily Return</th>\n",
              "    </tr>\n",
              "  </thead>\n",
              "  <tbody>\n",
              "    <tr>\n",
              "      <th>692</th>\n",
              "      <td>HINDUNILVR.NS</td>\n",
              "      <td>2021-10-25</td>\n",
              "      <td>2454.1</td>\n",
              "      <td>2463.55</td>\n",
              "      <td>2410.00</td>\n",
              "      <td>2455.85</td>\n",
              "      <td>2455.85</td>\n",
              "      <td>1560090.0</td>\n",
              "      <td>2565.270</td>\n",
              "      <td>2628.3775</td>\n",
              "      <td>2665.198</td>\n",
              "      <td>0.000713</td>\n",
              "    </tr>\n",
              "    <tr>\n",
              "      <th>693</th>\n",
              "      <td>HINDUNILVR.NS</td>\n",
              "      <td>2021-10-26</td>\n",
              "      <td>2468.9</td>\n",
              "      <td>2468.90</td>\n",
              "      <td>2417.05</td>\n",
              "      <td>2436.85</td>\n",
              "      <td>2436.85</td>\n",
              "      <td>1594662.0</td>\n",
              "      <td>2544.445</td>\n",
              "      <td>2614.7450</td>\n",
              "      <td>2666.089</td>\n",
              "      <td>-0.007737</td>\n",
              "    </tr>\n",
              "    <tr>\n",
              "      <th>694</th>\n",
              "      <td>HINDUNILVR.NS</td>\n",
              "      <td>2021-10-27</td>\n",
              "      <td>2455.0</td>\n",
              "      <td>2455.20</td>\n",
              "      <td>2391.15</td>\n",
              "      <td>2396.60</td>\n",
              "      <td>2396.60</td>\n",
              "      <td>3082296.0</td>\n",
              "      <td>2516.490</td>\n",
              "      <td>2598.3825</td>\n",
              "      <td>2665.931</td>\n",
              "      <td>-0.016517</td>\n",
              "    </tr>\n",
              "    <tr>\n",
              "      <th>695</th>\n",
              "      <td>HINDUNILVR.NS</td>\n",
              "      <td>2021-10-28</td>\n",
              "      <td>2400.0</td>\n",
              "      <td>2416.00</td>\n",
              "      <td>2368.00</td>\n",
              "      <td>2389.65</td>\n",
              "      <td>2389.65</td>\n",
              "      <td>2014755.0</td>\n",
              "      <td>2490.780</td>\n",
              "      <td>2583.6000</td>\n",
              "      <td>2665.196</td>\n",
              "      <td>-0.002900</td>\n",
              "    </tr>\n",
              "    <tr>\n",
              "      <th>696</th>\n",
              "      <td>HINDUNILVR.NS</td>\n",
              "      <td>2021-10-29</td>\n",
              "      <td>2400.0</td>\n",
              "      <td>2400.00</td>\n",
              "      <td>2376.00</td>\n",
              "      <td>2383.60</td>\n",
              "      <td>2383.60</td>\n",
              "      <td>847292.0</td>\n",
              "      <td>2464.185</td>\n",
              "      <td>2567.6900</td>\n",
              "      <td>2663.192</td>\n",
              "      <td>-0.002532</td>\n",
              "    </tr>\n",
              "  </tbody>\n",
              "</table>\n",
              "</div>"
            ],
            "text/plain": [
              "            ticker        date  ...  Moving Average for 50 days  Daily Return\n",
              "692  HINDUNILVR.NS  2021-10-25  ...                    2665.198      0.000713\n",
              "693  HINDUNILVR.NS  2021-10-26  ...                    2666.089     -0.007737\n",
              "694  HINDUNILVR.NS  2021-10-27  ...                    2665.931     -0.016517\n",
              "695  HINDUNILVR.NS  2021-10-28  ...                    2665.196     -0.002900\n",
              "696  HINDUNILVR.NS  2021-10-29  ...                    2663.192     -0.002532\n",
              "\n",
              "[5 rows x 12 columns]"
            ]
          },
          "metadata": {},
          "execution_count": 61
        }
      ]
    },
    {
      "cell_type": "code",
      "metadata": {
        "colab": {
          "base_uri": "https://localhost:8080/"
        },
        "id": "GQsJJxMCU02_",
        "outputId": "7f5eaaa3-34bf-4d76-93a4-74b00a3ca6eb"
      },
      "source": [
        "HUL.info()"
      ],
      "execution_count": 62,
      "outputs": [
        {
          "output_type": "stream",
          "name": "stdout",
          "text": [
            "<class 'pandas.core.frame.DataFrame'>\n",
            "RangeIndex: 697 entries, 0 to 696\n",
            "Data columns (total 12 columns):\n",
            " #   Column                      Non-Null Count  Dtype  \n",
            "---  ------                      --------------  -----  \n",
            " 0   ticker                      697 non-null    object \n",
            " 1   date                        697 non-null    object \n",
            " 2   open                        697 non-null    float64\n",
            " 3   high                        697 non-null    float64\n",
            " 4   low                         697 non-null    float64\n",
            " 5   close                       697 non-null    float64\n",
            " 6   adj close                   697 non-null    float64\n",
            " 7   volume                      697 non-null    float64\n",
            " 8   Moving Average for 10 days  688 non-null    float64\n",
            " 9   Moving Average for 20 days  678 non-null    float64\n",
            " 10  Moving Average for 50 days  648 non-null    float64\n",
            " 11  Daily Return                696 non-null    float64\n",
            "dtypes: float64(10), object(2)\n",
            "memory usage: 65.5+ KB\n"
          ]
        }
      ]
    },
    {
      "cell_type": "code",
      "metadata": {
        "id": "Twbu9zr3U02_"
      },
      "source": [
        "# Change Dtype of date column\n",
        "HUL[\"date\"] = pd.to_datetime(HUL[\"date\"])"
      ],
      "execution_count": 63,
      "outputs": []
    },
    {
      "cell_type": "markdown",
      "metadata": {
        "id": "2jFoA966U02_"
      },
      "source": [
        "###Split the Data into Training and Test set\n",
        "    Training Period: 2019-01-01 - 2021-08-01\n",
        "\n",
        "    Testing Period:  2021-08-01 - 2021-10-29"
      ]
    },
    {
      "cell_type": "code",
      "metadata": {
        "id": "gC65c66wSNJj"
      },
      "source": [
        "HUL_date = '2021-08-01'\n",
        "HUL_Train_X, HUL_Train_Y, HUL_Test_X, HUL_Test_Y = Dataset(HUL,'adj close', 'date', HUL_date)\n",
        "HUL_Train_SMA_X, HUL_Train_SMA_Y, HUL_Test_SMA_X, HUL_Test_SMA_Y = Dataset(HUL_SMA_sub,'SMA', 'time', HUL_date)\n",
        "HUL_Train_EMA_X, HUL_Train_EMA_Y, HUL_Test_EMA_X, HUL_Test_EMA_Y = Dataset(HUL_EMA_sub,'EMA', 'time', HUL_date)"
      ],
      "execution_count": 64,
      "outputs": []
    },
    {
      "cell_type": "code",
      "metadata": {
        "colab": {
          "base_uri": "https://localhost:8080/"
        },
        "outputId": "39999c07-fd96-4fb4-b277-b49596843337",
        "id": "6hBjUBwISNJ8"
      },
      "source": [
        "HUL_Train_X.shape, HUL_Train_Y.shape, HUL_Test_X.shape, HUL_Test_Y.shape"
      ],
      "execution_count": 65,
      "outputs": [
        {
          "output_type": "execute_result",
          "data": {
            "text/plain": [
              "((126, 5, 1), (126, 5, 1), (11, 5, 1), (11, 5, 1))"
            ]
          },
          "metadata": {},
          "execution_count": 65
        }
      ]
    },
    {
      "cell_type": "code",
      "source": [
        "HUL['adj close'].head(20)"
      ],
      "metadata": {
        "colab": {
          "base_uri": "https://localhost:8080/"
        },
        "outputId": "e7e5d6d3-165e-479c-8656-b51c92e5c1e1",
        "id": "xzpENNznSNJ8"
      },
      "execution_count": 66,
      "outputs": [
        {
          "output_type": "execute_result",
          "data": {
            "text/plain": [
              "0     1735.48\n",
              "1     1719.58\n",
              "2     1723.24\n",
              "3     1716.78\n",
              "4     1719.91\n",
              "5     1706.33\n",
              "6     1719.96\n",
              "7     1721.12\n",
              "8     1704.93\n",
              "9     1699.63\n",
              "10    1724.64\n",
              "11    1707.97\n",
              "12    1687.68\n",
              "13    1680.55\n",
              "14    1683.25\n",
              "15    1686.43\n",
              "16    1702.81\n",
              "17    1695.39\n",
              "18    1692.79\n",
              "19    1679.49\n",
              "Name: adj close, dtype: float64"
            ]
          },
          "metadata": {},
          "execution_count": 66
        }
      ]
    },
    {
      "cell_type": "code",
      "source": [
        "HUL_Train_X[0], HUL_Train_Y[0]"
      ],
      "metadata": {
        "colab": {
          "base_uri": "https://localhost:8080/"
        },
        "outputId": "b6d85e4b-acaa-43e0-fa2c-bb23b6a438c2",
        "id": "Q_HH67VASNJ9"
      },
      "execution_count": 67,
      "outputs": [
        {
          "output_type": "execute_result",
          "data": {
            "text/plain": [
              "(array([[1735.48],\n",
              "        [1719.58],\n",
              "        [1723.24],\n",
              "        [1716.78],\n",
              "        [1719.91]]), array([[1706.33],\n",
              "        [1719.96],\n",
              "        [1721.12],\n",
              "        [1704.93],\n",
              "        [1699.63]]))"
            ]
          },
          "metadata": {},
          "execution_count": 67
        }
      ]
    },
    {
      "cell_type": "code",
      "source": [
        "HUL_Train_X[1], HUL_Train_Y[1]"
      ],
      "metadata": {
        "colab": {
          "base_uri": "https://localhost:8080/"
        },
        "outputId": "8451f3be-5f44-489b-ca6d-be7d166e57b1",
        "id": "VnymesqHSNJ-"
      },
      "execution_count": 68,
      "outputs": [
        {
          "output_type": "execute_result",
          "data": {
            "text/plain": [
              "(array([[1706.33],\n",
              "        [1719.96],\n",
              "        [1721.12],\n",
              "        [1704.93],\n",
              "        [1699.63]]), array([[1724.64],\n",
              "        [1707.97],\n",
              "        [1687.68],\n",
              "        [1680.55],\n",
              "        [1683.25]]))"
            ]
          },
          "metadata": {},
          "execution_count": 68
        }
      ]
    },
    {
      "cell_type": "code",
      "source": [
        "HUL_Train_SMA_X.shape, HUL_Train_SMA_Y.shape, HUL_Test_SMA_X.shape, HUL_Test_SMA_X.shape"
      ],
      "metadata": {
        "colab": {
          "base_uri": "https://localhost:8080/"
        },
        "outputId": "400825b4-6581-4bf5-cde2-53ffe889c125",
        "id": "q2kWhulfSNJ-"
      },
      "execution_count": 69,
      "outputs": [
        {
          "output_type": "execute_result",
          "data": {
            "text/plain": [
              "((126, 5, 1), (126, 5, 1), (11, 5, 1), (11, 5, 1))"
            ]
          },
          "metadata": {},
          "execution_count": 69
        }
      ]
    },
    {
      "cell_type": "code",
      "source": [
        "HUL_Train_EMA_X.shape, HUL_Train_EMA_Y.shape, HUL_Test_EMA_X.shape, HUL_Test_EMA_X.shape"
      ],
      "metadata": {
        "colab": {
          "base_uri": "https://localhost:8080/"
        },
        "outputId": "1e4c7ac0-f4fe-4d34-e284-fbd414628fdc",
        "id": "ODwOdV89SNJ-"
      },
      "execution_count": 70,
      "outputs": [
        {
          "output_type": "execute_result",
          "data": {
            "text/plain": [
              "((126, 5, 1), (126, 5, 1), (11, 5, 1), (11, 5, 1))"
            ]
          },
          "metadata": {},
          "execution_count": 70
        }
      ]
    },
    {
      "cell_type": "code",
      "source": [
        "HUL_Train_X[0], HUL_Train_SMA_X[0]"
      ],
      "metadata": {
        "colab": {
          "base_uri": "https://localhost:8080/"
        },
        "outputId": "52774a81-998e-4c29-e2d7-3d44d2cfb10d",
        "id": "DyMgukNISNJ_"
      },
      "execution_count": 71,
      "outputs": [
        {
          "output_type": "execute_result",
          "data": {
            "text/plain": [
              "(array([[1735.48],\n",
              "        [1719.58],\n",
              "        [1723.24],\n",
              "        [1716.78],\n",
              "        [1719.91]]), array([[1738.1701],\n",
              "        [1732.7018],\n",
              "        [1727.2765],\n",
              "        [1722.1386],\n",
              "        [1720.3285]]))"
            ]
          },
          "metadata": {},
          "execution_count": 71
        }
      ]
    },
    {
      "cell_type": "code",
      "source": [
        "HUL_Final_Train_X = np.concatenate((HUL_Train_X, HUL_Train_SMA_X, HUL_Train_EMA_X), axis=2)\n",
        "HUL_Final_Test_X = np.concatenate((HUL_Test_X, HUL_Test_SMA_X, HUL_Test_EMA_X), axis=2)"
      ],
      "metadata": {
        "id": "8xBVrKIISNJ_"
      },
      "execution_count": 72,
      "outputs": []
    },
    {
      "cell_type": "code",
      "source": [
        "HUL_Final_Train_X.shape, HUL_Train_Y.shape, HUL_Final_Test_X.shape, HUL_Test_Y.shape"
      ],
      "metadata": {
        "colab": {
          "base_uri": "https://localhost:8080/"
        },
        "outputId": "a2222d0f-c4b0-4afa-b78b-cad4108a1796",
        "id": "XtXhMb-vSNJ_"
      },
      "execution_count": 73,
      "outputs": [
        {
          "output_type": "execute_result",
          "data": {
            "text/plain": [
              "((126, 5, 3), (126, 5, 1), (11, 5, 3), (11, 5, 1))"
            ]
          },
          "metadata": {},
          "execution_count": 73
        }
      ]
    },
    {
      "cell_type": "markdown",
      "metadata": {
        "id": "avtIW8iPSNKA"
      },
      "source": [
        "### Model Fitting"
      ]
    },
    {
      "cell_type": "code",
      "metadata": {
        "id": "AR7zWGQoSNKA"
      },
      "source": [
        "HUL_Model = Model()"
      ],
      "execution_count": 74,
      "outputs": []
    },
    {
      "cell_type": "code",
      "metadata": {
        "id": "N23urR5XSNKA"
      },
      "source": [
        "HUL_Model.compile(optimizer = tf.keras.optimizers.Adam(learning_rate=lr_schedule), loss = 'mse', metrics = tf.keras.metrics.RootMeanSquaredError())"
      ],
      "execution_count": 75,
      "outputs": []
    },
    {
      "cell_type": "code",
      "metadata": {
        "colab": {
          "base_uri": "https://localhost:8080/"
        },
        "outputId": "81a0e67d-9012-47b7-b058-87824c2b696d",
        "id": "-ONUA2aOSNKB"
      },
      "source": [
        "HUL_hist = HUL_Model.fit(HUL_Final_Train_X, HUL_Train_Y, epochs = 10000, validation_data = (HUL_Final_Test_X, HUL_Test_Y), callbacks=[callback])"
      ],
      "execution_count": 76,
      "outputs": [
        {
          "output_type": "stream",
          "name": "stdout",
          "text": [
            "Epoch 1/10000\n",
            "4/4 [==============================] - 3s 160ms/step - loss: 4554555.0000 - root_mean_squared_error: 2134.1401 - val_loss: 4736315.0000 - val_root_mean_squared_error: 2176.3076\n",
            "Epoch 2/10000\n",
            "4/4 [==============================] - 0s 39ms/step - loss: 2007422.0000 - root_mean_squared_error: 1416.8352 - val_loss: 757895.3750 - val_root_mean_squared_error: 870.5719\n",
            "Epoch 3/10000\n",
            "4/4 [==============================] - 0s 38ms/step - loss: 923195.3125 - root_mean_squared_error: 960.8305 - val_loss: 401182.9688 - val_root_mean_squared_error: 633.3901\n",
            "Epoch 4/10000\n",
            "4/4 [==============================] - 0s 38ms/step - loss: 205201.8750 - root_mean_squared_error: 452.9922 - val_loss: 201672.4062 - val_root_mean_squared_error: 449.0795\n",
            "Epoch 5/10000\n",
            "4/4 [==============================] - 0s 39ms/step - loss: 282991.0625 - root_mean_squared_error: 531.9691 - val_loss: 270232.5625 - val_root_mean_squared_error: 519.8389\n",
            "Epoch 6/10000\n",
            "4/4 [==============================] - 0s 38ms/step - loss: 359197.1562 - root_mean_squared_error: 599.3306 - val_loss: 603400.3750 - val_root_mean_squared_error: 776.7885\n",
            "Epoch 7/10000\n",
            "4/4 [==============================] - 0s 38ms/step - loss: 200445.9062 - root_mean_squared_error: 447.7119 - val_loss: 79560.1875 - val_root_mean_squared_error: 282.0641\n",
            "Epoch 8/10000\n",
            "4/4 [==============================] - 0s 42ms/step - loss: 89179.7656 - root_mean_squared_error: 298.6298 - val_loss: 77658.0078 - val_root_mean_squared_error: 278.6718\n",
            "Epoch 9/10000\n",
            "4/4 [==============================] - 0s 41ms/step - loss: 54958.7773 - root_mean_squared_error: 234.4329 - val_loss: 142596.2031 - val_root_mean_squared_error: 377.6191\n",
            "Epoch 10/10000\n",
            "4/4 [==============================] - 0s 43ms/step - loss: 59596.0703 - root_mean_squared_error: 244.1231 - val_loss: 71518.9844 - val_root_mean_squared_error: 267.4303\n",
            "Epoch 11/10000\n",
            "4/4 [==============================] - 0s 41ms/step - loss: 35164.0352 - root_mean_squared_error: 187.5208 - val_loss: 36837.4141 - val_root_mean_squared_error: 191.9308\n",
            "Epoch 12/10000\n",
            "4/4 [==============================] - 0s 39ms/step - loss: 24886.0332 - root_mean_squared_error: 157.7531 - val_loss: 45501.2422 - val_root_mean_squared_error: 213.3102\n",
            "Epoch 13/10000\n",
            "4/4 [==============================] - 0s 38ms/step - loss: 19776.3750 - root_mean_squared_error: 140.6285 - val_loss: 39841.4961 - val_root_mean_squared_error: 199.6034\n",
            "Epoch 14/10000\n",
            "4/4 [==============================] - 0s 40ms/step - loss: 12647.6621 - root_mean_squared_error: 112.4618 - val_loss: 40405.8281 - val_root_mean_squared_error: 201.0120\n",
            "Epoch 15/10000\n",
            "4/4 [==============================] - 0s 39ms/step - loss: 11946.2842 - root_mean_squared_error: 109.2990 - val_loss: 23097.5840 - val_root_mean_squared_error: 151.9789\n",
            "Epoch 16/10000\n",
            "4/4 [==============================] - 0s 43ms/step - loss: 10509.7441 - root_mean_squared_error: 102.5170 - val_loss: 21217.3281 - val_root_mean_squared_error: 145.6617\n",
            "Epoch 17/10000\n",
            "4/4 [==============================] - 0s 39ms/step - loss: 8280.3975 - root_mean_squared_error: 90.9967 - val_loss: 23932.8750 - val_root_mean_squared_error: 154.7025\n",
            "Epoch 18/10000\n",
            "4/4 [==============================] - 0s 39ms/step - loss: 8207.7988 - root_mean_squared_error: 90.5969 - val_loss: 20679.7246 - val_root_mean_squared_error: 143.8045\n",
            "Epoch 19/10000\n",
            "4/4 [==============================] - 0s 39ms/step - loss: 8393.4189 - root_mean_squared_error: 91.6156 - val_loss: 21392.4297 - val_root_mean_squared_error: 146.2615\n",
            "Epoch 20/10000\n",
            "4/4 [==============================] - 0s 39ms/step - loss: 7132.8149 - root_mean_squared_error: 84.4560 - val_loss: 19522.6816 - val_root_mean_squared_error: 139.7236\n",
            "Epoch 21/10000\n",
            "4/4 [==============================] - 0s 37ms/step - loss: 7291.3062 - root_mean_squared_error: 85.3891 - val_loss: 28692.9492 - val_root_mean_squared_error: 169.3899\n",
            "Epoch 22/10000\n",
            "4/4 [==============================] - 0s 43ms/step - loss: 12455.9609 - root_mean_squared_error: 111.6063 - val_loss: 23861.6816 - val_root_mean_squared_error: 154.4723\n",
            "Epoch 23/10000\n",
            "4/4 [==============================] - 0s 39ms/step - loss: 8420.5977 - root_mean_squared_error: 91.7638 - val_loss: 29709.1934 - val_root_mean_squared_error: 172.3636\n",
            "Epoch 24/10000\n",
            "4/4 [==============================] - 0s 40ms/step - loss: 8349.2432 - root_mean_squared_error: 91.3742 - val_loss: 20438.6426 - val_root_mean_squared_error: 142.9638\n",
            "Epoch 25/10000\n",
            "4/4 [==============================] - 0s 38ms/step - loss: 9091.6309 - root_mean_squared_error: 95.3500 - val_loss: 23943.7500 - val_root_mean_squared_error: 154.7377\n",
            "Epoch 26/10000\n",
            "4/4 [==============================] - 0s 41ms/step - loss: 9935.3887 - root_mean_squared_error: 99.6764 - val_loss: 29116.7734 - val_root_mean_squared_error: 170.6364\n",
            "Epoch 27/10000\n",
            "4/4 [==============================] - 0s 37ms/step - loss: 9653.6953 - root_mean_squared_error: 98.2532 - val_loss: 23167.8711 - val_root_mean_squared_error: 152.2100\n",
            "Epoch 28/10000\n",
            "4/4 [==============================] - 0s 40ms/step - loss: 10667.6699 - root_mean_squared_error: 103.2844 - val_loss: 21442.6387 - val_root_mean_squared_error: 146.4330\n",
            "Epoch 29/10000\n",
            "4/4 [==============================] - 0s 41ms/step - loss: 8296.4951 - root_mean_squared_error: 91.0851 - val_loss: 19329.0312 - val_root_mean_squared_error: 139.0289\n",
            "Epoch 30/10000\n",
            "4/4 [==============================] - 0s 41ms/step - loss: 8138.6387 - root_mean_squared_error: 90.2144 - val_loss: 25729.6191 - val_root_mean_squared_error: 160.4045\n",
            "Epoch 31/10000\n",
            "4/4 [==============================] - 0s 38ms/step - loss: 8748.8301 - root_mean_squared_error: 93.5352 - val_loss: 21043.0352 - val_root_mean_squared_error: 145.0622\n",
            "Epoch 32/10000\n",
            "4/4 [==============================] - 0s 39ms/step - loss: 7793.5112 - root_mean_squared_error: 88.2809 - val_loss: 19015.7754 - val_root_mean_squared_error: 137.8977\n",
            "Epoch 33/10000\n",
            "4/4 [==============================] - 0s 38ms/step - loss: 6759.6797 - root_mean_squared_error: 82.2173 - val_loss: 19941.7754 - val_root_mean_squared_error: 141.2153\n",
            "Epoch 34/10000\n",
            "4/4 [==============================] - 0s 38ms/step - loss: 6727.8569 - root_mean_squared_error: 82.0235 - val_loss: 19254.6270 - val_root_mean_squared_error: 138.7610\n",
            "Epoch 35/10000\n",
            "4/4 [==============================] - 0s 40ms/step - loss: 7719.6523 - root_mean_squared_error: 87.8615 - val_loss: 23706.8672 - val_root_mean_squared_error: 153.9703\n",
            "Epoch 36/10000\n",
            "4/4 [==============================] - 0s 43ms/step - loss: 8697.5273 - root_mean_squared_error: 93.2605 - val_loss: 19100.4043 - val_root_mean_squared_error: 138.2042\n",
            "Epoch 37/10000\n",
            "4/4 [==============================] - 0s 37ms/step - loss: 6934.3135 - root_mean_squared_error: 83.2725 - val_loss: 28880.2930 - val_root_mean_squared_error: 169.9420\n",
            "Epoch 38/10000\n",
            "4/4 [==============================] - 0s 38ms/step - loss: 10496.0361 - root_mean_squared_error: 102.4502 - val_loss: 23406.6016 - val_root_mean_squared_error: 152.9922\n",
            "Epoch 39/10000\n",
            "4/4 [==============================] - 0s 37ms/step - loss: 9766.8984 - root_mean_squared_error: 98.8276 - val_loss: 37740.8516 - val_root_mean_squared_error: 194.2701\n",
            "Epoch 40/10000\n",
            "4/4 [==============================] - 0s 38ms/step - loss: 14099.4844 - root_mean_squared_error: 118.7412 - val_loss: 24515.9922 - val_root_mean_squared_error: 156.5758\n",
            "Epoch 41/10000\n",
            "4/4 [==============================] - 0s 38ms/step - loss: 9572.6719 - root_mean_squared_error: 97.8400 - val_loss: 20249.5645 - val_root_mean_squared_error: 142.3010\n",
            "Epoch 42/10000\n",
            "4/4 [==============================] - 0s 42ms/step - loss: 7483.9849 - root_mean_squared_error: 86.5100 - val_loss: 20179.4727 - val_root_mean_squared_error: 142.0545\n"
          ]
        }
      ]
    },
    {
      "cell_type": "code",
      "metadata": {
        "id": "1oNQHpAPSNKB"
      },
      "source": [
        "history_dict = HUL_hist.history\n",
        "\n",
        "loss = history_dict[\"loss\"]\n",
        "root_mean_squared_error = history_dict[\"root_mean_squared_error\"]\n",
        "val_loss = history_dict[\"val_loss\"]\n",
        "val_root_mean_squared_error = history_dict[\"val_root_mean_squared_error\"]\n",
        "\n",
        "epochs = range(1, len(loss) + 1)"
      ],
      "execution_count": 77,
      "outputs": []
    },
    {
      "cell_type": "code",
      "metadata": {
        "colab": {
          "base_uri": "https://localhost:8080/",
          "height": 345
        },
        "outputId": "bb8d89ab-fbe9-4685-f4c8-fff9a8beb377",
        "id": "FLAFwpdoSNKB"
      },
      "source": [
        "fig, (ax1, ax2) = plt.subplots(1, 2)\n",
        "\n",
        "fig.set_figheight(5)\n",
        "fig.set_figwidth(15)\n",
        "\n",
        "ax1.plot(epochs, loss, label = 'Training Loss')\n",
        "ax1.plot(epochs, val_loss, label = 'Validation Loss')\n",
        "ax1.set(xlabel = \"Epochs\", ylabel = \"Loss\")\n",
        "ax1.legend()\n",
        "\n",
        "ax2.plot(epochs, root_mean_squared_error, label = \"Training Root Mean Squared Error\")\n",
        "ax2.plot(epochs, val_root_mean_squared_error, label = \"Validation Root Mean Squared Error\")\n",
        "ax2.set(xlabel = \"Epochs\", ylabel = \"Loss\")\n",
        "ax2.legend()\n",
        "\n",
        "plt.show()"
      ],
      "execution_count": 78,
      "outputs": [
        {
          "output_type": "display_data",
          "data": {
            "image/png": "[encoded data removed]",
            "text/plain": [
              "<Figure size 1080x360 with 2 Axes>"
            ]
          },
          "metadata": {
            "needs_background": "light"
          }
        }
      ]
    },
    {
      "cell_type": "markdown",
      "metadata": {
        "id": "6nKt7DnkSNKC"
      },
      "source": [
        "### Predicting the closing stock price of HUL"
      ]
    },
    {
      "cell_type": "code",
      "metadata": {
        "id": "bJE3eQipSNKC"
      },
      "source": [
        "HUL_prediction = HUL_Model.predict(HUL_Final_Test_X)"
      ],
      "execution_count": 79,
      "outputs": []
    },
    {
      "cell_type": "code",
      "metadata": {
        "colab": {
          "base_uri": "https://localhost:8080/",
          "height": 352
        },
        "outputId": "bb8444bb-85b1-4b63-a5b3-25bbea34458a",
        "id": "lSKzZR4VSNKC"
      },
      "source": [
        "plt.figure(figsize=(20, 5))\n",
        "plt.plot(HUL['date'][HUL['date'] < '2021-08-01'], HUL['adj close'][HUL['date'] < '2021-08-01'], label = 'Training')\n",
        "plt.plot(HUL['date'][HUL['date'] >= '2021-08-01'], HUL['adj close'][HUL['date'] >= '2021-08-01'], label = 'Testing')\n",
        "plt.plot(HUL['date'][HUL['date'] >= '2021-08-01'][:-7], HUL_prediction.reshape(-1), label = 'Predictions')\n",
        "plt.xlabel('Time')\n",
        "plt.ylabel('Closing Price')\n",
        "plt.legend(loc = 'best')"
      ],
      "execution_count": 80,
      "outputs": [
        {
          "output_type": "execute_result",
          "data": {
            "text/plain": [
              "<matplotlib.legend.Legend at 0x7fd80a133bd0>"
            ]
          },
          "metadata": {},
          "execution_count": 80
        },
        {
          "output_type": "display_data",
          "data": {
            "image/png": "[encoded data removed]",
            "text/plain": [
              "<Figure size 1440x360 with 1 Axes>"
            ]
          },
          "metadata": {
            "needs_background": "light"
          }
        }
      ]
    },
    {
      "cell_type": "code",
      "metadata": {
        "colab": {
          "base_uri": "https://localhost:8080/"
        },
        "outputId": "b9f570e3-98f4-4d62-8cf4-d999afef285a",
        "id": "sATuczHaSNKD"
      },
      "source": [
        "rmse = math.sqrt(mean_squared_error(HUL_Test_Y.reshape(-1, 5), HUL_prediction))\n",
        "mape = np.mean(np.abs(HUL_prediction - HUL_Test_Y.reshape(-1, 5))/np.abs(HUL_Test_Y.reshape(-1, 5)))\n",
        "print(f'RMSE: {rmse}')\n",
        "print(f'MAPE: {mape}')"
      ],
      "execution_count": 81,
      "outputs": [
        {
          "output_type": "stream",
          "name": "stdout",
          "text": [
            "RMSE: 137.8977195169357\n",
            "MAPE: 0.04284848878931893\n"
          ]
        }
      ]
    },
    {
      "cell_type": "markdown",
      "metadata": {
        "id": "JkRXtDaGVGCG"
      },
      "source": [
        "#MARUTI"
      ]
    },
    {
      "cell_type": "code",
      "metadata": {
        "colab": {
          "base_uri": "https://localhost:8080/",
          "height": 206
        },
        "id": "n_sycv9sVGCG",
        "outputId": "f18f4cdb-38d3-4707-b831-a32cfc422762"
      },
      "source": [
        "MARUTI.tail()"
      ],
      "execution_count": 82,
      "outputs": [
        {
          "output_type": "execute_result",
          "data": {
            "text/html": [
              "<div>\n",
              "<style scoped>\n",
              "    .dataframe tbody tr th:only-of-type {\n",
              "        vertical-align: middle;\n",
              "    }\n",
              "\n",
              "    .dataframe tbody tr th {\n",
              "        vertical-align: top;\n",
              "    }\n",
              "\n",
              "    .dataframe thead th {\n",
              "        text-align: right;\n",
              "    }\n",
              "</style>\n",
              "<table border=\"1\" class=\"dataframe\">\n",
              "  <thead>\n",
              "    <tr style=\"text-align: right;\">\n",
              "      <th></th>\n",
              "      <th>ticker</th>\n",
              "      <th>date</th>\n",
              "      <th>open</th>\n",
              "      <th>high</th>\n",
              "      <th>low</th>\n",
              "      <th>close</th>\n",
              "      <th>adj close</th>\n",
              "      <th>volume</th>\n",
              "      <th>Moving Average for 10 days</th>\n",
              "      <th>Moving Average for 20 days</th>\n",
              "      <th>Moving Average for 50 days</th>\n",
              "      <th>Daily Return</th>\n",
              "    </tr>\n",
              "  </thead>\n",
              "  <tbody>\n",
              "    <tr>\n",
              "      <th>692</th>\n",
              "      <td>MARUTI.NS</td>\n",
              "      <td>2021-10-25</td>\n",
              "      <td>7355.0</td>\n",
              "      <td>7396.05</td>\n",
              "      <td>7219.65</td>\n",
              "      <td>7260.60</td>\n",
              "      <td>7260.60</td>\n",
              "      <td>247986.0</td>\n",
              "      <td>7552.180</td>\n",
              "      <td>7439.1900</td>\n",
              "      <td>7082.932</td>\n",
              "      <td>-0.020016</td>\n",
              "    </tr>\n",
              "    <tr>\n",
              "      <th>693</th>\n",
              "      <td>MARUTI.NS</td>\n",
              "      <td>2021-10-26</td>\n",
              "      <td>7265.0</td>\n",
              "      <td>7337.95</td>\n",
              "      <td>7210.20</td>\n",
              "      <td>7297.35</td>\n",
              "      <td>7297.35</td>\n",
              "      <td>292052.0</td>\n",
              "      <td>7511.835</td>\n",
              "      <td>7433.8850</td>\n",
              "      <td>7088.639</td>\n",
              "      <td>0.005062</td>\n",
              "    </tr>\n",
              "    <tr>\n",
              "      <th>694</th>\n",
              "      <td>MARUTI.NS</td>\n",
              "      <td>2021-10-27</td>\n",
              "      <td>7285.0</td>\n",
              "      <td>7461.25</td>\n",
              "      <td>7244.00</td>\n",
              "      <td>7356.25</td>\n",
              "      <td>7356.25</td>\n",
              "      <td>1217557.0</td>\n",
              "      <td>7478.080</td>\n",
              "      <td>7430.5050</td>\n",
              "      <td>7095.720</td>\n",
              "      <td>0.008071</td>\n",
              "    </tr>\n",
              "    <tr>\n",
              "      <th>695</th>\n",
              "      <td>MARUTI.NS</td>\n",
              "      <td>2021-10-28</td>\n",
              "      <td>7250.0</td>\n",
              "      <td>7529.70</td>\n",
              "      <td>7235.05</td>\n",
              "      <td>7369.70</td>\n",
              "      <td>7369.70</td>\n",
              "      <td>961188.0</td>\n",
              "      <td>7466.835</td>\n",
              "      <td>7429.7875</td>\n",
              "      <td>7106.577</td>\n",
              "      <td>0.001828</td>\n",
              "    </tr>\n",
              "    <tr>\n",
              "      <th>696</th>\n",
              "      <td>MARUTI.NS</td>\n",
              "      <td>2021-10-29</td>\n",
              "      <td>7350.0</td>\n",
              "      <td>7478.15</td>\n",
              "      <td>7294.85</td>\n",
              "      <td>7466.30</td>\n",
              "      <td>7466.30</td>\n",
              "      <td>179815.0</td>\n",
              "      <td>7463.775</td>\n",
              "      <td>7436.2000</td>\n",
              "      <td>7118.195</td>\n",
              "      <td>0.013108</td>\n",
              "    </tr>\n",
              "  </tbody>\n",
              "</table>\n",
              "</div>"
            ],
            "text/plain": [
              "        ticker        date  ...  Moving Average for 50 days  Daily Return\n",
              "692  MARUTI.NS  2021-10-25  ...                    7082.932     -0.020016\n",
              "693  MARUTI.NS  2021-10-26  ...                    7088.639      0.005062\n",
              "694  MARUTI.NS  2021-10-27  ...                    7095.720      0.008071\n",
              "695  MARUTI.NS  2021-10-28  ...                    7106.577      0.001828\n",
              "696  MARUTI.NS  2021-10-29  ...                    7118.195      0.013108\n",
              "\n",
              "[5 rows x 12 columns]"
            ]
          },
          "metadata": {},
          "execution_count": 82
        }
      ]
    },
    {
      "cell_type": "code",
      "metadata": {
        "colab": {
          "base_uri": "https://localhost:8080/"
        },
        "id": "PVNivKk9VGCH",
        "outputId": "77a1e6ce-815a-4407-d190-82106ee4cfce"
      },
      "source": [
        "MARUTI.info()"
      ],
      "execution_count": 83,
      "outputs": [
        {
          "output_type": "stream",
          "name": "stdout",
          "text": [
            "<class 'pandas.core.frame.DataFrame'>\n",
            "RangeIndex: 697 entries, 0 to 696\n",
            "Data columns (total 12 columns):\n",
            " #   Column                      Non-Null Count  Dtype  \n",
            "---  ------                      --------------  -----  \n",
            " 0   ticker                      697 non-null    object \n",
            " 1   date                        697 non-null    object \n",
            " 2   open                        697 non-null    float64\n",
            " 3   high                        697 non-null    float64\n",
            " 4   low                         697 non-null    float64\n",
            " 5   close                       697 non-null    float64\n",
            " 6   adj close                   697 non-null    float64\n",
            " 7   volume                      697 non-null    float64\n",
            " 8   Moving Average for 10 days  688 non-null    float64\n",
            " 9   Moving Average for 20 days  678 non-null    float64\n",
            " 10  Moving Average for 50 days  648 non-null    float64\n",
            " 11  Daily Return                696 non-null    float64\n",
            "dtypes: float64(10), object(2)\n",
            "memory usage: 65.5+ KB\n"
          ]
        }
      ]
    },
    {
      "cell_type": "code",
      "metadata": {
        "id": "dUTvYBXVVGCI"
      },
      "source": [
        "# Change Dtype of date column\n",
        "MARUTI[\"date\"] = pd.to_datetime(MARUTI[\"date\"])"
      ],
      "execution_count": 84,
      "outputs": []
    },
    {
      "cell_type": "markdown",
      "metadata": {
        "id": "AXoqJbGtVGCJ"
      },
      "source": [
        "###Split the Data into Training and Test set\n",
        "    Training Period: 2019-01-01 - 2021-08-01\n",
        "\n",
        "    Testing Period:  2021-08-01 - 2021-10-29"
      ]
    },
    {
      "cell_type": "code",
      "source": [
        "MARUTI_EMA_sub.head()"
      ],
      "metadata": {
        "colab": {
          "base_uri": "https://localhost:8080/",
          "height": 206
        },
        "id": "RO_NqjHBU0qQ",
        "outputId": "0ad90a61-9867-4b51-c2ad-68db9db3ce55"
      },
      "execution_count": 98,
      "outputs": [
        {
          "output_type": "execute_result",
          "data": {
            "text/html": [
              "<div>\n",
              "<style scoped>\n",
              "    .dataframe tbody tr th:only-of-type {\n",
              "        vertical-align: middle;\n",
              "    }\n",
              "\n",
              "    .dataframe tbody tr th {\n",
              "        vertical-align: top;\n",
              "    }\n",
              "\n",
              "    .dataframe thead th {\n",
              "        text-align: right;\n",
              "    }\n",
              "</style>\n",
              "<table border=\"1\" class=\"dataframe\">\n",
              "  <thead>\n",
              "    <tr style=\"text-align: right;\">\n",
              "      <th></th>\n",
              "      <th>time</th>\n",
              "      <th>SMA</th>\n",
              "    </tr>\n",
              "  </thead>\n",
              "  <tbody>\n",
              "    <tr>\n",
              "      <th>0</th>\n",
              "      <td>2019-01-01</td>\n",
              "      <td>7387.3402</td>\n",
              "    </tr>\n",
              "    <tr>\n",
              "      <th>1</th>\n",
              "      <td>2019-01-02</td>\n",
              "      <td>7340.2101</td>\n",
              "    </tr>\n",
              "    <tr>\n",
              "      <th>2</th>\n",
              "      <td>2019-01-03</td>\n",
              "      <td>7271.0326</td>\n",
              "    </tr>\n",
              "    <tr>\n",
              "      <th>3</th>\n",
              "      <td>2019-01-04</td>\n",
              "      <td>7215.5207</td>\n",
              "    </tr>\n",
              "    <tr>\n",
              "      <th>4</th>\n",
              "      <td>2019-01-07</td>\n",
              "      <td>7197.2854</td>\n",
              "    </tr>\n",
              "  </tbody>\n",
              "</table>\n",
              "</div>"
            ],
            "text/plain": [
              "         time        SMA\n",
              "0  2019-01-01  7387.3402\n",
              "1  2019-01-02  7340.2101\n",
              "2  2019-01-03  7271.0326\n",
              "3  2019-01-04  7215.5207\n",
              "4  2019-01-07  7197.2854"
            ]
          },
          "metadata": {},
          "execution_count": 98
        }
      ]
    },
    {
      "cell_type": "code",
      "metadata": {
        "id": "w7guDT4cTl2U"
      },
      "source": [
        "MARUTI_date = '2021-08-01'\n",
        "MARUTI_Train_X, MARUTI_Train_Y, MARUTI_Test_X, MARUTI_Test_Y = Dataset(MARUTI,'adj close', 'date', MARUTI_date)\n",
        "MARUTI_Train_SMA_X, MARUTI_Train_SMA_Y, MARUTI_Test_SMA_X, MARUTI_Test_SMA_Y = Dataset(MARUTI_SMA_sub,'SMA', 'time', MARUTI_date)\n",
        "MARUTI_Train_EMA_X, MARUTI_Train_EMA_Y, MARUTI_Test_EMA_X, MARUTI_Test_EMA_Y = Dataset(MARUTI_EMA_sub,'EMA', 'time', MARUTI_date)"
      ],
      "execution_count": 102,
      "outputs": []
    },
    {
      "cell_type": "code",
      "metadata": {
        "colab": {
          "base_uri": "https://localhost:8080/"
        },
        "outputId": "491afec4-8d0f-4401-8267-a13ec71999df",
        "id": "Wa3e0-1OTl2l"
      },
      "source": [
        "MARUTI_Train_X.shape, MARUTI_Train_Y.shape, MARUTI_Test_X.shape, MARUTI_Test_Y.shape"
      ],
      "execution_count": 103,
      "outputs": [
        {
          "output_type": "execute_result",
          "data": {
            "text/plain": [
              "((126, 5, 1), (126, 5, 1), (11, 5, 1), (11, 5, 1))"
            ]
          },
          "metadata": {},
          "execution_count": 103
        }
      ]
    },
    {
      "cell_type": "code",
      "source": [
        "MARUTI['adj close'].head(20)"
      ],
      "metadata": {
        "colab": {
          "base_uri": "https://localhost:8080/"
        },
        "outputId": "45ca0667-45fd-48b8-b89c-40d4bffd4fa9",
        "id": "bKrFdOywTl2m"
      },
      "execution_count": 104,
      "outputs": [
        {
          "output_type": "execute_result",
          "data": {
            "text/plain": [
              "0     7261.91\n",
              "1     7058.96\n",
              "2     6996.90\n",
              "3     7026.57\n",
              "4     7150.46\n",
              "5     7225.68\n",
              "6     7277.54\n",
              "7     7179.16\n",
              "8     7110.10\n",
              "9     7195.76\n",
              "10    7143.75\n",
              "11    7100.14\n",
              "12    7125.40\n",
              "13    7146.47\n",
              "14    7001.22\n",
              "15    6865.68\n",
              "16    6842.91\n",
              "17    6838.24\n",
              "18    6326.20\n",
              "19    6323.91\n",
              "Name: adj close, dtype: float64"
            ]
          },
          "metadata": {},
          "execution_count": 104
        }
      ]
    },
    {
      "cell_type": "code",
      "source": [
        "MARUTI_Train_X[0], MARUTI_Train_Y[0]"
      ],
      "metadata": {
        "colab": {
          "base_uri": "https://localhost:8080/"
        },
        "outputId": "e5f19b6e-986e-418e-abe2-0c49593f9f1b",
        "id": "R8oFyHzOTl2o"
      },
      "execution_count": 105,
      "outputs": [
        {
          "output_type": "execute_result",
          "data": {
            "text/plain": [
              "(array([[7261.91],\n",
              "        [7058.96],\n",
              "        [6996.9 ],\n",
              "        [7026.57],\n",
              "        [7150.46]]), array([[7225.68],\n",
              "        [7277.54],\n",
              "        [7179.16],\n",
              "        [7110.1 ],\n",
              "        [7195.76]]))"
            ]
          },
          "metadata": {},
          "execution_count": 105
        }
      ]
    },
    {
      "cell_type": "code",
      "source": [
        "MARUTI_Train_X[1], MARUTI_Train_Y[1]"
      ],
      "metadata": {
        "colab": {
          "base_uri": "https://localhost:8080/"
        },
        "outputId": "caa50e09-5ac4-4fd9-b40c-ef9bef090ad7",
        "id": "KxfuA4wjTl2o"
      },
      "execution_count": 106,
      "outputs": [
        {
          "output_type": "execute_result",
          "data": {
            "text/plain": [
              "(array([[7225.68],\n",
              "        [7277.54],\n",
              "        [7179.16],\n",
              "        [7110.1 ],\n",
              "        [7195.76]]), array([[7143.75],\n",
              "        [7100.14],\n",
              "        [7125.4 ],\n",
              "        [7146.47],\n",
              "        [7001.22]]))"
            ]
          },
          "metadata": {},
          "execution_count": 106
        }
      ]
    },
    {
      "cell_type": "code",
      "source": [
        "MARUTI_Train_SMA_X.shape, MARUTI_Train_SMA_Y.shape, MARUTI_Test_SMA_X.shape, MARUTI_Test_SMA_X.shape"
      ],
      "metadata": {
        "colab": {
          "base_uri": "https://localhost:8080/"
        },
        "outputId": "3ba30207-2bd6-4ebd-9a07-59be5702adf5",
        "id": "Mu6c11BGTl2o"
      },
      "execution_count": 107,
      "outputs": [
        {
          "output_type": "execute_result",
          "data": {
            "text/plain": [
              "((126, 5, 1), (126, 5, 1), (11, 5, 1), (11, 5, 1))"
            ]
          },
          "metadata": {},
          "execution_count": 107
        }
      ]
    },
    {
      "cell_type": "code",
      "source": [
        "MARUTI_Train_EMA_X.shape, MARUTI_Train_EMA_Y.shape, MARUTI_Test_EMA_X.shape, MARUTI_Test_EMA_X.shape"
      ],
      "metadata": {
        "colab": {
          "base_uri": "https://localhost:8080/"
        },
        "outputId": "aa851e17-a60e-4712-cb2e-08414ee6087d",
        "id": "kjzeRK3nTl2p"
      },
      "execution_count": 108,
      "outputs": [
        {
          "output_type": "execute_result",
          "data": {
            "text/plain": [
              "((126, 5, 1), (126, 5, 1), (11, 5, 1), (11, 5, 1))"
            ]
          },
          "metadata": {},
          "execution_count": 108
        }
      ]
    },
    {
      "cell_type": "code",
      "source": [
        "MARUTI_Train_X[0], MARUTI_Train_SMA_X[0]"
      ],
      "metadata": {
        "colab": {
          "base_uri": "https://localhost:8080/"
        },
        "outputId": "e308fe03-b84f-4293-978e-c69ced9e241b",
        "id": "E5tlYRVvTl2p"
      },
      "execution_count": 109,
      "outputs": [
        {
          "output_type": "execute_result",
          "data": {
            "text/plain": [
              "(array([[7261.91],\n",
              "        [7058.96],\n",
              "        [6996.9 ],\n",
              "        [7026.57],\n",
              "        [7150.46]]), array([[7387.3402],\n",
              "        [7340.2101],\n",
              "        [7271.0326],\n",
              "        [7215.5207],\n",
              "        [7197.2854]]))"
            ]
          },
          "metadata": {},
          "execution_count": 109
        }
      ]
    },
    {
      "cell_type": "code",
      "source": [
        "MARUTI_Final_Train_X = np.concatenate((MARUTI_Train_X, MARUTI_Train_SMA_X, MARUTI_Train_EMA_X), axis=2)\n",
        "MARUTI_Final_Test_X = np.concatenate((MARUTI_Test_X, MARUTI_Test_SMA_X, MARUTI_Test_EMA_X), axis=2)"
      ],
      "metadata": {
        "id": "H_GL9l7dTl2p"
      },
      "execution_count": 110,
      "outputs": []
    },
    {
      "cell_type": "code",
      "source": [
        "MARUTI_Final_Train_X.shape, MARUTI_Train_Y.shape, MARUTI_Final_Test_X.shape, MARUTI_Test_Y.shape"
      ],
      "metadata": {
        "colab": {
          "base_uri": "https://localhost:8080/"
        },
        "outputId": "9d40ce11-11a5-4e7a-fd06-4535137610c6",
        "id": "RQqd5MWbTl2q"
      },
      "execution_count": 111,
      "outputs": [
        {
          "output_type": "execute_result",
          "data": {
            "text/plain": [
              "((126, 5, 3), (126, 5, 1), (11, 5, 3), (11, 5, 1))"
            ]
          },
          "metadata": {},
          "execution_count": 111
        }
      ]
    },
    {
      "cell_type": "markdown",
      "metadata": {
        "id": "pVjqpM6CTl2q"
      },
      "source": [
        "### Model Fitting"
      ]
    },
    {
      "cell_type": "code",
      "metadata": {
        "id": "njFNclh0Tl2q"
      },
      "source": [
        "MARUTI_Model = Model()"
      ],
      "execution_count": 112,
      "outputs": []
    },
    {
      "cell_type": "code",
      "metadata": {
        "id": "LsPN7UA-Tl2r"
      },
      "source": [
        "MARUTI_Model.compile(optimizer = tf.keras.optimizers.Adam(learning_rate=lr_schedule), loss = 'mse', metrics = tf.keras.metrics.RootMeanSquaredError())"
      ],
      "execution_count": 113,
      "outputs": []
    },
    {
      "cell_type": "code",
      "metadata": {
        "colab": {
          "base_uri": "https://localhost:8080/"
        },
        "outputId": "9e7afea1-6c72-44df-a1a1-f6d9577885fa",
        "id": "s6Zi7CNETl2r"
      },
      "source": [
        "MARUTI_hist = MARUTI_Model.fit(MARUTI_Final_Train_X, MARUTI_Train_Y, epochs = 10000, validation_data = (MARUTI_Final_Test_X, MARUTI_Test_Y), callbacks=[callback])"
      ],
      "execution_count": 114,
      "outputs": [
        {
          "output_type": "stream",
          "name": "stdout",
          "text": [
            "Epoch 1/10000\n",
            "4/4 [==============================] - 3s 154ms/step - loss: 32960894.0000 - root_mean_squared_error: 5741.1582 - val_loss: 3955832.0000 - val_root_mean_squared_error: 1988.9275\n",
            "Epoch 2/10000\n",
            "4/4 [==============================] - 0s 39ms/step - loss: 13135786.0000 - root_mean_squared_error: 3624.3323 - val_loss: 2743931.0000 - val_root_mean_squared_error: 1656.4816\n",
            "Epoch 3/10000\n",
            "4/4 [==============================] - 0s 40ms/step - loss: 8524881.0000 - root_mean_squared_error: 2919.7400 - val_loss: 23228408.0000 - val_root_mean_squared_error: 4819.5859\n",
            "Epoch 4/10000\n",
            "4/4 [==============================] - 0s 41ms/step - loss: 11620982.0000 - root_mean_squared_error: 3408.9563 - val_loss: 7517107.0000 - val_root_mean_squared_error: 2741.7344\n",
            "Epoch 5/10000\n",
            "4/4 [==============================] - 0s 38ms/step - loss: 4854682.0000 - root_mean_squared_error: 2203.3342 - val_loss: 928204.8125 - val_root_mean_squared_error: 963.4338\n",
            "Epoch 6/10000\n",
            "4/4 [==============================] - 0s 38ms/step - loss: 2350664.2500 - root_mean_squared_error: 1533.1876 - val_loss: 774090.9375 - val_root_mean_squared_error: 879.8243\n",
            "Epoch 7/10000\n",
            "4/4 [==============================] - 0s 40ms/step - loss: 1290748.2500 - root_mean_squared_error: 1136.1111 - val_loss: 983745.6250 - val_root_mean_squared_error: 991.8395\n",
            "Epoch 8/10000\n",
            "4/4 [==============================] - 0s 40ms/step - loss: 922467.7500 - root_mean_squared_error: 960.4518 - val_loss: 581468.5000 - val_root_mean_squared_error: 762.5408\n",
            "Epoch 9/10000\n",
            "4/4 [==============================] - 0s 38ms/step - loss: 595492.8125 - root_mean_squared_error: 771.6818 - val_loss: 694206.0625 - val_root_mean_squared_error: 833.1903\n",
            "Epoch 10/10000\n",
            "4/4 [==============================] - 0s 42ms/step - loss: 432385.4062 - root_mean_squared_error: 657.5602 - val_loss: 289080.5625 - val_root_mean_squared_error: 537.6621\n",
            "Epoch 11/10000\n",
            "4/4 [==============================] - 0s 42ms/step - loss: 310883.4375 - root_mean_squared_error: 557.5692 - val_loss: 190765.5625 - val_root_mean_squared_error: 436.7672\n",
            "Epoch 12/10000\n",
            "4/4 [==============================] - 0s 38ms/step - loss: 232519.8594 - root_mean_squared_error: 482.2031 - val_loss: 84393.5938 - val_root_mean_squared_error: 290.5058\n",
            "Epoch 13/10000\n",
            "4/4 [==============================] - 0s 38ms/step - loss: 182929.7969 - root_mean_squared_error: 427.7029 - val_loss: 59537.5117 - val_root_mean_squared_error: 244.0031\n",
            "Epoch 14/10000\n",
            "4/4 [==============================] - 0s 37ms/step - loss: 150524.7188 - root_mean_squared_error: 387.9752 - val_loss: 87389.1250 - val_root_mean_squared_error: 295.6165\n",
            "Epoch 15/10000\n",
            "4/4 [==============================] - 0s 39ms/step - loss: 141005.4844 - root_mean_squared_error: 375.5070 - val_loss: 58124.0781 - val_root_mean_squared_error: 241.0894\n",
            "Epoch 16/10000\n",
            "4/4 [==============================] - 0s 38ms/step - loss: 124314.3672 - root_mean_squared_error: 352.5824 - val_loss: 67657.8516 - val_root_mean_squared_error: 260.1112\n",
            "Epoch 17/10000\n",
            "4/4 [==============================] - 0s 39ms/step - loss: 130403.3359 - root_mean_squared_error: 361.1140 - val_loss: 102641.4062 - val_root_mean_squared_error: 320.3770\n",
            "Epoch 18/10000\n",
            "4/4 [==============================] - 0s 38ms/step - loss: 135226.0000 - root_mean_squared_error: 367.7309 - val_loss: 65904.3750 - val_root_mean_squared_error: 256.7185\n",
            "Epoch 19/10000\n",
            "4/4 [==============================] - 0s 37ms/step - loss: 141938.7344 - root_mean_squared_error: 376.7476 - val_loss: 88934.5000 - val_root_mean_squared_error: 298.2189\n",
            "Epoch 20/10000\n",
            "4/4 [==============================] - 0s 41ms/step - loss: 138905.4531 - root_mean_squared_error: 372.7002 - val_loss: 84236.1250 - val_root_mean_squared_error: 290.2346\n",
            "Epoch 21/10000\n",
            "4/4 [==============================] - 0s 39ms/step - loss: 139923.1562 - root_mean_squared_error: 374.0630 - val_loss: 64748.5586 - val_root_mean_squared_error: 254.4574\n",
            "Epoch 22/10000\n",
            "4/4 [==============================] - 0s 41ms/step - loss: 158588.2344 - root_mean_squared_error: 398.2314 - val_loss: 64954.6992 - val_root_mean_squared_error: 254.8621\n",
            "Epoch 23/10000\n",
            "4/4 [==============================] - 0s 38ms/step - loss: 134061.4375 - root_mean_squared_error: 366.1440 - val_loss: 114804.3828 - val_root_mean_squared_error: 338.8280\n",
            "Epoch 24/10000\n",
            "4/4 [==============================] - 0s 42ms/step - loss: 133458.9688 - root_mean_squared_error: 365.3204 - val_loss: 78516.6172 - val_root_mean_squared_error: 280.2082\n",
            "Epoch 25/10000\n",
            "4/4 [==============================] - 0s 38ms/step - loss: 162407.9688 - root_mean_squared_error: 402.9987 - val_loss: 135435.7969 - val_root_mean_squared_error: 368.0161\n"
          ]
        }
      ]
    },
    {
      "cell_type": "code",
      "metadata": {
        "id": "DoodMnKaTl2r"
      },
      "source": [
        "history_dict = MARUTI_hist.history\n",
        "\n",
        "loss = history_dict[\"loss\"]\n",
        "root_mean_squared_error = history_dict[\"root_mean_squared_error\"]\n",
        "val_loss = history_dict[\"val_loss\"]\n",
        "val_root_mean_squared_error = history_dict[\"val_root_mean_squared_error\"]\n",
        "\n",
        "epochs = range(1, len(loss) + 1)"
      ],
      "execution_count": 115,
      "outputs": []
    },
    {
      "cell_type": "code",
      "metadata": {
        "colab": {
          "base_uri": "https://localhost:8080/",
          "height": 345
        },
        "outputId": "b99c0786-d3d7-4a3d-ea34-443a3ad53913",
        "id": "aW0W07izTl2s"
      },
      "source": [
        "fig, (ax1, ax2) = plt.subplots(1, 2)\n",
        "\n",
        "fig.set_figheight(5)\n",
        "fig.set_figwidth(15)\n",
        "\n",
        "ax1.plot(epochs, loss, label = 'Training Loss')\n",
        "ax1.plot(epochs, val_loss, label = 'Validation Loss')\n",
        "ax1.set(xlabel = \"Epochs\", ylabel = \"Loss\")\n",
        "ax1.legend()\n",
        "\n",
        "ax2.plot(epochs, root_mean_squared_error, label = \"Training Root Mean Squared Error\")\n",
        "ax2.plot(epochs, val_root_mean_squared_error, label = \"Validation Root Mean Squared Error\")\n",
        "ax2.set(xlabel = \"Epochs\", ylabel = \"Loss\")\n",
        "ax2.legend()\n",
        "\n",
        "plt.show()"
      ],
      "execution_count": 116,
      "outputs": [
        {
          "output_type": "display_data",
          "data": {
            "image/png": "[encoded data removed]",
            "text/plain": [
              "<Figure size 1080x360 with 2 Axes>"
            ]
          },
          "metadata": {
            "needs_background": "light"
          }
        }
      ]
    },
    {
      "cell_type": "markdown",
      "metadata": {
        "id": "EhylHhSqTl2s"
      },
      "source": [
        "### Predicting the closing stock price of MARUTI"
      ]
    },
    {
      "cell_type": "code",
      "metadata": {
        "id": "m1hwiih-Tl2s"
      },
      "source": [
        "MARUTI_prediction = MARUTI_Model.predict(MARUTI_Final_Test_X)"
      ],
      "execution_count": 117,
      "outputs": []
    },
    {
      "cell_type": "code",
      "metadata": {
        "colab": {
          "base_uri": "https://localhost:8080/",
          "height": 352
        },
        "outputId": "8b1c7dbc-4e97-4d16-80b9-d0ee0cc37470",
        "id": "0eRTdmFVTl2t"
      },
      "source": [
        "plt.figure(figsize=(20, 5))\n",
        "plt.plot(MARUTI['date'][MARUTI['date'] < '2021-08-01'], MARUTI['adj close'][MARUTI['date'] < '2021-08-01'], label = 'Training')\n",
        "plt.plot(MARUTI['date'][MARUTI['date'] >= '2021-08-01'], MARUTI['adj close'][MARUTI['date'] >= '2021-08-01'], label = 'Testing')\n",
        "plt.plot(MARUTI['date'][MARUTI['date'] >= '2021-08-01'][:-7], MARUTI_prediction.reshape(-1), label = 'Predictions')\n",
        "plt.xlabel('Time')\n",
        "plt.ylabel('Closing Price')\n",
        "plt.legend(loc = 'best')"
      ],
      "execution_count": 118,
      "outputs": [
        {
          "output_type": "execute_result",
          "data": {
            "text/plain": [
              "<matplotlib.legend.Legend at 0x7fd80949fa50>"
            ]
          },
          "metadata": {},
          "execution_count": 118
        },
        {
          "output_type": "display_data",
          "data": {
            "image/png": "[encoded data removed]",
            "text/plain": [
              "<Figure size 1440x360 with 1 Axes>"
            ]
          },
          "metadata": {
            "needs_background": "light"
          }
        }
      ]
    },
    {
      "cell_type": "code",
      "metadata": {
        "colab": {
          "base_uri": "https://localhost:8080/"
        },
        "outputId": "c447897f-43a7-4e48-cd73-239f69f80cf1",
        "id": "SX44WuLWTl2t"
      },
      "source": [
        "rmse = math.sqrt(mean_squared_error(MARUTI_Test_Y.reshape(-1, 5), MARUTI_prediction))\n",
        "mape = np.mean(np.abs(MARUTI_prediction - MARUTI_Test_Y.reshape(-1, 5))/np.abs(MARUTI_Test_Y.reshape(-1, 5)))\n",
        "print(f'RMSE: {rmse}')\n",
        "print(f'MAPE: {mape}')"
      ],
      "execution_count": 119,
      "outputs": [
        {
          "output_type": "stream",
          "name": "stdout",
          "text": [
            "RMSE: 241.0893902679114\n",
            "MAPE: 0.026907316884690256\n"
          ]
        }
      ]
    }
  ]
}