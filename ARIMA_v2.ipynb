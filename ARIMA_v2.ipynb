{
  "nbformat": 4,
  "nbformat_minor": 0,
  "metadata": {
    "colab": {
      "name": "ARIMA_v1.ipynb",
      "provenance": [],
      "collapsed_sections": [],
      "include_colab_link": true
    },
    "kernelspec": {
      "name": "python3",
      "display_name": "Python 3"
    }
  },
  "cells": [
    {
      "cell_type": "markdown",
      "metadata": {
        "id": "view-in-github",
        "colab_type": "text"
      },
      "source": [
        "<a href=\"https://colab.research.google.com/github/sidusit/MTech-Dissertation/blob/main/ARIMA_v2.ipynb\" target=\"_parent\"><img src=\"https://colab.research.google.com/assets/colab-badge.svg\" alt=\"Open In Colab\"/></a>"
      ]
    },
    {
      "cell_type": "code",
      "metadata": {
        "colab": {
          "base_uri": "https://localhost:8080/"
        },
        "id": "fw7DGIGr5bGZ",
        "outputId": "ac9b00c0-9b07-4742-daee-0cf206643390"
      },
      "source": [
        "from google.colab import drive\n",
        "drive.mount('/content/drive')"
      ],
      "execution_count": null,
      "outputs": [
        {
          "output_type": "stream",
          "name": "stdout",
          "text": [
            "Mounted at /content/drive\n"
          ]
        }
      ]
    },
    {
      "cell_type": "code",
      "metadata": {
        "id": "_-qNpaWK9cI2",
        "colab": {
          "base_uri": "https://localhost:8080/"
        },
        "outputId": "3c216c63-417f-4bcd-bc56-67cc8c261720"
      },
      "source": [
        "!pip install pmdarima"
      ],
      "execution_count": null,
      "outputs": [
        {
          "output_type": "stream",
          "name": "stdout",
          "text": [
            "Collecting pmdarima\n",
            "  Downloading pmdarima-1.8.3-cp37-cp37m-manylinux_2_17_x86_64.manylinux2014_x86_64.manylinux_2_24_x86_64.whl (1.4 MB)\n",
            "\u001b[K     |████████████████████████████████| 1.4 MB 14.3 MB/s \n",
            "\u001b[?25hCollecting statsmodels!=0.12.0,>=0.11\n",
            "  Downloading statsmodels-0.13.0-cp37-cp37m-manylinux_2_17_x86_64.manylinux2014_x86_64.whl (9.8 MB)\n",
            "\u001b[K     |████████████████████████████████| 9.8 MB 32.4 MB/s \n",
            "\u001b[?25hRequirement already satisfied: numpy>=1.19.3 in /usr/local/lib/python3.7/dist-packages (from pmdarima) (1.19.5)\n",
            "Requirement already satisfied: pandas>=0.19 in /usr/local/lib/python3.7/dist-packages (from pmdarima) (1.1.5)\n",
            "Requirement already satisfied: joblib>=0.11 in /usr/local/lib/python3.7/dist-packages (from pmdarima) (1.0.1)\n",
            "Requirement already satisfied: urllib3 in /usr/local/lib/python3.7/dist-packages (from pmdarima) (1.24.3)\n",
            "Requirement already satisfied: scipy>=1.3.2 in /usr/local/lib/python3.7/dist-packages (from pmdarima) (1.4.1)\n",
            "Requirement already satisfied: scikit-learn>=0.22 in /usr/local/lib/python3.7/dist-packages (from pmdarima) (0.22.2.post1)\n",
            "Requirement already satisfied: Cython!=0.29.18,>=0.29 in /usr/local/lib/python3.7/dist-packages (from pmdarima) (0.29.24)\n",
            "Requirement already satisfied: setuptools!=50.0.0,>=38.6.0 in /usr/local/lib/python3.7/dist-packages (from pmdarima) (57.4.0)\n",
            "Requirement already satisfied: python-dateutil>=2.7.3 in /usr/local/lib/python3.7/dist-packages (from pandas>=0.19->pmdarima) (2.8.2)\n",
            "Requirement already satisfied: pytz>=2017.2 in /usr/local/lib/python3.7/dist-packages (from pandas>=0.19->pmdarima) (2018.9)\n",
            "Requirement already satisfied: six>=1.5 in /usr/local/lib/python3.7/dist-packages (from python-dateutil>=2.7.3->pandas>=0.19->pmdarima) (1.15.0)\n",
            "Requirement already satisfied: patsy>=0.5.2 in /usr/local/lib/python3.7/dist-packages (from statsmodels!=0.12.0,>=0.11->pmdarima) (0.5.2)\n",
            "Installing collected packages: statsmodels, pmdarima\n",
            "  Attempting uninstall: statsmodels\n",
            "    Found existing installation: statsmodels 0.10.2\n",
            "    Uninstalling statsmodels-0.10.2:\n",
            "      Successfully uninstalled statsmodels-0.10.2\n",
            "Successfully installed pmdarima-1.8.3 statsmodels-0.13.0\n"
          ]
        }
      ]
    },
    {
      "cell_type": "code",
      "metadata": {
        "id": "Rhpi0R3g7GdO"
      },
      "source": [
        "import math\n",
        "import numpy as np\n",
        "import pandas as pd\n",
        "import matplotlib.pyplot as plt\n",
        "\n",
        "from statsmodels.tsa.stattools import adfuller\n",
        "from statsmodels.tsa.arima.model import ARIMA\n",
        "\n",
        "from pmdarima.arima import auto_arima\n",
        "from sklearn.metrics import mean_squared_error, mean_absolute_error\n",
        "\n",
        "import warnings\n",
        "warnings.filterwarnings('ignore')"
      ],
      "execution_count": null,
      "outputs": []
    },
    {
      "cell_type": "code",
      "metadata": {
        "id": "dkISue9H9LUn"
      },
      "source": [
        "TCS = pd.read_csv(\"/content/drive/MyDrive/Colab Notebooks/Database/Indian/TCS_PreProcessed.csv\")\n",
        "HUL = pd.read_csv(\"/content/drive/MyDrive/Colab Notebooks/Database/Indian/MARUTI_PreProcessed.csv\")\n",
        "HUL = pd.read_csv(\"/content/drive/MyDrive/Colab Notebooks/Database/Indian/HUL_PreProcessed.csv\")\n",
        "MARUTI = pd.read_csv(\"/content/drive/MyDrive/Colab Notebooks/Database/Indian/MARUTI_PreProcessed.csv\")"
      ],
      "execution_count": null,
      "outputs": []
    },
    {
      "cell_type": "markdown",
      "metadata": {
        "id": "M9SHWv1OGe6T"
      },
      "source": [
        "The Dickey-Fuller test is one of the most popular statistical tests. It can be used to determine the presence of unit root in the series and help us understand if the series is stationary.\n",
        "\n",
        "**Null Hypothesis**: The series has a unit root\n",
        "\n",
        "**Alternate Hypothesis**: The series has no unit root.\n",
        "\n",
        "If we fail to reject the Null Hypothesis, then the series is non-stationary."
      ]
    },
    {
      "cell_type": "code",
      "metadata": {
        "id": "JVVghS_J-alF"
      },
      "source": [
        "def Test_Stationarity(timeseries):\n",
        "  result = adfuller(timeseries['adj close'], autolag = 'AIC')\n",
        "  print(\"Results of Dickey Fuller Test\")\n",
        "  print(f'Test Statistics: {result[0]}')\n",
        "  print(f'p-value: {result[1]}')\n",
        "  print(f'Number of lags used: {result[2]}')\n",
        "  print(f'Number of observations used: {result[3]}')\n",
        "  for key, value in result[4].items():\n",
        "    print(f'critical value ({key}): {value}')"
      ],
      "execution_count": null,
      "outputs": []
    },
    {
      "cell_type": "markdown",
      "metadata": {
        "id": "4qeGKFCsyrfX"
      },
      "source": [
        "#TCS"
      ]
    },
    {
      "cell_type": "code",
      "metadata": {
        "colab": {
          "base_uri": "https://localhost:8080/",
          "height": 665
        },
        "id": "VVTvtUnT-MVb",
        "outputId": "c838263d-c984-4114-fa4b-f89b530a6393"
      },
      "source": [
        "TCS.head(20)"
      ],
      "execution_count": null,
      "outputs": [
        {
          "output_type": "execute_result",
          "data": {
            "text/html": [
              "<div>\n",
              "<style scoped>\n",
              "    .dataframe tbody tr th:only-of-type {\n",
              "        vertical-align: middle;\n",
              "    }\n",
              "\n",
              "    .dataframe tbody tr th {\n",
              "        vertical-align: top;\n",
              "    }\n",
              "\n",
              "    .dataframe thead th {\n",
              "        text-align: right;\n",
              "    }\n",
              "</style>\n",
              "<table border=\"1\" class=\"dataframe\">\n",
              "  <thead>\n",
              "    <tr style=\"text-align: right;\">\n",
              "      <th></th>\n",
              "      <th>ticker</th>\n",
              "      <th>date</th>\n",
              "      <th>open</th>\n",
              "      <th>high</th>\n",
              "      <th>low</th>\n",
              "      <th>close</th>\n",
              "      <th>adj close</th>\n",
              "      <th>volume</th>\n",
              "      <th>Moving Average for 10 days</th>\n",
              "      <th>Moving Average for 20 days</th>\n",
              "      <th>Moving Average for 50 days</th>\n",
              "      <th>Daily Return</th>\n",
              "    </tr>\n",
              "  </thead>\n",
              "  <tbody>\n",
              "    <tr>\n",
              "      <th>0</th>\n",
              "      <td>TCS.NS</td>\n",
              "      <td>2019-01-01</td>\n",
              "      <td>1896.0</td>\n",
              "      <td>1910.00</td>\n",
              "      <td>1885.00</td>\n",
              "      <td>1902.80</td>\n",
              "      <td>1788.18</td>\n",
              "      <td>1094883.0</td>\n",
              "      <td>NaN</td>\n",
              "      <td>NaN</td>\n",
              "      <td>NaN</td>\n",
              "      <td>NaN</td>\n",
              "    </tr>\n",
              "    <tr>\n",
              "      <th>1</th>\n",
              "      <td>TCS.NS</td>\n",
              "      <td>2019-01-02</td>\n",
              "      <td>1905.0</td>\n",
              "      <td>1934.45</td>\n",
              "      <td>1900.00</td>\n",
              "      <td>1923.30</td>\n",
              "      <td>1807.44</td>\n",
              "      <td>2100463.0</td>\n",
              "      <td>NaN</td>\n",
              "      <td>NaN</td>\n",
              "      <td>NaN</td>\n",
              "      <td>0.010771</td>\n",
              "    </tr>\n",
              "    <tr>\n",
              "      <th>2</th>\n",
              "      <td>TCS.NS</td>\n",
              "      <td>2019-01-03</td>\n",
              "      <td>1919.0</td>\n",
              "      <td>1944.95</td>\n",
              "      <td>1893.10</td>\n",
              "      <td>1899.95</td>\n",
              "      <td>1785.50</td>\n",
              "      <td>2611668.0</td>\n",
              "      <td>NaN</td>\n",
              "      <td>NaN</td>\n",
              "      <td>NaN</td>\n",
              "      <td>-0.012139</td>\n",
              "    </tr>\n",
              "    <tr>\n",
              "      <th>3</th>\n",
              "      <td>TCS.NS</td>\n",
              "      <td>2019-01-04</td>\n",
              "      <td>1900.0</td>\n",
              "      <td>1901.20</td>\n",
              "      <td>1841.00</td>\n",
              "      <td>1876.85</td>\n",
              "      <td>1763.79</td>\n",
              "      <td>4280862.0</td>\n",
              "      <td>NaN</td>\n",
              "      <td>NaN</td>\n",
              "      <td>NaN</td>\n",
              "      <td>-0.012159</td>\n",
              "    </tr>\n",
              "    <tr>\n",
              "      <th>4</th>\n",
              "      <td>TCS.NS</td>\n",
              "      <td>2019-01-07</td>\n",
              "      <td>1891.8</td>\n",
              "      <td>1908.80</td>\n",
              "      <td>1881.00</td>\n",
              "      <td>1897.90</td>\n",
              "      <td>1783.57</td>\n",
              "      <td>1856423.0</td>\n",
              "      <td>NaN</td>\n",
              "      <td>NaN</td>\n",
              "      <td>NaN</td>\n",
              "      <td>0.011214</td>\n",
              "    </tr>\n",
              "    <tr>\n",
              "      <th>5</th>\n",
              "      <td>TCS.NS</td>\n",
              "      <td>2019-01-08</td>\n",
              "      <td>1905.4</td>\n",
              "      <td>1906.40</td>\n",
              "      <td>1883.30</td>\n",
              "      <td>1893.55</td>\n",
              "      <td>1779.48</td>\n",
              "      <td>1691756.0</td>\n",
              "      <td>NaN</td>\n",
              "      <td>NaN</td>\n",
              "      <td>NaN</td>\n",
              "      <td>-0.002293</td>\n",
              "    </tr>\n",
              "    <tr>\n",
              "      <th>6</th>\n",
              "      <td>TCS.NS</td>\n",
              "      <td>2019-01-09</td>\n",
              "      <td>1907.4</td>\n",
              "      <td>1919.00</td>\n",
              "      <td>1866.70</td>\n",
              "      <td>1886.95</td>\n",
              "      <td>1773.28</td>\n",
              "      <td>2414376.0</td>\n",
              "      <td>NaN</td>\n",
              "      <td>NaN</td>\n",
              "      <td>NaN</td>\n",
              "      <td>-0.003484</td>\n",
              "    </tr>\n",
              "    <tr>\n",
              "      <th>7</th>\n",
              "      <td>TCS.NS</td>\n",
              "      <td>2019-01-10</td>\n",
              "      <td>1890.0</td>\n",
              "      <td>1905.00</td>\n",
              "      <td>1872.10</td>\n",
              "      <td>1888.55</td>\n",
              "      <td>1774.78</td>\n",
              "      <td>3053461.0</td>\n",
              "      <td>NaN</td>\n",
              "      <td>NaN</td>\n",
              "      <td>NaN</td>\n",
              "      <td>0.000846</td>\n",
              "    </tr>\n",
              "    <tr>\n",
              "      <th>8</th>\n",
              "      <td>TCS.NS</td>\n",
              "      <td>2019-01-11</td>\n",
              "      <td>1870.0</td>\n",
              "      <td>1875.00</td>\n",
              "      <td>1835.00</td>\n",
              "      <td>1842.55</td>\n",
              "      <td>1731.56</td>\n",
              "      <td>9209862.0</td>\n",
              "      <td>NaN</td>\n",
              "      <td>NaN</td>\n",
              "      <td>NaN</td>\n",
              "      <td>-0.024352</td>\n",
              "    </tr>\n",
              "    <tr>\n",
              "      <th>9</th>\n",
              "      <td>TCS.NS</td>\n",
              "      <td>2019-01-14</td>\n",
              "      <td>1850.0</td>\n",
              "      <td>1851.00</td>\n",
              "      <td>1810.00</td>\n",
              "      <td>1813.25</td>\n",
              "      <td>1704.02</td>\n",
              "      <td>3615370.0</td>\n",
              "      <td>1769.160</td>\n",
              "      <td>NaN</td>\n",
              "      <td>NaN</td>\n",
              "      <td>-0.015905</td>\n",
              "    </tr>\n",
              "    <tr>\n",
              "      <th>10</th>\n",
              "      <td>TCS.NS</td>\n",
              "      <td>2019-01-15</td>\n",
              "      <td>1810.0</td>\n",
              "      <td>1869.35</td>\n",
              "      <td>1808.00</td>\n",
              "      <td>1867.80</td>\n",
              "      <td>1755.28</td>\n",
              "      <td>7711653.0</td>\n",
              "      <td>1765.870</td>\n",
              "      <td>NaN</td>\n",
              "      <td>NaN</td>\n",
              "      <td>0.030082</td>\n",
              "    </tr>\n",
              "    <tr>\n",
              "      <th>11</th>\n",
              "      <td>TCS.NS</td>\n",
              "      <td>2019-01-16</td>\n",
              "      <td>1870.0</td>\n",
              "      <td>1875.00</td>\n",
              "      <td>1847.00</td>\n",
              "      <td>1870.15</td>\n",
              "      <td>1757.49</td>\n",
              "      <td>2359280.0</td>\n",
              "      <td>1760.875</td>\n",
              "      <td>NaN</td>\n",
              "      <td>NaN</td>\n",
              "      <td>0.001259</td>\n",
              "    </tr>\n",
              "    <tr>\n",
              "      <th>12</th>\n",
              "      <td>TCS.NS</td>\n",
              "      <td>2019-01-17</td>\n",
              "      <td>1878.0</td>\n",
              "      <td>1898.00</td>\n",
              "      <td>1871.30</td>\n",
              "      <td>1894.30</td>\n",
              "      <td>1784.00</td>\n",
              "      <td>2625816.0</td>\n",
              "      <td>1760.725</td>\n",
              "      <td>NaN</td>\n",
              "      <td>NaN</td>\n",
              "      <td>0.015084</td>\n",
              "    </tr>\n",
              "    <tr>\n",
              "      <th>13</th>\n",
              "      <td>TCS.NS</td>\n",
              "      <td>2019-01-18</td>\n",
              "      <td>1881.0</td>\n",
              "      <td>1904.20</td>\n",
              "      <td>1876.00</td>\n",
              "      <td>1900.65</td>\n",
              "      <td>1789.98</td>\n",
              "      <td>1683728.0</td>\n",
              "      <td>1763.344</td>\n",
              "      <td>NaN</td>\n",
              "      <td>NaN</td>\n",
              "      <td>0.003352</td>\n",
              "    </tr>\n",
              "    <tr>\n",
              "      <th>14</th>\n",
              "      <td>TCS.NS</td>\n",
              "      <td>2019-01-21</td>\n",
              "      <td>1902.0</td>\n",
              "      <td>1932.00</td>\n",
              "      <td>1895.45</td>\n",
              "      <td>1908.70</td>\n",
              "      <td>1797.57</td>\n",
              "      <td>2409803.0</td>\n",
              "      <td>1764.744</td>\n",
              "      <td>NaN</td>\n",
              "      <td>NaN</td>\n",
              "      <td>0.004240</td>\n",
              "    </tr>\n",
              "    <tr>\n",
              "      <th>15</th>\n",
              "      <td>TCS.NS</td>\n",
              "      <td>2019-01-22</td>\n",
              "      <td>1907.1</td>\n",
              "      <td>1918.25</td>\n",
              "      <td>1890.00</td>\n",
              "      <td>1901.90</td>\n",
              "      <td>1791.16</td>\n",
              "      <td>2457093.0</td>\n",
              "      <td>1765.912</td>\n",
              "      <td>NaN</td>\n",
              "      <td>NaN</td>\n",
              "      <td>-0.003566</td>\n",
              "    </tr>\n",
              "    <tr>\n",
              "      <th>16</th>\n",
              "      <td>TCS.NS</td>\n",
              "      <td>2019-01-23</td>\n",
              "      <td>1901.0</td>\n",
              "      <td>1906.10</td>\n",
              "      <td>1870.00</td>\n",
              "      <td>1875.60</td>\n",
              "      <td>1766.39</td>\n",
              "      <td>2578169.0</td>\n",
              "      <td>1765.223</td>\n",
              "      <td>NaN</td>\n",
              "      <td>NaN</td>\n",
              "      <td>-0.013829</td>\n",
              "    </tr>\n",
              "    <tr>\n",
              "      <th>17</th>\n",
              "      <td>TCS.NS</td>\n",
              "      <td>2019-01-24</td>\n",
              "      <td>1884.8</td>\n",
              "      <td>1905.25</td>\n",
              "      <td>1875.00</td>\n",
              "      <td>1901.55</td>\n",
              "      <td>1790.83</td>\n",
              "      <td>1962927.0</td>\n",
              "      <td>1766.828</td>\n",
              "      <td>NaN</td>\n",
              "      <td>NaN</td>\n",
              "      <td>0.013836</td>\n",
              "    </tr>\n",
              "    <tr>\n",
              "      <th>18</th>\n",
              "      <td>TCS.NS</td>\n",
              "      <td>2019-01-25</td>\n",
              "      <td>1902.0</td>\n",
              "      <td>1935.00</td>\n",
              "      <td>1901.00</td>\n",
              "      <td>1920.80</td>\n",
              "      <td>1808.96</td>\n",
              "      <td>2327080.0</td>\n",
              "      <td>1774.568</td>\n",
              "      <td>NaN</td>\n",
              "      <td>NaN</td>\n",
              "      <td>0.010124</td>\n",
              "    </tr>\n",
              "    <tr>\n",
              "      <th>19</th>\n",
              "      <td>TCS.NS</td>\n",
              "      <td>2019-01-28</td>\n",
              "      <td>1933.0</td>\n",
              "      <td>1962.00</td>\n",
              "      <td>1925.50</td>\n",
              "      <td>1955.00</td>\n",
              "      <td>1841.17</td>\n",
              "      <td>2769033.0</td>\n",
              "      <td>1788.283</td>\n",
              "      <td>1778.7215</td>\n",
              "      <td>NaN</td>\n",
              "      <td>0.017806</td>\n",
              "    </tr>\n",
              "  </tbody>\n",
              "</table>\n",
              "</div>"
            ],
            "text/plain": [
              "    ticker        date  ...  Moving Average for 50 days  Daily Return\n",
              "0   TCS.NS  2019-01-01  ...                         NaN           NaN\n",
              "1   TCS.NS  2019-01-02  ...                         NaN      0.010771\n",
              "2   TCS.NS  2019-01-03  ...                         NaN     -0.012139\n",
              "3   TCS.NS  2019-01-04  ...                         NaN     -0.012159\n",
              "4   TCS.NS  2019-01-07  ...                         NaN      0.011214\n",
              "5   TCS.NS  2019-01-08  ...                         NaN     -0.002293\n",
              "6   TCS.NS  2019-01-09  ...                         NaN     -0.003484\n",
              "7   TCS.NS  2019-01-10  ...                         NaN      0.000846\n",
              "8   TCS.NS  2019-01-11  ...                         NaN     -0.024352\n",
              "9   TCS.NS  2019-01-14  ...                         NaN     -0.015905\n",
              "10  TCS.NS  2019-01-15  ...                         NaN      0.030082\n",
              "11  TCS.NS  2019-01-16  ...                         NaN      0.001259\n",
              "12  TCS.NS  2019-01-17  ...                         NaN      0.015084\n",
              "13  TCS.NS  2019-01-18  ...                         NaN      0.003352\n",
              "14  TCS.NS  2019-01-21  ...                         NaN      0.004240\n",
              "15  TCS.NS  2019-01-22  ...                         NaN     -0.003566\n",
              "16  TCS.NS  2019-01-23  ...                         NaN     -0.013829\n",
              "17  TCS.NS  2019-01-24  ...                         NaN      0.013836\n",
              "18  TCS.NS  2019-01-25  ...                         NaN      0.010124\n",
              "19  TCS.NS  2019-01-28  ...                         NaN      0.017806\n",
              "\n",
              "[20 rows x 12 columns]"
            ]
          },
          "metadata": {},
          "execution_count": 6
        }
      ]
    },
    {
      "cell_type": "code",
      "metadata": {
        "colab": {
          "base_uri": "https://localhost:8080/"
        },
        "id": "wuisU-jvHlV_",
        "outputId": "cba35119-e7ef-4948-adff-570cca4ba51c"
      },
      "source": [
        "TCS.info()"
      ],
      "execution_count": null,
      "outputs": [
        {
          "output_type": "stream",
          "name": "stdout",
          "text": [
            "<class 'pandas.core.frame.DataFrame'>\n",
            "RangeIndex: 697 entries, 0 to 696\n",
            "Data columns (total 12 columns):\n",
            " #   Column                      Non-Null Count  Dtype  \n",
            "---  ------                      --------------  -----  \n",
            " 0   ticker                      697 non-null    object \n",
            " 1   date                        697 non-null    object \n",
            " 2   open                        697 non-null    float64\n",
            " 3   high                        697 non-null    float64\n",
            " 4   low                         697 non-null    float64\n",
            " 5   close                       697 non-null    float64\n",
            " 6   adj close                   697 non-null    float64\n",
            " 7   volume                      697 non-null    float64\n",
            " 8   Moving Average for 10 days  688 non-null    float64\n",
            " 9   Moving Average for 20 days  678 non-null    float64\n",
            " 10  Moving Average for 50 days  648 non-null    float64\n",
            " 11  Daily Return                696 non-null    float64\n",
            "dtypes: float64(10), object(2)\n",
            "memory usage: 65.5+ KB\n"
          ]
        }
      ]
    },
    {
      "cell_type": "code",
      "metadata": {
        "id": "cMpcNnJH-H7f"
      },
      "source": [
        "# Change Dtype of date column\n",
        "TCS[\"date\"] = pd.to_datetime(TCS[\"date\"])"
      ],
      "execution_count": null,
      "outputs": []
    },
    {
      "cell_type": "code",
      "metadata": {
        "colab": {
          "base_uri": "https://localhost:8080/"
        },
        "id": "kH2oGK37-S7Y",
        "outputId": "a7c10175-f11a-460a-84a1-6181c5da3804"
      },
      "source": [
        "Test_Stationarity(TCS)"
      ],
      "execution_count": null,
      "outputs": [
        {
          "output_type": "stream",
          "name": "stdout",
          "text": [
            "Results of Dickey Fuller Test\n",
            "Test Statistics: -0.49167206183769324\n",
            "p-value: 0.8936314177544171\n",
            "Number of lags used: 0\n",
            "Number of observations used: 696\n",
            "critical value (1%): -3.4397804336105198\n",
            "critical value (5%): -2.865701589065464\n",
            "critical value (10%): -2.5689861435625576\n"
          ]
        }
      ]
    },
    {
      "cell_type": "markdown",
      "metadata": {
        "id": "XA4ZLgJtIiKK"
      },
      "source": [
        "The p-value > 0.05, so we cannot reject the Null hypothesis. Hence, we would need to use the “Integrated (I)” concept, denoted by value ‘d’ in time series, to make the data stationary while building the Auto ARIMA model."
      ]
    },
    {
      "cell_type": "markdown",
      "metadata": {
        "id": "ef-Xz6gHLiKA"
      },
      "source": [
        "Now let's take log of the 'adj close' column to reduce the magnitude of the values and reduce the series rising trend."
      ]
    },
    {
      "cell_type": "code",
      "metadata": {
        "colab": {
          "base_uri": "https://localhost:8080/",
          "height": 368
        },
        "id": "r1NMAJkTiC9s",
        "outputId": "81460f80-5e3c-4821-ff24-9df41cae87e0"
      },
      "source": [
        "TCS['log adj close'] = np.log(TCS['adj close'])\n",
        "TCS_log_moving_avg = TCS['log adj close'].rolling(12).mean()\n",
        "TCS_log_std = TCS['log adj close'].rolling(12).std()\n",
        "\n",
        "plt.figure(figsize = (10, 5))\n",
        "plt.plot(TCS['date'], TCS_log_moving_avg, label = \"Rolling Mean\")\n",
        "plt.plot(TCS['date'], TCS_log_std, label = \"Rolling Std\")\n",
        "plt.xlabel('Time')\n",
        "plt.ylabel('log adj close')\n",
        "plt.legend(loc = 'best')\n",
        "plt.title(\"Rolling Mean and Standard Deviation\")"
      ],
      "execution_count": null,
      "outputs": [
        {
          "output_type": "execute_result",
          "data": {
            "text/plain": [
              "Text(0.5, 1.0, 'Rolling Mean and Standard Deviation')"
            ]
          },
          "metadata": {},
          "execution_count": 10
        },
        {
          "output_type": "display_data",
          "data": {
            "image/png": "[encoded data removed]",
            "text/plain": [
              "<Figure size 720x360 with 1 Axes>"
            ]
          },
          "metadata": {
            "needs_background": "light"
          }
        }
      ]
    },
    {
      "cell_type": "markdown",
      "metadata": {
        "id": "FPawFX7U5VVz"
      },
      "source": [
        "###Split the Data into Training and Test set\n",
        "    Training Period: 2019-01-01 - 2021-08-01\n",
        "\n",
        "    Testing Period:  2021-08-01 - 2021-10-20"
      ]
    },
    {
      "cell_type": "code",
      "metadata": {
        "colab": {
          "base_uri": "https://localhost:8080/",
          "height": 352
        },
        "id": "5-gIeq0bDrFz",
        "outputId": "29563e45-9cac-4f78-b588-f35fe9ba8ed3"
      },
      "source": [
        "TCS_Train_Data = TCS[TCS['date'] < '2021-08-01']\n",
        "TCS_Test_Data = TCS[TCS['date'] >= '2021-08-01'].reset_index(drop = True)\n",
        "\n",
        "plt.figure(figsize = (10, 5))\n",
        "plt.plot(TCS_Train_Data['date'], TCS_Train_Data['log adj close'], label = 'Train Data')\n",
        "plt.plot(TCS_Test_Data['date'], TCS_Test_Data['log adj close'], label = 'Test Data')\n",
        "plt.xlabel('Time')\n",
        "plt.ylabel('log adj close')\n",
        "plt.legend(loc = 'best')"
      ],
      "execution_count": null,
      "outputs": [
        {
          "output_type": "execute_result",
          "data": {
            "text/plain": [
              "<matplotlib.legend.Legend at 0x7f36f4fd9650>"
            ]
          },
          "metadata": {},
          "execution_count": 11
        },
        {
          "output_type": "display_data",
          "data": {
            "image/png": "[encoded data removed]",
            "text/plain": [
              "<Figure size 720x360 with 1 Axes>"
            ]
          },
          "metadata": {
            "needs_background": "light"
          }
        }
      ]
    },
    {
      "cell_type": "markdown",
      "metadata": {
        "id": "AfBHrHl4RSD1"
      },
      "source": [
        "###Modeling"
      ]
    },
    {
      "cell_type": "code",
      "metadata": {
        "colab": {
          "base_uri": "https://localhost:8080/"
        },
        "id": "eimPhA-fIKrz",
        "outputId": "b8c24064-8095-4209-ab6b-db529079f1f5"
      },
      "source": [
        "TCS_Auto_ARIMA_Model = auto_arima(TCS_Train_Data['log adj close'], seasonal = False,\n",
        "                                   error_action = 'ignore', suppress_warnings = True)\n",
        "print(TCS_Auto_ARIMA_Model.summary())"
      ],
      "execution_count": null,
      "outputs": [
        {
          "output_type": "stream",
          "name": "stdout",
          "text": [
            "                               SARIMAX Results                                \n",
            "==============================================================================\n",
            "Dep. Variable:                      y   No. Observations:                  635\n",
            "Model:               SARIMAX(0, 1, 1)   Log Likelihood                1660.827\n",
            "Date:                Wed, 03 Nov 2021   AIC                          -3317.654\n",
            "Time:                        08:53:50   BIC                          -3308.749\n",
            "Sample:                             0   HQIC                         -3314.196\n",
            "                                - 635                                         \n",
            "Covariance Type:                  opg                                         \n",
            "==============================================================================\n",
            "                 coef    std err          z      P>|z|      [0.025      0.975]\n",
            "------------------------------------------------------------------------------\n",
            "ma.L1         -0.0653      0.028     -2.320      0.020      -0.120      -0.010\n",
            "sigma2         0.0003   9.75e-06     31.836      0.000       0.000       0.000\n",
            "===================================================================================\n",
            "Ljung-Box (L1) (Q):                   0.00   Jarque-Bera (JB):               538.66\n",
            "Prob(Q):                              0.94   Prob(JB):                         0.00\n",
            "Heteroskedasticity (H):               1.06   Skew:                            -0.17\n",
            "Prob(H) (two-sided):                  0.66   Kurtosis:                         7.50\n",
            "===================================================================================\n",
            "\n",
            "Warnings:\n",
            "[1] Covariance matrix calculated using the outer product of gradients (complex-step).\n"
          ]
        }
      ]
    },
    {
      "cell_type": "code",
      "metadata": {
        "colab": {
          "base_uri": "https://localhost:8080/"
        },
        "id": "eh1Pc10YKQ5h",
        "outputId": "f48dd0c1-5649-4f00-d17a-6f83ca54834a"
      },
      "source": [
        "TCS_ARIMA_Model = ARIMA(TCS_Train_Data['log adj close'], order = (1, 1, 0))\n",
        "TCS_ARIMA_Model_Fit = TCS_ARIMA_Model.fit()\n",
        "print(TCS_ARIMA_Model_Fit.summary())"
      ],
      "execution_count": null,
      "outputs": [
        {
          "output_type": "stream",
          "name": "stdout",
          "text": [
            "                               SARIMAX Results                                \n",
            "==============================================================================\n",
            "Dep. Variable:          log adj close   No. Observations:                  635\n",
            "Model:                 ARIMA(1, 1, 0)   Log Likelihood                1660.765\n",
            "Date:                Wed, 03 Nov 2021   AIC                          -3317.530\n",
            "Time:                        08:54:12   BIC                          -3308.626\n",
            "Sample:                             0   HQIC                         -3314.073\n",
            "                                - 635                                         \n",
            "Covariance Type:                  opg                                         \n",
            "==============================================================================\n",
            "                 coef    std err          z      P>|z|      [0.025      0.975]\n",
            "------------------------------------------------------------------------------\n",
            "ar.L1         -0.0634      0.028     -2.225      0.026      -0.119      -0.008\n",
            "sigma2         0.0003   9.79e-06     31.717      0.000       0.000       0.000\n",
            "===================================================================================\n",
            "Ljung-Box (L1) (Q):                   0.01   Jarque-Bera (JB):               535.15\n",
            "Prob(Q):                              0.91   Prob(JB):                         0.00\n",
            "Heteroskedasticity (H):               1.06   Skew:                            -0.17\n",
            "Prob(H) (two-sided):                  0.65   Kurtosis:                         7.49\n",
            "===================================================================================\n",
            "\n",
            "Warnings:\n",
            "[1] Covariance matrix calculated using the outer product of gradients (complex-step).\n"
          ]
        }
      ]
    },
    {
      "cell_type": "markdown",
      "metadata": {
        "id": "RlxQTJS1MxLU"
      },
      "source": [
        "###Predicting the closing stock price of TCS"
      ]
    },
    {
      "cell_type": "code",
      "metadata": {
        "colab": {
          "base_uri": "https://localhost:8080/",
          "height": 352
        },
        "id": "iAPswyN9LSX3",
        "outputId": "92d9f01d-eb7a-45b6-eedc-7fbbb6bc310a"
      },
      "source": [
        "TCS_output = TCS_ARIMA_Model_Fit.forecast(62, alpha=0.05)\n",
        "TCS_predictions = np.exp(TCS_output.values)\n",
        "plt.figure(figsize=(10, 5))\n",
        "plt.plot(TCS_Train_Data['date'], TCS_Train_Data['adj close'], label = 'Training')\n",
        "plt.plot(TCS_Test_Data['date'], TCS_Test_Data['adj close'], label = 'Testing')\n",
        "plt.plot(TCS_Test_Data['date'], TCS_predictions, label = 'Predictions')\n",
        "plt.xlabel('Time')\n",
        "plt.ylabel('Closing Price')\n",
        "plt.legend()"
      ],
      "execution_count": null,
      "outputs": [
        {
          "output_type": "execute_result",
          "data": {
            "text/plain": [
              "<matplotlib.legend.Legend at 0x7f36f27ed150>"
            ]
          },
          "metadata": {},
          "execution_count": 15
        },
        {
          "output_type": "display_data",
          "data": {
            "image/png": "[encoded data removed]",
            "text/plain": [
              "<Figure size 720x360 with 1 Axes>"
            ]
          },
          "metadata": {
            "needs_background": "light"
          }
        }
      ]
    },
    {
      "cell_type": "code",
      "metadata": {
        "colab": {
          "base_uri": "https://localhost:8080/"
        },
        "id": "IcMJb9URK0dj",
        "outputId": "e337951e-106f-4ecd-b460-e1b25951300a"
      },
      "source": [
        "rmse = math.sqrt(mean_squared_error(TCS_Test_Data['adj close'], TCS_predictions))\n",
        "mape = np.mean(np.abs(TCS_predictions - TCS_Test_Data['adj close'])/np.abs(TCS_Test_Data['adj close']))\n",
        "\n",
        "print(f'RMSE: {rmse}')\n",
        "print(f'MAPE: {mape}')"
      ],
      "execution_count": null,
      "outputs": [
        {
          "output_type": "stream",
          "name": "stdout",
          "text": [
            "RMSE: 522.2660125237351\n",
            "MAPE: 0.13004634613206428\n"
          ]
        }
      ]
    },
    {
      "cell_type": "markdown",
      "metadata": {
        "id": "Mv10V6i5AmR1"
      },
      "source": [
        "#HDFC"
      ]
    },
    {
      "cell_type": "code",
      "metadata": {
        "colab": {
          "base_uri": "https://localhost:8080/",
          "height": 665
        },
        "id": "cnxfyDgKAmSH",
        "outputId": "01746cd6-5564-44cd-e807-3dd614a0ddec"
      },
      "source": [
        "HDFC.head(20)"
      ],
      "execution_count": null,
      "outputs": [
        {
          "output_type": "execute_result",
          "data": {
            "text/html": [
              "<div>\n",
              "<style scoped>\n",
              "    .dataframe tbody tr th:only-of-type {\n",
              "        vertical-align: middle;\n",
              "    }\n",
              "\n",
              "    .dataframe tbody tr th {\n",
              "        vertical-align: top;\n",
              "    }\n",
              "\n",
              "    .dataframe thead th {\n",
              "        text-align: right;\n",
              "    }\n",
              "</style>\n",
              "<table border=\"1\" class=\"dataframe\">\n",
              "  <thead>\n",
              "    <tr style=\"text-align: right;\">\n",
              "      <th></th>\n",
              "      <th>ticker</th>\n",
              "      <th>date</th>\n",
              "      <th>open</th>\n",
              "      <th>high</th>\n",
              "      <th>low</th>\n",
              "      <th>close</th>\n",
              "      <th>adj close</th>\n",
              "      <th>volume</th>\n",
              "      <th>Moving Average for 10 days</th>\n",
              "      <th>Moving Average for 20 days</th>\n",
              "      <th>Moving Average for 50 days</th>\n",
              "      <th>Daily Return</th>\n",
              "    </tr>\n",
              "  </thead>\n",
              "  <tbody>\n",
              "    <tr>\n",
              "      <th>0</th>\n",
              "      <td>HDFC.NS</td>\n",
              "      <td>2019-01-01</td>\n",
              "      <td>1968.00</td>\n",
              "      <td>2014.70</td>\n",
              "      <td>1954.50</td>\n",
              "      <td>2009.00</td>\n",
              "      <td>1914.72</td>\n",
              "      <td>1305443.0</td>\n",
              "      <td>NaN</td>\n",
              "      <td>NaN</td>\n",
              "      <td>NaN</td>\n",
              "      <td>NaN</td>\n",
              "    </tr>\n",
              "    <tr>\n",
              "      <th>1</th>\n",
              "      <td>HDFC.NS</td>\n",
              "      <td>2019-01-02</td>\n",
              "      <td>2004.70</td>\n",
              "      <td>2009.00</td>\n",
              "      <td>1961.00</td>\n",
              "      <td>1980.65</td>\n",
              "      <td>1887.70</td>\n",
              "      <td>2001170.0</td>\n",
              "      <td>NaN</td>\n",
              "      <td>NaN</td>\n",
              "      <td>NaN</td>\n",
              "      <td>-0.014112</td>\n",
              "    </tr>\n",
              "    <tr>\n",
              "      <th>2</th>\n",
              "      <td>HDFC.NS</td>\n",
              "      <td>2019-01-03</td>\n",
              "      <td>1984.05</td>\n",
              "      <td>1987.10</td>\n",
              "      <td>1931.85</td>\n",
              "      <td>1936.85</td>\n",
              "      <td>1845.95</td>\n",
              "      <td>3732193.0</td>\n",
              "      <td>NaN</td>\n",
              "      <td>NaN</td>\n",
              "      <td>NaN</td>\n",
              "      <td>-0.022117</td>\n",
              "    </tr>\n",
              "    <tr>\n",
              "      <th>3</th>\n",
              "      <td>HDFC.NS</td>\n",
              "      <td>2019-01-04</td>\n",
              "      <td>1948.00</td>\n",
              "      <td>1976.00</td>\n",
              "      <td>1942.00</td>\n",
              "      <td>1972.60</td>\n",
              "      <td>1880.02</td>\n",
              "      <td>2109614.0</td>\n",
              "      <td>NaN</td>\n",
              "      <td>NaN</td>\n",
              "      <td>NaN</td>\n",
              "      <td>0.018457</td>\n",
              "    </tr>\n",
              "    <tr>\n",
              "      <th>4</th>\n",
              "      <td>HDFC.NS</td>\n",
              "      <td>2019-01-07</td>\n",
              "      <td>1976.95</td>\n",
              "      <td>1987.50</td>\n",
              "      <td>1963.95</td>\n",
              "      <td>1972.90</td>\n",
              "      <td>1880.31</td>\n",
              "      <td>2255477.0</td>\n",
              "      <td>NaN</td>\n",
              "      <td>NaN</td>\n",
              "      <td>NaN</td>\n",
              "      <td>0.000154</td>\n",
              "    </tr>\n",
              "    <tr>\n",
              "      <th>5</th>\n",
              "      <td>HDFC.NS</td>\n",
              "      <td>2019-01-08</td>\n",
              "      <td>1983.00</td>\n",
              "      <td>1983.00</td>\n",
              "      <td>1948.00</td>\n",
              "      <td>1958.95</td>\n",
              "      <td>1867.01</td>\n",
              "      <td>2061919.0</td>\n",
              "      <td>NaN</td>\n",
              "      <td>NaN</td>\n",
              "      <td>NaN</td>\n",
              "      <td>-0.007073</td>\n",
              "    </tr>\n",
              "    <tr>\n",
              "      <th>6</th>\n",
              "      <td>HDFC.NS</td>\n",
              "      <td>2019-01-09</td>\n",
              "      <td>1962.00</td>\n",
              "      <td>1998.00</td>\n",
              "      <td>1962.00</td>\n",
              "      <td>1994.95</td>\n",
              "      <td>1901.32</td>\n",
              "      <td>2905090.0</td>\n",
              "      <td>NaN</td>\n",
              "      <td>NaN</td>\n",
              "      <td>NaN</td>\n",
              "      <td>0.018377</td>\n",
              "    </tr>\n",
              "    <tr>\n",
              "      <th>7</th>\n",
              "      <td>HDFC.NS</td>\n",
              "      <td>2019-01-10</td>\n",
              "      <td>1993.00</td>\n",
              "      <td>1993.00</td>\n",
              "      <td>1971.30</td>\n",
              "      <td>1980.10</td>\n",
              "      <td>1887.17</td>\n",
              "      <td>2138302.0</td>\n",
              "      <td>NaN</td>\n",
              "      <td>NaN</td>\n",
              "      <td>NaN</td>\n",
              "      <td>-0.007442</td>\n",
              "    </tr>\n",
              "    <tr>\n",
              "      <th>8</th>\n",
              "      <td>HDFC.NS</td>\n",
              "      <td>2019-01-11</td>\n",
              "      <td>1978.00</td>\n",
              "      <td>2007.70</td>\n",
              "      <td>1972.40</td>\n",
              "      <td>1991.40</td>\n",
              "      <td>1897.94</td>\n",
              "      <td>1814132.0</td>\n",
              "      <td>NaN</td>\n",
              "      <td>NaN</td>\n",
              "      <td>NaN</td>\n",
              "      <td>0.005707</td>\n",
              "    </tr>\n",
              "    <tr>\n",
              "      <th>9</th>\n",
              "      <td>HDFC.NS</td>\n",
              "      <td>2019-01-14</td>\n",
              "      <td>1983.00</td>\n",
              "      <td>1983.15</td>\n",
              "      <td>1949.60</td>\n",
              "      <td>1969.20</td>\n",
              "      <td>1876.78</td>\n",
              "      <td>2167796.0</td>\n",
              "      <td>1883.892</td>\n",
              "      <td>NaN</td>\n",
              "      <td>NaN</td>\n",
              "      <td>-0.011149</td>\n",
              "    </tr>\n",
              "    <tr>\n",
              "      <th>10</th>\n",
              "      <td>HDFC.NS</td>\n",
              "      <td>2019-01-15</td>\n",
              "      <td>1975.20</td>\n",
              "      <td>1996.00</td>\n",
              "      <td>1964.00</td>\n",
              "      <td>1992.15</td>\n",
              "      <td>1898.66</td>\n",
              "      <td>2111042.0</td>\n",
              "      <td>1882.286</td>\n",
              "      <td>NaN</td>\n",
              "      <td>NaN</td>\n",
              "      <td>0.011658</td>\n",
              "    </tr>\n",
              "    <tr>\n",
              "      <th>11</th>\n",
              "      <td>HDFC.NS</td>\n",
              "      <td>2019-01-16</td>\n",
              "      <td>1989.00</td>\n",
              "      <td>1994.75</td>\n",
              "      <td>1965.50</td>\n",
              "      <td>1975.00</td>\n",
              "      <td>1882.31</td>\n",
              "      <td>1878811.0</td>\n",
              "      <td>1881.747</td>\n",
              "      <td>NaN</td>\n",
              "      <td>NaN</td>\n",
              "      <td>-0.008611</td>\n",
              "    </tr>\n",
              "    <tr>\n",
              "      <th>12</th>\n",
              "      <td>HDFC.NS</td>\n",
              "      <td>2019-01-17</td>\n",
              "      <td>1982.75</td>\n",
              "      <td>2007.00</td>\n",
              "      <td>1979.05</td>\n",
              "      <td>2004.55</td>\n",
              "      <td>1910.47</td>\n",
              "      <td>2773741.0</td>\n",
              "      <td>1888.199</td>\n",
              "      <td>NaN</td>\n",
              "      <td>NaN</td>\n",
              "      <td>0.014960</td>\n",
              "    </tr>\n",
              "    <tr>\n",
              "      <th>13</th>\n",
              "      <td>HDFC.NS</td>\n",
              "      <td>2019-01-18</td>\n",
              "      <td>2004.00</td>\n",
              "      <td>2012.60</td>\n",
              "      <td>1989.25</td>\n",
              "      <td>2006.85</td>\n",
              "      <td>1912.67</td>\n",
              "      <td>1942136.0</td>\n",
              "      <td>1891.464</td>\n",
              "      <td>NaN</td>\n",
              "      <td>NaN</td>\n",
              "      <td>0.001152</td>\n",
              "    </tr>\n",
              "    <tr>\n",
              "      <th>14</th>\n",
              "      <td>HDFC.NS</td>\n",
              "      <td>2019-01-21</td>\n",
              "      <td>1998.00</td>\n",
              "      <td>2016.00</td>\n",
              "      <td>1983.20</td>\n",
              "      <td>2004.45</td>\n",
              "      <td>1910.38</td>\n",
              "      <td>2146668.0</td>\n",
              "      <td>1894.471</td>\n",
              "      <td>NaN</td>\n",
              "      <td>NaN</td>\n",
              "      <td>-0.001197</td>\n",
              "    </tr>\n",
              "    <tr>\n",
              "      <th>15</th>\n",
              "      <td>HDFC.NS</td>\n",
              "      <td>2019-01-22</td>\n",
              "      <td>1999.00</td>\n",
              "      <td>2002.15</td>\n",
              "      <td>1968.50</td>\n",
              "      <td>1979.40</td>\n",
              "      <td>1886.50</td>\n",
              "      <td>3502920.0</td>\n",
              "      <td>1896.420</td>\n",
              "      <td>NaN</td>\n",
              "      <td>NaN</td>\n",
              "      <td>-0.012500</td>\n",
              "    </tr>\n",
              "    <tr>\n",
              "      <th>16</th>\n",
              "      <td>HDFC.NS</td>\n",
              "      <td>2019-01-23</td>\n",
              "      <td>1981.80</td>\n",
              "      <td>1984.95</td>\n",
              "      <td>1951.30</td>\n",
              "      <td>1958.25</td>\n",
              "      <td>1866.35</td>\n",
              "      <td>2201110.0</td>\n",
              "      <td>1892.923</td>\n",
              "      <td>NaN</td>\n",
              "      <td>NaN</td>\n",
              "      <td>-0.010681</td>\n",
              "    </tr>\n",
              "    <tr>\n",
              "      <th>17</th>\n",
              "      <td>HDFC.NS</td>\n",
              "      <td>2019-01-24</td>\n",
              "      <td>1960.00</td>\n",
              "      <td>1976.00</td>\n",
              "      <td>1942.15</td>\n",
              "      <td>1971.10</td>\n",
              "      <td>1878.59</td>\n",
              "      <td>2194496.0</td>\n",
              "      <td>1892.065</td>\n",
              "      <td>NaN</td>\n",
              "      <td>NaN</td>\n",
              "      <td>0.006558</td>\n",
              "    </tr>\n",
              "    <tr>\n",
              "      <th>18</th>\n",
              "      <td>HDFC.NS</td>\n",
              "      <td>2019-01-25</td>\n",
              "      <td>1964.40</td>\n",
              "      <td>1993.00</td>\n",
              "      <td>1963.95</td>\n",
              "      <td>1977.80</td>\n",
              "      <td>1884.98</td>\n",
              "      <td>2240491.0</td>\n",
              "      <td>1890.769</td>\n",
              "      <td>NaN</td>\n",
              "      <td>NaN</td>\n",
              "      <td>0.003401</td>\n",
              "    </tr>\n",
              "    <tr>\n",
              "      <th>19</th>\n",
              "      <td>HDFC.NS</td>\n",
              "      <td>2019-01-28</td>\n",
              "      <td>1978.70</td>\n",
              "      <td>1982.20</td>\n",
              "      <td>1938.10</td>\n",
              "      <td>1946.90</td>\n",
              "      <td>1855.53</td>\n",
              "      <td>2698966.0</td>\n",
              "      <td>1888.644</td>\n",
              "      <td>1886.268</td>\n",
              "      <td>NaN</td>\n",
              "      <td>-0.015624</td>\n",
              "    </tr>\n",
              "  </tbody>\n",
              "</table>\n",
              "</div>"
            ],
            "text/plain": [
              "     ticker        date  ...  Moving Average for 50 days  Daily Return\n",
              "0   HDFC.NS  2019-01-01  ...                         NaN           NaN\n",
              "1   HDFC.NS  2019-01-02  ...                         NaN     -0.014112\n",
              "2   HDFC.NS  2019-01-03  ...                         NaN     -0.022117\n",
              "3   HDFC.NS  2019-01-04  ...                         NaN      0.018457\n",
              "4   HDFC.NS  2019-01-07  ...                         NaN      0.000154\n",
              "5   HDFC.NS  2019-01-08  ...                         NaN     -0.007073\n",
              "6   HDFC.NS  2019-01-09  ...                         NaN      0.018377\n",
              "7   HDFC.NS  2019-01-10  ...                         NaN     -0.007442\n",
              "8   HDFC.NS  2019-01-11  ...                         NaN      0.005707\n",
              "9   HDFC.NS  2019-01-14  ...                         NaN     -0.011149\n",
              "10  HDFC.NS  2019-01-15  ...                         NaN      0.011658\n",
              "11  HDFC.NS  2019-01-16  ...                         NaN     -0.008611\n",
              "12  HDFC.NS  2019-01-17  ...                         NaN      0.014960\n",
              "13  HDFC.NS  2019-01-18  ...                         NaN      0.001152\n",
              "14  HDFC.NS  2019-01-21  ...                         NaN     -0.001197\n",
              "15  HDFC.NS  2019-01-22  ...                         NaN     -0.012500\n",
              "16  HDFC.NS  2019-01-23  ...                         NaN     -0.010681\n",
              "17  HDFC.NS  2019-01-24  ...                         NaN      0.006558\n",
              "18  HDFC.NS  2019-01-25  ...                         NaN      0.003401\n",
              "19  HDFC.NS  2019-01-28  ...                         NaN     -0.015624\n",
              "\n",
              "[20 rows x 12 columns]"
            ]
          },
          "metadata": {},
          "execution_count": 17
        }
      ]
    },
    {
      "cell_type": "code",
      "metadata": {
        "colab": {
          "base_uri": "https://localhost:8080/"
        },
        "id": "zieOHEEcAmSI",
        "outputId": "d0185d05-8d06-441e-df31-51e064d764b0"
      },
      "source": [
        "HDFC.info()"
      ],
      "execution_count": null,
      "outputs": [
        {
          "output_type": "stream",
          "name": "stdout",
          "text": [
            "<class 'pandas.core.frame.DataFrame'>\n",
            "RangeIndex: 697 entries, 0 to 696\n",
            "Data columns (total 12 columns):\n",
            " #   Column                      Non-Null Count  Dtype  \n",
            "---  ------                      --------------  -----  \n",
            " 0   ticker                      697 non-null    object \n",
            " 1   date                        697 non-null    object \n",
            " 2   open                        697 non-null    float64\n",
            " 3   high                        697 non-null    float64\n",
            " 4   low                         697 non-null    float64\n",
            " 5   close                       697 non-null    float64\n",
            " 6   adj close                   697 non-null    float64\n",
            " 7   volume                      697 non-null    float64\n",
            " 8   Moving Average for 10 days  688 non-null    float64\n",
            " 9   Moving Average for 20 days  678 non-null    float64\n",
            " 10  Moving Average for 50 days  648 non-null    float64\n",
            " 11  Daily Return                696 non-null    float64\n",
            "dtypes: float64(10), object(2)\n",
            "memory usage: 65.5+ KB\n"
          ]
        }
      ]
    },
    {
      "cell_type": "code",
      "metadata": {
        "id": "MGRo4xsBAmSI"
      },
      "source": [
        "# Change Dtype of date column\n",
        "HDFC[\"date\"] = pd.to_datetime(HDFC[\"date\"])"
      ],
      "execution_count": null,
      "outputs": []
    },
    {
      "cell_type": "code",
      "metadata": {
        "colab": {
          "base_uri": "https://localhost:8080/"
        },
        "id": "fEecaaRpAmSI",
        "outputId": "72b76d70-ddb0-459a-d82e-8bcf7937dd5e"
      },
      "source": [
        "Test_Stationarity(HDFC)"
      ],
      "execution_count": null,
      "outputs": [
        {
          "output_type": "stream",
          "name": "stdout",
          "text": [
            "Results of Dickey Fuller Test\n",
            "Test Statistics: -0.9437690011290609\n",
            "p-value: 0.7732172926811722\n",
            "Number of lags used: 8\n",
            "Number of observations used: 688\n",
            "critical value (1%): -3.439890503006147\n",
            "critical value (5%): -2.865750085260771\n",
            "critical value (10%): -2.569011980884938\n"
          ]
        }
      ]
    },
    {
      "cell_type": "markdown",
      "metadata": {
        "id": "St0iRSiMAmSJ"
      },
      "source": [
        "The p-value > 0.05, so we cannot reject the Null hypothesis. Hence, we would need to use the “Integrated (I)” concept, denoted by value ‘d’ in time series, to make the data stationary while building the Auto ARIMA model."
      ]
    },
    {
      "cell_type": "markdown",
      "metadata": {
        "id": "p2QH7OZrAmSJ"
      },
      "source": [
        "Now let's take log of the 'adj close' column to reduce the magnitude of the values and reduce the series rising trend."
      ]
    },
    {
      "cell_type": "code",
      "metadata": {
        "colab": {
          "base_uri": "https://localhost:8080/",
          "height": 368
        },
        "id": "8EE2cdD8AmSJ",
        "outputId": "4c200852-70c6-454f-cf03-be18ebe723f1"
      },
      "source": [
        "HDFC['log adj close'] = np.log(HDFC['adj close'])\n",
        "HDFC_log_moving_avg = HDFC['log adj close'].rolling(12).mean()\n",
        "HDFC_log_std = HDFC['log adj close'].rolling(12).std()\n",
        "\n",
        "plt.figure(figsize = (10, 5))\n",
        "plt.plot(HDFC['date'], HDFC_log_moving_avg, label = \"Rolling Mean\")\n",
        "plt.plot(HDFC['date'], HDFC_log_std, label = \"Rolling Std\")\n",
        "plt.xlabel('Time')\n",
        "plt.ylabel('log adj close')\n",
        "plt.legend(loc = 'best')\n",
        "plt.title(\"Rolling Mean and Standard Deviation\")"
      ],
      "execution_count": null,
      "outputs": [
        {
          "output_type": "execute_result",
          "data": {
            "text/plain": [
              "Text(0.5, 1.0, 'Rolling Mean and Standard Deviation')"
            ]
          },
          "metadata": {},
          "execution_count": 23
        },
        {
          "output_type": "display_data",
          "data": {
            "image/png": "[encoded data removed]",
            "text/plain": [
              "<Figure size 720x360 with 1 Axes>"
            ]
          },
          "metadata": {
            "needs_background": "light"
          }
        }
      ]
    },
    {
      "cell_type": "markdown",
      "metadata": {
        "id": "A2Yt7Tc5AmSK"
      },
      "source": [
        "###Split the Data into Training and Test set\n",
        "    Training Period: 2019-01-01 - 2021-08-01\n",
        "\n",
        "    Testing Period:  2021-08-01 - 2021-10-20"
      ]
    },
    {
      "cell_type": "code",
      "metadata": {
        "colab": {
          "base_uri": "https://localhost:8080/",
          "height": 352
        },
        "id": "kmfbqLhvAmSK",
        "outputId": "433cc3b9-0491-412d-98bd-524e960fab7e"
      },
      "source": [
        "HDFC_Train_Data = HDFC[HDFC['date'] < '2021-08-01']\n",
        "HDFC_Test_Data = HDFC[HDFC['date'] >= '2021-08-01'].reset_index(drop = True)\n",
        "\n",
        "plt.figure(figsize = (10, 5))\n",
        "plt.plot(HDFC_Train_Data['date'], HDFC_Train_Data['log adj close'], label = 'Train Data')\n",
        "plt.plot(HDFC_Test_Data['date'], HDFC_Test_Data['log adj close'], label = 'Test Data')\n",
        "plt.xlabel('Time')\n",
        "plt.ylabel('log adj close')\n",
        "plt.legend(loc = 'best')"
      ],
      "execution_count": null,
      "outputs": [
        {
          "output_type": "execute_result",
          "data": {
            "text/plain": [
              "<matplotlib.legend.Legend at 0x7f36f133c3d0>"
            ]
          },
          "metadata": {},
          "execution_count": 24
        },
        {
          "output_type": "display_data",
          "data": {
            "image/png": "[encoded data removed]",
            "text/plain": [
              "<Figure size 720x360 with 1 Axes>"
            ]
          },
          "metadata": {
            "needs_background": "light"
          }
        }
      ]
    },
    {
      "cell_type": "markdown",
      "metadata": {
        "id": "dIlp18MNAmSK"
      },
      "source": [
        "###Modeling"
      ]
    },
    {
      "cell_type": "code",
      "metadata": {
        "colab": {
          "base_uri": "https://localhost:8080/"
        },
        "id": "Hgx3T3HNAmSK",
        "outputId": "3eb9162d-629a-4674-cbcb-0a7a33acaac1"
      },
      "source": [
        "HDFC_Auto_ARIMA_Model = auto_arima(HDFC_Train_Data['log adj close'], seasonal = False,\n",
        "                                   error_action = 'ignore', suppress_warnings = True)\n",
        "print(HDFC_Auto_ARIMA_Model.summary())"
      ],
      "execution_count": null,
      "outputs": [
        {
          "output_type": "stream",
          "name": "stdout",
          "text": [
            "                               SARIMAX Results                                \n",
            "==============================================================================\n",
            "Dep. Variable:                      y   No. Observations:                  635\n",
            "Model:               SARIMAX(3, 1, 0)   Log Likelihood                1497.258\n",
            "Date:                Wed, 03 Nov 2021   AIC                          -2986.517\n",
            "Time:                        08:57:37   BIC                          -2968.708\n",
            "Sample:                             0   HQIC                         -2979.601\n",
            "                                - 635                                         \n",
            "Covariance Type:                  opg                                         \n",
            "==============================================================================\n",
            "                 coef    std err          z      P>|z|      [0.025      0.975]\n",
            "------------------------------------------------------------------------------\n",
            "ar.L1         -0.0383      0.025     -1.536      0.125      -0.087       0.011\n",
            "ar.L2         -0.0922      0.021     -4.475      0.000      -0.133      -0.052\n",
            "ar.L3         -0.1276      0.021     -6.136      0.000      -0.168      -0.087\n",
            "sigma2         0.0005   1.63e-05     31.936      0.000       0.000       0.001\n",
            "===================================================================================\n",
            "Ljung-Box (L1) (Q):                   0.00   Jarque-Bera (JB):              1150.97\n",
            "Prob(Q):                              0.96   Prob(JB):                         0.00\n",
            "Heteroskedasticity (H):               1.72   Skew:                            -0.66\n",
            "Prob(H) (two-sided):                  0.00   Kurtosis:                         9.47\n",
            "===================================================================================\n",
            "\n",
            "Warnings:\n",
            "[1] Covariance matrix calculated using the outer product of gradients (complex-step).\n"
          ]
        }
      ]
    },
    {
      "cell_type": "code",
      "metadata": {
        "colab": {
          "base_uri": "https://localhost:8080/"
        },
        "id": "cprWHNkpAmSK",
        "outputId": "5d274318-5dee-4794-c798-5a32d36b5a60"
      },
      "source": [
        "HDFC_ARIMA_Model = ARIMA(HDFC_Train_Data['log adj close'], order = (1, 1, 0))\n",
        "HDFC_ARIMA_Model_Fit = HDFC_ARIMA_Model.fit()\n",
        "print(HDFC_ARIMA_Model_Fit.summary())"
      ],
      "execution_count": null,
      "outputs": [
        {
          "output_type": "stream",
          "name": "stdout",
          "text": [
            "                               SARIMAX Results                                \n",
            "==============================================================================\n",
            "Dep. Variable:          log adj close   No. Observations:                  635\n",
            "Model:                 ARIMA(1, 1, 0)   Log Likelihood                1489.523\n",
            "Date:                Wed, 03 Nov 2021   AIC                          -2975.045\n",
            "Time:                        08:58:07   BIC                          -2966.141\n",
            "Sample:                             0   HQIC                         -2971.588\n",
            "                                - 635                                         \n",
            "Covariance Type:                  opg                                         \n",
            "==============================================================================\n",
            "                 coef    std err          z      P>|z|      [0.025      0.975]\n",
            "------------------------------------------------------------------------------\n",
            "ar.L1         -0.0248      0.025     -1.008      0.313      -0.073       0.023\n",
            "sigma2         0.0005   1.65e-05     32.387      0.000       0.001       0.001\n",
            "===================================================================================\n",
            "Ljung-Box (L1) (Q):                   0.00   Jarque-Bera (JB):              1058.15\n",
            "Prob(Q):                              0.95   Prob(JB):                         0.00\n",
            "Heteroskedasticity (H):               1.73   Skew:                            -0.52\n",
            "Prob(H) (two-sided):                  0.00   Kurtosis:                         9.24\n",
            "===================================================================================\n",
            "\n",
            "Warnings:\n",
            "[1] Covariance matrix calculated using the outer product of gradients (complex-step).\n"
          ]
        }
      ]
    },
    {
      "cell_type": "markdown",
      "metadata": {
        "id": "JSRhF7d8AmSL"
      },
      "source": [
        "###Predicting the closing stock price of HDFC"
      ]
    },
    {
      "cell_type": "code",
      "metadata": {
        "colab": {
          "base_uri": "https://localhost:8080/",
          "height": 352
        },
        "id": "KID6CHrtAmSL",
        "outputId": "37f62141-5047-4789-c52b-a6388a363d40"
      },
      "source": [
        "HDFC_output = HDFC_ARIMA_Model_Fit.forecast(62, alpha=0.05)\n",
        "HDFC_predictions = np.exp(HDFC_output.values)\n",
        "plt.figure(figsize=(10, 5))\n",
        "plt.plot(HDFC_Train_Data['date'], HDFC_Train_Data['adj close'], label = 'Training')\n",
        "plt.plot(HDFC_Test_Data['date'], HDFC_Test_Data['adj close'], label = 'Testing')\n",
        "plt.plot(HDFC_Test_Data['date'], HDFC_predictions, label = 'Predictions')\n",
        "plt.xlabel('Time')\n",
        "plt.ylabel('Closing Price')\n",
        "plt.legend()"
      ],
      "execution_count": null,
      "outputs": [
        {
          "output_type": "execute_result",
          "data": {
            "text/plain": [
              "<matplotlib.legend.Legend at 0x7f36f12ba310>"
            ]
          },
          "metadata": {},
          "execution_count": 32
        },
        {
          "output_type": "display_data",
          "data": {
            "image/png": "[encoded data removed]",
            "text/plain": [
              "<Figure size 720x360 with 1 Axes>"
            ]
          },
          "metadata": {
            "needs_background": "light"
          }
        }
      ]
    },
    {
      "cell_type": "code",
      "metadata": {
        "colab": {
          "base_uri": "https://localhost:8080/"
        },
        "id": "QtSQqjx_AmSL",
        "outputId": "7c33c1af-2c69-4119-8a63-dc37cc59cb51"
      },
      "source": [
        "rmse = math.sqrt(mean_squared_error(HDFC_Test_Data['adj close'], HDFC_predictions))\n",
        "mape = np.mean(np.abs(HDFC_predictions - HDFC_Test_Data['adj close'])/np.abs(HDFC_Test_Data['adj close']))\n",
        "\n",
        "print(f'RMSE: {rmse}')\n",
        "print(f'MAPE: {mape}')"
      ],
      "execution_count": null,
      "outputs": [
        {
          "output_type": "stream",
          "name": "stdout",
          "text": [
            "RMSE: 330.13414578370845\n",
            "MAPE: 0.1149287808496038\n"
          ]
        }
      ]
    },
    {
      "cell_type": "markdown",
      "metadata": {
        "id": "3pBerABDBu6c"
      },
      "source": [
        "#HUL"
      ]
    },
    {
      "cell_type": "code",
      "metadata": {
        "colab": {
          "base_uri": "https://localhost:8080/",
          "height": 665
        },
        "id": "4kOKHGLUBu6d",
        "outputId": "84afe375-1267-4029-80fa-9fd1d0fb9dbb"
      },
      "source": [
        "HUL.head(20)"
      ],
      "execution_count": null,
      "outputs": [
        {
          "output_type": "execute_result",
          "data": {
            "text/html": [
              "<div>\n",
              "<style scoped>\n",
              "    .dataframe tbody tr th:only-of-type {\n",
              "        vertical-align: middle;\n",
              "    }\n",
              "\n",
              "    .dataframe tbody tr th {\n",
              "        vertical-align: top;\n",
              "    }\n",
              "\n",
              "    .dataframe thead th {\n",
              "        text-align: right;\n",
              "    }\n",
              "</style>\n",
              "<table border=\"1\" class=\"dataframe\">\n",
              "  <thead>\n",
              "    <tr style=\"text-align: right;\">\n",
              "      <th></th>\n",
              "      <th>ticker</th>\n",
              "      <th>date</th>\n",
              "      <th>open</th>\n",
              "      <th>high</th>\n",
              "      <th>low</th>\n",
              "      <th>close</th>\n",
              "      <th>adj close</th>\n",
              "      <th>volume</th>\n",
              "      <th>Moving Average for 10 days</th>\n",
              "      <th>Moving Average for 20 days</th>\n",
              "      <th>Moving Average for 50 days</th>\n",
              "      <th>Daily Return</th>\n",
              "    </tr>\n",
              "  </thead>\n",
              "  <tbody>\n",
              "    <tr>\n",
              "      <th>0</th>\n",
              "      <td>HINDUNILVR.NS</td>\n",
              "      <td>2019-01-01</td>\n",
              "      <td>1824.8</td>\n",
              "      <td>1824.80</td>\n",
              "      <td>1798.35</td>\n",
              "      <td>1801.10</td>\n",
              "      <td>1735.48</td>\n",
              "      <td>807345.0</td>\n",
              "      <td>NaN</td>\n",
              "      <td>NaN</td>\n",
              "      <td>NaN</td>\n",
              "      <td>NaN</td>\n",
              "    </tr>\n",
              "    <tr>\n",
              "      <th>1</th>\n",
              "      <td>HINDUNILVR.NS</td>\n",
              "      <td>2019-01-02</td>\n",
              "      <td>1792.4</td>\n",
              "      <td>1808.85</td>\n",
              "      <td>1771.30</td>\n",
              "      <td>1784.60</td>\n",
              "      <td>1719.58</td>\n",
              "      <td>1598707.0</td>\n",
              "      <td>NaN</td>\n",
              "      <td>NaN</td>\n",
              "      <td>NaN</td>\n",
              "      <td>-0.009162</td>\n",
              "    </tr>\n",
              "    <tr>\n",
              "      <th>2</th>\n",
              "      <td>HINDUNILVR.NS</td>\n",
              "      <td>2019-01-03</td>\n",
              "      <td>1782.6</td>\n",
              "      <td>1803.45</td>\n",
              "      <td>1782.60</td>\n",
              "      <td>1788.40</td>\n",
              "      <td>1723.24</td>\n",
              "      <td>1182624.0</td>\n",
              "      <td>NaN</td>\n",
              "      <td>NaN</td>\n",
              "      <td>NaN</td>\n",
              "      <td>0.002128</td>\n",
              "    </tr>\n",
              "    <tr>\n",
              "      <th>3</th>\n",
              "      <td>HINDUNILVR.NS</td>\n",
              "      <td>2019-01-04</td>\n",
              "      <td>1798.9</td>\n",
              "      <td>1802.00</td>\n",
              "      <td>1772.15</td>\n",
              "      <td>1781.70</td>\n",
              "      <td>1716.78</td>\n",
              "      <td>1454134.0</td>\n",
              "      <td>NaN</td>\n",
              "      <td>NaN</td>\n",
              "      <td>NaN</td>\n",
              "      <td>-0.003749</td>\n",
              "    </tr>\n",
              "    <tr>\n",
              "      <th>4</th>\n",
              "      <td>HINDUNILVR.NS</td>\n",
              "      <td>2019-01-07</td>\n",
              "      <td>1791.5</td>\n",
              "      <td>1804.00</td>\n",
              "      <td>1782.45</td>\n",
              "      <td>1784.95</td>\n",
              "      <td>1719.91</td>\n",
              "      <td>909032.0</td>\n",
              "      <td>NaN</td>\n",
              "      <td>NaN</td>\n",
              "      <td>NaN</td>\n",
              "      <td>0.001823</td>\n",
              "    </tr>\n",
              "    <tr>\n",
              "      <th>5</th>\n",
              "      <td>HINDUNILVR.NS</td>\n",
              "      <td>2019-01-08</td>\n",
              "      <td>1792.0</td>\n",
              "      <td>1793.50</td>\n",
              "      <td>1761.10</td>\n",
              "      <td>1770.85</td>\n",
              "      <td>1706.33</td>\n",
              "      <td>1262707.0</td>\n",
              "      <td>NaN</td>\n",
              "      <td>NaN</td>\n",
              "      <td>NaN</td>\n",
              "      <td>-0.007896</td>\n",
              "    </tr>\n",
              "    <tr>\n",
              "      <th>6</th>\n",
              "      <td>HINDUNILVR.NS</td>\n",
              "      <td>2019-01-09</td>\n",
              "      <td>1777.5</td>\n",
              "      <td>1797.00</td>\n",
              "      <td>1773.40</td>\n",
              "      <td>1785.00</td>\n",
              "      <td>1719.96</td>\n",
              "      <td>1324628.0</td>\n",
              "      <td>NaN</td>\n",
              "      <td>NaN</td>\n",
              "      <td>NaN</td>\n",
              "      <td>0.007988</td>\n",
              "    </tr>\n",
              "    <tr>\n",
              "      <th>7</th>\n",
              "      <td>HINDUNILVR.NS</td>\n",
              "      <td>2019-01-10</td>\n",
              "      <td>1785.0</td>\n",
              "      <td>1799.10</td>\n",
              "      <td>1779.00</td>\n",
              "      <td>1786.20</td>\n",
              "      <td>1721.12</td>\n",
              "      <td>1313981.0</td>\n",
              "      <td>NaN</td>\n",
              "      <td>NaN</td>\n",
              "      <td>NaN</td>\n",
              "      <td>0.000674</td>\n",
              "    </tr>\n",
              "    <tr>\n",
              "      <th>8</th>\n",
              "      <td>HINDUNILVR.NS</td>\n",
              "      <td>2019-01-11</td>\n",
              "      <td>1795.0</td>\n",
              "      <td>1795.40</td>\n",
              "      <td>1758.55</td>\n",
              "      <td>1769.40</td>\n",
              "      <td>1704.93</td>\n",
              "      <td>1113837.0</td>\n",
              "      <td>NaN</td>\n",
              "      <td>NaN</td>\n",
              "      <td>NaN</td>\n",
              "      <td>-0.009407</td>\n",
              "    </tr>\n",
              "    <tr>\n",
              "      <th>9</th>\n",
              "      <td>HINDUNILVR.NS</td>\n",
              "      <td>2019-01-14</td>\n",
              "      <td>1771.0</td>\n",
              "      <td>1780.75</td>\n",
              "      <td>1760.10</td>\n",
              "      <td>1763.90</td>\n",
              "      <td>1699.63</td>\n",
              "      <td>1018068.0</td>\n",
              "      <td>1716.696</td>\n",
              "      <td>NaN</td>\n",
              "      <td>NaN</td>\n",
              "      <td>-0.003109</td>\n",
              "    </tr>\n",
              "    <tr>\n",
              "      <th>10</th>\n",
              "      <td>HINDUNILVR.NS</td>\n",
              "      <td>2019-01-15</td>\n",
              "      <td>1767.4</td>\n",
              "      <td>1793.40</td>\n",
              "      <td>1767.40</td>\n",
              "      <td>1789.85</td>\n",
              "      <td>1724.64</td>\n",
              "      <td>1614600.0</td>\n",
              "      <td>1715.612</td>\n",
              "      <td>NaN</td>\n",
              "      <td>NaN</td>\n",
              "      <td>0.014715</td>\n",
              "    </tr>\n",
              "    <tr>\n",
              "      <th>11</th>\n",
              "      <td>HINDUNILVR.NS</td>\n",
              "      <td>2019-01-16</td>\n",
              "      <td>1790.0</td>\n",
              "      <td>1794.80</td>\n",
              "      <td>1766.80</td>\n",
              "      <td>1772.55</td>\n",
              "      <td>1707.97</td>\n",
              "      <td>2054033.0</td>\n",
              "      <td>1714.451</td>\n",
              "      <td>NaN</td>\n",
              "      <td>NaN</td>\n",
              "      <td>-0.009666</td>\n",
              "    </tr>\n",
              "    <tr>\n",
              "      <th>12</th>\n",
              "      <td>HINDUNILVR.NS</td>\n",
              "      <td>2019-01-17</td>\n",
              "      <td>1776.9</td>\n",
              "      <td>1779.25</td>\n",
              "      <td>1742.50</td>\n",
              "      <td>1751.50</td>\n",
              "      <td>1687.68</td>\n",
              "      <td>1941204.0</td>\n",
              "      <td>1710.895</td>\n",
              "      <td>NaN</td>\n",
              "      <td>NaN</td>\n",
              "      <td>-0.011880</td>\n",
              "    </tr>\n",
              "    <tr>\n",
              "      <th>13</th>\n",
              "      <td>HINDUNILVR.NS</td>\n",
              "      <td>2019-01-18</td>\n",
              "      <td>1750.0</td>\n",
              "      <td>1768.85</td>\n",
              "      <td>1727.30</td>\n",
              "      <td>1744.10</td>\n",
              "      <td>1680.55</td>\n",
              "      <td>3234056.0</td>\n",
              "      <td>1707.272</td>\n",
              "      <td>NaN</td>\n",
              "      <td>NaN</td>\n",
              "      <td>-0.004225</td>\n",
              "    </tr>\n",
              "    <tr>\n",
              "      <th>14</th>\n",
              "      <td>HINDUNILVR.NS</td>\n",
              "      <td>2019-01-21</td>\n",
              "      <td>1749.0</td>\n",
              "      <td>1758.00</td>\n",
              "      <td>1736.05</td>\n",
              "      <td>1746.90</td>\n",
              "      <td>1683.25</td>\n",
              "      <td>1628067.0</td>\n",
              "      <td>1703.606</td>\n",
              "      <td>NaN</td>\n",
              "      <td>NaN</td>\n",
              "      <td>0.001607</td>\n",
              "    </tr>\n",
              "    <tr>\n",
              "      <th>15</th>\n",
              "      <td>HINDUNILVR.NS</td>\n",
              "      <td>2019-01-22</td>\n",
              "      <td>1746.0</td>\n",
              "      <td>1755.00</td>\n",
              "      <td>1741.25</td>\n",
              "      <td>1750.20</td>\n",
              "      <td>1686.43</td>\n",
              "      <td>1776472.0</td>\n",
              "      <td>1701.616</td>\n",
              "      <td>NaN</td>\n",
              "      <td>NaN</td>\n",
              "      <td>0.001889</td>\n",
              "    </tr>\n",
              "    <tr>\n",
              "      <th>16</th>\n",
              "      <td>HINDUNILVR.NS</td>\n",
              "      <td>2019-01-23</td>\n",
              "      <td>1752.0</td>\n",
              "      <td>1784.05</td>\n",
              "      <td>1749.40</td>\n",
              "      <td>1767.20</td>\n",
              "      <td>1702.81</td>\n",
              "      <td>2321782.0</td>\n",
              "      <td>1699.901</td>\n",
              "      <td>NaN</td>\n",
              "      <td>NaN</td>\n",
              "      <td>0.009713</td>\n",
              "    </tr>\n",
              "    <tr>\n",
              "      <th>17</th>\n",
              "      <td>HINDUNILVR.NS</td>\n",
              "      <td>2019-01-24</td>\n",
              "      <td>1766.8</td>\n",
              "      <td>1784.05</td>\n",
              "      <td>1756.70</td>\n",
              "      <td>1759.50</td>\n",
              "      <td>1695.39</td>\n",
              "      <td>1350870.0</td>\n",
              "      <td>1697.328</td>\n",
              "      <td>NaN</td>\n",
              "      <td>NaN</td>\n",
              "      <td>-0.004358</td>\n",
              "    </tr>\n",
              "    <tr>\n",
              "      <th>18</th>\n",
              "      <td>HINDUNILVR.NS</td>\n",
              "      <td>2019-01-25</td>\n",
              "      <td>1762.0</td>\n",
              "      <td>1778.75</td>\n",
              "      <td>1750.00</td>\n",
              "      <td>1756.80</td>\n",
              "      <td>1692.79</td>\n",
              "      <td>1131790.0</td>\n",
              "      <td>1696.114</td>\n",
              "      <td>NaN</td>\n",
              "      <td>NaN</td>\n",
              "      <td>-0.001534</td>\n",
              "    </tr>\n",
              "    <tr>\n",
              "      <th>19</th>\n",
              "      <td>HINDUNILVR.NS</td>\n",
              "      <td>2019-01-28</td>\n",
              "      <td>1758.9</td>\n",
              "      <td>1771.55</td>\n",
              "      <td>1740.15</td>\n",
              "      <td>1743.00</td>\n",
              "      <td>1679.49</td>\n",
              "      <td>1289774.0</td>\n",
              "      <td>1694.100</td>\n",
              "      <td>1705.398</td>\n",
              "      <td>NaN</td>\n",
              "      <td>-0.007857</td>\n",
              "    </tr>\n",
              "  </tbody>\n",
              "</table>\n",
              "</div>"
            ],
            "text/plain": [
              "           ticker        date  ...  Moving Average for 50 days  Daily Return\n",
              "0   HINDUNILVR.NS  2019-01-01  ...                         NaN           NaN\n",
              "1   HINDUNILVR.NS  2019-01-02  ...                         NaN     -0.009162\n",
              "2   HINDUNILVR.NS  2019-01-03  ...                         NaN      0.002128\n",
              "3   HINDUNILVR.NS  2019-01-04  ...                         NaN     -0.003749\n",
              "4   HINDUNILVR.NS  2019-01-07  ...                         NaN      0.001823\n",
              "5   HINDUNILVR.NS  2019-01-08  ...                         NaN     -0.007896\n",
              "6   HINDUNILVR.NS  2019-01-09  ...                         NaN      0.007988\n",
              "7   HINDUNILVR.NS  2019-01-10  ...                         NaN      0.000674\n",
              "8   HINDUNILVR.NS  2019-01-11  ...                         NaN     -0.009407\n",
              "9   HINDUNILVR.NS  2019-01-14  ...                         NaN     -0.003109\n",
              "10  HINDUNILVR.NS  2019-01-15  ...                         NaN      0.014715\n",
              "11  HINDUNILVR.NS  2019-01-16  ...                         NaN     -0.009666\n",
              "12  HINDUNILVR.NS  2019-01-17  ...                         NaN     -0.011880\n",
              "13  HINDUNILVR.NS  2019-01-18  ...                         NaN     -0.004225\n",
              "14  HINDUNILVR.NS  2019-01-21  ...                         NaN      0.001607\n",
              "15  HINDUNILVR.NS  2019-01-22  ...                         NaN      0.001889\n",
              "16  HINDUNILVR.NS  2019-01-23  ...                         NaN      0.009713\n",
              "17  HINDUNILVR.NS  2019-01-24  ...                         NaN     -0.004358\n",
              "18  HINDUNILVR.NS  2019-01-25  ...                         NaN     -0.001534\n",
              "19  HINDUNILVR.NS  2019-01-28  ...                         NaN     -0.007857\n",
              "\n",
              "[20 rows x 12 columns]"
            ]
          },
          "metadata": {},
          "execution_count": 34
        }
      ]
    },
    {
      "cell_type": "code",
      "metadata": {
        "colab": {
          "base_uri": "https://localhost:8080/"
        },
        "id": "ALuwTQtGBu6d",
        "outputId": "e065856f-dffb-4681-9738-244dcb857409"
      },
      "source": [
        "HUL.info()"
      ],
      "execution_count": null,
      "outputs": [
        {
          "output_type": "stream",
          "name": "stdout",
          "text": [
            "<class 'pandas.core.frame.DataFrame'>\n",
            "RangeIndex: 697 entries, 0 to 696\n",
            "Data columns (total 12 columns):\n",
            " #   Column                      Non-Null Count  Dtype  \n",
            "---  ------                      --------------  -----  \n",
            " 0   ticker                      697 non-null    object \n",
            " 1   date                        697 non-null    object \n",
            " 2   open                        697 non-null    float64\n",
            " 3   high                        697 non-null    float64\n",
            " 4   low                         697 non-null    float64\n",
            " 5   close                       697 non-null    float64\n",
            " 6   adj close                   697 non-null    float64\n",
            " 7   volume                      697 non-null    float64\n",
            " 8   Moving Average for 10 days  688 non-null    float64\n",
            " 9   Moving Average for 20 days  678 non-null    float64\n",
            " 10  Moving Average for 50 days  648 non-null    float64\n",
            " 11  Daily Return                696 non-null    float64\n",
            "dtypes: float64(10), object(2)\n",
            "memory usage: 65.5+ KB\n"
          ]
        }
      ]
    },
    {
      "cell_type": "code",
      "metadata": {
        "id": "skjcqAczBu6d"
      },
      "source": [
        "# Change Dtype of date column\n",
        "HUL[\"date\"] = pd.to_datetime(HUL[\"date\"])"
      ],
      "execution_count": null,
      "outputs": []
    },
    {
      "cell_type": "code",
      "metadata": {
        "colab": {
          "base_uri": "https://localhost:8080/"
        },
        "id": "eeSunH7OBu6d",
        "outputId": "b47db7ed-07bc-45a7-bb78-b4cac459d3ca"
      },
      "source": [
        "Test_Stationarity(HUL)"
      ],
      "execution_count": null,
      "outputs": [
        {
          "output_type": "stream",
          "name": "stdout",
          "text": [
            "Results of Dickey Fuller Test\n",
            "Test Statistics: -1.8255838389567907\n",
            "p-value: 0.3678360232703907\n",
            "Number of lags used: 7\n",
            "Number of observations used: 689\n",
            "critical value (1%): -3.439876604020831\n",
            "critical value (5%): -2.8657439615125675\n",
            "critical value (10%): -2.5690087183208665\n"
          ]
        }
      ]
    },
    {
      "cell_type": "markdown",
      "metadata": {
        "id": "YAyTo-CkBu6d"
      },
      "source": [
        "The p-value > 0.05, so we cannot reject the Null hypothesis. Hence, we would need to use the “Integrated (I)” concept, denoted by value ‘d’ in time series, to make the data stationary while building the Auto ARIMA model."
      ]
    },
    {
      "cell_type": "markdown",
      "metadata": {
        "id": "QhOfOC9UBu6d"
      },
      "source": [
        "Now let's take log of the 'adj close' column to reduce the magnitude of the values and reduce the series rising trend."
      ]
    },
    {
      "cell_type": "code",
      "metadata": {
        "colab": {
          "base_uri": "https://localhost:8080/",
          "height": 368
        },
        "id": "UuLO957iBu6d",
        "outputId": "56f84950-2365-46b5-ccd4-89b40f384a1b"
      },
      "source": [
        "HUL['log adj close'] = np.log(HUL['adj close'])\n",
        "HUL_log_moving_avg = HUL['log adj close'].rolling(12).mean()\n",
        "HUL_log_std = HUL['log adj close'].rolling(12).std()\n",
        "\n",
        "plt.figure(figsize = (10, 5))\n",
        "plt.plot(HUL['date'], HUL_log_moving_avg, label = \"Rolling Mean\")\n",
        "plt.plot(HUL['date'], HUL_log_std, label = \"Rolling Std\")\n",
        "plt.xlabel('Time')\n",
        "plt.ylabel('log adj close')\n",
        "plt.legend(loc = 'best')\n",
        "plt.title(\"Rolling Mean and Standard Deviation\")"
      ],
      "execution_count": null,
      "outputs": [
        {
          "output_type": "execute_result",
          "data": {
            "text/plain": [
              "Text(0.5, 1.0, 'Rolling Mean and Standard Deviation')"
            ]
          },
          "metadata": {},
          "execution_count": 38
        },
        {
          "output_type": "display_data",
          "data": {
            "image/png": "[encoded data removed]",
            "text/plain": [
              "<Figure size 720x360 with 1 Axes>"
            ]
          },
          "metadata": {
            "needs_background": "light"
          }
        }
      ]
    },
    {
      "cell_type": "markdown",
      "metadata": {
        "id": "myxMSsBkBu6e"
      },
      "source": [
        "###Split the Data into Training and Test set\n",
        "    Training Period: 2019-01-01 - 2021-08-01\n",
        "\n",
        "    Testing Period:  2021-08-01 - 2021-10-20"
      ]
    },
    {
      "cell_type": "code",
      "metadata": {
        "colab": {
          "base_uri": "https://localhost:8080/",
          "height": 352
        },
        "id": "OnXaRqZFBu6e",
        "outputId": "d4aed138-387c-49e6-b0df-b1bcd5acd960"
      },
      "source": [
        "HUL_Train_Data = HUL[HUL['date'] < '2021-08-01']\n",
        "HUL_Test_Data = HUL[HUL['date'] >= '2021-08-01'].reset_index(drop = True)\n",
        "\n",
        "plt.figure(figsize = (10, 5))\n",
        "plt.plot(HUL_Train_Data['date'], HUL_Train_Data['log adj close'], label = 'Train Data')\n",
        "plt.plot(HUL_Test_Data['date'], HUL_Test_Data['log adj close'], label = 'Test Data')\n",
        "plt.xlabel('Time')\n",
        "plt.ylabel('log adj close')\n",
        "plt.legend(loc = 'best')"
      ],
      "execution_count": null,
      "outputs": [
        {
          "output_type": "execute_result",
          "data": {
            "text/plain": [
              "<matplotlib.legend.Legend at 0x7f36f10fe590>"
            ]
          },
          "metadata": {},
          "execution_count": 39
        },
        {
          "output_type": "display_data",
          "data": {
            "image/png": "[encoded data removed]",
            "text/plain": [
              "<Figure size 720x360 with 1 Axes>"
            ]
          },
          "metadata": {
            "needs_background": "light"
          }
        }
      ]
    },
    {
      "cell_type": "markdown",
      "metadata": {
        "id": "axYoQBBIBu6e"
      },
      "source": [
        "###Modeling"
      ]
    },
    {
      "cell_type": "code",
      "metadata": {
        "colab": {
          "base_uri": "https://localhost:8080/"
        },
        "id": "XZEmLz1LBu6f",
        "outputId": "59a969a6-19df-4ce1-be60-0e8ea797710b"
      },
      "source": [
        "HUL_Auto_ARIMA_Model = auto_arima(HUL_Train_Data['log adj close'], seasonal = False,\n",
        "                                   error_action = 'ignore', suppress_warnings = True)\n",
        "print(HUL_Auto_ARIMA_Model.summary())"
      ],
      "execution_count": null,
      "outputs": [
        {
          "output_type": "stream",
          "name": "stdout",
          "text": [
            "                               SARIMAX Results                                \n",
            "==============================================================================\n",
            "Dep. Variable:                      y   No. Observations:                  635\n",
            "Model:               SARIMAX(0, 1, 1)   Log Likelihood                1710.835\n",
            "Date:                Wed, 03 Nov 2021   AIC                          -3417.669\n",
            "Time:                        09:01:15   BIC                          -3408.765\n",
            "Sample:                             0   HQIC                         -3414.212\n",
            "                                - 635                                         \n",
            "Covariance Type:                  opg                                         \n",
            "==============================================================================\n",
            "                 coef    std err          z      P>|z|      [0.025      0.975]\n",
            "------------------------------------------------------------------------------\n",
            "ma.L1         -0.1117      0.021     -5.240      0.000      -0.153      -0.070\n",
            "sigma2         0.0003   6.73e-06     39.365      0.000       0.000       0.000\n",
            "===================================================================================\n",
            "Ljung-Box (L1) (Q):                   0.00   Jarque-Bera (JB):              3193.28\n",
            "Prob(Q):                              0.95   Prob(JB):                         0.00\n",
            "Heteroskedasticity (H):               1.15   Skew:                             1.35\n",
            "Prob(H) (two-sided):                  0.33   Kurtosis:                        13.66\n",
            "===================================================================================\n",
            "\n",
            "Warnings:\n",
            "[1] Covariance matrix calculated using the outer product of gradients (complex-step).\n"
          ]
        }
      ]
    },
    {
      "cell_type": "code",
      "metadata": {
        "colab": {
          "base_uri": "https://localhost:8080/"
        },
        "id": "u8KSma56Bu6f",
        "outputId": "a1d302d3-e76a-419e-9738-e4d817bfe4fe"
      },
      "source": [
        "HUL_ARIMA_Model = ARIMA(HUL_Train_Data['log adj close'], order = (1, 1, 0))\n",
        "HUL_ARIMA_Model_Fit = HUL_ARIMA_Model.fit()\n",
        "print(HUL_ARIMA_Model_Fit.summary())"
      ],
      "execution_count": null,
      "outputs": [
        {
          "output_type": "stream",
          "name": "stdout",
          "text": [
            "                               SARIMAX Results                                \n",
            "==============================================================================\n",
            "Dep. Variable:          log adj close   No. Observations:                  635\n",
            "Model:                 ARIMA(1, 1, 0)   Log Likelihood                1710.510\n",
            "Date:                Wed, 03 Nov 2021   AIC                          -3417.021\n",
            "Time:                        09:01:16   BIC                          -3408.117\n",
            "Sample:                             0   HQIC                         -3413.563\n",
            "                                - 635                                         \n",
            "Covariance Type:                  opg                                         \n",
            "==============================================================================\n",
            "                 coef    std err          z      P>|z|      [0.025      0.975]\n",
            "------------------------------------------------------------------------------\n",
            "ar.L1         -0.1028      0.020     -5.212      0.000      -0.141      -0.064\n",
            "sigma2         0.0003   6.48e-06     40.968      0.000       0.000       0.000\n",
            "===================================================================================\n",
            "Ljung-Box (L1) (Q):                   0.03   Jarque-Bera (JB):              3301.33\n",
            "Prob(Q):                              0.86   Prob(JB):                         0.00\n",
            "Heteroskedasticity (H):               1.15   Skew:                             1.37\n",
            "Prob(H) (two-sided):                  0.30   Kurtosis:                        13.84\n",
            "===================================================================================\n",
            "\n",
            "Warnings:\n",
            "[1] Covariance matrix calculated using the outer product of gradients (complex-step).\n"
          ]
        }
      ]
    },
    {
      "cell_type": "markdown",
      "metadata": {
        "id": "J3mk13BnBu6f"
      },
      "source": [
        "###Predicting the closing stock price of HUL"
      ]
    },
    {
      "cell_type": "code",
      "metadata": {
        "colab": {
          "base_uri": "https://localhost:8080/",
          "height": 352
        },
        "id": "hNBm_Vu-Bu6f",
        "outputId": "ed6ebf9c-1478-440e-ae9f-f9a64872b391"
      },
      "source": [
        "HUL_output = HUL_ARIMA_Model_Fit.forecast(62, alpha=0.05)\n",
        "HUL_predictions = np.exp(HUL_output.values)\n",
        "plt.figure(figsize=(10, 5))\n",
        "plt.plot(HUL_Train_Data['date'], HUL_Train_Data['adj close'], label = 'Training')\n",
        "plt.plot(HUL_Test_Data['date'], HUL_Test_Data['adj close'], label = 'Testing')\n",
        "plt.plot(HUL_Test_Data['date'], HUL_predictions, label = 'Predictions')\n",
        "plt.xlabel('Time')\n",
        "plt.ylabel('Closing Price')\n",
        "plt.legend()"
      ],
      "execution_count": null,
      "outputs": [
        {
          "output_type": "execute_result",
          "data": {
            "text/plain": [
              "<matplotlib.legend.Legend at 0x7f36f10bff10>"
            ]
          },
          "metadata": {},
          "execution_count": 42
        },
        {
          "output_type": "display_data",
          "data": {
            "image/png": "[encoded data removed]",
            "text/plain": [
              "<Figure size 720x360 with 1 Axes>"
            ]
          },
          "metadata": {
            "needs_background": "light"
          }
        }
      ]
    },
    {
      "cell_type": "code",
      "metadata": {
        "colab": {
          "base_uri": "https://localhost:8080/"
        },
        "id": "X7b-gmKlBu6f",
        "outputId": "77728044-6f05-47e1-e0fe-aa7a8f2be9e2"
      },
      "source": [
        "rmse = math.sqrt(mean_squared_error(HUL_Test_Data['adj close'], HUL_predictions))\n",
        "mape = np.mean(np.abs(HUL_predictions - HUL_Test_Data['adj close'])/np.abs(HUL_Test_Data['adj close']))\n",
        "\n",
        "print(f'RMSE: {rmse}')\n",
        "print(f'MAPE: {mape}')"
      ],
      "execution_count": null,
      "outputs": [
        {
          "output_type": "stream",
          "name": "stdout",
          "text": [
            "RMSE: 317.0953048632128\n",
            "MAPE: 0.10291463362188119\n"
          ]
        }
      ]
    },
    {
      "cell_type": "code",
      "metadata": {
        "id": "NZqpBs9xB9_R"
      },
      "source": [
        ""
      ],
      "execution_count": null,
      "outputs": []
    },
    {
      "cell_type": "markdown",
      "metadata": {
        "id": "SWjkUPU7B_PX"
      },
      "source": [
        "#MARUTI"
      ]
    },
    {
      "cell_type": "code",
      "metadata": {
        "colab": {
          "base_uri": "https://localhost:8080/",
          "height": 665
        },
        "id": "3GPAd20pB_PY",
        "outputId": "8fead483-8dc7-4f1c-ada3-d2991ac6f828"
      },
      "source": [
        "MARUTI.head(20)"
      ],
      "execution_count": null,
      "outputs": [
        {
          "output_type": "execute_result",
          "data": {
            "text/html": [
              "<div>\n",
              "<style scoped>\n",
              "    .dataframe tbody tr th:only-of-type {\n",
              "        vertical-align: middle;\n",
              "    }\n",
              "\n",
              "    .dataframe tbody tr th {\n",
              "        vertical-align: top;\n",
              "    }\n",
              "\n",
              "    .dataframe thead th {\n",
              "        text-align: right;\n",
              "    }\n",
              "</style>\n",
              "<table border=\"1\" class=\"dataframe\">\n",
              "  <thead>\n",
              "    <tr style=\"text-align: right;\">\n",
              "      <th></th>\n",
              "      <th>ticker</th>\n",
              "      <th>date</th>\n",
              "      <th>open</th>\n",
              "      <th>high</th>\n",
              "      <th>low</th>\n",
              "      <th>close</th>\n",
              "      <th>adj close</th>\n",
              "      <th>volume</th>\n",
              "      <th>Moving Average for 10 days</th>\n",
              "      <th>Moving Average for 20 days</th>\n",
              "      <th>Moving Average for 50 days</th>\n",
              "      <th>Daily Return</th>\n",
              "    </tr>\n",
              "  </thead>\n",
              "  <tbody>\n",
              "    <tr>\n",
              "      <th>0</th>\n",
              "      <td>MARUTI.NS</td>\n",
              "      <td>2019-01-01</td>\n",
              "      <td>7449.75</td>\n",
              "      <td>7494.00</td>\n",
              "      <td>7395.00</td>\n",
              "      <td>7476.80</td>\n",
              "      <td>7261.91</td>\n",
              "      <td>625360.0</td>\n",
              "      <td>NaN</td>\n",
              "      <td>NaN</td>\n",
              "      <td>NaN</td>\n",
              "      <td>NaN</td>\n",
              "    </tr>\n",
              "    <tr>\n",
              "      <th>1</th>\n",
              "      <td>MARUTI.NS</td>\n",
              "      <td>2019-01-02</td>\n",
              "      <td>7445.00</td>\n",
              "      <td>7460.00</td>\n",
              "      <td>7244.00</td>\n",
              "      <td>7267.85</td>\n",
              "      <td>7058.96</td>\n",
              "      <td>891844.0</td>\n",
              "      <td>NaN</td>\n",
              "      <td>NaN</td>\n",
              "      <td>NaN</td>\n",
              "      <td>-0.027947</td>\n",
              "    </tr>\n",
              "    <tr>\n",
              "      <th>2</th>\n",
              "      <td>MARUTI.NS</td>\n",
              "      <td>2019-01-03</td>\n",
              "      <td>7280.00</td>\n",
              "      <td>7350.00</td>\n",
              "      <td>7185.60</td>\n",
              "      <td>7203.95</td>\n",
              "      <td>6996.90</td>\n",
              "      <td>715168.0</td>\n",
              "      <td>NaN</td>\n",
              "      <td>NaN</td>\n",
              "      <td>NaN</td>\n",
              "      <td>-0.008792</td>\n",
              "    </tr>\n",
              "    <tr>\n",
              "      <th>3</th>\n",
              "      <td>MARUTI.NS</td>\n",
              "      <td>2019-01-04</td>\n",
              "      <td>7239.00</td>\n",
              "      <td>7309.00</td>\n",
              "      <td>7161.20</td>\n",
              "      <td>7234.50</td>\n",
              "      <td>7026.57</td>\n",
              "      <td>774445.0</td>\n",
              "      <td>NaN</td>\n",
              "      <td>NaN</td>\n",
              "      <td>NaN</td>\n",
              "      <td>0.004240</td>\n",
              "    </tr>\n",
              "    <tr>\n",
              "      <th>4</th>\n",
              "      <td>MARUTI.NS</td>\n",
              "      <td>2019-01-07</td>\n",
              "      <td>7310.00</td>\n",
              "      <td>7407.00</td>\n",
              "      <td>7300.00</td>\n",
              "      <td>7362.05</td>\n",
              "      <td>7150.46</td>\n",
              "      <td>687845.0</td>\n",
              "      <td>NaN</td>\n",
              "      <td>NaN</td>\n",
              "      <td>NaN</td>\n",
              "      <td>0.017632</td>\n",
              "    </tr>\n",
              "    <tr>\n",
              "      <th>5</th>\n",
              "      <td>MARUTI.NS</td>\n",
              "      <td>2019-01-08</td>\n",
              "      <td>7380.00</td>\n",
              "      <td>7454.80</td>\n",
              "      <td>7322.10</td>\n",
              "      <td>7439.50</td>\n",
              "      <td>7225.68</td>\n",
              "      <td>516841.0</td>\n",
              "      <td>NaN</td>\n",
              "      <td>NaN</td>\n",
              "      <td>NaN</td>\n",
              "      <td>0.010520</td>\n",
              "    </tr>\n",
              "    <tr>\n",
              "      <th>6</th>\n",
              "      <td>MARUTI.NS</td>\n",
              "      <td>2019-01-09</td>\n",
              "      <td>7460.50</td>\n",
              "      <td>7529.00</td>\n",
              "      <td>7414.00</td>\n",
              "      <td>7492.90</td>\n",
              "      <td>7277.54</td>\n",
              "      <td>740580.0</td>\n",
              "      <td>NaN</td>\n",
              "      <td>NaN</td>\n",
              "      <td>NaN</td>\n",
              "      <td>0.007177</td>\n",
              "    </tr>\n",
              "    <tr>\n",
              "      <th>7</th>\n",
              "      <td>MARUTI.NS</td>\n",
              "      <td>2019-01-10</td>\n",
              "      <td>7500.00</td>\n",
              "      <td>7511.00</td>\n",
              "      <td>7360.15</td>\n",
              "      <td>7391.60</td>\n",
              "      <td>7179.16</td>\n",
              "      <td>452699.0</td>\n",
              "      <td>NaN</td>\n",
              "      <td>NaN</td>\n",
              "      <td>NaN</td>\n",
              "      <td>-0.013518</td>\n",
              "    </tr>\n",
              "    <tr>\n",
              "      <th>8</th>\n",
              "      <td>MARUTI.NS</td>\n",
              "      <td>2019-01-11</td>\n",
              "      <td>7382.70</td>\n",
              "      <td>7400.00</td>\n",
              "      <td>7282.00</td>\n",
              "      <td>7320.50</td>\n",
              "      <td>7110.10</td>\n",
              "      <td>488399.0</td>\n",
              "      <td>NaN</td>\n",
              "      <td>NaN</td>\n",
              "      <td>NaN</td>\n",
              "      <td>-0.009620</td>\n",
              "    </tr>\n",
              "    <tr>\n",
              "      <th>9</th>\n",
              "      <td>MARUTI.NS</td>\n",
              "      <td>2019-01-14</td>\n",
              "      <td>7330.00</td>\n",
              "      <td>7433.35</td>\n",
              "      <td>7257.00</td>\n",
              "      <td>7408.70</td>\n",
              "      <td>7195.76</td>\n",
              "      <td>424152.0</td>\n",
              "      <td>7148.304</td>\n",
              "      <td>NaN</td>\n",
              "      <td>NaN</td>\n",
              "      <td>0.012048</td>\n",
              "    </tr>\n",
              "    <tr>\n",
              "      <th>10</th>\n",
              "      <td>MARUTI.NS</td>\n",
              "      <td>2019-01-15</td>\n",
              "      <td>7430.00</td>\n",
              "      <td>7470.00</td>\n",
              "      <td>7317.00</td>\n",
              "      <td>7355.15</td>\n",
              "      <td>7143.75</td>\n",
              "      <td>491196.0</td>\n",
              "      <td>7136.488</td>\n",
              "      <td>NaN</td>\n",
              "      <td>NaN</td>\n",
              "      <td>-0.007228</td>\n",
              "    </tr>\n",
              "    <tr>\n",
              "      <th>11</th>\n",
              "      <td>MARUTI.NS</td>\n",
              "      <td>2019-01-16</td>\n",
              "      <td>7349.50</td>\n",
              "      <td>7384.00</td>\n",
              "      <td>7291.10</td>\n",
              "      <td>7310.25</td>\n",
              "      <td>7100.14</td>\n",
              "      <td>424769.0</td>\n",
              "      <td>7140.606</td>\n",
              "      <td>NaN</td>\n",
              "      <td>NaN</td>\n",
              "      <td>-0.006105</td>\n",
              "    </tr>\n",
              "    <tr>\n",
              "      <th>12</th>\n",
              "      <td>MARUTI.NS</td>\n",
              "      <td>2019-01-17</td>\n",
              "      <td>7339.00</td>\n",
              "      <td>7398.95</td>\n",
              "      <td>7307.50</td>\n",
              "      <td>7336.25</td>\n",
              "      <td>7125.40</td>\n",
              "      <td>462725.0</td>\n",
              "      <td>7153.456</td>\n",
              "      <td>NaN</td>\n",
              "      <td>NaN</td>\n",
              "      <td>0.003558</td>\n",
              "    </tr>\n",
              "    <tr>\n",
              "      <th>13</th>\n",
              "      <td>MARUTI.NS</td>\n",
              "      <td>2019-01-18</td>\n",
              "      <td>7345.00</td>\n",
              "      <td>7379.95</td>\n",
              "      <td>7318.00</td>\n",
              "      <td>7357.95</td>\n",
              "      <td>7146.47</td>\n",
              "      <td>334555.0</td>\n",
              "      <td>7165.446</td>\n",
              "      <td>NaN</td>\n",
              "      <td>NaN</td>\n",
              "      <td>0.002957</td>\n",
              "    </tr>\n",
              "    <tr>\n",
              "      <th>14</th>\n",
              "      <td>MARUTI.NS</td>\n",
              "      <td>2019-01-21</td>\n",
              "      <td>7358.00</td>\n",
              "      <td>7380.00</td>\n",
              "      <td>7161.00</td>\n",
              "      <td>7208.40</td>\n",
              "      <td>7001.22</td>\n",
              "      <td>654537.0</td>\n",
              "      <td>7150.522</td>\n",
              "      <td>NaN</td>\n",
              "      <td>NaN</td>\n",
              "      <td>-0.020325</td>\n",
              "    </tr>\n",
              "    <tr>\n",
              "      <th>15</th>\n",
              "      <td>MARUTI.NS</td>\n",
              "      <td>2019-01-22</td>\n",
              "      <td>7180.00</td>\n",
              "      <td>7180.00</td>\n",
              "      <td>7054.50</td>\n",
              "      <td>7068.85</td>\n",
              "      <td>6865.68</td>\n",
              "      <td>896521.0</td>\n",
              "      <td>7114.522</td>\n",
              "      <td>NaN</td>\n",
              "      <td>NaN</td>\n",
              "      <td>-0.019359</td>\n",
              "    </tr>\n",
              "    <tr>\n",
              "      <th>16</th>\n",
              "      <td>MARUTI.NS</td>\n",
              "      <td>2019-01-23</td>\n",
              "      <td>7050.00</td>\n",
              "      <td>7132.25</td>\n",
              "      <td>7025.00</td>\n",
              "      <td>7045.40</td>\n",
              "      <td>6842.91</td>\n",
              "      <td>702474.0</td>\n",
              "      <td>7071.059</td>\n",
              "      <td>NaN</td>\n",
              "      <td>NaN</td>\n",
              "      <td>-0.003316</td>\n",
              "    </tr>\n",
              "    <tr>\n",
              "      <th>17</th>\n",
              "      <td>MARUTI.NS</td>\n",
              "      <td>2019-01-24</td>\n",
              "      <td>7059.90</td>\n",
              "      <td>7098.00</td>\n",
              "      <td>7014.40</td>\n",
              "      <td>7040.60</td>\n",
              "      <td>6838.24</td>\n",
              "      <td>520703.0</td>\n",
              "      <td>7036.967</td>\n",
              "      <td>NaN</td>\n",
              "      <td>NaN</td>\n",
              "      <td>-0.000682</td>\n",
              "    </tr>\n",
              "    <tr>\n",
              "      <th>18</th>\n",
              "      <td>MARUTI.NS</td>\n",
              "      <td>2019-01-25</td>\n",
              "      <td>7054.00</td>\n",
              "      <td>7133.00</td>\n",
              "      <td>6410.00</td>\n",
              "      <td>6513.40</td>\n",
              "      <td>6326.20</td>\n",
              "      <td>3062762.0</td>\n",
              "      <td>6958.577</td>\n",
              "      <td>NaN</td>\n",
              "      <td>NaN</td>\n",
              "      <td>-0.074879</td>\n",
              "    </tr>\n",
              "    <tr>\n",
              "      <th>19</th>\n",
              "      <td>MARUTI.NS</td>\n",
              "      <td>2019-01-28</td>\n",
              "      <td>6512.50</td>\n",
              "      <td>6610.00</td>\n",
              "      <td>6317.70</td>\n",
              "      <td>6511.05</td>\n",
              "      <td>6323.91</td>\n",
              "      <td>2398091.0</td>\n",
              "      <td>6871.392</td>\n",
              "      <td>7009.848</td>\n",
              "      <td>NaN</td>\n",
              "      <td>-0.000362</td>\n",
              "    </tr>\n",
              "  </tbody>\n",
              "</table>\n",
              "</div>"
            ],
            "text/plain": [
              "       ticker        date  ...  Moving Average for 50 days  Daily Return\n",
              "0   MARUTI.NS  2019-01-01  ...                         NaN           NaN\n",
              "1   MARUTI.NS  2019-01-02  ...                         NaN     -0.027947\n",
              "2   MARUTI.NS  2019-01-03  ...                         NaN     -0.008792\n",
              "3   MARUTI.NS  2019-01-04  ...                         NaN      0.004240\n",
              "4   MARUTI.NS  2019-01-07  ...                         NaN      0.017632\n",
              "5   MARUTI.NS  2019-01-08  ...                         NaN      0.010520\n",
              "6   MARUTI.NS  2019-01-09  ...                         NaN      0.007177\n",
              "7   MARUTI.NS  2019-01-10  ...                         NaN     -0.013518\n",
              "8   MARUTI.NS  2019-01-11  ...                         NaN     -0.009620\n",
              "9   MARUTI.NS  2019-01-14  ...                         NaN      0.012048\n",
              "10  MARUTI.NS  2019-01-15  ...                         NaN     -0.007228\n",
              "11  MARUTI.NS  2019-01-16  ...                         NaN     -0.006105\n",
              "12  MARUTI.NS  2019-01-17  ...                         NaN      0.003558\n",
              "13  MARUTI.NS  2019-01-18  ...                         NaN      0.002957\n",
              "14  MARUTI.NS  2019-01-21  ...                         NaN     -0.020325\n",
              "15  MARUTI.NS  2019-01-22  ...                         NaN     -0.019359\n",
              "16  MARUTI.NS  2019-01-23  ...                         NaN     -0.003316\n",
              "17  MARUTI.NS  2019-01-24  ...                         NaN     -0.000682\n",
              "18  MARUTI.NS  2019-01-25  ...                         NaN     -0.074879\n",
              "19  MARUTI.NS  2019-01-28  ...                         NaN     -0.000362\n",
              "\n",
              "[20 rows x 12 columns]"
            ]
          },
          "metadata": {},
          "execution_count": 44
        }
      ]
    },
    {
      "cell_type": "code",
      "metadata": {
        "colab": {
          "base_uri": "https://localhost:8080/"
        },
        "id": "SagraoTyB_PZ",
        "outputId": "e93bf6b0-c8f0-42f6-d72f-dbfea605a2ef"
      },
      "source": [
        "MARUTI.info()"
      ],
      "execution_count": null,
      "outputs": [
        {
          "output_type": "stream",
          "name": "stdout",
          "text": [
            "<class 'pandas.core.frame.DataFrame'>\n",
            "RangeIndex: 697 entries, 0 to 696\n",
            "Data columns (total 12 columns):\n",
            " #   Column                      Non-Null Count  Dtype  \n",
            "---  ------                      --------------  -----  \n",
            " 0   ticker                      697 non-null    object \n",
            " 1   date                        697 non-null    object \n",
            " 2   open                        697 non-null    float64\n",
            " 3   high                        697 non-null    float64\n",
            " 4   low                         697 non-null    float64\n",
            " 5   close                       697 non-null    float64\n",
            " 6   adj close                   697 non-null    float64\n",
            " 7   volume                      697 non-null    float64\n",
            " 8   Moving Average for 10 days  688 non-null    float64\n",
            " 9   Moving Average for 20 days  678 non-null    float64\n",
            " 10  Moving Average for 50 days  648 non-null    float64\n",
            " 11  Daily Return                696 non-null    float64\n",
            "dtypes: float64(10), object(2)\n",
            "memory usage: 65.5+ KB\n"
          ]
        }
      ]
    },
    {
      "cell_type": "code",
      "metadata": {
        "id": "LF6-sxBZB_PZ"
      },
      "source": [
        "# Change Dtype of date column\n",
        "MARUTI[\"date\"] = pd.to_datetime(MARUTI[\"date\"])"
      ],
      "execution_count": null,
      "outputs": []
    },
    {
      "cell_type": "code",
      "metadata": {
        "colab": {
          "base_uri": "https://localhost:8080/"
        },
        "id": "ys4YNAhdB_Pa",
        "outputId": "f19283cc-e253-4cb2-c23d-9687093da87c"
      },
      "source": [
        "Test_Stationarity(MARUTI)"
      ],
      "execution_count": null,
      "outputs": [
        {
          "output_type": "stream",
          "name": "stdout",
          "text": [
            "Results of Dickey Fuller Test\n",
            "Test Statistics: -2.4070570596536447\n",
            "p-value: 0.13975450455461352\n",
            "Number of lags used: 0\n",
            "Number of observations used: 696\n",
            "critical value (1%): -3.4397804336105198\n",
            "critical value (5%): -2.865701589065464\n",
            "critical value (10%): -2.5689861435625576\n"
          ]
        }
      ]
    },
    {
      "cell_type": "markdown",
      "metadata": {
        "id": "o7DnkKchB_Pb"
      },
      "source": [
        "The p-value > 0.05, so we cannot reject the Null hypothesis. Hence, we would need to use the “Integrated (I)” concept, denoted by value ‘d’ in time series, to make the data stationary while building the Auto ARIMA model."
      ]
    },
    {
      "cell_type": "markdown",
      "metadata": {
        "id": "0cc1Zd5EB_Pp"
      },
      "source": [
        "Now let's take log of the 'adj close' column to reduce the magnitude of the values and reduce the series rising trend."
      ]
    },
    {
      "cell_type": "code",
      "metadata": {
        "colab": {
          "base_uri": "https://localhost:8080/",
          "height": 368
        },
        "id": "Cqlt2byMB_Pp",
        "outputId": "7ab52c3b-20c5-4a27-c0d4-b135d07467e1"
      },
      "source": [
        "MARUTI['log adj close'] = np.log(MARUTI['adj close'])\n",
        "MARUTI_log_moving_avg = MARUTI['log adj close'].rolling(12).mean()\n",
        "MARUTI_log_std = MARUTI['log adj close'].rolling(12).std()\n",
        "\n",
        "plt.figure(figsize = (10, 5))\n",
        "plt.plot(MARUTI['date'], MARUTI_log_moving_avg, label = \"Rolling Mean\")\n",
        "plt.plot(MARUTI['date'], MARUTI_log_std, label = \"Rolling Std\")\n",
        "plt.xlabel('Time')\n",
        "plt.ylabel('log adj close')\n",
        "plt.legend(loc = 'best')\n",
        "plt.title(\"Rolling Mean and Standard Deviation\")"
      ],
      "execution_count": null,
      "outputs": [
        {
          "output_type": "execute_result",
          "data": {
            "text/plain": [
              "Text(0.5, 1.0, 'Rolling Mean and Standard Deviation')"
            ]
          },
          "metadata": {},
          "execution_count": 48
        },
        {
          "output_type": "display_data",
          "data": {
            "image/png": "[encoded data removed]",
            "text/plain": [
              "<Figure size 720x360 with 1 Axes>"
            ]
          },
          "metadata": {
            "needs_background": "light"
          }
        }
      ]
    },
    {
      "cell_type": "markdown",
      "metadata": {
        "id": "JhSXVdk8B_Pp"
      },
      "source": [
        "###Split the Data into Training and Test set\n",
        "    Training Period: 2019-01-01 - 2021-08-01\n",
        "\n",
        "    Testing Period:  2021-08-01 - 2021-10-20"
      ]
    },
    {
      "cell_type": "code",
      "metadata": {
        "colab": {
          "base_uri": "https://localhost:8080/",
          "height": 352
        },
        "id": "Uw6TrmUfB_Pq",
        "outputId": "96fe8065-49f0-47db-c4de-2456b1cca0a3"
      },
      "source": [
        "MARUTI_Train_Data = MARUTI[MARUTI['date'] < '2021-08-01']\n",
        "MARUTI_Test_Data = MARUTI[MARUTI['date'] >= '2021-08-01'].reset_index(drop = True)\n",
        "\n",
        "plt.figure(figsize = (10, 5))\n",
        "plt.plot(MARUTI_Train_Data['date'], MARUTI_Train_Data['log adj close'], label = 'Train Data')\n",
        "plt.plot(MARUTI_Test_Data['date'], MARUTI_Test_Data['log adj close'], label = 'Test Data')\n",
        "plt.xlabel('Time')\n",
        "plt.ylabel('log adj close')\n",
        "plt.legend(loc = 'best')"
      ],
      "execution_count": null,
      "outputs": [
        {
          "output_type": "execute_result",
          "data": {
            "text/plain": [
              "<matplotlib.legend.Legend at 0x7f36f108bfd0>"
            ]
          },
          "metadata": {},
          "execution_count": 49
        },
        {
          "output_type": "display_data",
          "data": {
            "image/png": "[encoded data removed]",
            "text/plain": [
              "<Figure size 720x360 with 1 Axes>"
            ]
          },
          "metadata": {
            "needs_background": "light"
          }
        }
      ]
    },
    {
      "cell_type": "markdown",
      "metadata": {
        "id": "sCUucJU_B_Pq"
      },
      "source": [
        "###Modeling"
      ]
    },
    {
      "cell_type": "code",
      "metadata": {
        "colab": {
          "base_uri": "https://localhost:8080/"
        },
        "id": "PAiQU17WB_Pq",
        "outputId": "5ebf35a0-0e67-4484-a4dd-0bbcce29a10e"
      },
      "source": [
        "MARUTI_Auto_ARIMA_Model = auto_arima(MARUTI_Train_Data['log adj close'], seasonal = False,\n",
        "                                   error_action = 'ignore', suppress_warnings = True)\n",
        "print(MARUTI_Auto_ARIMA_Model.summary())"
      ],
      "execution_count": null,
      "outputs": [
        {
          "output_type": "stream",
          "name": "stdout",
          "text": [
            "                               SARIMAX Results                                \n",
            "==============================================================================\n",
            "Dep. Variable:                      y   No. Observations:                  635\n",
            "Model:               SARIMAX(0, 1, 0)   Log Likelihood                1479.601\n",
            "Date:                Wed, 03 Nov 2021   AIC                          -2957.202\n",
            "Time:                        09:02:59   BIC                          -2952.750\n",
            "Sample:                             0   HQIC                         -2955.473\n",
            "                                - 635                                         \n",
            "Covariance Type:                  opg                                         \n",
            "==============================================================================\n",
            "                 coef    std err          z      P>|z|      [0.025      0.975]\n",
            "------------------------------------------------------------------------------\n",
            "sigma2         0.0005   1.23e-05     44.726      0.000       0.001       0.001\n",
            "===================================================================================\n",
            "Ljung-Box (L1) (Q):                   1.41   Jarque-Bera (JB):              2987.45\n",
            "Prob(Q):                              0.24   Prob(JB):                         0.00\n",
            "Heteroskedasticity (H):               0.65   Skew:                            -0.38\n",
            "Prob(H) (two-sided):                  0.00   Kurtosis:                        13.61\n",
            "===================================================================================\n",
            "\n",
            "Warnings:\n",
            "[1] Covariance matrix calculated using the outer product of gradients (complex-step).\n"
          ]
        }
      ]
    },
    {
      "cell_type": "code",
      "metadata": {
        "colab": {
          "base_uri": "https://localhost:8080/"
        },
        "id": "-vHr16YJB_Pq",
        "outputId": "fd3dfd05-cbc8-4a88-e9c0-dc1c3382463b"
      },
      "source": [
        "MARUTI_ARIMA_Model = ARIMA(MARUTI_Train_Data['log adj close'], order = (1, 1, 0))\n",
        "MARUTI_ARIMA_Model_Fit = MARUTI_ARIMA_Model.fit()\n",
        "print(MARUTI_ARIMA_Model_Fit.summary())"
      ],
      "execution_count": null,
      "outputs": [
        {
          "output_type": "stream",
          "name": "stdout",
          "text": [
            "                               SARIMAX Results                                \n",
            "==============================================================================\n",
            "Dep. Variable:          log adj close   No. Observations:                  635\n",
            "Model:                 ARIMA(1, 1, 0)   Log Likelihood                1480.302\n",
            "Date:                Wed, 03 Nov 2021   AIC                          -2956.604\n",
            "Time:                        09:02:59   BIC                          -2947.700\n",
            "Sample:                             0   HQIC                         -2953.146\n",
            "                                - 635                                         \n",
            "Covariance Type:                  opg                                         \n",
            "==============================================================================\n",
            "                 coef    std err          z      P>|z|      [0.025      0.975]\n",
            "------------------------------------------------------------------------------\n",
            "ar.L1         -0.0470      0.024     -1.951      0.051      -0.094       0.000\n",
            "sigma2         0.0005   1.27e-05     43.225      0.000       0.001       0.001\n",
            "===================================================================================\n",
            "Ljung-Box (L1) (Q):                   0.00   Jarque-Bera (JB):              2860.87\n",
            "Prob(Q):                              0.98   Prob(JB):                         0.00\n",
            "Heteroskedasticity (H):               0.65   Skew:                            -0.37\n",
            "Prob(H) (two-sided):                  0.00   Kurtosis:                        13.38\n",
            "===================================================================================\n",
            "\n",
            "Warnings:\n",
            "[1] Covariance matrix calculated using the outer product of gradients (complex-step).\n"
          ]
        }
      ]
    },
    {
      "cell_type": "markdown",
      "metadata": {
        "id": "_2SRoQ41B_Pr"
      },
      "source": [
        "###Predicting the closing stock price of MARUTI"
      ]
    },
    {
      "cell_type": "code",
      "metadata": {
        "colab": {
          "base_uri": "https://localhost:8080/",
          "height": 352
        },
        "id": "r2318do0B_Pr",
        "outputId": "8e5447e2-1d49-4c8c-fc07-4c25eeb96dd3"
      },
      "source": [
        "MARUTI_output = MARUTI_ARIMA_Model_Fit.forecast(62, alpha=0.05)\n",
        "MARUTI_predictions = np.exp(MARUTI_output.values)\n",
        "plt.figure(figsize=(10, 5))\n",
        "plt.plot(MARUTI_Train_Data['date'], MARUTI_Train_Data['adj close'], label = 'Training')\n",
        "plt.plot(MARUTI_Test_Data['date'], MARUTI_Test_Data['adj close'], label = 'Testing')\n",
        "plt.plot(MARUTI_Test_Data['date'], MARUTI_predictions, label = 'Predictions')\n",
        "plt.xlabel('Time')\n",
        "plt.ylabel('Closing Price')\n",
        "plt.legend()"
      ],
      "execution_count": null,
      "outputs": [
        {
          "output_type": "execute_result",
          "data": {
            "text/plain": [
              "<matplotlib.legend.Legend at 0x7f36f0f51e50>"
            ]
          },
          "metadata": {},
          "execution_count": 52
        },
        {
          "output_type": "display_data",
          "data": {
            "image/png": "[encoded data removed]",
            "text/plain": [
              "<Figure size 720x360 with 1 Axes>"
            ]
          },
          "metadata": {
            "needs_background": "light"
          }
        }
      ]
    },
    {
      "cell_type": "code",
      "metadata": {
        "colab": {
          "base_uri": "https://localhost:8080/"
        },
        "id": "mwiO7cXeB_Ps",
        "outputId": "b1c4fd38-dc53-430c-86be-8fdaa1a89422"
      },
      "source": [
        "rmse = math.sqrt(mean_squared_error(MARUTI_Test_Data['adj close'], MARUTI_predictions))\n",
        "mape = np.mean(np.abs(MARUTI_predictions - MARUTI_Test_Data['adj close'])/np.abs(MARUTI_Test_Data['adj close']))\n",
        "\n",
        "print(f'RMSE: {rmse}')\n",
        "print(f'MAPE: {mape}')"
      ],
      "execution_count": null,
      "outputs": [
        {
          "output_type": "stream",
          "name": "stdout",
          "text": [
            "RMSE: 338.23377951146995\n",
            "MAPE: 0.035429692451873725\n"
          ]
        }
      ]
    },
    {
      "cell_type": "code",
      "metadata": {
        "id": "JkV3N639CXy2"
      },
      "source": [
        ""
      ],
      "execution_count": null,
      "outputs": []
    }
  ]
}